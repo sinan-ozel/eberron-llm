{
 "cells": [
  {
   "cell_type": "code",
   "execution_count": 1,
   "id": "09976c08-17fd-49d2-8d80-efa7dc101dd5",
   "metadata": {},
   "outputs": [],
   "source": [
    "import os\n",
    "import json\n",
    "\n",
    "from mangoCR import pdf2image_ocr\n",
    "from pypdf import PdfReader\n",
    "from pypdf.errors import PdfStreamError\n",
    "\n",
    "from tqdm.notebook import tqdm"
   ]
  },
  {
   "cell_type": "code",
   "execution_count": 2,
   "id": "b5fe172f-add2-4dbd-b08c-085e34227f40",
   "metadata": {},
   "outputs": [],
   "source": [
    "folders = ['/eberron/3e', '/eberron/5e']\n",
    "corpus_folder = '/corpus/texts_v3/'"
   ]
  },
  {
   "cell_type": "code",
   "execution_count": 10,
   "id": "85a4ba01-1cf2-4316-a82e-4555c72c583e",
   "metadata": {},
   "outputs": [
    {
     "data": {
      "application/vnd.jupyter.widget-view+json": {
       "model_id": "56fc1055b6964c879aedc8416f465c4b",
       "version_major": 2,
       "version_minor": 0
      },
      "text/plain": [
       "  0%|          | 0/2 [00:00<?, ?it/s]"
      ]
     },
     "metadata": {},
     "output_type": "display_data"
    },
    {
     "data": {
      "application/vnd.jupyter.widget-view+json": {
       "model_id": "d717366862d4407eb7720ca8f9aead5c",
       "version_major": 2,
       "version_minor": 0
      },
      "text/plain": [
       "  0%|          | 0/39 [00:00<?, ?it/s]"
      ]
     },
     "metadata": {},
     "output_type": "display_data"
    },
    {
     "data": {
      "application/vnd.jupyter.widget-view+json": {
       "model_id": "70e185b692894166b0d17913a529202d",
       "version_major": 2,
       "version_minor": 0
      },
      "text/plain": [
       "  0%|          | 0/119 [00:00<?, ?it/s]"
      ]
     },
     "metadata": {},
     "output_type": "display_data"
    }
   ],
   "source": [
    "metadata = {}\n",
    "excluded_filenames = ['Dragons of eberron.pdf', 'Eberron - Eyes_of_the_Lich_Queen.pdf']\n",
    "for folder in tqdm(folders):\n",
    "    for filename in tqdm(os.listdir(folder)):\n",
    "        if filename[-4:].lower() != '.pdf':\n",
    "            continue\n",
    "        if filename in excluded_filenames:\n",
    "            continue\n",
    "        output_file_path = os.path.join(corpus_folder, f'{filename[:-4]}.md')\n",
    "        if os.path.exists(output_file_path) and os.path.getsize(output_file_path) > 0:\n",
    "            continue\n",
    "        pdf2image_ocr(os.path.join(folder, filename), output_file=output_file_path)\n"
   ]
  },
  {
   "cell_type": "code",
   "execution_count": 15,
   "id": "747989c5-5ff5-4b03-87ac-776bd4f00856",
   "metadata": {},
   "outputs": [
    {
     "data": {
      "application/vnd.jupyter.widget-view+json": {
       "model_id": "d4983de5cfd344648735d9743e8699c5",
       "version_major": 2,
       "version_minor": 0
      },
      "text/plain": [
       "  0%|          | 0/2 [00:00<?, ?it/s]"
      ]
     },
     "metadata": {},
     "output_type": "display_data"
    },
    {
     "data": {
      "application/vnd.jupyter.widget-view+json": {
       "model_id": "d2273a9032964edc800bb0f7cd8ddd38",
       "version_major": 2,
       "version_minor": 0
      },
      "text/plain": [
       "  0%|          | 0/39 [00:00<?, ?it/s]"
      ]
     },
     "metadata": {},
     "output_type": "display_data"
    },
    {
     "data": {
      "application/vnd.jupyter.widget-view+json": {
       "model_id": "586a6a2a6cd944f589557f8c1fe685da",
       "version_major": 2,
       "version_minor": 0
      },
      "text/plain": [
       "  0%|          | 0/119 [00:00<?, ?it/s]"
      ]
     },
     "metadata": {},
     "output_type": "display_data"
    },
    {
     "name": "stderr",
     "output_type": "stream",
     "text": [
      "Ignoring wrong pointing object 25 0 (offset 0)\n",
      "Ignoring wrong pointing object 27 0 (offset 0)\n",
      "Ignoring wrong pointing object 71 0 (offset 0)\n",
      "Ignoring wrong pointing object 73 0 (offset 0)\n",
      "Ignoring wrong pointing object 75 0 (offset 0)\n",
      "Ignoring wrong pointing object 78 0 (offset 0)\n",
      "Ignoring wrong pointing object 80 0 (offset 0)\n",
      "Ignoring wrong pointing object 94 0 (offset 0)\n",
      "Ignoring wrong pointing object 96 0 (offset 0)\n",
      "Ignoring wrong pointing object 98 0 (offset 0)\n",
      "Ignoring wrong pointing object 100 0 (offset 0)\n",
      "Ignoring wrong pointing object 110 0 (offset 0)\n",
      "Ignoring wrong pointing object 129 0 (offset 0)\n",
      "Ignoring wrong pointing object 19 0 (offset 0)\n",
      "Ignoring wrong pointing object 22 0 (offset 0)\n",
      "Ignoring wrong pointing object 24 0 (offset 0)\n",
      "Ignoring wrong pointing object 26 0 (offset 0)\n",
      "Ignoring wrong pointing object 52 0 (offset 0)\n",
      "Ignoring wrong pointing object 54 0 (offset 0)\n",
      "Ignoring wrong pointing object 149 0 (offset 0)\n",
      "Ignoring wrong pointing object 23 0 (offset 0)\n",
      "Ignoring wrong pointing object 68 0 (offset 0)\n"
     ]
    }
   ],
   "source": [
    "metadata = {}\n",
    "excluded_filenames = ['New & Expanded Feat List.pdf']\n",
    "for folder in tqdm(folders):\n",
    "    for filename in tqdm(os.listdir(folder)):\n",
    "        if filename[-4:].lower() != '.pdf':\n",
    "            continue\n",
    "        if filename in excluded_filenames:\n",
    "            continue\n",
    "        reader = PdfReader(f'{folder}/{filename}')\n",
    "        metadata[filename] = reader.metadata"
   ]
  },
  {
   "cell_type": "code",
   "execution_count": 19,
   "id": "6e676bb0-78f6-4756-9a11-0c2b66c13efb",
   "metadata": {},
   "outputs": [],
   "source": [
    "full_metadata = []\n",
    "for file_name in metadata:\n",
    "    if file_name in file_names_in_3e:\n",
    "        edition = '3e'\n",
    "    elif file_name in file_names_in_5e:\n",
    "        edition = '5e'\n",
    "    else:\n",
    "        raise RuntimeError\n",
    "    # print(type(metadata[file_name].get('/Title', '')))\n",
    "    full_metadata.append(\n",
    "        {\n",
    "            'filename': file_name,\n",
    "            'edition': edition,\n",
    "            'pdf/title': str(metadata[file_name].get('/Title', '')),\n",
    "            'pdf/author': str(metadata[file_name].get('/Author', '')),\n",
    "        }\n",
    "    )"
   ]
  },
  {
   "cell_type": "code",
   "execution_count": 20,
   "id": "0092a009-4d3f-4cbd-a8a7-194ec9714a74",
   "metadata": {},
   "outputs": [],
   "source": [
    "with open(os.path.join('/corpus/metadata.json'), 'w') as metadata_file:\n",
    "    json.dump(full_metadata, metadata_file)"
   ]
  },
  {
   "cell_type": "code",
   "execution_count": null,
   "id": "6e41234d-bab8-4f1d-bbc0-fec1dc0c6653",
   "metadata": {},
   "outputs": [],
   "source": []
  }
 ],
 "metadata": {
  "kernelspec": {
   "display_name": "Python 3 (ipykernel)",
   "language": "python",
   "name": "python3"
  },
  "language_info": {
   "codemirror_mode": {
    "name": "ipython",
    "version": 3
   },
   "file_extension": ".py",
   "mimetype": "text/x-python",
   "name": "python",
   "nbconvert_exporter": "python",
   "pygments_lexer": "ipython3",
   "version": "3.10.12"
  }
 },
 "nbformat": 4,
 "nbformat_minor": 5
}
