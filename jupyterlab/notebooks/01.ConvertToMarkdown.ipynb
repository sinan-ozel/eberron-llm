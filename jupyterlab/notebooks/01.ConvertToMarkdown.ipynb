{
 "cells": [
  {
   "cell_type": "code",
   "execution_count": 3,
   "id": "09976c08-17fd-49d2-8d80-efa7dc101dd5",
   "metadata": {},
   "outputs": [],
   "source": [
    "import os\n",
    "from mangoCR import pdf2image_ocr\n",
    "from tqdm.notebook import tqdm"
   ]
  },
  {
   "cell_type": "code",
   "execution_count": 4,
   "id": "b5fe172f-add2-4dbd-b08c-085e34227f40",
   "metadata": {},
   "outputs": [],
   "source": [
    "folders = ['/eberron/3e', '/eberron/5e']\n",
    "corpus_folder = '/corpus/texts_v3/'"
   ]
  },
  {
   "cell_type": "code",
   "execution_count": null,
   "id": "85a4ba01-1cf2-4316-a82e-4555c72c583e",
   "metadata": {},
   "outputs": [
    {
     "data": {
      "application/vnd.jupyter.widget-view+json": {
       "model_id": "bc6522b5ef464634b5d61f90efd59d57",
       "version_major": 2,
       "version_minor": 0
      },
      "text/plain": [
       "  0%|          | 0/2 [00:00<?, ?it/s]"
      ]
     },
     "metadata": {},
     "output_type": "display_data"
    },
    {
     "data": {
      "application/vnd.jupyter.widget-view+json": {
       "model_id": "19d8e193afca4e9ba0c5dfe50a83d219",
       "version_major": 2,
       "version_minor": 0
      },
      "text/plain": [
       "  0%|          | 0/39 [00:00<?, ?it/s]"
      ]
     },
     "metadata": {},
     "output_type": "display_data"
    },
    {
     "name": "stdout",
     "output_type": "stream",
     "text": [
      "Processing PDF 1 of 1: Across Eberron.pdf\n",
      "  - Processed page 1 of 12 in Across Eberron.pdf\n",
      "  - Processed page 2 of 12 in Across Eberron.pdf\n",
      "  - Processed page 3 of 12 in Across Eberron.pdf\n",
      "  - Processed page 4 of 12 in Across Eberron.pdf\n",
      "  - Processed page 5 of 12 in Across Eberron.pdf\n",
      "  - Processed page 6 of 12 in Across Eberron.pdf\n",
      "  - Processed page 7 of 12 in Across Eberron.pdf\n",
      "  - Processed page 8 of 12 in Across Eberron.pdf\n",
      "  - Processed page 9 of 12 in Across Eberron.pdf\n",
      "  - Processed page 10 of 12 in Across Eberron.pdf\n",
      "  - Processed page 11 of 12 in Across Eberron.pdf\n",
      "  - Processed page 12 of 12 in Across Eberron.pdf\n",
      "Finished processing Across Eberron.pdf\n",
      "\n",
      "OCR results have been saved to /corpus/texts_v3/Across Eberron.md\n",
      "Processing PDF 1 of 1: Blades Of The Quori.pdf\n",
      "  - Processed page 1 of 3 in Blades Of The Quori.pdf\n",
      "  - Processed page 2 of 3 in Blades Of The Quori.pdf\n",
      "  - Processed page 3 of 3 in Blades Of The Quori.pdf\n",
      "Finished processing Blades Of The Quori.pdf\n",
      "\n",
      "OCR results have been saved to /corpus/texts_v3/Blades Of The Quori.md\n",
      "Processing PDF 1 of 1: D&D 3E Eberron Campaign Setting.pdf\n",
      "  - Processed page 1 of 326 in D&D 3E Eberron Campaign Setting.pdf\n",
      "  - Processed page 2 of 326 in D&D 3E Eberron Campaign Setting.pdf\n",
      "  - Processed page 3 of 326 in D&D 3E Eberron Campaign Setting.pdf\n",
      "  - Processed page 4 of 326 in D&D 3E Eberron Campaign Setting.pdf\n",
      "  - Processed page 5 of 326 in D&D 3E Eberron Campaign Setting.pdf\n",
      "  - Processed page 6 of 326 in D&D 3E Eberron Campaign Setting.pdf\n",
      "  - Processed page 7 of 326 in D&D 3E Eberron Campaign Setting.pdf\n",
      "  - Processed page 8 of 326 in D&D 3E Eberron Campaign Setting.pdf\n",
      "  - Processed page 9 of 326 in D&D 3E Eberron Campaign Setting.pdf\n",
      "  - Processed page 10 of 326 in D&D 3E Eberron Campaign Setting.pdf\n",
      "  - Processed page 11 of 326 in D&D 3E Eberron Campaign Setting.pdf\n",
      "  - Processed page 12 of 326 in D&D 3E Eberron Campaign Setting.pdf\n",
      "  - Processed page 13 of 326 in D&D 3E Eberron Campaign Setting.pdf\n",
      "  - Processed page 14 of 326 in D&D 3E Eberron Campaign Setting.pdf\n",
      "  - Processed page 15 of 326 in D&D 3E Eberron Campaign Setting.pdf\n",
      "  - Processed page 16 of 326 in D&D 3E Eberron Campaign Setting.pdf\n",
      "  - Processed page 17 of 326 in D&D 3E Eberron Campaign Setting.pdf\n",
      "  - Processed page 18 of 326 in D&D 3E Eberron Campaign Setting.pdf\n",
      "  - Processed page 19 of 326 in D&D 3E Eberron Campaign Setting.pdf\n",
      "  - Processed page 20 of 326 in D&D 3E Eberron Campaign Setting.pdf\n",
      "  - Processed page 21 of 326 in D&D 3E Eberron Campaign Setting.pdf\n",
      "  - Processed page 22 of 326 in D&D 3E Eberron Campaign Setting.pdf\n",
      "  - Processed page 23 of 326 in D&D 3E Eberron Campaign Setting.pdf\n",
      "  - Processed page 24 of 326 in D&D 3E Eberron Campaign Setting.pdf\n",
      "  - Processed page 25 of 326 in D&D 3E Eberron Campaign Setting.pdf\n",
      "  - Processed page 26 of 326 in D&D 3E Eberron Campaign Setting.pdf\n",
      "  - Processed page 27 of 326 in D&D 3E Eberron Campaign Setting.pdf\n",
      "  - Processed page 28 of 326 in D&D 3E Eberron Campaign Setting.pdf\n",
      "  - Processed page 29 of 326 in D&D 3E Eberron Campaign Setting.pdf\n",
      "  - Processed page 30 of 326 in D&D 3E Eberron Campaign Setting.pdf\n",
      "  - Processed page 31 of 326 in D&D 3E Eberron Campaign Setting.pdf\n",
      "  - Processed page 32 of 326 in D&D 3E Eberron Campaign Setting.pdf\n",
      "  - Processed page 33 of 326 in D&D 3E Eberron Campaign Setting.pdf\n",
      "  - Processed page 34 of 326 in D&D 3E Eberron Campaign Setting.pdf\n",
      "  - Processed page 35 of 326 in D&D 3E Eberron Campaign Setting.pdf\n",
      "  - Processed page 36 of 326 in D&D 3E Eberron Campaign Setting.pdf\n",
      "  - Processed page 37 of 326 in D&D 3E Eberron Campaign Setting.pdf\n",
      "  - Processed page 38 of 326 in D&D 3E Eberron Campaign Setting.pdf\n",
      "  - Processed page 39 of 326 in D&D 3E Eberron Campaign Setting.pdf\n"
     ]
    }
   ],
   "source": [
    "metadata = {}\n",
    "excluded_filenames = ['Dragons of eberron.pdf', 'Eberron - Eyes_of_the_Lich_Queen.pdf']\n",
    "for folder in tqdm(folders):\n",
    "    for filename in tqdm(os.listdir(folder)):\n",
    "        if filename[-4:].lower() != '.pdf':\n",
    "            continue\n",
    "        if filename in excluded_filenames:\n",
    "            continue\n",
    "        pdf2image_ocr(os.path.join(folder, filename), output_file=os.path.join(corpus_folder, f'{filename[:-4]}.md'))\n"
   ]
  },
  {
   "cell_type": "code",
   "execution_count": 14,
   "id": "b5426584-f9c8-4500-966f-e30af29ad717",
   "metadata": {},
   "outputs": [
    {
     "data": {
      "text/plain": [
       "'1090548-blessed_of_the_traveler'"
      ]
     },
     "execution_count": 14,
     "metadata": {},
     "output_type": "execute_result"
    }
   ],
   "source": []
  },
  {
   "cell_type": "code",
   "execution_count": 9,
   "id": "68caedb2-01f3-4425-b677-a50c5591f8de",
   "metadata": {},
   "outputs": [
    {
     "data": {
      "text/plain": [
       "('/eberron/3e', 'Eberron - Eyes_of_the_Lich_Queen.pdf', 191)"
      ]
     },
     "execution_count": 9,
     "metadata": {},
     "output_type": "execute_result"
    }
   ],
   "source": [
    "folder, filename, len(parsed_content.nodes)\n"
   ]
  },
  {
   "cell_type": "code",
   "execution_count": 24,
   "id": "908a9686-ce55-4790-ae7d-a6d442c5dbf4",
   "metadata": {},
   "outputs": [
    {
     "name": "stdout",
     "output_type": "stream",
     "text": [
      "d4e4b11e-d4cb-4b2b-917f-a38453692ca0 0 0 3795\n",
      "1ea05abf-eb92-49c7-b02e-7bddd7fb853a 1 1 3852\n",
      "93778682-0880-46fe-95b1-ddb691e0296b 2 2 1555\n"
     ]
    },
    {
     "data": {
      "text/plain": [
       "['__abstractmethods__',\n",
       " '__add__',\n",
       " '__annotations__',\n",
       " '__class__',\n",
       " '__class_getitem__',\n",
       " '__class_vars__',\n",
       " '__copy__',\n",
       " '__deepcopy__',\n",
       " '__delattr__',\n",
       " '__dict__',\n",
       " '__dir__',\n",
       " '__doc__',\n",
       " '__eq__',\n",
       " '__fields__',\n",
       " '__fields_set__',\n",
       " '__format__',\n",
       " '__ge__',\n",
       " '__get_pydantic_core_schema__',\n",
       " '__get_pydantic_json_schema__',\n",
       " '__getattr__',\n",
       " '__getattribute__',\n",
       " '__getstate__',\n",
       " '__gt__',\n",
       " '__hash__',\n",
       " '__init__',\n",
       " '__init_subclass__',\n",
       " '__iter__',\n",
       " '__le__',\n",
       " '__lt__',\n",
       " '__module__',\n",
       " '__ne__',\n",
       " '__new__',\n",
       " '__pretty__',\n",
       " '__private_attributes__',\n",
       " '__pydantic_complete__',\n",
       " '__pydantic_core_schema__',\n",
       " '__pydantic_custom_init__',\n",
       " '__pydantic_decorators__',\n",
       " '__pydantic_extra__',\n",
       " '__pydantic_fields_set__',\n",
       " '__pydantic_generic_metadata__',\n",
       " '__pydantic_init_subclass__',\n",
       " '__pydantic_parent_namespace__',\n",
       " '__pydantic_post_init__',\n",
       " '__pydantic_private__',\n",
       " '__pydantic_root_model__',\n",
       " '__pydantic_serializer__',\n",
       " '__pydantic_validator__',\n",
       " '__reduce__',\n",
       " '__reduce_ex__',\n",
       " '__repr__',\n",
       " '__repr_args__',\n",
       " '__repr_name__',\n",
       " '__repr_str__',\n",
       " '__rich_repr__',\n",
       " '__setattr__',\n",
       " '__setstate__',\n",
       " '__signature__',\n",
       " '__sizeof__',\n",
       " '__slots__',\n",
       " '__str__',\n",
       " '__subclasshook__',\n",
       " '__weakref__',\n",
       " '_abc_impl',\n",
       " '_calculate_keys',\n",
       " '_check_frozen',\n",
       " '_copy_and_set_values',\n",
       " '_get_value',\n",
       " '_iter',\n",
       " '_repr_markdown_',\n",
       " 'bbox',\n",
       " 'construct',\n",
       " 'coordinate_system',\n",
       " 'copy',\n",
       " 'dict',\n",
       " 'elements',\n",
       " 'embedding',\n",
       " 'end_page',\n",
       " 'ends_with_bullet',\n",
       " 'from_orm',\n",
       " 'id_',\n",
       " 'images',\n",
       " 'is_heading',\n",
       " 'is_large',\n",
       " 'is_small',\n",
       " 'is_stub',\n",
       " 'json',\n",
       " 'model_computed_fields',\n",
       " 'model_config',\n",
       " 'model_construct',\n",
       " 'model_copy',\n",
       " 'model_dump',\n",
       " 'model_dump_json',\n",
       " 'model_extra',\n",
       " 'model_fields',\n",
       " 'model_fields_set',\n",
       " 'model_json_schema',\n",
       " 'model_parametrized_name',\n",
       " 'model_post_init',\n",
       " 'model_rebuild',\n",
       " 'model_validate',\n",
       " 'model_validate_json',\n",
       " 'model_validate_strings',\n",
       " 'node_id',\n",
       " 'num_pages',\n",
       " 'overlaps',\n",
       " 'parse_file',\n",
       " 'parse_obj',\n",
       " 'parse_raw',\n",
       " 'reading_order',\n",
       " 'schema',\n",
       " 'schema_json',\n",
       " 'start_page',\n",
       " 'starts_with_bullet',\n",
       " 'starts_with_heading',\n",
       " 'text',\n",
       " 'to_llama_index',\n",
       " 'tokenization_lower_limit',\n",
       " 'tokenization_upper_limit',\n",
       " 'tokens',\n",
       " 'update_forward_refs',\n",
       " 'validate',\n",
       " 'variant']"
      ]
     },
     "execution_count": 24,
     "metadata": {},
     "output_type": "execute_result"
    }
   ],
   "source": [
    "for node in parsed_content.nodes:\n",
    "    print(node.node_id, node.start_page, node.end_page, len(node.text))\n",
    "dir(node)"
   ]
  },
  {
   "cell_type": "code",
   "execution_count": 25,
   "id": "6a97c92f-8756-4438-858c-71cfccffb8a5",
   "metadata": {},
   "outputs": [
    {
     "data": {
      "text/plain": [
       "'Blades of the Quori <br><br>The most common martial path among the quori is that of the jilashtora, in which the discipline of monk and \\nsoulknife are woven together. At the discretion of the DM, the following feat can be used to represent this \\ntradition. <br><br>**Flowing Blade [General]**<br><br>Your mind blade is an extension of your body and soul, and you wield it with the same grace as your foot or fist. <br><br>**Prerequisite:**Ability to generate a mind blade, Weapon Focus (mind blade), flurry of blows class feature. <br><br>**Benefit:**You can treat your mind blade as a special monk weapon so that you can perform a flurry of blows with \\nit. <br><br>**Special:**A kalashtar or Inspired monk can select this as a bonus feat at 2nd or 6th level, in addition to the \\nnormal options available at those levels. They must still meet all prerequisites for the feat. <br><br><br><br>**About the Author**<br><br>Keith Baker has been an avid fan of**Dungeons & Dragons**since grade school. His life took a dramatic turn in \\n2002 when he submitted the world of**Eberron**to the Wizards of the Coast Fantasy Setting Search. In addition \\nto developing the**Eberron**Campaign Setting and Shadows of the Last War, he has worked for Atlas Games, \\nGoodman Games, and Green Ronin. <br><br>©1995-2004 Wizards of the Coast, Inc., a subsidiary of Hasbro, Inc. All Rights Reserved. Wizards is \\nheadquartered in Renton, Washington, PO Box 707, Renton, WA 98057. <br><br>http://www.wizards.com/default.asp?x=dnd/ebds/20050110a&pf=true (3 de 3)10/01/2005 14:45:02 '"
      ]
     },
     "execution_count": 25,
     "metadata": {},
     "output_type": "execute_result"
    }
   ],
   "source": [
    "node.text"
   ]
  },
  {
   "cell_type": "code",
   "execution_count": null,
   "id": "747989c5-5ff5-4b03-87ac-776bd4f00856",
   "metadata": {},
   "outputs": [],
   "source": []
  }
 ],
 "metadata": {
  "kernelspec": {
   "display_name": "Python 3 (ipykernel)",
   "language": "python",
   "name": "python3"
  },
  "language_info": {
   "codemirror_mode": {
    "name": "ipython",
    "version": 3
   },
   "file_extension": ".py",
   "mimetype": "text/x-python",
   "name": "python",
   "nbconvert_exporter": "python",
   "pygments_lexer": "ipython3",
   "version": "3.10.12"
  }
 },
 "nbformat": 4,
 "nbformat_minor": 5
}
