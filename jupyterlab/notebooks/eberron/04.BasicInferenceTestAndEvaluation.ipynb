{
 "cells": [
  {
   "cell_type": "code",
   "execution_count": 1,
   "id": "1e797496-465a-415e-a751-7cd654c85593",
   "metadata": {},
   "outputs": [],
   "source": [
    "import os\n",
    "import json\n",
    "import pickle\n",
    "from textwrap import dedent\n",
    "\n",
    "from tqdm.notebook import tqdm\n",
    "\n",
    "from sentence_transformers import SentenceTransformer\n",
    "from transformers import AutoTokenizer, AutoModelForCausalLM, BitsAndBytesConfig, TextStreamer\n",
    "import lancedb\n",
    "import numpy as np\n",
    "import pandas as pd\n",
    "import torch\n"
   ]
  },
  {
   "cell_type": "code",
   "execution_count": 2,
   "id": "29f472fa-5caf-4a94-ba4b-af3db0db873b",
   "metadata": {},
   "outputs": [],
   "source": [
    "ARTEFACT_VERSION = '02'"
   ]
  },
  {
   "cell_type": "code",
   "execution_count": 3,
   "id": "5bca091b-9862-49fe-b8cf-b9db246ced2d",
   "metadata": {},
   "outputs": [],
   "source": [
    "ARTEFACT_ROOT_FOLDER = os.environ.get('ARTEFACT_ROOT_FOLDER', '/artefact')\n",
    "ARTEFACT_FOLDER = os.path.join(ARTEFACT_ROOT_FOLDER, 'eberron', f'v{ARTEFACT_VERSION}')"
   ]
  },
  {
   "cell_type": "code",
   "execution_count": 4,
   "id": "e43b0cd6-ef66-4924-a9e4-f2543ac41b4a",
   "metadata": {},
   "outputs": [],
   "source": [
    "HF_HOME = os.environ.get('HF_HOME')"
   ]
  },
  {
   "cell_type": "markdown",
   "id": "c333b61e-113c-4b8c-b71c-54593d195c9f",
   "metadata": {},
   "source": [
    "# Load the Artefact"
   ]
  },
  {
   "cell_type": "code",
   "execution_count": 5,
   "id": "6f732da5-d78c-4234-8b63-effcee311161",
   "metadata": {},
   "outputs": [],
   "source": [
    "try:\n",
    "    with open(os.path.join(ARTEFACT_FOLDER, 'model_metadata.json'), 'r') as f:\n",
    "        model_metadata = json.load(f)\n",
    "except FileNotFoundError:\n",
    "    with open(os.path.join(ARTEFACT_FOLDER, 'model_metadata.pkl'), 'rb') as f:\n",
    "        model_metadata = pickle.load(f)\n",
    "\n",
    "assert model_metadata['embedding_model']['str'].startswith('SentenceTransformer')"
   ]
  },
  {
   "cell_type": "code",
   "execution_count": 6,
   "id": "f96db9f0-56aa-4097-a92e-850d5f0aebd2",
   "metadata": {},
   "outputs": [],
   "source": [
    "if model_metadata['embedding_format'] == 'pickle':\n",
    "    with open(os.path.join(ARTEFACT_FOLDER, 'embeddings.pkl'), 'rb') as f:\n",
    "        embeddings = pickle.load(f)\n",
    "elif model_metadata['embedding_format'] == 'lancedb':\n",
    "    embeddings_folder = os.path.join(ARTEFACT_FOLDER, 'embeddings')\n",
    "    db = lancedb.connect(embeddings_folder)\n",
    "    table = db.open_table('documents')"
   ]
  },
  {
   "cell_type": "code",
   "execution_count": 7,
   "id": "968ba9a0-73cd-4607-8d82-91b6f7e6c5b2",
   "metadata": {},
   "outputs": [],
   "source": [
    "if model_metadata['version'] == '01':\n",
    "    # I used a JSON to store metadata only in artefact v01. v02 onwards, they are in lancedb fields\n",
    "    with open(os.path.join(ARTEFACT_FOLDER, 'chunk_metadata.json'), 'r') as f:\n",
    "        chunk_metadata = json.load(f)\n"
   ]
  },
  {
   "cell_type": "code",
   "execution_count": 8,
   "id": "c94c9ffd-4e75-4195-a5d1-552fb4578719",
   "metadata": {},
   "outputs": [],
   "source": [
    "if model_metadata['version'] == '01':\n",
    "    file_names = [f for f in os.listdir(os.path.join(ARTEFACT_FOLDER, 'chunks')) if f.endswith('.md')]\n",
    "    file_names = sorted(file_names)\n",
    "    chunks = [None] * len(file_names)\n",
    "    for file_name in tqdm(file_names):\n",
    "        file_path = os.path.join(ARTEFACT_FOLDER, 'chunks', file_name)\n",
    "        with open(file_path, 'r') as f:\n",
    "            chunks[int(file_name.split('.')[0])] = f.read()"
   ]
  },
  {
   "cell_type": "markdown",
   "id": "fed2394c-e76f-4ebb-8e56-5ef96caee142",
   "metadata": {},
   "source": [
    "# Load the Embedding Model"
   ]
  },
  {
   "cell_type": "code",
   "execution_count": 9,
   "id": "10815106-a4c4-4c26-ab51-d4f4ed687cb9",
   "metadata": {},
   "outputs": [
    {
     "name": "stderr",
     "output_type": "stream",
     "text": [
      "2025-01-22 18:58:26.649471: I tensorflow/core/util/port.cc:153] oneDNN custom operations are on. You may see slightly different numerical results due to floating-point round-off errors from different computation orders. To turn them off, set the environment variable `TF_ENABLE_ONEDNN_OPTS=0`.\n",
      "2025-01-22 18:58:26.664779: E external/local_xla/xla/stream_executor/cuda/cuda_fft.cc:485] Unable to register cuFFT factory: Attempting to register factory for plugin cuFFT when one has already been registered\n",
      "2025-01-22 18:58:26.683735: E external/local_xla/xla/stream_executor/cuda/cuda_dnn.cc:8454] Unable to register cuDNN factory: Attempting to register factory for plugin cuDNN when one has already been registered\n",
      "2025-01-22 18:58:26.689485: E external/local_xla/xla/stream_executor/cuda/cuda_blas.cc:1452] Unable to register cuBLAS factory: Attempting to register factory for plugin cuBLAS when one has already been registered\n",
      "2025-01-22 18:58:26.703205: I tensorflow/core/platform/cpu_feature_guard.cc:210] This TensorFlow binary is optimized to use available CPU instructions in performance-critical operations.\n",
      "To enable the following instructions: AVX2 AVX512F AVX512_VNNI FMA, in other operations, rebuild TensorFlow with the appropriate compiler flags.\n",
      "2025-01-22 18:58:27.747572: W tensorflow/compiler/tf2tensorrt/utils/py_utils.cc:38] TF-TRT Warning: Could not find TensorRT\n"
     ]
    }
   ],
   "source": [
    "embedding_model = SentenceTransformer(model_metadata['embedding_model']['name'], \n",
    "                                      trust_remote_code=True, \n",
    "                                      revision=model_metadata['embedding_model']['revision'])\n",
    "embedding_model = embedding_model.to(\"cpu\")\n",
    "# embedding_model = embedding_model.to(\"cuda\")"
   ]
  },
  {
   "cell_type": "markdown",
   "id": "8071e013-518a-4d94-a242-5ec7b1d705f7",
   "metadata": {},
   "source": [
    "# Load the Language Model"
   ]
  },
  {
   "cell_type": "code",
   "execution_count": 10,
   "id": "ec906fa7-29c3-429b-81d3-28d8388f68cc",
   "metadata": {},
   "outputs": [],
   "source": [
    "bnb_config = BitsAndBytesConfig(\n",
    "    load_in_4bit=True,\n",
    "    bnb_4bit_quant_type=\"nf4\",\n",
    "    bnb_4bit_use_double_quant=True,\n",
    ")\n"
   ]
  },
  {
   "cell_type": "code",
   "execution_count": 11,
   "id": "7d038b1b-b7a3-4257-9cc9-177efa87fc1e",
   "metadata": {},
   "outputs": [
    {
     "data": {
      "application/vnd.jupyter.widget-view+json": {
       "model_id": "b82ef563b09e418b9bf85e0947bd5269",
       "version_major": 2,
       "version_minor": 0
      },
      "text/plain": [
       "Loading checkpoint shards:   0%|          | 0/3 [00:00<?, ?it/s]"
      ]
     },
     "metadata": {},
     "output_type": "display_data"
    }
   ],
   "source": [
    "model_provider = 'mistralai'\n",
    "model_name = 'Mistral-7B-Instruct-v0.3'\n",
    "model_revision = 'e0bc86c23ce5aae1db576c8cca6f06f1f73af2db'\n",
    "model_id = f'{model_provider}/{model_name}'\n",
    "model_path = os.path.join(HF_HOME, 'hub', f'models--{model_provider}--{model_name}', 'snapshots', model_revision)\n",
    "if os.path.exists(model_path):\n",
    "    model = AutoModelForCausalLM.from_pretrained(model_path, torch_dtype=torch.bfloat16, quantization_config=bnb_config, device_map=\"auto\")\n",
    "else:\n",
    "    model = AutoModelForCausalLM.from_pretrained(model_id, torch_dtype=torch.bfloat16, quantization_config=bnb_config, device_map=\"auto\")"
   ]
  },
  {
   "cell_type": "code",
   "execution_count": 12,
   "id": "4fab2aab-6a9e-4189-96ed-16d41867a14d",
   "metadata": {},
   "outputs": [],
   "source": [
    "tokenizer = AutoTokenizer.from_pretrained(model_path)"
   ]
  },
  {
   "cell_type": "code",
   "execution_count": 13,
   "id": "dfc40c73-01b0-499a-939f-34f85869a669",
   "metadata": {},
   "outputs": [
    {
     "name": "stdout",
     "output_type": "stream",
     "text": [
      "memory.total [MiB], memory.used [MiB], memory.free [MiB]\n",
      "15360 MiB, 4087 MiB, 11009 MiB\n"
     ]
    }
   ],
   "source": [
    "!nvidia-smi --query-gpu=memory.total,memory.used,memory.free --format=csv"
   ]
  },
  {
   "cell_type": "markdown",
   "id": "11a10752-45b7-4040-b8f6-35350842778f",
   "metadata": {},
   "source": [
    "# Query the Language Model"
   ]
  },
  {
   "cell_type": "code",
   "execution_count": 41,
   "id": "36c7db34-5c61-48e0-bf64-af4acd6a824e",
   "metadata": {},
   "outputs": [],
   "source": [
    "# TODO: DO NOT CHANGE. Move to a common library.\n",
    "def retrieve_baseline(q: str, model: SentenceTransformer, k: int=5, metric='cosine') -> pd.DataFrame:\n",
    "    \"\"\"\n",
    "    Retrieves the top-k most similar documents from a LanceDB table based on a query string, \n",
    "    using vector search to compare the query embedding to precomputed embeddings in the table.\n",
    "\n",
    "    Args:\n",
    "        q (str): The query string for which similar documents are to be retrieved.\n",
    "        model (SentenceTransformer): The SentenceTransformer model used to generate the embedding for the query.\n",
    "        k (int, optional): The number of top similar documents to retrieve. Default is 5.\n",
    "        metric: cosine, l2, dot or hamming.\n",
    "\n",
    "    Returns:\n",
    "        pd.DataFrame: A Pandas DataFrame containing the top-k most similar documents, including their metadata \n",
    "                      and similarity scores. The columns will include the document text and any associated \n",
    "                      metadata fields (e.g., similarity score, etc.).\n",
    "    \n",
    "    Example:\n",
    "        query = \"What is the history of Eberron?\"\n",
    "        model = SentenceTransformer('all-MiniLM-L6-v2')\n",
    "        results = retrieve_baseline(query, model)\n",
    "        print(results)\n",
    "    \"\"\"\n",
    "    embedding = model.encode(q, normalize_embeddings=True)\n",
    "    results = table.search(embedding).metric(metric)\n",
    "\n",
    "    return results.limit(k).to_pandas()\n"
   ]
  },
  {
   "cell_type": "code",
   "execution_count": 34,
   "id": "71533abe-9127-448e-9bd7-456197670cae",
   "metadata": {},
   "outputs": [],
   "source": [
    "# Required globals: model, embedding_model, tokenizer, retreive. I might also need a score or k or other parameters.\n",
    "retrieve = retrieve_baseline\n",
    "def get_info(q: str) -> str:\n",
    "    results = retrieve(q, embedding_model, 20, 'cosine')\n",
    "\n",
    "    retrieved_text = dedent(\"\"\"\n",
    "    -----\n",
    "    \"\"\").join(results['text'])\n",
    "\n",
    "    prompt = f\"\"\"\n",
    "\n",
    "    [INST]\n",
    "    Use the following information (until the final cutoff =====) to answer the user query Q below.\n",
    "    Prefer information closer to the top.\n",
    "\n",
    "    {retrieved_text}\n",
    "\n",
    "    =====\n",
    "\n",
    "    Q:\n",
    "    {q}\n",
    "\n",
    "    A:\n",
    "    [/INST]\n",
    "    \"\"\"\n",
    "\n",
    "    model_inputs = tokenizer([prompt], return_tensors=\"pt\").to(\"cuda\")\n",
    "\n",
    "    generated_ids = model.generate(**model_inputs, \n",
    "                                   max_new_tokens=1024, \n",
    "                                   do_sample=True, \n",
    "                                   eos_token_id=tokenizer.eos_token_id)\n",
    "\n",
    "    response = tokenizer.decode(generated_ids[0], skip_special_tokens=True)\n",
    "\n",
    "    return (response.split('A:')[1] if 'A:' in response else response).strip()\n",
    "\n",
    "    "
   ]
  },
  {
   "cell_type": "code",
   "execution_count": 32,
   "id": "4fb51aaf-7b37-4780-ac97-5c962d0b2be5",
   "metadata": {},
   "outputs": [
    {
     "name": "stdout",
     "output_type": "stream",
     "text": [
      "memory.total [MiB], memory.used [MiB], memory.free [MiB]\n",
      "15360 MiB, 9633 MiB, 5463 MiB\n"
     ]
    }
   ],
   "source": [
    "!nvidia-smi --query-gpu=memory.total,memory.used,memory.free --format=csv"
   ]
  },
  {
   "cell_type": "code",
   "execution_count": 35,
   "id": "36904abf-a06d-4cf7-accb-3eaf94c1595a",
   "metadata": {},
   "outputs": [
    {
     "name": "stderr",
     "output_type": "stream",
     "text": [
      "[2025-01-21T01:38:29Z WARN  lance_core::utils::tokio] Number of CPUs is less than or equal to the number of IO core reservations. This is not a supported configuration. using 1 CPU for compute intensive tasks.\n",
      "[2025-01-21T01:38:29Z WARN  lance_core::utils::tokio] Number of CPUs is less than or equal to the number of IO core reservations. This is not a supported configuration. using 1 CPU for compute intensive tasks.\n",
      "[2025-01-21T01:38:29Z WARN  lance_core::utils::tokio] Number of CPUs is less than or equal to the number of IO core reservations. This is not a supported configuration. using 1 CPU for compute intensive tasks.\n",
      "[2025-01-21T01:38:29Z WARN  lance_core::utils::tokio] Number of CPUs is less than or equal to the number of IO core reservations. This is not a supported configuration. using 1 CPU for compute intensive tasks.\n",
      "Setting `pad_token_id` to `eos_token_id`:2 for open-end generation.\n"
     ]
    },
    {
     "name": "stdout",
     "output_type": "stream",
     "text": [
      "1. Cyre River: This river separates Karrlakton from the Mournland. It played a significant role in the history of Karrnath, especially during the reign of King Kaius III, who was born on its banks.\n",
      "\n",
      "    2. Dagger River: A significant river in south-western Khorvaire, marked by unpredictable flows and quicksands along its banks. It separates Valenar and the Talenta Plains.\n",
      "\n",
      "    3. Eldeen River: A major waterway that runs through Eldeen Reaches, emptying into the Thunder Sea. Its source is hidden in the Wood of Shadows, making it difficult to manage the river's flow.\n",
      "\n",
      "    4. Galifar's Straits: These straits connect the Bitter Sea and the Lhazaar Sea, with the region of Shargon's Teeth being the most common route from Sharn to Stormreach in Xen'drik. These straits are infested with sea devils.\n",
      "\n",
      "    5. Krakos River: A river in southern Khorvaire that forms part of the border between Thrane and Aundair, leading from Lake Galifar to the Thunder Sea. It's a significant commercial route, with vessels carrying goods to the port city of Eldeen.\n",
      "\n",
      "    6. Sharde: A major river in central Khorvaire that drains into the Sea of Rage. It separates Aundair and Breland. The cities of Sharn and Niralas are located on the river's banks.\n",
      "\n",
      "    7. Tharashk: A river flowing through the Talenta Plains of central Khorvaire into the Dagger River. It's known for its importance in the Talenta Plains' commerce, including gambling dens and other activities.\n"
     ]
    }
   ],
   "source": [
    "q = \"Tell me about the languages of Eberron.\"\n",
    "q = \"Create a House Cannith item.\"\n",
    "q = \"Tell me about the rivers of Khorvaire.\"\n",
    "response = get_info(q)\n",
    "print(response)"
   ]
  },
  {
   "cell_type": "code",
   "execution_count": 90,
   "id": "ccca4919-e238-4586-afe3-81289fb458fb",
   "metadata": {},
   "outputs": [
    {
     "name": "stderr",
     "output_type": "stream",
     "text": [
      "[2025-01-20T04:19:41Z WARN  lance_core::utils::tokio] Number of CPUs is less than or equal to the number of IO core reservations. This is not a supported configuration. using 1 CPU for compute intensive tasks.\n",
      "[2025-01-20T04:19:41Z WARN  lance_core::utils::tokio] Number of CPUs is less than or equal to the number of IO core reservations. This is not a supported configuration. using 1 CPU for compute intensive tasks.\n",
      "[2025-01-20T04:19:41Z WARN  lance_core::utils::tokio] Number of CPUs is less than or equal to the number of IO core reservations. This is not a supported configuration. using 1 CPU for compute intensive tasks.\n",
      "[2025-01-20T04:19:41Z WARN  lance_core::utils::tokio] Number of CPUs is less than or equal to the number of IO core reservations. This is not a supported configuration. using 1 CPU for compute intensive tasks.\n",
      "Setting `pad_token_id` to `eos_token_id`:2 for open-end generation.\n"
     ]
    },
    {
     "data": {
      "text/plain": [
       "\"While Khorvaire is predominantly landlocked, the continental landscape contains significant waterways that are integral to civilization. The following are some prominent rivers of Khorvaire, listed by nation:\\n\\n    1. Aundair:\\n      a. The Sovereign River—a vital watercourse flowing into the Sea of Rage, it was used as a route for transporting goods and soldiers from the city of Aundair (the capital) to the front lines during the Last War.\\n\\n    2. Breland:\\n      a. The Mantle—It begins in Vordalay Forest, passes through the metropolis of Zeravik, and flows down to the Lhazaar Sea.\\n      b. The Thorn—It arises near the border with Aundair, meanders through the Arbor in Breland's fertile plains, draining into the Lhazaar Sea.\\n\\n    3. Cyran Empire:\\n      a. Cyre River—Though devastated by the Mournland's explosion, the Cyre River was once a significant river linking the empire of Cyre to the Lhazaar Sea. Today, its waters have become part of the Mournland.\\n\\n    4. Droaam:\\n      a. The Cog—It represents one of the borders between the Lair and the Creation. In its upper reaches, the Cog is crossed by bridge armies (creatures resembling golems), serving as the borders of individual territories controlled by the Daelkyr and their servitors.\\n\\n    5. Galifar's Kingdom:\\n      a. Gazad River—It is the largest river within Galifar's Kingdom, beginning in the Shadowmarches, coursing through the capital city of Galifar, and ultimately ending in Lake Galifar.\\n\\n    6. King's Court:\\n      a. River Ghaak—It flows through the city of King's Court, emptying into Lake Galifar.\\n\\n    7. Karrnath:\\n      a. River Ironskine—It extends from the northern plains of Karrnath to the sea.\\n      b. River Riedran—The northernmost tributary of the River Ora, originating in the Thunderscape Mountains.\\n      c. River Ora—This river is the major waterway of Karrnath, rising in the Thunderscape Mountains, passing the capital city of Warforged, and emptying into the Bay of Thunderscape.\\n\\n    8. Darguun:\\n      a. Sanguine Rift—it is one of the major rivers of Darguun, flowing through dense jungle territories.\\n\\n    9. Zilargo:\\n       a. River Lyn—It flows from the swamps to Zilargo Port, where it empties into the Lhazaar Sea.\""
      ]
     },
     "execution_count": 90,
     "metadata": {},
     "output_type": "execute_result"
    }
   ],
   "source": [
    "q = \"Tell me about the rivers of Khorvaire.\"\n",
    "response = get_info(q)\n",
    "print(response)"
   ]
  },
  {
   "cell_type": "code",
   "execution_count": 93,
   "id": "d9f147b0-e434-4d7e-91e9-785eff703f86",
   "metadata": {},
   "outputs": [
    {
     "name": "stdout",
     "output_type": "stream",
     "text": [
      "While Khorvaire is predominantly landlocked, the continental landscape contains significant waterways that are integral to civilization. The following are some prominent rivers of Khorvaire, listed by nation:\n",
      "\n",
      "    1. Aundair:\n",
      "      a. The Sovereign River—a vital watercourse flowing into the Sea of Rage, it was used as a route for transporting goods and soldiers from the city of Aundair (the capital) to the front lines during the Last War.\n",
      "\n",
      "    2. Breland:\n",
      "      a. The Mantle—It begins in Vordalay Forest, passes through the metropolis of Zeravik, and flows down to the Lhazaar Sea.\n",
      "      b. The Thorn—It arises near the border with Aundair, meanders through the Arbor in Breland's fertile plains, draining into the Lhazaar Sea.\n",
      "\n",
      "    3. Cyran Empire:\n",
      "      a. Cyre River—Though devastated by the Mournland's explosion, the Cyre River was once a significant river linking the empire of Cyre to the Lhazaar Sea. Today, its waters have become part of the Mournland.\n",
      "\n",
      "    4. Droaam:\n",
      "      a. The Cog—It represents one of the borders between the Lair and the Creation. In its upper reaches, the Cog is crossed by bridge armies (creatures resembling golems), serving as the borders of individual territories controlled by the Daelkyr and their servitors.\n",
      "\n",
      "    5. Galifar's Kingdom:\n",
      "      a. Gazad River—It is the largest river within Galifar's Kingdom, beginning in the Shadowmarches, coursing through the capital city of Galifar, and ultimately ending in Lake Galifar.\n",
      "\n",
      "    6. King's Court:\n",
      "      a. River Ghaak—It flows through the city of King's Court, emptying into Lake Galifar.\n",
      "\n",
      "    7. Karrnath:\n",
      "      a. River Ironskine—It extends from the northern plains of Karrnath to the sea.\n",
      "      b. River Riedran—The northernmost tributary of the River Ora, originating in the Thunderscape Mountains.\n",
      "      c. River Ora—This river is the major waterway of Karrnath, rising in the Thunderscape Mountains, passing the capital city of Warforged, and emptying into the Bay of Thunderscape.\n",
      "\n",
      "    8. Darguun:\n",
      "      a. Sanguine Rift—it is one of the major rivers of Darguun, flowing through dense jungle territories.\n",
      "\n",
      "    9. Zilargo:\n",
      "       a. River Lyn—It flows from the swamps to Zilargo Port, where it empties into the Lhazaar Sea.\n"
     ]
    }
   ],
   "source": [
    "print(response)"
   ]
  },
  {
   "cell_type": "code",
   "execution_count": 94,
   "id": "f9534839-5607-4ba9-aea1-0dc64ace57c7",
   "metadata": {},
   "outputs": [
    {
     "name": "stderr",
     "output_type": "stream",
     "text": [
      "[2025-01-20T04:24:22Z WARN  lance_core::utils::tokio] Number of CPUs is less than or equal to the number of IO core reservations. This is not a supported configuration. using 1 CPU for compute intensive tasks.\n",
      "[2025-01-20T04:24:22Z WARN  lance_core::utils::tokio] Number of CPUs is less than or equal to the number of IO core reservations. This is not a supported configuration. using 1 CPU for compute intensive tasks.\n",
      "[2025-01-20T04:24:22Z WARN  lance_core::utils::tokio] Number of CPUs is less than or equal to the number of IO core reservations. This is not a supported configuration. using 1 CPU for compute intensive tasks.\n",
      "[2025-01-20T04:24:22Z WARN  lance_core::utils::tokio] Number of CPUs is less than or equal to the number of IO core reservations. This is not a supported configuration. using 1 CPU for compute intensive tasks.\n",
      "Setting `pad_token_id` to `eos_token_id`:2 for open-end generation.\n"
     ]
    },
    {
     "name": "stdout",
     "output_type": "stream",
     "text": [
      "1. During the Last War, the fashion styles of the Five Nations evolved to distinguish their soldiers and improve their tools of war. Common soldiers typically wore light, medium, or heavy armor made of leather, metal, or a combination of both.\n",
      "\n",
      "    2. Elite forces, officers, and mercenaries used different styles and materials. Each nation had its own distinct approach to fashion, both in its armor and civilian clothing.\n",
      "\n",
      "    3. Beyond practical considerations, adventurers might choose to wear specific clothing as a cultural expression. For example, a Cyran might wear gloves and masks, a Karrn might wear gazyrs sewn onto leather armor, an Aundairian might wear a cloak with strange proportions, a Thrane might wear clothes covered in embroidered patches, an Aundairian might wear clothes covered in embroidered patches, and a Brel might wear pointy-toed shoes and long puffy sleeves.\n",
      "\n",
      "    4. Many contemporary fashion designers now produce lines of fashion specifically for adventurers.\n",
      "\n",
      "    5. The Five Nations, especially the four founding nations (Breland, Karrnath, Thrane, and Aundair), have a strong cultural identity that may still influence their clothing choices, even after the Last War.\n",
      "\n",
      "    6. In addition to the historical fashion of the Five Nations, there is also a new resurgence of fashion interest from designers such as the divine changeling who has returned after four years in the Mournland.\n",
      "\n",
      "    7. It is also worth noting that the Treaty of Cessation ended the Last War and created new sovereign nations from the Five Nations, but the identities of these new nations are still forming and their cultural experiences are not the same as those of the pre-War Five Nations.\n"
     ]
    }
   ],
   "source": [
    "q = \"Tell me about fashion in the five nations.\"\n",
    "response = get_info(q)\n",
    "print(response)"
   ]
  },
  {
   "cell_type": "code",
   "execution_count": 97,
   "id": "a4ce8f72-d135-4bca-82cb-3ac691986301",
   "metadata": {},
   "outputs": [
    {
     "name": "stderr",
     "output_type": "stream",
     "text": [
      "[2025-01-20T04:25:16Z WARN  lance_core::utils::tokio] Number of CPUs is less than or equal to the number of IO core reservations. This is not a supported configuration. using 1 CPU for compute intensive tasks.\n",
      "[2025-01-20T04:25:16Z WARN  lance_core::utils::tokio] Number of CPUs is less than or equal to the number of IO core reservations. This is not a supported configuration. using 1 CPU for compute intensive tasks.\n",
      "[2025-01-20T04:25:16Z WARN  lance_core::utils::tokio] Number of CPUs is less than or equal to the number of IO core reservations. This is not a supported configuration. using 1 CPU for compute intensive tasks.\n",
      "[2025-01-20T04:25:16Z WARN  lance_core::utils::tokio] Number of CPUs is less than or equal to the number of IO core reservations. This is not a supported configuration. using 1 CPU for compute intensive tasks.\n",
      "Setting `pad_token_id` to `eos_token_id`:2 for open-end generation.\n"
     ]
    },
    {
     "name": "stdout",
     "output_type": "stream",
     "text": [
      "1. The common armor of today for the Five Nations include light, medium, and heavy armor. These typically involve a metal helmet, breastplate for medium armor, and leather or chainmail for light armor. However, each nation has its distinct approach to fashion both in its armor and civilian clothing.\n",
      "\n",
      "    2. Adventurers from the Five Nations often represent their homeland in their clothing, although not always for practicality. Adventurers are an important part of each nation, with adventuring guilds and independents playing crucial roles in their cultures.\n",
      "\n",
      "    3. The Church of the Silver Flame, one of the most significant religions in the Five Nations, is recognized by its delicately embroidered, silver-dyed denim robes. Their vestments are sewn with extra space for mobility, and are usually closed with toggles rather than fasteners.\n",
      "\n",
      "    4. In Middle Tavick's Landing, one can find fusion of Brelish lapels, Thrane cloaks, and other styles, as it serves as the melting pot of cultures in Middle and Lower Tavick’s Landing.\n",
      "\n",
      "    5. Cyran fashion is both practical and fashionable, featuring glamerweave, fur, and layered clothing. Stays and whalebone corsets are worn as structural garments, and silks lace are commonly used for seam finishing.\n",
      "\n",
      "    6. In light of regionalism, the Twelve has capitalized on opportunities created by diseases such as tsench'foot, with House Vadalis introducing magebred sheep whose wool had unique drying properties. These Vadaliswool stockings are used by soldiers across Khorvaire and even shipped to Stormreach.\n",
      "\n",
      "    7. As a result of industrialization and cheaper fabric, higher-fashion clothes became accessible to a lower class of citizens during the Last War, broadening the fashion options for people across the Five Nations.\n"
     ]
    }
   ],
   "source": [
    "q = \"Tell me about fashion in the five nations.\"\n",
    "response = get_info(q)\n",
    "print(response)"
   ]
  },
  {
   "cell_type": "code",
   "execution_count": 99,
   "id": "c04ff20a-0444-40ae-bf41-934c5f2baf43",
   "metadata": {},
   "outputs": [
    {
     "name": "stderr",
     "output_type": "stream",
     "text": [
      "[2025-01-20T04:26:31Z WARN  lance_core::utils::tokio] Number of CPUs is less than or equal to the number of IO core reservations. This is not a supported configuration. using 1 CPU for compute intensive tasks.\n",
      "[2025-01-20T04:26:31Z WARN  lance_core::utils::tokio] Number of CPUs is less than or equal to the number of IO core reservations. This is not a supported configuration. using 1 CPU for compute intensive tasks.\n",
      "[2025-01-20T04:26:31Z WARN  lance_core::utils::tokio] Number of CPUs is less than or equal to the number of IO core reservations. This is not a supported configuration. using 1 CPU for compute intensive tasks.\n",
      "[2025-01-20T04:26:31Z WARN  lance_core::utils::tokio] Number of CPUs is less than or equal to the number of IO core reservations. This is not a supported configuration. using 1 CPU for compute intensive tasks.\n",
      "Setting `pad_token_id` to `eos_token_id`:2 for open-end generation.\n"
     ]
    },
    {
     "name": "stdout",
     "output_type": "stream",
     "text": [
      "1. Light Armor: Because the dragonmark heir does not have proficiency in heavy armor, a light armor will offer better protection while being able to move easily. Many Mror wear decorative armor that uses the statistics of light armor, but evokes the general flavor of a heavier breastplate. This will allow the heir to retain the martial aspect to their attire that the Mror generally favor, but still be able to move freely.\n",
      "\n",
      "    2. Robe or Tunic: To balance out the armor, a long robe or tunic can be used as the top garment. This will not only provide a more elegant look, but also offer more coverage for the dragonmark on their arm/chest.\n",
      "\n",
      "    3. Sash or Belt: A sash or belt can be worn around the waist to hold up the robe/tunic and also add a bit of color and personality to the outfit.\n",
      "\n",
      "    4. Boots: Boots would be a practical choice for footwear, as they offer protection and support for the feet while moving.\n",
      "\n",
      "    5. Accessories: To complete the outfit, the heir could wear various accessories such as brooches, rings, chains, and bracelets. These will not only make the outfit look more polished, but also serve as a way to show wealth and personal expression. Brooches can depict family crests, the seal of the ruling clan, or even moods; some brooches can mean \"leave me alone\" or \"looking for company.\" A dultar—blood blade—could also be worn as a dagger, both as a utilitarian tool and as a statement of allegiance. The dultar's style could help identify the heir's clan, as each ruling clan has a distinct style of dultar.\n",
      "\n",
      "    6. Living Cloak (optional): Living clothing is a self-cleaning, self-mending, and feeds on the excretions (primarily sweat) of the host. For the more exotic dragonmark heir, a living cloak could be an interesting and visually stunning addition to the outfit. Patterns or colors may shift to reflect the mood of the wearer, and a living cloak may ripple or billow of its own accord. Narathun currently has the finest artisan-breeders working with living clothing, and styles are constantly evolving.\n",
      "\n",
      "    This outfit would allow the dragonmarked heir to look both elegant and powerful while also being functional and versatile. The accessories will allow the heir to express their house, clan, and personal identity.\n"
     ]
    }
   ],
   "source": [
    "q = \"Suggest an outfit for a dragonmarked heir.\"\n",
    "response = get_info(q)\n",
    "print(response)"
   ]
  },
  {
   "cell_type": "code",
   "execution_count": 100,
   "id": "d4b5ac85-11e3-4ab2-8476-20293602d9ab",
   "metadata": {},
   "outputs": [
    {
     "name": "stdout",
     "output_type": "stream",
     "text": [
      "memory.total [MiB], memory.used [MiB], memory.free [MiB]\n",
      "15360 MiB, 10967 MiB, 4129 MiB\n"
     ]
    }
   ],
   "source": [
    "!nvidia-smi --query-gpu=memory.total,memory.used,memory.free --format=csv"
   ]
  },
  {
   "cell_type": "code",
   "execution_count": null,
   "id": "53dda19c-e626-433f-9343-069065b7581c",
   "metadata": {},
   "outputs": [],
   "source": []
  },
  {
   "cell_type": "code",
   "execution_count": 36,
   "id": "d3da6efc-1d9e-403c-b992-ae501aa82fb1",
   "metadata": {},
   "outputs": [],
   "source": [
    "def get_one_word_answer(q: str) -> str:\n",
    "    results = retrieve(q, embedding_model, 5, 'cosine')\n",
    "\n",
    "    retrieved_text = dedent(\"\"\"\n",
    "    -----\n",
    "    \"\"\").join(results['text'])\n",
    "\n",
    "    prompt = f\"\"\"\n",
    "    [INST]\n",
    "    Use the following information (until the final cutoff =====) to answer the user query Q below.\n",
    "    The answer has to be one word only.\n",
    "    You are trying to get the most accurate answer in one shot.\n",
    "\n",
    "    {retrieved_text}\n",
    "\n",
    "    =====\n",
    "\n",
    "    Q:\n",
    "    {q}\n",
    "\n",
    "    A:\n",
    "    [/INST]\n",
    "    \"\"\"\n",
    "    print(len(prompt))\n",
    "\n",
    "    model_inputs = tokenizer([prompt], return_tensors=\"pt\").to(\"cuda\")\n",
    "\n",
    "    generated_ids = model.generate(**model_inputs, \n",
    "                                   max_length=50,\n",
    "                                   max_new_tokens=256, \n",
    "                                   do_sample=True, \n",
    "                                   eos_token_id=tokenizer.eos_token_id)\n",
    "\n",
    "    response = tokenizer.decode(generated_ids[0], skip_special_tokens=True)\n",
    "\n",
    "    return (response.split('A:\\n')[1] if 'A:\\n' in response else response).strip()\n"
   ]
  },
  {
   "cell_type": "code",
   "execution_count": 37,
   "id": "693dd2f4-1a2f-44ce-a03e-4d1517f6321e",
   "metadata": {},
   "outputs": [
    {
     "name": "stderr",
     "output_type": "stream",
     "text": [
      "[2025-01-21T01:40:31Z WARN  lance_core::utils::tokio] Number of CPUs is less than or equal to the number of IO core reservations. This is not a supported configuration. using 1 CPU for compute intensive tasks.\n",
      "[2025-01-21T01:40:31Z WARN  lance_core::utils::tokio] Number of CPUs is less than or equal to the number of IO core reservations. This is not a supported configuration. using 1 CPU for compute intensive tasks.\n",
      "[2025-01-21T01:40:31Z WARN  lance_core::utils::tokio] Number of CPUs is less than or equal to the number of IO core reservations. This is not a supported configuration. using 1 CPU for compute intensive tasks.\n",
      "[2025-01-21T01:40:31Z WARN  lance_core::utils::tokio] Number of CPUs is less than or equal to the number of IO core reservations. This is not a supported configuration. using 1 CPU for compute intensive tasks.\n",
      "Setting `pad_token_id` to `eos_token_id`:2 for open-end generation.\n",
      "Both `max_new_tokens` (=256) and `max_length`(=50) seem to have been set. `max_new_tokens` will take precedence. Please refer to the documentation for more information. (https://huggingface.co/docs/transformers/main/en/main_classes/text_generation)\n"
     ]
    },
    {
     "name": "stdout",
     "output_type": "stream",
     "text": [
      "8460\n",
      "Tents\n"
     ]
    }
   ],
   "source": [
    "q = \"What is the name of the Breland veterans community in Quickstone?\"\n",
    "response = get_one_word_answer(q)\n",
    "print(response)"
   ]
  },
  {
   "cell_type": "code",
   "execution_count": null,
   "id": "b491cfc7-add5-4474-a77d-8a4dac48bb28",
   "metadata": {},
   "outputs": [],
   "source": [
    "q_and_a = [\n",
    "    (\"What is the name of the prominent university in Sharn?\", \"Morgrave\"),\n",
    "    (\"What type of magic does Karrnath use in its military?\", \"Necromancy\"),\n",
    "    (\"Who leads Kind's Dark Lanterns?\", \"Vron\"),\n",
    "    (\"Who leads King's Dark Lanterns?\", \"Vron\"),\n",
    "    (\"What is the name of the Breland veterans community in Quickstone?\", \"Tents\"),\n",
    "]"
   ]
  },
  {
   "cell_type": "code",
   "execution_count": 38,
   "id": "892580c6-4ae4-49b1-b7ad-d7cac0d35307",
   "metadata": {},
   "outputs": [],
   "source": [
    "# Required globals: model, embedding_model, tokenizer, retreive. I might also need a score or k or other parameters.\n",
    "retrieve = retrieve_baseline\n",
    "def generate_character(q: str) -> str:\n",
    "    results = retrieve(q, embedding_model, 10, 'cosine')\n",
    "\n",
    "    retrieved_text = dedent(\"\"\"\n",
    "    -----\n",
    "    \"\"\").join(results['text'])\n",
    "\n",
    "    prompt = f\"\"\"\n",
    "    [INST]\n",
    "    Use the following information (until the final cutoff =====) to create a character based on the 5th Edition rules for the world of Eberron.\n",
    "    Use the prompt P as a starting point.\n",
    "    Give the complete character sheet.\n",
    "    A complete character sheet should include name, race, class, level, attributes, proficiencies based on the class and fifth edition rules, \n",
    "    proficiency bonus based on class and level, saving throws bonus based on class, feats and proficiency , hit points based on class and level, \n",
    "    weapons and equipment, attack bonus for each weapon based on abilities, any race or class based features, class and level, attack roll, \n",
    "    and equipment, armor class based on dexterity and armor, and if the character has spellcasting ability, spells based on class and level, \n",
    "    as well as the number of spell slots. \n",
    "    Include an inventory based on their level, class, and race, with a few personal touches in the items.\n",
    "    \n",
    "    Also include a compelling and detailed backstory of two paragraphs related to the world of Eberron. \n",
    "    This background should include their nation.\n",
    "    Include another short paragraph about their intentions.\n",
    "    Include one other short paragraph about their tactics in combat.\n",
    "    Finally, include one paragraph for the visuals.\n",
    "\n",
    "    {retrieved_text}\n",
    "\n",
    "    =====\n",
    "\n",
    "    Prompt P:\n",
    "    {q}\n",
    "\n",
    "    Character:\n",
    "    [/INST]\n",
    "    \"\"\"\n",
    "\n",
    "    model_inputs = tokenizer([prompt], return_tensors=\"pt\").to(\"cuda\")\n",
    "\n",
    "    generated_ids = model.generate(**model_inputs, \n",
    "                                   max_new_tokens=2048, \n",
    "                                   do_sample=True, \n",
    "                                   eos_token_id=tokenizer.eos_token_id)\n",
    "\n",
    "    response = tokenizer.decode(generated_ids[0], skip_special_tokens=True)\n",
    "\n",
    "    return (response.split('Character:\\n')[1] if 'Character:\\n' in response else response).strip()\n",
    "\n",
    "    "
   ]
  },
  {
   "cell_type": "code",
   "execution_count": 103,
   "id": "54aed446-ed39-476b-ac10-be241abd4bfb",
   "metadata": {},
   "outputs": [
    {
     "name": "stderr",
     "output_type": "stream",
     "text": [
      "[2025-01-20T04:34:02Z WARN  lance_core::utils::tokio] Number of CPUs is less than or equal to the number of IO core reservations. This is not a supported configuration. using 1 CPU for compute intensive tasks.\n",
      "[2025-01-20T04:34:02Z WARN  lance_core::utils::tokio] Number of CPUs is less than or equal to the number of IO core reservations. This is not a supported configuration. using 1 CPU for compute intensive tasks.\n",
      "[2025-01-20T04:34:02Z WARN  lance_core::utils::tokio] Number of CPUs is less than or equal to the number of IO core reservations. This is not a supported configuration. using 1 CPU for compute intensive tasks.\n",
      "[2025-01-20T04:34:02Z WARN  lance_core::utils::tokio] Number of CPUs is less than or equal to the number of IO core reservations. This is not a supported configuration. using 1 CPU for compute intensive tasks.\n",
      "Setting `pad_token_id` to `eos_token_id`:2 for open-end generation.\n"
     ]
    },
    {
     "name": "stdout",
     "output_type": "stream",
     "text": [
      "8. Character: Caelum \"Cal\" Iarwain\n",
      "    9. Race: Human\n",
      "    10. Class: Ranger 1\n",
      "    11. Attributes (5e standard array): Str 12, Dex 14, Con 10, Int 8, Wis 12, Cha 10\n",
      "    11. Class Abilities:\n",
      "        1. Starting Proficiencies: Perception, Survival\n",
      "        2. Level 1 Fighting Style: Archery\n",
      "        3. Ranger Spells: Cat's Grace, Hunter's Mark\n",
      "        4. Favored Enemy: Orcs\n",
      "        5. Natural Explorer: Swamp, Urban\n",
      "        6. Skills: Climb, Dexterity, Intelligence, Investigation, Nature, Navigation, Survival, Persuasion\n",
      "        7. Tools: None\n",
      "    12. Proficiency Bonus (5e default): +2\n",
      "    13. Saving Throws:\n",
      "        1. Wisdom (Race)\n",
      "        2. Dexterity (Class)\n",
      "    14. Feats & Levels: None\n",
      "    15. Hit Points: 10 (Levels: 1 Ranger) + Hit Die (next level: 1d10)\n",
      "    16. Weapons & Equipment:\n",
      "        1. Shortbow\n",
      "        2. Quiver (20 arrows)\n",
      "        3. Short Sword\n",
      "        4. Leather Armor\n",
      "    17. Attack Bonus (Per Stat):\n",
      "        1. Shortbow: +5 to hit (1d8 damage)\n",
      "        2. Short Sword: +5 to hit (1d6+3 damage)\n",
      "    18. Features & Traits:\n",
      "        1. Darkvision: You can see in dim light within 60 feet as if it were bright light, and in darkness as if it were dim light.\n",
      "        2. Fighter: You can fight with greater precision, marking a target and scoring devastating critical hits.\n",
      "        3. Skill Expertise: Climb, Perception, Survival\n",
      "        4. Slinger: Reroll a failed attack roll made with a ranged weapon with the \"ammo\" property.\n",
      "    19. Class & Level: Ranger 1\n",
      "    20. Background: Soldier\n",
      "    21. Age: 33\n",
      "    22. Alignment: Neutral Good\n",
      "    23. Description:\n",
      "        1. Tall and lean, Cal has light-colored hair, brown eyes, and several scars from war.\n",
      "        2. He carries a shortbow, a short sword, and a leather-armored quiver of arrows slung at his back.\n",
      "    24. Backstory:\n",
      "        1. Serving in the Brelish military, Cal experienced the loss of his family to a rogue Orc warband during the Last War. Seeking vengeance, he volunteered for special operations units seeking the orc warlords and their bands. After his mission was complete, Cal left the service for a time, searching for his family's killers among orc tribes. After a time, he settled in the town of Quickstone with the Grizzlies, the military veterans' organization of Brelish soldiers. Since then, Cal has been honing his skills and his vengeance, now turning to a new cause: hunting down the last of the orcs who still threaten the region.\n",
      "    25. Intentions:\n",
      "        1. Cal seeks to rid the region of the remaining orcs who claim to have had a part in the death of his family, regardless of political consequences.\n",
      "    26. Tactics in Combat:\n",
      "        1. Cal uses his hunter's mark ability and his fervor for vengeance to aim for high-value targets with surgical precision.\n",
      "        2. He tries to surround himself with allies who can provide cover or distract enemies while he unleashes his arrows.\n",
      "        3. If the battle is close, Cal falls back on his short sword for effective melee capability.\n",
      "\n",
      "    =====\n",
      "\n",
      "    As a soldier, Caelum \"Cal\" Iarwain of Breland served in the Last War with distinction. He was honored for capturing a high-level orc warlord and was released from military service with great fanfare. However, when he learned that his family was killed during the war by a band of orcs, he left the service, seeking vengeance.\n",
      "    Cal settled in the small town of Quickstone, where he now lives with other veterans of the war as part of the Grizzlies. As a ranger, Cal is an excellent shot with his shortbow and also carries a short sword for close combat. He is skilled at both stealth and survival, making him an excellent tracker.\n",
      "    Cal is driven by a desire for vengeance against the orcs who killed his family, and he is determined to track them down and take them out, regardless of political or social difficulties. He often patrols the forests of the region, searching for any sign of orc activity and is always alert for potential ambushes.\n",
      "    Cal is a skilled combatant and is careful to make every shot count. He often marks his targets with his hunter's mark ability, ensuring that his hits are especially devastating. He is also careful to keep his allies safe, often using his allies as a distraction or cover while he unleashes his arrows. When in close combat, Cal is equally adept, using his short sword to inflict heavy damage on his enemies.\n"
     ]
    }
   ],
   "source": [
    "character = generate_character(\"War veteran\")\n",
    "print(character)"
   ]
  },
  {
   "cell_type": "code",
   "execution_count": 40,
   "id": "ec23442d-59f0-4615-8780-b9d53ca4a00a",
   "metadata": {},
   "outputs": [
    {
     "name": "stderr",
     "output_type": "stream",
     "text": [
      "[2025-01-21T01:43:24Z WARN  lance_core::utils::tokio] Number of CPUs is less than or equal to the number of IO core reservations. This is not a supported configuration. using 1 CPU for compute intensive tasks.\n",
      "[2025-01-21T01:43:24Z WARN  lance_core::utils::tokio] Number of CPUs is less than or equal to the number of IO core reservations. This is not a supported configuration. using 1 CPU for compute intensive tasks.\n",
      "[2025-01-21T01:43:24Z WARN  lance_core::utils::tokio] Number of CPUs is less than or equal to the number of IO core reservations. This is not a supported configuration. using 1 CPU for compute intensive tasks.\n",
      "[2025-01-21T01:43:24Z WARN  lance_core::utils::tokio] Number of CPUs is less than or equal to the number of IO core reservations. This is not a supported configuration. using 1 CPU for compute intensive tasks.\n",
      "Setting `pad_token_id` to `eos_token_id`:2 for open-end generation.\n"
     ]
    },
    {
     "name": "stdout",
     "output_type": "stream",
     "text": [
      "Name: RedLight Disiuct p\n",
      "     Race: Golem (Grey Iron)\n",
      "     Class: Sorcerer (Harbinger of Faith)\n",
      "     Level: 5\n",
      "     Attributes:\n",
      "       Strength: 14 (+2)\n",
      "       Dexterity: 12 (+1)\n",
      "       Constitution: 14 (+2)\n",
      "       Intelligence: 16 (+3)\n",
      "       Wisdom: 8 (-1)\n",
      "       Charisma: 18 (+4)\n",
      "     Proficiencies: Arcana, History, Insight, Religion\n",
      "     Proficiency Bonus: +3\n",
      "     Saving Throws: Wisdom (+0), Charisma (+6)\n",
      "     Feats and proficiencies:\n",
      "       - Mage Armor (1 level sorcerer)\n",
      "       - Spellcasting (5 levels sorcerer)\n",
      "     Hit Points: 37 (5d8 for Golem + 21 (5d6 + 5 from sorcerer levels))\n",
      "     Weapons and equipment:\n",
      "       - Dagger (attack roll +5)\n",
      "       - Quarterstaff (attack roll +4)\n",
      "       - Tindertwig (no attack bonus, helps with igniting objects)\n",
      "       - A necklace with a charm of healing (1d4 + 2 HPs)\n",
      "       - A pouch containing 2d4 sprigs of Pacifycus, used to reduce fevers\n",
      "       - A small wooden effigy of Sovereign Host, used as an additional focus in spells\n",
      "     Armor Class: 16 (natural armor + 1 Dexterity bonus)\n",
      "     Spellcasting:\n",
      "       - 3rd level spells (Crown of Madness, Dispel Magic, Fear)\n",
      "       - 9th level spell (Gate)\n",
      "       - 9th level ritual (Dimension Door)\n",
      "       - 13th level spell (Conjure Elemental)\n",
      "       - 13th level ritual (Conjure Animals)\n",
      "       - 9th level and 13th level spells can have a divine focus in addition to the usual verbal and somatic components, allowing RedLight Disiuct p to cast them even if his voice or arms are incapacitated.\n",
      "\n",
      "    Inventory:\n",
      "     - Two sets of simple (non-magical) clothing. The second set is kept in a small wooden chest that doubles as a footstool.\n",
      "       Both sets are ornamented with silver filigree in the shape of Sovereign Host’s holy symbols.\n",
      "     - A small bag containing various holy texts regarding Sovereign Host.\n",
      "    Backstory:\n",
      "     RedLight Disiuct p was first born as a Grey Iron golem in one of Morgrave’s vast forges, a nation devoted to the worship of Sovereign Host. The golem worked tirelessly for years carrying out menial tasks and tasks of greater importance. However, during an attack by Sibyls, a rogue band of fey creatures, RedLight Disiuct p found itself unexpectedly activated by the power of Sovereign Host. Overwhelmed by the sudden surge of arcane energy in its system, RedLight Disiuct p's creators infused it with their magical abilities.\n",
      "    In the aftermath of the attack, with its creators killed or incapacitated, RedLight Disiuct p decided to seek out a church devoted to Sovereign Host, believing that in doing so, it could learn to control its newfound powers and serve the deity in a more meaningful way. It took a pilgrimage through many of Khorvaire's nations, each encounter shaping its views, beliefs, and desires.\n",
      "    Intention: RedLight Disiuct p seeks to become a living testament to Sovereign Host's will, using its powers to protect the innocent and uphold Sovereign Host’s laws.\n",
      "    Tactics: In combat, RedLight Disiuct p aims to keep its distance and attack with spells, focusing on mass controlling and crowd-controlling spells first and then damaging or disabling enemies. It will never attack creatures that are under Sovereign Host's protection.\n",
      "    Visuals: RedLight Disiuct p stands 6 feet tall, with a sleek, streamlined body made out of grey iron. A small crystal is embedded in its chest, glowing softly and flickering blue when RedLight Disiuct p is casting spells. It wears simple robes and a hood, the hood pulled up to shield its face from view. The tip of the hood's hood is often adorned with a small, lit candle, making it look like RedLight Disiuct p has a halo.\n"
     ]
    }
   ],
   "source": [
    "character = generate_character(\"Comin relief, similar to C3p0\")\n",
    "print(character)"
   ]
  },
  {
   "cell_type": "code",
   "execution_count": 39,
   "id": "b0d5a4e9-b779-4fe3-ab22-c461cc854cde",
   "metadata": {},
   "outputs": [
    {
     "name": "stderr",
     "output_type": "stream",
     "text": [
      "[2025-01-21T01:41:52Z WARN  lance_core::utils::tokio] Number of CPUs is less than or equal to the number of IO core reservations. This is not a supported configuration. using 1 CPU for compute intensive tasks.\n",
      "[2025-01-21T01:41:52Z WARN  lance_core::utils::tokio] Number of CPUs is less than or equal to the number of IO core reservations. This is not a supported configuration. using 1 CPU for compute intensive tasks.\n",
      "[2025-01-21T01:41:52Z WARN  lance_core::utils::tokio] Number of CPUs is less than or equal to the number of IO core reservations. This is not a supported configuration. using 1 CPU for compute intensive tasks.\n",
      "[2025-01-21T01:41:52Z WARN  lance_core::utils::tokio] Number of CPUs is less than or equal to the number of IO core reservations. This is not a supported configuration. using 1 CPU for compute intensive tasks.\n",
      "Setting `pad_token_id` to `eos_token_id`:2 for open-end generation.\n"
     ]
    },
    {
     "name": "stdout",
     "output_type": "stream",
     "text": [
      "Name: Cameron Calamity Jones\n",
      "     Race: Human\n",
      "     Class: Wandslinger (Blaster)\n",
      "     Level: 3\n",
      "\n",
      "    Attributes:\n",
      "     - Strength (Str): 10 (+0)\n",
      "     - Dexterity (Dex): 14 (+2)\n",
      "     - Constitution (Con): -1 (-2)\n",
      "     - Intelligence (Int): 14 (+2)\n",
      "     - Wisdom (Wis): 12 (+1)\n",
      "     - Charisma ( Cha): 10 (+0)\n",
      "\n",
      "    Proficiencies:\n",
      "     - Armor: Light armor, medium armor, shields\n",
      "     - Weapons: Simple weapons, martial weapons\n",
      "     - Skills: Arcana +4, Athletics +2, Medicine +3\n",
      "\n",
      "    Proficiency Bonus: +2\n",
      "     Saving Throws Bonus: Dex +4, Con +4\n",
      "\n",
      "    Hit Points: 39 (6d10 + 12)\n",
      "\n",
      "    Equipment:\n",
      "     - Chain Shirt\n",
      "     - Heavy Crossbow with 20 bolts\n",
      "     - Two Longswords\n",
      "     - Studded Leather Armor\n",
      "     - Dungeoneer's pack\n",
      "     - Leather armor, shield, and 14 bolts (equipped)\n",
      "     - A wand (your magical focus) that can cast spells from the Enchantment and Evocation spell lists\n",
      "\n",
      "    Attack Bonus:\n",
      "     - Longsword: +4\n",
      "     - Heavy Crossbow: +3\n",
      "\n",
      "    Class Features:\n",
      "     - Blaster: Your choice grants you features at 3rd level and again at 7th, 15th, and 20th level. Those features include axiom spells and the Maxim feature.\n",
      "     - Military Tactics: You have advantage on attack rolls while you can see an allied creature with 30 feet of you that isn't incapacitated.\n",
      "     - Axiom: Assault (3rd level): Your spells are designed to disrupt and confuse your opponents. You gain a bonus to damage you deal with wands and cantrips when you are dealing with multiple opponents.\n",
      "     - Superiority Dice (3rd level): You gain a 1d4 die that you can expend to gain a bonus to an ability check, attack roll, or saving throw.\n",
      "\n",
      "    Backstory:\n",
      "    As a seasoned veteran of the Last War, Cameron Calamity Jones has witnessed the horrors of war firsthand. He's a military strategist from the nation of Breland, who once held a high rank in the Cyran army, but his nation is no more. He roams the streets of Sharn as a freelance operative, using his arcane knowledge and combat prowess to advise various factions and protect the citizens of the bustling city.\n",
      "\n",
      "    Intentions:\n",
      "    Jones intends to maintain the peace and order in Sharn while reconnecting with old comrades from the war. At the same time, he's searching for any clue that could help him remember his past and understand more about his transformation into his current form.\n",
      "\n",
      "    Tactics in Combat:\n",
      "    When engaged in combat, Jones focuses on using his agility to avoid enemy attacks while simultaneously targeting high-value opponents with debilitating enchantments. He prefers to fight with a ranged weapon, like the heavy crossbow, but is also skilled with the longsword and isn’t afraid to enter melee combat if necessary.\n",
      "\n",
      "    Visual:\n",
      "    Standing at 6-feet tall, Cameron Calamity Jones has short brown hair with a few grey streaks showing his age, piercing blue eyes, and a scar running down the left side of his face from his brow to his jawline. He wears a chain shirt, studded leather armor, and carries a heavy crossbow slung over his shoulder with a quiver of bolts by his side. When he’s not in combat, he is generally seen with a wand tucked into the bandoleer on his belt, ready at a moment’s notice. The wand itself is an ornate brass staff with intricate engravings, a gift from a comrade in the war. In his spare time, he frequents the pubs in the Tower of Jewels district, a neighborhood famed for its diverse clientele, hoping to spark a memory or two.\n"
     ]
    }
   ],
   "source": [
    "character = generate_character(\"War veteran 3rd level\")\n",
    "print(character)"
   ]
  },
  {
   "cell_type": "code",
   "execution_count": 108,
   "id": "3213e991-1a57-4e9a-bf74-5bdf290536f0",
   "metadata": {},
   "outputs": [
    {
     "name": "stderr",
     "output_type": "stream",
     "text": [
      "[2025-01-20T04:42:21Z WARN  lance_core::utils::tokio] Number of CPUs is less than or equal to the number of IO core reservations. This is not a supported configuration. using 1 CPU for compute intensive tasks.\n",
      "[2025-01-20T04:42:21Z WARN  lance_core::utils::tokio] Number of CPUs is less than or equal to the number of IO core reservations. This is not a supported configuration. using 1 CPU for compute intensive tasks.\n",
      "[2025-01-20T04:42:21Z WARN  lance_core::utils::tokio] Number of CPUs is less than or equal to the number of IO core reservations. This is not a supported configuration. using 1 CPU for compute intensive tasks.\n",
      "[2025-01-20T04:42:21Z WARN  lance_core::utils::tokio] Number of CPUs is less than or equal to the number of IO core reservations. This is not a supported configuration. using 1 CPU for compute intensive tasks.\n",
      "Setting `pad_token_id` to `eos_token_id`:2 for open-end generation.\n"
     ]
    },
    {
     "name": "stdout",
     "output_type": "stream",
     "text": [
      "5th-level Wandslinger (Blaster)\n",
      "    Medium humanoid (human)\n",
      "    Str 10, Dex 14, Con 14, Int 16, Wis 12, Cha 10,\n",
      "    Saving throws Dex +5, Con +5\n",
      "    Skills Arcana +6, Athletics +3, Medicine +4\n",
      "    Hit Dice: 5d10\n",
      "    Proficiencies: Light armor, Medium armor, Shields; Simple weapons, Martial weapons\n",
      "    Senses: passive Perception 11\n",
      "    Languages: Common, Dwarvish\n",
      "\n",
      "    Attributes:\n",
      "    Attack bonus (longbow): +7\n",
      "    Armor Class: 17\n",
      "\n",
      "    Special Features:\n",
      "    True Shot (Gunslinger): You can take a −4 penalty to the attack roll to gain a +10 bonus to the damage roll for that attack.\n",
      "    Assess Foe (Gunslinger): By taking a minute of time to examine your adversary, you can learn information about the adversary and make special moves to gain an advantage in battle.\n",
      "    Magic Ammunition (Gunslinger): You learned to cast spells as a bonus action without using a spell slot and can now imbue your quiver of arrows with a magical power. When you activate this power, select one spell from the list below. The spell can be cast when you use your ammunition to make a ranged attack, but can only be used in a single attack. This ability's effects persist until the weapon is destroyed or discarded or until you use the ability again to imbue a different weapon. Spell Level|Spells\n",
      "    Level 0|acid splash, cause fear (DC 13), disrupt undead, druidcraft, sleep\n",
      "    Level 1|comprehend languages, cure wounds, detect magic, expeditious retreat, hide, identify, oblique, unseen servant\n",
      "    Level 2| darkness, hold person, locate object, scare\n",
      "    Level 3|dispel magic, fly, freedom of movement\n",
      "\n",
      "    Feats:\n",
      "    None\n",
      "\n",
      "    Hit points: Hit Dice: 5d10 + Level = 5d10 + 5 = 30 HP\n",
      "\n",
      "    Weapons and Equipment:\n",
      "    - Longbow: Attack bonus +7, Damage: 1d8 + 4\n",
      "    - 20-arrow quiver\n",
      "    - Short Sword: Attack bonus: +5, Damage: 1d6 + 2\n",
      "    - Studded leather armor (AC 14)\n",
      "    - Dagger: Attack bonus: +3, Damage: 1d4 + 1\n",
      "    - Thieves' tools\n",
      "\n",
      "    Spells (3rd and 5th level spells):\n",
      "    3rd level: Comprehend languages\n",
      "    5th level: Locate object\n",
      "\n",
      "    Backstory:\n",
      "    Born on the streets of Siberys, Cameron Calamity Jones (C.C. to his friends) grew up as an orphan with no other family besides the gang he and his siblings ran with. Sick of the petty crimes they were committing, and tired of living hand to mouth, Cameron stumbled across a curious wand in one of the city's ancient ruins. This wand changed Cameron's life as he learned he had a natural talent with it, and with some help from a retired adventurer, Cameron became proficient with the wand - transforming himself into the city's premier wandslinger.\n",
      "\n",
      "    His performances gained the attention of the city watch, who hired Cameron to assist in dealing with rogue gangs and troublesome thieves, using his magical power for good. But the real test came when the Last War engulfed the continent, and the city of Siberys found itself at the epicenter.\n",
      "\n",
      "    Intentions:\n",
      "    C.C. is torn between the desire to help those in need and the hunger for gold and recognition that comes with the wandslinger career. He longs to do good, but is not above taking a bribe or two when the opportunity arises.\n",
      "\n",
      "    Tactics:\n",
      "    C.C. takes calculated shots, looking to disable or distract opponents before going in for the kill. He can often be found firing off shots from a safe distance, using his Assess Foe skill to predict when his opponents will be the most vulnerable.\n",
      "\n",
      "    Inventory:\n",
      "    - Ring of feather fall\n",
      "    - Wand (Crystal)\n",
      "    - 20 arrows\n",
      "    - Short sword (masterwork)\n",
      "    - Dagger (masterwork)\n",
      "    - Studded leather armor\n",
      "    - Thieves' tools\n",
      "    - Coin purse (1d4 gp)\n",
      "    - Spell components for 3rd-level spell\n",
      "    - Spell components for 5th-level spell\n",
      "    - Adventurer's pack\n",
      "    - Wanderer's supplies (including a waterskin, one day's trail rations, a bedroll, a sack, and flint and steel)\n"
     ]
    }
   ],
   "source": [
    "character = generate_character(\"5th level gunslinger\")\n",
    "print(character)"
   ]
  },
  {
   "cell_type": "markdown",
   "id": "ded79901-81e4-40e1-b0a4-84da7518bed0",
   "metadata": {},
   "source": [
    "# Test Langchain"
   ]
  },
  {
   "cell_type": "code",
   "execution_count": 21,
   "id": "25991044-dff3-4a6a-926f-e6a51501f63d",
   "metadata": {},
   "outputs": [
    {
     "name": "stdout",
     "output_type": "stream",
     "text": [
      "Requirement already satisfied: langchain-huggingface in /usr/local/lib/python3.10/dist-packages (0.1.2)\n",
      "Requirement already satisfied: tokenizers>=0.19.1 in /usr/local/lib/python3.10/dist-packages (from langchain-huggingface) (0.21.0)\n",
      "Requirement already satisfied: sentence-transformers>=2.6.0 in /usr/local/lib/python3.10/dist-packages (from langchain-huggingface) (3.3.1)\n",
      "Requirement already satisfied: langchain-core<0.4.0,>=0.3.15 in /usr/local/lib/python3.10/dist-packages (from langchain-huggingface) (0.3.31)\n",
      "Requirement already satisfied: huggingface-hub>=0.23.0 in /usr/local/lib/python3.10/dist-packages (from langchain-huggingface) (0.27.0.dev0)\n",
      "Requirement already satisfied: transformers>=4.39.0 in /usr/local/lib/python3.10/dist-packages (from langchain-huggingface) (4.48.0.dev0)\n",
      "Requirement already satisfied: fsspec>=2023.5.0 in /usr/local/lib/python3.10/dist-packages (from huggingface-hub>=0.23.0->langchain-huggingface) (2024.6.1)\n",
      "Requirement already satisfied: pyyaml>=5.1 in /usr/local/lib/python3.10/dist-packages (from huggingface-hub>=0.23.0->langchain-huggingface) (6.0.2)\n",
      "Requirement already satisfied: filelock in /usr/local/lib/python3.10/dist-packages (from huggingface-hub>=0.23.0->langchain-huggingface) (3.16.1)\n",
      "Requirement already satisfied: tqdm>=4.42.1 in /usr/local/lib/python3.10/dist-packages (from huggingface-hub>=0.23.0->langchain-huggingface) (4.67.1)\n",
      "Requirement already satisfied: typing-extensions>=3.7.4.3 in /usr/local/lib/python3.10/dist-packages (from huggingface-hub>=0.23.0->langchain-huggingface) (4.12.2)\n",
      "Requirement already satisfied: requests in /usr/local/lib/python3.10/dist-packages (from huggingface-hub>=0.23.0->langchain-huggingface) (2.32.3)\n",
      "Requirement already satisfied: packaging>=20.9 in /usr/local/lib/python3.10/dist-packages (from huggingface-hub>=0.23.0->langchain-huggingface) (24.2)\n",
      "Requirement already satisfied: jsonpatch<2.0,>=1.33 in /usr/local/lib/python3.10/dist-packages (from langchain-core<0.4.0,>=0.3.15->langchain-huggingface) (1.33)\n",
      "Requirement already satisfied: pydantic<3.0.0,>=2.5.2 in /usr/local/lib/python3.10/dist-packages (from langchain-core<0.4.0,>=0.3.15->langchain-huggingface) (2.10.5)\n",
      "Requirement already satisfied: tenacity!=8.4.0,<10.0.0,>=8.1.0 in /usr/local/lib/python3.10/dist-packages (from langchain-core<0.4.0,>=0.3.15->langchain-huggingface) (8.5.0)\n",
      "Requirement already satisfied: langsmith<0.4,>=0.1.125 in /usr/local/lib/python3.10/dist-packages (from langchain-core<0.4.0,>=0.3.15->langchain-huggingface) (0.1.147)\n",
      "Requirement already satisfied: scipy in /usr/local/lib/python3.10/dist-packages (from sentence-transformers>=2.6.0->langchain-huggingface) (1.15.1)\n",
      "Requirement already satisfied: torch>=1.11.0 in /usr/local/lib/python3.10/dist-packages (from sentence-transformers>=2.6.0->langchain-huggingface) (2.4.1)\n",
      "Requirement already satisfied: scikit-learn in /usr/local/lib/python3.10/dist-packages (from sentence-transformers>=2.6.0->langchain-huggingface) (1.6.1)\n",
      "Requirement already satisfied: Pillow in /usr/local/lib/python3.10/dist-packages (from sentence-transformers>=2.6.0->langchain-huggingface) (10.4.0)\n",
      "Requirement already satisfied: numpy>=1.17 in /usr/local/lib/python3.10/dist-packages (from transformers>=4.39.0->langchain-huggingface) (1.26.4)\n",
      "Requirement already satisfied: regex!=2019.12.17 in /usr/local/lib/python3.10/dist-packages (from transformers>=4.39.0->langchain-huggingface) (2024.11.6)\n",
      "Requirement already satisfied: safetensors>=0.4.1 in /usr/local/lib/python3.10/dist-packages (from transformers>=4.39.0->langchain-huggingface) (0.5.2)\n",
      "Requirement already satisfied: jsonpointer>=1.9 in /usr/local/lib/python3.10/dist-packages (from jsonpatch<2.0,>=1.33->langchain-core<0.4.0,>=0.3.15->langchain-huggingface) (3.0.0)\n",
      "Requirement already satisfied: httpx<1,>=0.23.0 in /usr/local/lib/python3.10/dist-packages (from langsmith<0.4,>=0.1.125->langchain-core<0.4.0,>=0.3.15->langchain-huggingface) (0.27.2)\n",
      "Requirement already satisfied: orjson<4.0.0,>=3.9.14 in /usr/local/lib/python3.10/dist-packages (from langsmith<0.4,>=0.1.125->langchain-core<0.4.0,>=0.3.15->langchain-huggingface) (3.10.14)\n",
      "Requirement already satisfied: requests-toolbelt<2.0.0,>=1.0.0 in /usr/local/lib/python3.10/dist-packages (from langsmith<0.4,>=0.1.125->langchain-core<0.4.0,>=0.3.15->langchain-huggingface) (1.0.0)\n",
      "Requirement already satisfied: pydantic-core==2.27.2 in /usr/local/lib/python3.10/dist-packages (from pydantic<3.0.0,>=2.5.2->langchain-core<0.4.0,>=0.3.15->langchain-huggingface) (2.27.2)\n",
      "Requirement already satisfied: annotated-types>=0.6.0 in /usr/local/lib/python3.10/dist-packages (from pydantic<3.0.0,>=2.5.2->langchain-core<0.4.0,>=0.3.15->langchain-huggingface) (0.7.0)\n",
      "Requirement already satisfied: certifi>=2017.4.17 in /usr/local/lib/python3.10/dist-packages (from requests->huggingface-hub>=0.23.0->langchain-huggingface) (2024.12.14)\n",
      "Requirement already satisfied: urllib3<3,>=1.21.1 in /usr/local/lib/python3.10/dist-packages (from requests->huggingface-hub>=0.23.0->langchain-huggingface) (2.3.0)\n",
      "Requirement already satisfied: charset-normalizer<4,>=2 in /usr/local/lib/python3.10/dist-packages (from requests->huggingface-hub>=0.23.0->langchain-huggingface) (3.4.1)\n",
      "Requirement already satisfied: idna<4,>=2.5 in /usr/local/lib/python3.10/dist-packages (from requests->huggingface-hub>=0.23.0->langchain-huggingface) (3.10)\n",
      "Requirement already satisfied: jinja2 in /usr/local/lib/python3.10/dist-packages (from torch>=1.11.0->sentence-transformers>=2.6.0->langchain-huggingface) (3.1.5)\n",
      "Requirement already satisfied: networkx in /usr/local/lib/python3.10/dist-packages (from torch>=1.11.0->sentence-transformers>=2.6.0->langchain-huggingface) (3.4.2)\n",
      "Requirement already satisfied: sympy in /usr/local/lib/python3.10/dist-packages (from torch>=1.11.0->sentence-transformers>=2.6.0->langchain-huggingface) (1.13.3)\n",
      "Requirement already satisfied: nvidia-cuda-runtime-cu12==12.1.105 in /usr/local/lib/python3.10/dist-packages (from torch>=1.11.0->sentence-transformers>=2.6.0->langchain-huggingface) (12.1.105)\n",
      "Requirement already satisfied: nvidia-curand-cu12==10.3.2.106 in /usr/local/lib/python3.10/dist-packages (from torch>=1.11.0->sentence-transformers>=2.6.0->langchain-huggingface) (10.3.2.106)\n",
      "Requirement already satisfied: nvidia-cusolver-cu12==11.4.5.107 in /usr/local/lib/python3.10/dist-packages (from torch>=1.11.0->sentence-transformers>=2.6.0->langchain-huggingface) (11.4.5.107)\n",
      "Requirement already satisfied: nvidia-cusparse-cu12==12.1.0.106 in /usr/local/lib/python3.10/dist-packages (from torch>=1.11.0->sentence-transformers>=2.6.0->langchain-huggingface) (12.1.0.106)\n",
      "Requirement already satisfied: nvidia-cudnn-cu12==9.1.0.70 in /usr/local/lib/python3.10/dist-packages (from torch>=1.11.0->sentence-transformers>=2.6.0->langchain-huggingface) (9.1.0.70)\n",
      "Requirement already satisfied: triton==3.0.0 in /usr/local/lib/python3.10/dist-packages (from torch>=1.11.0->sentence-transformers>=2.6.0->langchain-huggingface) (3.0.0)\n",
      "Requirement already satisfied: nvidia-cuda-nvrtc-cu12==12.1.105 in /usr/local/lib/python3.10/dist-packages (from torch>=1.11.0->sentence-transformers>=2.6.0->langchain-huggingface) (12.1.105)\n",
      "Requirement already satisfied: nvidia-cuda-cupti-cu12==12.1.105 in /usr/local/lib/python3.10/dist-packages (from torch>=1.11.0->sentence-transformers>=2.6.0->langchain-huggingface) (12.1.105)\n",
      "Requirement already satisfied: nvidia-cublas-cu12==12.1.3.1 in /usr/local/lib/python3.10/dist-packages (from torch>=1.11.0->sentence-transformers>=2.6.0->langchain-huggingface) (12.1.3.1)\n",
      "Requirement already satisfied: nvidia-cufft-cu12==11.0.2.54 in /usr/local/lib/python3.10/dist-packages (from torch>=1.11.0->sentence-transformers>=2.6.0->langchain-huggingface) (11.0.2.54)\n",
      "Requirement already satisfied: nvidia-nvtx-cu12==12.1.105 in /usr/local/lib/python3.10/dist-packages (from torch>=1.11.0->sentence-transformers>=2.6.0->langchain-huggingface) (12.1.105)\n",
      "Requirement already satisfied: nvidia-nccl-cu12==2.20.5 in /usr/local/lib/python3.10/dist-packages (from torch>=1.11.0->sentence-transformers>=2.6.0->langchain-huggingface) (2.20.5)\n",
      "Requirement already satisfied: nvidia-nvjitlink-cu12 in /usr/local/lib/python3.10/dist-packages (from nvidia-cusolver-cu12==11.4.5.107->torch>=1.11.0->sentence-transformers>=2.6.0->langchain-huggingface) (12.6.85)\n",
      "Requirement already satisfied: threadpoolctl>=3.1.0 in /usr/local/lib/python3.10/dist-packages (from scikit-learn->sentence-transformers>=2.6.0->langchain-huggingface) (3.5.0)\n",
      "Requirement already satisfied: joblib>=1.2.0 in /usr/local/lib/python3.10/dist-packages (from scikit-learn->sentence-transformers>=2.6.0->langchain-huggingface) (1.4.2)\n",
      "Requirement already satisfied: httpcore==1.* in /usr/local/lib/python3.10/dist-packages (from httpx<1,>=0.23.0->langsmith<0.4,>=0.1.125->langchain-core<0.4.0,>=0.3.15->langchain-huggingface) (1.0.7)\n",
      "Requirement already satisfied: anyio in /usr/local/lib/python3.10/dist-packages (from httpx<1,>=0.23.0->langsmith<0.4,>=0.1.125->langchain-core<0.4.0,>=0.3.15->langchain-huggingface) (4.7.0)\n",
      "Requirement already satisfied: sniffio in /usr/local/lib/python3.10/dist-packages (from httpx<1,>=0.23.0->langsmith<0.4,>=0.1.125->langchain-core<0.4.0,>=0.3.15->langchain-huggingface) (1.3.1)\n",
      "Requirement already satisfied: h11<0.15,>=0.13 in /usr/local/lib/python3.10/dist-packages (from httpcore==1.*->httpx<1,>=0.23.0->langsmith<0.4,>=0.1.125->langchain-core<0.4.0,>=0.3.15->langchain-huggingface) (0.14.0)\n",
      "Requirement already satisfied: MarkupSafe>=2.0 in /usr/local/lib/python3.10/dist-packages (from jinja2->torch>=1.11.0->sentence-transformers>=2.6.0->langchain-huggingface) (3.0.2)\n",
      "Requirement already satisfied: mpmath<1.4,>=1.1.0 in /usr/local/lib/python3.10/dist-packages (from sympy->torch>=1.11.0->sentence-transformers>=2.6.0->langchain-huggingface) (1.3.0)\n",
      "Requirement already satisfied: exceptiongroup>=1.0.2 in /usr/local/lib/python3.10/dist-packages (from anyio->httpx<1,>=0.23.0->langsmith<0.4,>=0.1.125->langchain-core<0.4.0,>=0.3.15->langchain-huggingface) (1.2.2)\n",
      "\u001b[33mWARNING: Running pip as the 'root' user can result in broken permissions and conflicting behaviour with the system package manager. It is recommended to use a virtual environment instead: https://pip.pypa.io/warnings/venv\u001b[0m\u001b[33m\n",
      "\u001b[0m"
     ]
    }
   ],
   "source": [
    "!pip install langchain-huggingface --upgrade"
   ]
  },
  {
   "cell_type": "code",
   "execution_count": 25,
   "id": "31abebbb-82ab-45c8-ae22-186150ddf37a",
   "metadata": {},
   "outputs": [],
   "source": [
    "from langchain_huggingface.llms import HuggingFacePipeline\n",
    "from langchain_core import messages"
   ]
  },
  {
   "cell_type": "code",
   "execution_count": 23,
   "id": "5739b2bd-0daa-4a12-998d-155456bc2b50",
   "metadata": {},
   "outputs": [
    {
     "name": "stdout",
     "output_type": "stream",
     "text": [
      "memory.total [MiB], memory.used [MiB], memory.free [MiB]\n",
      "15360 MiB, 4087 MiB, 11009 MiB\n"
     ]
    }
   ],
   "source": [
    "!nvidia-smi --query-gpu=memory.total,memory.used,memory.free --format=csv"
   ]
  },
  {
   "cell_type": "code",
   "execution_count": 26,
   "id": "08288885-05fc-48c0-8edb-aedf85254b25",
   "metadata": {},
   "outputs": [
    {
     "data": {
      "text/plain": [
       "['AIMessage',\n",
       " 'AIMessageChunk',\n",
       " 'AnyMessage',\n",
       " 'BaseMessage',\n",
       " 'BaseMessageChunk',\n",
       " 'ChatMessage',\n",
       " 'ChatMessageChunk',\n",
       " 'FunctionMessage',\n",
       " 'FunctionMessageChunk',\n",
       " 'HumanMessage',\n",
       " 'HumanMessageChunk',\n",
       " 'InvalidToolCall',\n",
       " 'MessageLikeRepresentation',\n",
       " 'RemoveMessage',\n",
       " 'SystemMessage',\n",
       " 'SystemMessageChunk',\n",
       " 'ToolCall',\n",
       " 'ToolCallChunk',\n",
       " 'ToolMessage',\n",
       " 'ToolMessageChunk',\n",
       " '__all__',\n",
       " '__builtins__',\n",
       " '__cached__',\n",
       " '__doc__',\n",
       " '__file__',\n",
       " '__loader__',\n",
       " '__name__',\n",
       " '__package__',\n",
       " '__path__',\n",
       " '__spec__',\n",
       " '_message_from_dict',\n",
       " 'ai',\n",
       " 'base',\n",
       " 'chat',\n",
       " 'convert_to_messages',\n",
       " 'convert_to_openai_messages',\n",
       " 'filter_messages',\n",
       " 'function',\n",
       " 'get_buffer_string',\n",
       " 'human',\n",
       " 'merge_content',\n",
       " 'merge_message_runs',\n",
       " 'message_chunk_to_message',\n",
       " 'message_to_dict',\n",
       " 'messages_from_dict',\n",
       " 'messages_to_dict',\n",
       " 'modifier',\n",
       " 'system',\n",
       " 'tool',\n",
       " 'trim_messages',\n",
       " 'utils']"
      ]
     },
     "execution_count": 26,
     "metadata": {},
     "output_type": "execute_result"
    }
   ],
   "source": []
  },
  {
   "cell_type": "code",
   "execution_count": null,
   "id": "98bdb943-3c45-463f-a96d-650413800f1d",
   "metadata": {},
   "outputs": [],
   "source": [
    "\n",
    "character_prompter = HuggingFacePipeline.from_model_id(\n",
    "    model_id=model_path,\n",
    "    task=\"text-generation\",\n",
    "    pipeline_kwargs=dict(\n",
    "        max_new_tokens=512,\n",
    "        do_sample=True,\n",
    "        eos_token_id=tokenizer.eos_token_id,\n",
    "    ),\n",
    ")\n",
    "\n"
   ]
  },
  {
   "cell_type": "code",
   "execution_count": null,
   "id": "e3fbaabf-251c-48fb-b799-f01068badbfb",
   "metadata": {},
   "outputs": [],
   "source": [
    "\n",
    "character_generator = HuggingFacePipeline.from_model_id(\n",
    "    model_id=model_path,\n",
    "    task=\"text-generation\",\n",
    "    pipeline_kwargs=dict(\n",
    "        max_new_tokens=512,\n",
    "        do_sample=True,\n",
    "        eos_token_id=tokenizer.eos_token_id,\n",
    "    ),\n",
    ")\n",
    "\n"
   ]
  },
  {
   "cell_type": "code",
   "execution_count": null,
   "id": "964652fd-bf6c-4634-98eb-77cbf3bfe8fe",
   "metadata": {},
   "outputs": [],
   "source": [
    "# from langchain_huggingface.llms import HuggingFacePipeline\n",
    "# from transformers import AutoModelForCausalLM, AutoTokenizer, pipeline\n",
    "\n",
    "# model_id = \"gpt2\"\n",
    "# tokenizer = AutoTokenizer.from_pretrained(model_id)\n",
    "# model = AutoModelForCausalLM.from_pretrained(model_id)\n",
    "# pipe = pipeline(\"text-generation\", model=model, tokenizer=tokenizer, max_new_tokens=10)\n",
    "# hf = HuggingFacePipeline(pipeline=pipe)"
   ]
  },
  {
   "cell_type": "code",
   "execution_count": null,
   "id": "43c7bee8-50cd-4c9d-83d8-33be9c672a57",
   "metadata": {},
   "outputs": [],
   "source": [
    "# from langchain_core.prompts import PromptTemplate\n",
    "\n",
    "# template = \"\"\"Question: {question}\n",
    "\n",
    "# Answer: Let's think step by step.\"\"\"\n",
    "# prompt = PromptTemplate.from_template(template)\n",
    "\n",
    "# chain = prompt | hf\n",
    "\n",
    "# question = \"What is electroencephalography?\"\n",
    "\n",
    "# print(chain.invoke({\"question\": question}))"
   ]
  }
 ],
 "metadata": {
  "kernelspec": {
   "display_name": "Python 3 (ipykernel)",
   "language": "python",
   "name": "python3"
  },
  "language_info": {
   "codemirror_mode": {
    "name": "ipython",
    "version": 3
   },
   "file_extension": ".py",
   "mimetype": "text/x-python",
   "name": "python",
   "nbconvert_exporter": "python",
   "pygments_lexer": "ipython3",
   "version": "3.10.12"
  }
 },
 "nbformat": 4,
 "nbformat_minor": 5
}
