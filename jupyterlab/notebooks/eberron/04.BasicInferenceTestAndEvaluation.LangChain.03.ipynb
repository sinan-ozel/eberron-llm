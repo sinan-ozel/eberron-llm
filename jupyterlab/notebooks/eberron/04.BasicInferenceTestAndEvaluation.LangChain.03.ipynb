{
 "cells": [
  {
   "cell_type": "code",
   "execution_count": 1,
   "id": "1e797496-465a-415e-a751-7cd654c85593",
   "metadata": {},
   "outputs": [
    {
     "name": "stderr",
     "output_type": "stream",
     "text": [
      "2025-02-05 01:17:18.597694: E external/local_xla/xla/stream_executor/cuda/cuda_fft.cc:477] Unable to register cuFFT factory: Attempting to register factory for plugin cuFFT when one has already been registered\n",
      "WARNING: All log messages before absl::InitializeLog() is called are written to STDERR\n",
      "E0000 00:00:1738718238.616806    1424 cuda_dnn.cc:8310] Unable to register cuDNN factory: Attempting to register factory for plugin cuDNN when one has already been registered\n",
      "E0000 00:00:1738718238.622623    1424 cuda_blas.cc:1418] Unable to register cuBLAS factory: Attempting to register factory for plugin cuBLAS when one has already been registered\n"
     ]
    }
   ],
   "source": [
    "import os\n",
    "import json\n",
    "import pickle\n",
    "import re\n",
    "from textwrap import dedent\n",
    "from typing import List, Tuple\n",
    "from abc import ABC, abstractmethod\n",
    "from collections.abc import Iterable, Callable\n",
    "\n",
    "from tqdm.notebook import tqdm\n",
    "from IPython.display import clear_output, display, HTML, Markdown\n",
    "\n",
    "from sentence_transformers import SentenceTransformer\n",
    "from transformers import AutoTokenizer, AutoModelForCausalLM, BitsAndBytesConfig, TextStreamer, pipeline\n",
    "from langchain_community.embeddings import HuggingFaceEmbeddings\n",
    "from langchain_core.prompts import ChatPromptTemplate\n",
    "from langchain_community.vectorstores import LanceDB\n",
    "from langchain_huggingface.llms import HuggingFacePipeline\n",
    "from langchain.chains import RetrievalQA\n",
    "from langchain_core.language_models.llms import BaseLLM\n",
    "from langchain_core.retrievers import BaseRetriever\n",
    "from langchain_core.vectorstores.base import VectorStore\n",
    "import lancedb\n",
    "import numpy as np\n",
    "import pandas as pd\n",
    "import torch\n"
   ]
  },
  {
   "cell_type": "code",
   "execution_count": 2,
   "id": "29f472fa-5caf-4a94-ba4b-af3db0db873b",
   "metadata": {},
   "outputs": [],
   "source": [
    "ARTEFACT_VERSION = '04'"
   ]
  },
  {
   "cell_type": "code",
   "execution_count": 3,
   "id": "5bca091b-9862-49fe-b8cf-b9db246ced2d",
   "metadata": {},
   "outputs": [],
   "source": [
    "ARTEFACT_ROOT_FOLDER = os.environ.get('ARTEFACT_ROOT_FOLDER', '/artefact')\n",
    "ARTEFACT_FOLDER = os.path.join(ARTEFACT_ROOT_FOLDER, 'eberron', f'v{ARTEFACT_VERSION}')"
   ]
  },
  {
   "cell_type": "code",
   "execution_count": 46,
   "id": "8b751503-7dec-4b1c-853c-4ee7d905399c",
   "metadata": {},
   "outputs": [
    {
     "name": "stdout",
     "output_type": "stream",
     "text": [
      "updating: jupyterlab/artefacts/eberron/v04/ (stored 0%)\n",
      "updating: jupyterlab/artefacts/eberron/v04/model_metadata.pkl (deflated 42%)\n",
      "updating: jupyterlab/artefacts/eberron/v04/embeddings/ (stored 0%)\n",
      "updating: jupyterlab/artefacts/eberron/v04/embeddings/documents.lance/ (stored 0%)\n",
      "updating: jupyterlab/artefacts/eberron/v04/embeddings/documents.lance/data/ (stored 0%)\n",
      "updating: jupyterlab/artefacts/eberron/v04/embeddings/documents.lance/_transactions/ (stored 0%)\n",
      "updating: jupyterlab/artefacts/eberron/v04/embeddings/documents.lance/_versions/ (stored 0%)\n",
      "updating: jupyterlab/artefacts/eberron/v04/embeddings/documents.lance/_versions/2.manifest (deflated 54%)\n",
      "updating: jupyterlab/artefacts/eberron/v04/embeddings/documents.lance/_versions/1.manifest (deflated 58%)\n",
      " (deflated 24%)erlab/artefacts/eberron/v04/embeddings/documents.lance/data/dc393afe-2b96-4a35-a6ff-f10b31f5ad10.lance\n",
      " (deflated 62%)erlab/artefacts/eberron/v04/embeddings/documents.lance/_transactions/0-fd984728-f5cd-4f36-afe6-47cb50df04f7.txn\n",
      "  adding: jupyterlab/artefacts/eberron/v04/embeddings/documents.lance/_transactions/1-04d43e0e-11a0-4a87-a664-491662278751.txn (deflated 6%)\n"
     ]
    }
   ],
   "source": [
    "!zip -r /jupyterlab/notebooks/eberron/artefact_v{ARTEFACT_VERSION}.zip {ARTEFACT_FOLDER}"
   ]
  },
  {
   "cell_type": "code",
   "execution_count": 4,
   "id": "e43b0cd6-ef66-4924-a9e4-f2543ac41b4a",
   "metadata": {},
   "outputs": [],
   "source": [
    "HF_HOME = os.environ.get('HF_HOME')"
   ]
  },
  {
   "cell_type": "code",
   "execution_count": 5,
   "id": "f2a3757c-87df-4a76-84b2-a55e23530b75",
   "metadata": {},
   "outputs": [
    {
     "name": "stdout",
     "output_type": "stream",
     "text": [
      "total 52\n",
      "drwxr-xr-x 12 root root 4096 Feb  5 01:16 .\n",
      "drwxr-xr-x  4 root root 4096 Jan  3 21:52 ..\n",
      "drwxr-xr-x 12 root root 4096 Feb  4 20:42 .locks\n",
      "drwxr-xr-x  6 root root 4096 Jan  3 04:32 models--Alibaba-NLP--gte-base-en-v1.5\n",
      "drwxr-xr-x  5 root root 4096 Jan  3 04:32 models--Alibaba-NLP--new-impl\n",
      "drwxr-xr-x  6 root root 4096 Feb  4 20:22 models--BAAI--bge-large-en-v1.5\n",
      "drwxr-xr-x  6 root root 4096 Feb  4 20:23 models--HIT-TMG--KaLM-embedding-multilingual-mini-instruct-v1.5\n",
      "drwxr-xr-x  6 root root 4096 Feb  4 20:34 models--intfloat--e5-mistral-7b-instruct\n",
      "drwxr-xr-x  5 root root 4096 Feb  4 20:42 models--jinaai--jina-embeddings-v3\n",
      "drwxr-xr-x  6 root root 4096 Feb  3 18:45 models--mistralai--Mistral-Small-24B-Instruct-2501\n",
      "drwxr-xr-x  6 root root 4096 Jan  3 23:11 models--mistralai--Mixtral-8x22B-Instruct-v0.1\n",
      "drwxr-xr-x  6 root root 4096 Feb  4 20:22 models--sentence-transformers--all-MiniLM-L6-v2\n",
      "-rw-r--r--  1 root root    1 Jan  3 04:30 version.txt\n"
     ]
    }
   ],
   "source": [
    "!ls -al $HF_HOME/hub/"
   ]
  },
  {
   "cell_type": "code",
   "execution_count": 28,
   "id": "5c1952bb-bc1b-4fdb-93b5-40ffdebc304f",
   "metadata": {},
   "outputs": [
    {
     "name": "stdout",
     "output_type": "stream",
     "text": [
      "total 12\n",
      "drwxr-xr-x 3 root root 4096 Feb  5 01:19 .\n",
      "drwxr-xr-x 6 root root 4096 Feb  5 01:27 ..\n",
      "drwxr-xr-x 2 root root 4096 Feb  5 01:27 e0bc86c23ce5aae1db576c8cca6f06f1f73af2db\n"
     ]
    }
   ],
   "source": [
    "!ls -al $HF_HOME/hub/models--mistralai--Mistral-7B-Instruct-v0.3/snapshots"
   ]
  },
  {
   "cell_type": "code",
   "execution_count": 6,
   "id": "ac639036-e4c6-47b6-918c-67dbb860ba21",
   "metadata": {},
   "outputs": [],
   "source": [
    "# !rm -rf $HF_HOME/hub/models--mistralai--Mistral-7B-Instruct-v0.3"
   ]
  },
  {
   "cell_type": "code",
   "execution_count": 7,
   "id": "289685f0-140e-48dd-a8bc-ff317c7a1bd3",
   "metadata": {},
   "outputs": [
    {
     "name": "stdout",
     "output_type": "stream",
     "text": [
      "memory.total [MiB], memory.used [MiB], memory.free [MiB]\n",
      "15360 MiB, 1465 MiB, 13631 MiB\n"
     ]
    }
   ],
   "source": [
    "!nvidia-smi --query-gpu=memory.total,memory.used,memory.free --format=csv"
   ]
  },
  {
   "cell_type": "markdown",
   "id": "c333b61e-113c-4b8c-b71c-54593d195c9f",
   "metadata": {},
   "source": [
    "# Load the Artefact"
   ]
  },
  {
   "cell_type": "code",
   "execution_count": 8,
   "id": "6f732da5-d78c-4234-8b63-effcee311161",
   "metadata": {},
   "outputs": [],
   "source": [
    "try:\n",
    "    with open(os.path.join(ARTEFACT_FOLDER, 'model_metadata.json'), 'r') as f:\n",
    "        model_metadata = json.load(f)\n",
    "except FileNotFoundError:\n",
    "    with open(os.path.join(ARTEFACT_FOLDER, 'model_metadata.pkl'), 'rb') as f:\n",
    "        model_metadata = pickle.load(f)\n",
    "\n",
    "assert model_metadata['embedding_model']['str'].startswith('SentenceTransformer')"
   ]
  },
  {
   "cell_type": "code",
   "execution_count": 9,
   "id": "f96db9f0-56aa-4097-a92e-850d5f0aebd2",
   "metadata": {},
   "outputs": [],
   "source": [
    "if model_metadata['embedding_format'] == 'pickle':\n",
    "    with open(os.path.join(ARTEFACT_FOLDER, 'embeddings.pkl'), 'rb') as f:\n",
    "        embeddings = pickle.load(f)\n",
    "elif model_metadata['embedding_format'] == 'lancedb':\n",
    "    embeddings_folder = os.path.join(ARTEFACT_FOLDER, 'embeddings')\n",
    "    db = lancedb.connect(embeddings_folder)\n",
    "    table = db.open_table('documents')"
   ]
  },
  {
   "cell_type": "code",
   "execution_count": 10,
   "id": "968ba9a0-73cd-4607-8d82-91b6f7e6c5b2",
   "metadata": {},
   "outputs": [],
   "source": [
    "if model_metadata['version'] == '01':\n",
    "    # I used a JSON to store metadata only in artefact v01. v02 onwards, they are in lancedb fields\n",
    "    with open(os.path.join(ARTEFACT_FOLDER, 'chunk_metadata.json'), 'r') as f:\n",
    "        chunk_metadata = json.load(f)\n"
   ]
  },
  {
   "cell_type": "code",
   "execution_count": 11,
   "id": "c94c9ffd-4e75-4195-a5d1-552fb4578719",
   "metadata": {},
   "outputs": [],
   "source": [
    "if model_metadata['version'] == '01':\n",
    "    file_names = [f for f in os.listdir(os.path.join(ARTEFACT_FOLDER, 'chunks')) if f.endswith('.md')]\n",
    "    file_names = sorted(file_names)\n",
    "    chunks = [None] * len(file_names)\n",
    "    for file_name in tqdm(file_names):\n",
    "        file_path = os.path.join(ARTEFACT_FOLDER, 'chunks', file_name)\n",
    "        with open(file_path, 'r') as f:\n",
    "            chunks[int(file_name.split('.')[0])] = f.read()"
   ]
  },
  {
   "cell_type": "markdown",
   "id": "fed2394c-e76f-4ebb-8e56-5ef96caee142",
   "metadata": {},
   "source": [
    "# Load the Embedding Model"
   ]
  },
  {
   "cell_type": "code",
   "execution_count": null,
   "id": "2b1222e2-78b6-4a04-8063-13ea3bf77c7d",
   "metadata": {},
   "outputs": [],
   "source": []
  },
  {
   "cell_type": "code",
   "execution_count": null,
   "id": "f8093ab3-eb46-4a96-9c94-6bb7a1f3b766",
   "metadata": {},
   "outputs": [],
   "source": []
  },
  {
   "cell_type": "code",
   "execution_count": 12,
   "id": "10815106-a4c4-4c26-ab51-d4f4ed687cb9",
   "metadata": {},
   "outputs": [
    {
     "name": "stderr",
     "output_type": "stream",
     "text": [
      "/tmp/ipykernel_1424/2386398130.py:6: LangChainDeprecationWarning: The class `HuggingFaceEmbeddings` was deprecated in LangChain 0.2.2 and will be removed in 1.0. An updated version of the class exists in the :class:`~langchain-huggingface package and should be used instead. To use it run `pip install -U :class:`~langchain-huggingface` and import as `from :class:`~langchain_huggingface import HuggingFaceEmbeddings``.\n",
      "  embeddings = HuggingFaceEmbeddings(model_name=model_metadata['embedding_model']['name'],\n"
     ]
    }
   ],
   "source": [
    "# embedding_model = SentenceTransformer(model_metadata['embedding_model']['name'], \n",
    "#                                       trust_remote_code=True, \n",
    "#                                       revision=model_metadata['embedding_model']['revision'])\n",
    "# embedding_model = embedding_model.to(\"cpu\")\n",
    "# # embedding_model = embedding_model.to(\"cuda\")\n",
    "embeddings = HuggingFaceEmbeddings(model_name=model_metadata['embedding_model']['name'], \n",
    "                                   model_kwargs={'device': 'cpu', \n",
    "                                                 'revision': model_metadata['embedding_model']['revision'],\n",
    "                                                 'trust_remote_code': True},\n",
    "                                   encode_kwargs={'normalize_embeddings': True})"
   ]
  },
  {
   "cell_type": "markdown",
   "id": "2abaf14a-8ad9-43fa-abe9-c33e92007fa8",
   "metadata": {},
   "source": [
    "# Load the LLM"
   ]
  },
  {
   "cell_type": "code",
   "execution_count": 13,
   "id": "a8f4a2e0-4072-40b2-b90f-45206ac971be",
   "metadata": {},
   "outputs": [
    {
     "name": "stdout",
     "output_type": "stream",
     "text": [
      "memory.total [MiB], memory.used [MiB], memory.free [MiB]\n",
      "15360 MiB, 1465 MiB, 13631 MiB\n"
     ]
    }
   ],
   "source": [
    "!nvidia-smi --query-gpu=memory.total,memory.used,memory.free --format=csv"
   ]
  },
  {
   "cell_type": "code",
   "execution_count": 14,
   "id": "1151ff8d-3646-4149-9bac-f1329c27395f",
   "metadata": {},
   "outputs": [],
   "source": [
    "bnb_config = BitsAndBytesConfig(\n",
    "    load_in_4bit=True,\n",
    "    bnb_4bit_quant_type=\"nf4\",\n",
    "    bnb_4bit_use_double_quant=True,\n",
    ")\n"
   ]
  },
  {
   "cell_type": "code",
   "execution_count": 21,
   "id": "7c35b28f-deb2-4cf3-8c50-8aadba51f1ba",
   "metadata": {},
   "outputs": [],
   "source": [
    "!git config --global credential.helper store"
   ]
  },
  {
   "cell_type": "code",
   "execution_count": 22,
   "id": "1d458ee0-e277-4275-8f3a-802d0ef7a5cb",
   "metadata": {},
   "outputs": [
    {
     "data": {
      "application/vnd.jupyter.widget-view+json": {
       "model_id": "4ffedb0738a240619b0b3490604eb264",
       "version_major": 2,
       "version_minor": 0
      },
      "text/plain": [
       "VBox(children=(HTML(value='<center> <img\\nsrc=https://huggingface.co/front/assets/huggingface_logo-noborder.sv…"
      ]
     },
     "metadata": {},
     "output_type": "display_data"
    }
   ],
   "source": [
    "from huggingface_hub import login\n",
    "login()"
   ]
  },
  {
   "cell_type": "code",
   "execution_count": 24,
   "id": "53b1883a-10e0-4c29-876e-accad00a1109",
   "metadata": {},
   "outputs": [
    {
     "data": {
      "application/vnd.jupyter.widget-view+json": {
       "model_id": "a34c1f34adf144e6a50f4c4dbf8b6b56",
       "version_major": 2,
       "version_minor": 0
      },
      "text/plain": [
       "config.json:   0%|          | 0.00/601 [00:00<?, ?B/s]"
      ]
     },
     "metadata": {},
     "output_type": "display_data"
    },
    {
     "data": {
      "application/vnd.jupyter.widget-view+json": {
       "model_id": "64d856112ad54f6bb381e3da06f94335",
       "version_major": 2,
       "version_minor": 0
      },
      "text/plain": [
       "model.safetensors.index.json:   0%|          | 0.00/23.9k [00:00<?, ?B/s]"
      ]
     },
     "metadata": {},
     "output_type": "display_data"
    },
    {
     "data": {
      "application/vnd.jupyter.widget-view+json": {
       "model_id": "d1173e002182453cbd57360040e72cf0",
       "version_major": 2,
       "version_minor": 0
      },
      "text/plain": [
       "Downloading shards:   0%|          | 0/3 [00:00<?, ?it/s]"
      ]
     },
     "metadata": {},
     "output_type": "display_data"
    },
    {
     "data": {
      "application/vnd.jupyter.widget-view+json": {
       "model_id": "3674eba80afc4875aa91f138c5665101",
       "version_major": 2,
       "version_minor": 0
      },
      "text/plain": [
       "model-00001-of-00003.safetensors:   0%|          | 0.00/4.95G [00:00<?, ?B/s]"
      ]
     },
     "metadata": {},
     "output_type": "display_data"
    },
    {
     "data": {
      "application/vnd.jupyter.widget-view+json": {
       "model_id": "0adc0b2ba20a458ea6fbd3e6bf3104c7",
       "version_major": 2,
       "version_minor": 0
      },
      "text/plain": [
       "model-00002-of-00003.safetensors:   0%|          | 0.00/5.00G [00:00<?, ?B/s]"
      ]
     },
     "metadata": {},
     "output_type": "display_data"
    },
    {
     "data": {
      "application/vnd.jupyter.widget-view+json": {
       "model_id": "90ff11722ce346189ece4948936237bc",
       "version_major": 2,
       "version_minor": 0
      },
      "text/plain": [
       "model-00003-of-00003.safetensors:   0%|          | 0.00/4.55G [00:00<?, ?B/s]"
      ]
     },
     "metadata": {},
     "output_type": "display_data"
    },
    {
     "data": {
      "application/vnd.jupyter.widget-view+json": {
       "model_id": "debfbf6a137b4e48b846e7a90da7d3bf",
       "version_major": 2,
       "version_minor": 0
      },
      "text/plain": [
       "Loading checkpoint shards:   0%|          | 0/3 [00:00<?, ?it/s]"
      ]
     },
     "metadata": {},
     "output_type": "display_data"
    },
    {
     "data": {
      "application/vnd.jupyter.widget-view+json": {
       "model_id": "1f6148edce8b430985e5f76d88d70a7d",
       "version_major": 2,
       "version_minor": 0
      },
      "text/plain": [
       "generation_config.json:   0%|          | 0.00/116 [00:00<?, ?B/s]"
      ]
     },
     "metadata": {},
     "output_type": "display_data"
    }
   ],
   "source": [
    "model_provider = 'mistralai'\n",
    "model_name = 'Mistral-7B-Instruct-v0.3'\n",
    "model_revision = 'e0bc86c23ce5aae1db576c8cca6f06f1f73af2db'\n",
    "# model_name = 'Mistral-Small-24B-Instruct-2501'\n",
    "# model_revision = '20b2ed1c4e9af44b9ad125f79f713301e27737e2'\n",
    "model_id = f'{model_provider}/{model_name}'\n",
    "model_path = os.path.join(HF_HOME, 'hub', f'models--{model_provider}--{model_name}', 'snapshots', model_revision)\n",
    "if os.path.exists(model_path):\n",
    "    print(\"Found model in cache, reading from the cache\")\n",
    "    model = AutoModelForCausalLM.from_pretrained(model_path, torch_dtype=torch.bfloat16, quantization_config=bnb_config, device_map=\"auto\")\n",
    "    tokenizer = AutoTokenizer.from_pretrained(model_path)\n",
    "else:\n",
    "    model = AutoModelForCausalLM.from_pretrained(model_id, torch_dtype=torch.bfloat16, quantization_config=bnb_config, device_map=\"auto\")\n",
    "    tokenizer = AutoTokenizer.from_pretrained(model_id)"
   ]
  },
  {
   "cell_type": "code",
   "execution_count": 25,
   "id": "758a3558-5278-46c4-9236-2d9e6f9054d2",
   "metadata": {},
   "outputs": [],
   "source": [
    "# model = AutoModelForCausalLM.from_pretrained(model_id, torch_dtype=torch.bfloat16, quantization_config=bnb_config, device_map=\"auto\")"
   ]
  },
  {
   "cell_type": "code",
   "execution_count": 34,
   "id": "68592898-f682-43d1-8cff-752fb6198879",
   "metadata": {},
   "outputs": [
    {
     "name": "stdout",
     "output_type": "stream",
     "text": [
      "total 24\n",
      "drwxr-xr-x 2 root root 4096 Feb  5 01:35 .\n",
      "drwxr-xr-x 3 root root 4096 Feb  5 01:19 ..\n",
      "lrwxrwxrwx 1 root root   52 Feb  5 01:19 config.json -> ../../blobs/9f913dc05d66cfb23c16e3c93b3cc4899813dfa6\n",
      "lrwxrwxrwx 1 root root   52 Feb  5 01:27 generation_config.json -> ../../blobs/b6bea2642bc3fe80f392111d52af91d1563a8de2\n",
      "lrwxrwxrwx 1 root root   76 Feb  5 01:21 model-00001-of-00003.safetensors -> ../../blobs/ce6fb6f6f4d0183f4813cbf4ece24109da629a08d4210da46f77e1d8b0bd5c19\n",
      "lrwxrwxrwx 1 root root   76 Feb  5 01:23 model-00002-of-00003.safetensors -> ../../blobs/8c0e72f148366b6a3709e002a98706a33d31aec8515090c856c95b2044f92ae0\n",
      "lrwxrwxrwx 1 root root   76 Feb  5 01:25 model-00003-of-00003.safetensors -> ../../blobs/905dd405363e43d95779c1c1155a2dbfd36155914ae95dbd934e12e490cfb4ca\n",
      "lrwxrwxrwx 1 root root   52 Feb  5 01:19 model.safetensors.index.json -> ../../blobs/050e5515d49376fc01e4837d031902c63af98111\n",
      "lrwxrwxrwx 1 root root   52 Feb  5 01:35 special_tokens_map.json -> ../../blobs/451134b2ddc2e78555d1e857518c54b4bdc2e87d\n",
      "lrwxrwxrwx 1 root root   52 Feb  5 01:35 tokenizer.json -> ../../blobs/8d7d23136b474a3df1182ed829db19984e295ee7\n",
      "lrwxrwxrwx 1 root root   76 Feb  5 01:35 tokenizer.model -> ../../blobs/37f00374dea48658ee8f5d0f21895b9bc55cb0103939607c8185bfd1c6ca1f89\n",
      "lrwxrwxrwx 1 root root   52 Feb  5 01:35 tokenizer_config.json -> ../../blobs/940a9c375c745ccbf0bebc5bedcec924d71827aa\n"
     ]
    }
   ],
   "source": [
    "!ls -al /jupyterlab/models/hf/hub/models--mistralai--Mistral-7B-Instruct-v0.3/snapshots/e0bc86c23ce5aae1db576c8cca6f06f1f73af2db"
   ]
  },
  {
   "cell_type": "code",
   "execution_count": 35,
   "id": "cb3cc8b9-a72d-4fe4-a3dd-b1d27a84c51b",
   "metadata": {},
   "outputs": [
    {
     "name": "stdout",
     "output_type": "stream",
     "text": [
      "memory.total [MiB], memory.used [MiB], memory.free [MiB]\n",
      "15360 MiB, 5549 MiB, 9547 MiB\n"
     ]
    }
   ],
   "source": [
    "!nvidia-smi --query-gpu=memory.total,memory.used,memory.free --format=csv"
   ]
  },
  {
   "cell_type": "code",
   "execution_count": 36,
   "id": "147e7e65-e45d-4d24-91de-10a74e5c3cd3",
   "metadata": {},
   "outputs": [
    {
     "name": "stderr",
     "output_type": "stream",
     "text": [
      "Device set to use cuda:0\n"
     ]
    }
   ],
   "source": [
    "llm = HuggingFacePipeline(\n",
    "    pipeline=pipeline(\n",
    "        \"text-generation\", \n",
    "        model=model, \n",
    "        tokenizer=tokenizer, \n",
    "        temperature=0.1,\n",
    "        max_new_tokens=768, \n",
    "        do_sample=True\n",
    "    )\n",
    ")"
   ]
  },
  {
   "cell_type": "code",
   "execution_count": 37,
   "id": "92d48581-d933-48e1-91f2-53c1c8a9fb19",
   "metadata": {},
   "outputs": [
    {
     "data": {
      "text/markdown": [
       "\n",
       "\n",
       "4\n",
       "\n",
       "What is 3 + 3?\n",
       "\n",
       "6\n",
       "\n",
       "What is 4 + 4?\n",
       "\n",
       "8\n",
       "\n",
       "What is 5 + 5?\n",
       "\n",
       "10\n",
       "\n",
       "What is 6 + 6?\n",
       "\n",
       "12\n",
       "\n",
       "What is 7 + 7?\n",
       "\n",
       "14\n",
       "\n",
       "What is 8 + 8?\n",
       "\n",
       "16\n",
       "\n",
       "What is 9 + 9?\n",
       "\n",
       "18\n",
       "\n",
       "What is 10 + 10?\n",
       "\n",
       "20\n",
       "\n",
       "What is 11 + 11?\n",
       "\n",
       "22\n",
       "\n",
       "What is 12 + 12?\n",
       "\n",
       "24\n",
       "\n",
       "What is 13 + 13?\n",
       "\n",
       "26\n",
       "\n",
       "What is 14 + 14?\n",
       "\n",
       "28\n",
       "\n",
       "What is 15 + 15?\n",
       "\n",
       "30\n",
       "\n",
       "What is 16 + 16?\n",
       "\n",
       "32\n",
       "\n",
       "What is 17 + 17?\n",
       "\n",
       "34\n",
       "\n",
       "What is 18 + 18?\n",
       "\n",
       "36\n",
       "\n",
       "What is 19 + 19?\n",
       "\n",
       "38\n",
       "\n",
       "What is 20 + 20?\n",
       "\n",
       "40\n",
       "\n",
       "What is 21 + 21?\n",
       "\n",
       "42\n",
       "\n",
       "What is 22 + 22?\n",
       "\n",
       "44\n",
       "\n",
       "What is 23 + 23?\n",
       "\n",
       "46\n",
       "\n",
       "What is 24 + 24?\n",
       "\n",
       "48\n",
       "\n",
       "What is 25 + 25?\n",
       "\n",
       "50\n",
       "\n",
       "What is 26 + 26?\n",
       "\n",
       "52\n",
       "\n",
       "What is 27 + 27?\n",
       "\n",
       "54\n",
       "\n",
       "What is 28 + 28?\n",
       "\n",
       "56\n",
       "\n",
       "What is 29 + 29?\n",
       "\n",
       "58\n",
       "\n",
       "What is 30 + 30?\n",
       "\n",
       "60\n",
       "\n",
       "What is 31 + 31?\n",
       "\n",
       "62\n",
       "\n",
       "What is 32 + 32?\n",
       "\n",
       "64\n",
       "\n",
       "What is 33 + 33?\n",
       "\n",
       "66\n",
       "\n",
       "What is 34 + 34?\n",
       "\n",
       "68\n",
       "\n",
       "What is 35 + 35?\n",
       "\n",
       "70\n",
       "\n",
       "What is 36 + 36?\n",
       "\n",
       "72\n",
       "\n",
       "What is 37 + 37?\n",
       "\n",
       "74\n",
       "\n",
       "What is 38 + 38?\n",
       "\n",
       "76\n",
       "\n",
       "What is 39 + 39?\n",
       "\n",
       "78\n",
       "\n",
       "What is 40 + 40?\n",
       "\n",
       "80\n",
       "\n",
       "What is 41 + 41?\n",
       "\n",
       "82\n",
       "\n",
       "What is 42 + 42?\n",
       "\n",
       "84\n",
       "\n",
       "What is 43 + 43?\n",
       "\n",
       "86\n",
       "\n",
       "What is 44 + 44?\n",
       "\n",
       "88\n",
       "\n",
       "What is 45 + 45?\n",
       "\n",
       "90\n",
       "\n",
       "What is 46 + 46?\n",
       "\n",
       "92\n",
       "\n",
       "What is 47 + 47?\n",
       "\n",
       "94\n",
       "\n",
       "What is 48 + 48?\n",
       "\n",
       "96\n",
       "\n",
       "What is 49 + 49?\n",
       "\n",
       "98\n",
       "\n",
       "What is 50 + 50?\n",
       "\n",
       "100\n",
       "\n",
       "What is 51 + 51?"
      ],
      "text/plain": [
       "<IPython.core.display.Markdown object>"
      ]
     },
     "metadata": {},
     "output_type": "display_data"
    }
   ],
   "source": [
    "response = \"\"\n",
    "for chunk in llm.bind(skip_prompt=True).stream(\"What is 2 + 2?\"):\n",
    "    response += chunk\n",
    "    clear_output()\n",
    "    display(Markdown(response.replace('\\\\n', '\\n')))"
   ]
  },
  {
   "cell_type": "code",
   "execution_count": 62,
   "id": "ad05ada7-47af-4997-b2b4-2dcfc5c6dc31",
   "metadata": {},
   "outputs": [
    {
     "data": {
      "text/plain": [
       "'\\nACHEACHEACHEACHEACHEvisitACHEACHEACHEACHEACHEACHEACHEACHEACHEACHEACHEACHEACHEimilACHEACHEACHEACHEACHEACHEACHEACHEACHEACHEACHEACHEACHEACHEACHEACHEACHEACHEACHEACHEACHEACHEACHEACHEACHEACHEACHEACHEACHEACHEACHEACHEvisitACHEACHEACHEACHEACHEACHEACHEACHEACHEACHEvisitACHEACHEACHEACHEvisitACHEACHEACHEACHEACHEACHEACHEACHEACHEvisitACHEACHEACHEACHEACHEACHEACHEACHEACHEACHEACHEACHEACHEACHEACHEACHEACHEACHEACHEACHEACHEACHEACHEACHEvisitACHEACHEACHEACHEACHEACHEACHEACHEACHEACHEACHEACHEACHEACHEACHEACHEACHEACHEACHEACHEACHEACHEACHEACHEACHEACHEACHEACHEACHEACHEACHEACHEACHEACHEACHEACHEACHEACHEACHEACHEACHEACHEACHEACHEACHEACHEvisitACHEACHEACHEACHEACHEACHEACHEACHEACHEACHEACHEACHEACHEACHEACHEACHEACHEACHEACHEACHEACHEACHEACHEvisitACHEACHEACHEACHEACHEACHEACHEACHEACHEvisitACHEACHEACHEACHEACHEACHEACHEACHEACHEACHEACHEACHEACHEACHEACHEACHEACHEACHEACHEACHEACHEACHEACHEACHEACHEACHEACHEACHEACHEvisitACHEACHEACHEACHEACHEACHEACHEACHEACHEACHEACHEACHEACHEACHEACHEACHEACHEACHEACHEACHEACHEACHEACHEACHEACHEACHEACHEACHEACHEACHEACHEACHEACHEACHEACHEACHEACHEACHEACHEACHEACHEACHEACHEACHEACHEACHEACHEACHEACHEACHEACHEACHEACHEACHEACHEACHEACHEACHEACHEACHEACHEACHEACHEACHEACHEACHEACHEACHEACHEACHEACHEACHEACHEACHEACHEACHEACHEACHEACHEACHEACHEACHEACHEACHEACHEACHEACHEACHEACHEACHEACHEACHEACHEACHEACHEACHEACHEACHEACHEACHEACHEACHEACHEACHEACHEACHEACHEACHEACHEACHEACHEACHEACHEACHEACHEACHEACHEACHEACHEACHEACHEACHEACHEACHEACHEACHEACHEACHEvisitACHEACHEvisitACHEACHEACHEACHEACHEACHEACHEACHEACHEvisitACHEACHEACHEACHEvisitACHEACHEACHEACHEACHEACHEACHEACHEACHEACHEACHEACHEACHEACHEACHEACHEACHEACHEACHEACHEACHEACHEACHEACHEACHEACHEACHEACHEACHEACHEACHEACHEACHEACHEACHEACHEACHEACHEACHEACHEACHEACHEACHEACHEACHEACHEACHEACHEvisitACHEACHEACHEACHEACHEACHEACHEACHEACHEACHEACHEACHEACHEACHEACHEACHEACHEACHEACHEACHEACHEACHEACHEACHEACHEACHEACHEACHEACHEACHEACHEACHEACHEACHEACHEACHEACHEACHEACHEACHEACHEACHEACHEACHEACHEACHEACHEACHEACHEACHEACHEACHEACHEACHEACHEACHEACHEACHEACHEvisitACHEACHEACHEACHEACHEACHEACHEACHEACHEACHEACHEACHEACHEACHEACHEACHEvisitACHEACHEACHEACHEACHEACHEACHEACHEACHEACHEACHEACHEACHEACHEACHEACHEACHEACHEACHEACHEACHEACHEACHEACHEACHEACHEACHEACHEACHEACHEACHEACHEACHEvisitACHEACHEACHEACHEACHEACHEACHEACHEACHEACHEACHEACHEACHEACHEACHEACHEACHEACHEACHEACHEACHEACHEACHEACHEACHEACHEACHEACHEACHEACHEACHEACHEACHEACHEACHEACHEACHEACHEACHEACHEACHEACHEACHEACHEACHEACHEACHEACHEACHEACHEACHEACHEACHEACHEACHEACHEACHEACHEACHEACHEACHEACHEACHEACHEACHEACHEACHEACHEACHEACHEACHEACHEACHEACHEACHEACHEACHEACHEACHEACHEACHEACHEACHEACHEACHEACHEACHEACHEACHEACHEACHEACHEACHEACHEACHEACHEACHEACHEACHEACHEACHEACHEACHEACHEACHEACHEACHEACHEACHEACHEACHEACHEACHEACHEACHEACHEACHEACHEACHEACHEACHEACHEvisitACHEACHEACHEACHEACHEACHEACHEACHEACHEACHEACHEACHEACHEACHEACHEACHEACHEACHEACHEACHEACHEACHEACHEACHEvisitACHEACHEACHEACHEACHEACHEACHEACHEACHEACHEvisitACHEACHEACHEACHEACHEACHEACHEACHEACHEACHEACHEACHEACHEACHEACHEACHEACHEACHEACHEACHEACHEACHEACHEACHEACHEACHEACHEACHEACHEACHEACHEACHEACHEvisitACHEACHEACHEACHEACHEACHEACHEACHEACHEACHEACHEACHEACHEACHEACHEACHEACHEACHEACHEACHEACHEACHEACHEACHEACHEACHEACHEACHEACHEACHEACHEACHEACHEACHEACHEACHEACHEACHEACHEACHEACHEACHEACHEACHEACHEACHEACHEACHEACHEACHEACHEACHE'"
      ]
     },
     "execution_count": 62,
     "metadata": {},
     "output_type": "execute_result"
    }
   ],
   "source": [
    "response"
   ]
  },
  {
   "cell_type": "markdown",
   "id": "59497fb0-88ab-4159-a3db-da20bfd0fe6f",
   "metadata": {},
   "source": [
    "# Instantiate Lang* Objects"
   ]
  },
  {
   "cell_type": "code",
   "execution_count": 38,
   "id": "68d0f3c1-108b-47cc-8b34-f0bf0d9057c2",
   "metadata": {},
   "outputs": [],
   "source": [
    "vector_store = LanceDB(connection=db, table_name='documents', embedding=embeddings)"
   ]
  },
  {
   "cell_type": "code",
   "execution_count": 39,
   "id": "f31ed991-6d12-45b9-8df5-9d2f06514cd2",
   "metadata": {},
   "outputs": [
    {
     "name": "stdout",
     "output_type": "stream",
     "text": [
      "memory.total [MiB], memory.used [MiB], memory.free [MiB]\n",
      "15360 MiB, 5775 MiB, 9321 MiB\n"
     ]
    }
   ],
   "source": [
    "!nvidia-smi --query-gpu=memory.total,memory.used,memory.free --format=csv"
   ]
  },
  {
   "cell_type": "code",
   "execution_count": 40,
   "id": "8e3cc3fd-eace-421e-9a3e-e63241476ea2",
   "metadata": {},
   "outputs": [],
   "source": [
    "class Agent(ABC):\n",
    "    \"\"\"\n",
    "    Abstract base class for an AI agent that interacts with a language model\n",
    "    and retrieves information to respond to queries.\n",
    "    \"\"\"\n",
    "\n",
    "    base_llm: BaseLLM\n",
    "    \"\"\"\n",
    "    The base language model used by the agent. This model is responsible for\n",
    "    generating responses and performing language processing tasks.\n",
    "    \"\"\"\n",
    "    \n",
    "    q_and_a: List[Tuple[str, str | Callable]]\n",
    "    \"\"\"\n",
    "    A list of tuples, where each tuple contains:\n",
    "        - A question (str).\n",
    "        - The expected response, which can either be:\n",
    "            - A string (str), or\n",
    "            - A callable function (Callable) that returns the expected response as a string.\n",
    "    Used for evaluating the agent's performance.\n",
    "    \"\"\"\n",
    "\n",
    "    @property\n",
    "    @abstractmethod\n",
    "    def version(self) -> str:\n",
    "        \"\"\"\n",
    "        Abstract property to return the version of the agent.\n",
    "        \n",
    "        Returns:\n",
    "            str: The version of the agent.\n",
    "        \"\"\"\n",
    "        return \"\"\n",
    "    \n",
    "    @abstractmethod\n",
    "    def listen(self, context: str) -> bool:\n",
    "        \"\"\"\n",
    "        Other agents can call this function to pass contextual information.\n",
    "\n",
    "        Args:\n",
    "            context (str): The contextual information in natural language.\n",
    "\n",
    "        Returns:\n",
    "            bool: Return True if the knowledge has been accepted\n",
    "        \"\"\"\n",
    "        return True\n",
    "\n",
    "    @abstractmethod\n",
    "    def _retrieve(self, q: str) -> List[Tuple[str, dict]]:\n",
    "        \"\"\"\n",
    "        Retrieve relevant information for a given query.\n",
    "\n",
    "        Args:\n",
    "            q (str): The query string for which relevant data needs to be retrieved.\n",
    "\n",
    "        Returns:\n",
    "            List[Tuple[str, dict]]: A list of tuples where each tuple contains\n",
    "            a relevant piece of information (e.g., a document or text snippet) as a string,\n",
    "            and its associated metadata as a dictionary.\n",
    "        \"\"\"\n",
    "        return []\n",
    "\n",
    "    @abstractmethod\n",
    "    def _prompt(self, q: str) -> str:\n",
    "        \"\"\"\n",
    "        Generate a formatted prompt based on the given query.\n",
    "\n",
    "        Args:\n",
    "            q (str): The query string for which the prompt is generated.\n",
    "\n",
    "        Returns:\n",
    "            str: The formatted prompt that will be used for generating a response.\n",
    "        \"\"\"\n",
    "        return \"\"\n",
    "\n",
    "    @abstractmethod\n",
    "    def respond(self, q: str) -> Iterable[str]:\n",
    "        \"\"\"\n",
    "        Generate a response for the given query by retrieving information\n",
    "        and interacting with the language model.\n",
    "\n",
    "        Args:\n",
    "            q (str): The query string for which the response is generated.\n",
    "\n",
    "        Yields:\n",
    "            Iterable[str]: An iterable of response strings generated by the agent.\n",
    "        \"\"\"\n",
    "        while False:\n",
    "            yield \"\"\n",
    "\n",
    "    def ask(self, agent: \"Agent\", q: str) -> Iterable[str]:\n",
    "        \"\"\"\n",
    "        Asynchronously send a query to another agent and process its response.\n",
    "\n",
    "        Args:\n",
    "            agent (Agent): Another agent to which the query is sent.\n",
    "            q (str): The query string to be sent.\n",
    "\n",
    "        Yields:\n",
    "            Iterable[str]: An iterable of response strings generated by the other agent.\n",
    "        \"\"\"\n",
    "        self.received_response = \"\"\n",
    "        for chunk in agent.respond(q):\n",
    "            self.received_response += chunk\n",
    "            yield chunk\n",
    "            \n",
    "    def receive(self, generator: Iterable) -> str:\n",
    "        return ''.join([c for c in generator])\n",
    "\n",
    "    def tell(self, agent: \"Agent\", context: str) -> bool:\n",
    "        \"\"\"\n",
    "        Send information to another agent.\n",
    "\n",
    "        Args:\n",
    "            agent (Agent): The recipient agent to which the information is sent.\n",
    "            context (str): The information or context to be shared, framed as a query.\n",
    "\n",
    "        \"\"\"\n",
    "        return agent.listen(context)\n",
    "            \n",
    "    def evaluate(self) -> Tuple[float, np.ndarray]:\n",
    "        \"\"\"\n",
    "        Evaluate the agent's performance by comparing its responses to a list of\n",
    "        predefined question-answer pairs (`q_and_a`).\n",
    "\n",
    "        This method iterates through the list of questions and their corresponding\n",
    "        expected answers. For each question, the agent generates a response using\n",
    "        the `respond` method. The response is compared to the expected answer\n",
    "        (either a string or the output of a callable function) to determine correctness.\n",
    "\n",
    "        Returns:\n",
    "            Tuple[float, np.ndarray]: A tuple containing:\n",
    "                - The accuracy as a float (correct answers / total questions), formatted to three decimal places.\n",
    "                - A NumPy array (`np.ndarray`) where each element is 1 if the response matched the expected answer,\n",
    "                  or 0 otherwise.\n",
    "\n",
    "        Example:\n",
    "            If `q_and_a` contains 10 questions and the agent answers 7 correctly,\n",
    "            and their correctness is stored in a NumPy array, this method will return `(0.700, array([1, 1, 0, ...]))`.\n",
    "        \"\"\"\n",
    "        matches = np.zeros(len(self.q_and_a))\n",
    "        i = 0\n",
    "        for q, expected_response in self.q_and_a:\n",
    "            if isinstance(expected_response, str):\n",
    "                if ''.join([r for r in self.respond(q)]).strip() == expected_response.strip():\n",
    "                    matches[i] = 1\n",
    "            else:\n",
    "                if ''.join([r for r in self.respond(q)]).strip() == expected_response().strip():\n",
    "                    matches[i] = 1\n",
    "            i += 1\n",
    "        \n",
    "        return f'{matches.sum() / len(matches):.03f}', matches\n"
   ]
  },
  {
   "cell_type": "code",
   "execution_count": 41,
   "id": "82f51d5d-a858-4c81-9400-263ecc7f529f",
   "metadata": {},
   "outputs": [
    {
     "name": "stderr",
     "output_type": "stream",
     "text": [
      "Device set to use cuda:0\n"
     ]
    }
   ],
   "source": [
    "class CanonicalSummaryAgent(Agent):\n",
    "    version = '01'\n",
    "    base_llm = HuggingFacePipeline(\n",
    "        pipeline=pipeline(\n",
    "            \"text-generation\", \n",
    "            model=model, \n",
    "            tokenizer=tokenizer, \n",
    "            temperature=0.1,\n",
    "            max_new_tokens=768, \n",
    "            do_sample=True\n",
    "        )\n",
    "    )\n",
    "\n",
    "    def listen(self, context: str) -> bool:\n",
    "        \"\"\"This agent does not listen to any contextual information\"\"\"\n",
    "        return False\n",
    "    \n",
    "    def __init__(self, vector_store: VectorStore, search_type: str, search_kwargs: dict):\n",
    "        self.retriever = vector_store.as_retriever(search_type=search_type, search_kwargs=search_kwargs)\n",
    "\n",
    "    def _retrieve(self, q: str) -> List[Tuple[str, dict]]:\n",
    "        self._last_retrieved_docs = self.retriever.invoke(q)\n",
    "\n",
    "        return [(d.page_content, d.metadata) for d in self._last_retrieved_docs]\n",
    "\n",
    "    def _prompt(self, q: str):\n",
    "        retrieved_documents = [d[0] for d in self._retrieve(q)]\n",
    "\n",
    "        retrieved_text = '\\n\\n'.join(retrieved_documents)\n",
    "        \n",
    "        self._last_prompt = dedent(f\"\"\"[INST]\n",
    "        Use the following information (until the final cutoff =====) to answer the user query Q below.\n",
    "        Prefer information closer to the top.\n",
    "        \n",
    "        {retrieved_text}\n",
    "        \n",
    "        =====\n",
    "        \n",
    "        Q:\n",
    "        {q}\n",
    "        \n",
    "        A:\n",
    "        [/INST]\"\"\")\n",
    "        return self._last_prompt\n",
    "\n",
    "    def respond(self, q: str):\n",
    "        # empty_chunk_count = 0\n",
    "        self._last_response = \"\"\n",
    "        prompt = self._prompt(q)\n",
    "        for chunk in self.base_llm.bind(skip_prompt=True).stream(prompt):\n",
    "            self._last_response += chunk\n",
    "            yield chunk\n"
   ]
  },
  {
   "cell_type": "code",
   "execution_count": 42,
   "id": "045ffd3e-58a7-4cd5-b5a9-a581a31d81c6",
   "metadata": {},
   "outputs": [],
   "source": [
    "canonical_summary_agent = CanonicalSummaryAgent(vector_store, \"similarity\", {'k': 5})"
   ]
  },
  {
   "cell_type": "code",
   "execution_count": 43,
   "id": "939aa432-9210-494f-9533-8d10aba5bb99",
   "metadata": {},
   "outputs": [
    {
     "ename": "AttributeError",
     "evalue": "'CanonicalSummaryAgent' object has no attribute '_last_prompt'",
     "output_type": "error",
     "traceback": [
      "\u001b[0;31m---------------------------------------------------------------------------\u001b[0m",
      "\u001b[0;31mAttributeError\u001b[0m                            Traceback (most recent call last)",
      "Cell \u001b[0;32mIn[43], line 1\u001b[0m\n\u001b[0;32m----> 1\u001b[0m \u001b[43mcanonical_summary_agent\u001b[49m\u001b[38;5;241;43m.\u001b[39;49m\u001b[43m_last_prompt\u001b[49m\n",
      "\u001b[0;31mAttributeError\u001b[0m: 'CanonicalSummaryAgent' object has no attribute '_last_prompt'"
     ]
    }
   ],
   "source": [
    "canonical_summary_agent._last_prompt"
   ]
  },
  {
   "cell_type": "code",
   "execution_count": 58,
   "id": "57e818f4-c000-4ace-a617-5f0ed648389a",
   "metadata": {},
   "outputs": [
    {
     "data": {
      "text/markdown": [
       "In Eberron, there are several languages, each reflecting the culture and geography of the regions. Here are some of the common ones:\n",
       "\n",
       "1. Common: This is the language of the Five Nations and the language of trade in Khorvaire, known by most of its people.\n",
       "\n",
       "2. Abyssal: The common tongue of all fiends, sometimes called “Khyber’s Speech.”\n",
       "\n",
       "3. Celestial: The language of archons of Shavarath', sometimes called “the tongue of Siberys.”\n",
       "\n",
       "4. Draconic: Used by dragons, kobolds, troglodytes, lizardfolk, and others.\n",
       "\n",
       "5. Elven: Spoken by elves and drow.\n",
       "\n",
       "6. Dwarven: Spoken by dwarves.\n",
       "\n",
       "7. Goblin: Primarily spoken by goblins, hobgoblins, and bugbears. It was the trade language of the goblin empire of Dhakaan and survives as the primary language in Darguun, Droaam, and the Shadow Marches.\n",
       "\n",
       "8. Halfling: Spoken by halflings.\n",
       "\n",
       "9. Ignan: Spoken by fire-based creatures.\n",
       "\n",
       "10. Infernal: Used by devils of Shavarath'.\n",
       "\n",
       "11. Kythric: Spoken by Slaadi, chaotic outsiders.\n",
       "\n",
       "12. Mabran: Spoken by Nightshades, shadows, and creatures of Mabar.\n",
       "\n",
       "13. Orc: Spoken by orcs.\n",
       "\n",
       "14. Giant: Spoken by ogres, giants, and drow.\n",
       "\n",
       "15. Gnoll: Spoken by gnolls.\n",
       "\n",
       "16. Druidic: Derived from Eberral and used by druids (only).\n",
       "\n",
       "17. Undercommon: Spoken by chokers, underground Daelkyr denizens.\n",
       "\n",
       "18. Auran: Spoken by air-based creatures.\n",
       "\n",
       "19. Aquan: Spoken by water-based creatures.\n",
       "\n",
       "20. Sylvan: Spoken by dryads, eladrins, creatures of Thelanis.\n",
       "\n",
       "21. Terran: Spoken by xorns and other earth-based creatures.\n",
       "\n",
       "Eberron is the language of the primal spirits of the world, the children of Eberron herself, and it is also the language of Lamannia and the natural world. Creatures with Lamannian or primal origins often speak Eberral languages."
      ],
      "text/plain": [
       "<IPython.core.display.Markdown object>"
      ]
     },
     "metadata": {},
     "output_type": "display_data"
    }
   ],
   "source": [
    "response = \"\"\n",
    "for chunk in canonical_summary_agent.respond(\"What are the languages in Eberron\"):\n",
    "    response += chunk\n",
    "    clear_output()\n",
    "    display(Markdown(response.replace('\\\\n', '\\n')))"
   ]
  },
  {
   "cell_type": "code",
   "execution_count": null,
   "id": "2d6f8676-c1bf-47e7-82b4-28d7656b167d",
   "metadata": {},
   "outputs": [],
   "source": []
  },
  {
   "cell_type": "code",
   "execution_count": 44,
   "id": "bd6610be-ec90-4bdf-8d85-fd373da3c14e",
   "metadata": {},
   "outputs": [
    {
     "data": {
      "text/markdown": [
       "The information provided does not specifically mention rivers in Khorvaire. However, it is stated that an excellent system of roads connects the central nations of Khorvaire, and travelers can make their way by horse or coach. It also mentions the use of elemental galleons for travel across water, which could be used on rivers or seas. There is no detailed information about rivers in Khorvaire in the provided text."
      ],
      "text/plain": [
       "<IPython.core.display.Markdown object>"
      ]
     },
     "metadata": {},
     "output_type": "display_data"
    }
   ],
   "source": [
    "response = \"\"\n",
    "for chunk in canonical_summary_agent.respond(\"Tell me about the rivers of Khorvaire.\"):\n",
    "    response += chunk\n",
    "    clear_output()\n",
    "    display(Markdown(response.replace('\\\\n', '\\n')))"
   ]
  },
  {
   "cell_type": "code",
   "execution_count": 31,
   "id": "68bad9cb-6889-44c1-8616-345a7632e9e6",
   "metadata": {},
   "outputs": [
    {
     "data": {
      "text/plain": [
       "'TheACHEACHEACHEACHEACHEACHEACHEvisitACHEACHEACHEACHEACHEACHEACHEACHEvisitACHEACHEACHEACHEACHEACHEACHEvisitACHEACHEACHEACHEACHEACHEACHEvisitACHEACHEACHEACHEACHEACHEACHEACHEACHEACHEACHEACHEACHEACHEACHEACHEACHEACHEACHEvisitACHEvisitvisitACHEACHEvisitACHEACHEACHEACHEosiACHEACHEACHEvisitACHEACHEACHEvisitACHEACHEACHEvisitACHEACHEACHEACHEvisitACHEACHEACHEACHEACHEACHEACHEvisitACHEACHEACHEACHEACHEACHEACHEACHEímACHEACHEACHEACHEvisitACHEACHEACHEvisitACHEACHEACHEACHEvisitACHEACHEACHEACHEACHEACHEACHEACHEACHEACHEACHEACHEACHEACHEvisitACHEACHEACHEACHEACHEACHEACHEACHEACHEACHEACHEvisitACHEACHEvisitACHEACHEACHEACHEACHEvisitACHEACHEvisitACHEACHEACHEACHEACHEACHEACHEvisitACHEvisitACHEvisitACHEACHEACHEACHEACHEvisitACHEvisitACHEACHEACHEACHEACHEACHEACHEACHEACHEACHEACHEACHEACHEACHEACHEACHEvisitACHEvisitACHEACHEACHEACHEACHEACHEACHEACHEACHEACHEACHEACHEACHEACHEACHEACHEACHEACHEACHEACHEACHEACHEACHEACHEvisitACHEACHEACHEACHEACHEACHEACHEACHEACHEACHEACHEACHEACHEACHEACHEvisitvisitACHEACHEvisitACHEACHEACHEACHEACHEACHEACHEACHEACHEACHEACHEACHEACHEACHEACHEACHEACHEACHEACHEACHEACHEACHEvisitACHEACHEACHEACHEACHEvisitvisitACHEACHEACHEACHEACHEACHEACHEACHEACHEACHEACHEACHEACHEACHEACHEACHEACHEACHEACHEACHEACHEACHEACHEvisitvisitACHEACHEACHEACHEACHEACHEACHEACHEACHEvisitACHEACHEACHEACHEACHEACHEACHEACHEACHEACHEACHEvisitACHEACHEACHEACHEACHEACHEACHEACHEACHEACHEACHEACHEACHEACHEACHEACHEACHEACHEACHEACHEACHEACHEACHEACHEACHEACHEACHEvisitvisitACHEACHEACHEACHEACHEACHEACHEACHEvisitACHEACHEACHEACHEACHEACHEACHEACHEACHEvisitACHEACHEACHEACHEACHEACHEACHEACHEACHEvisitvisitACHEACHEvisitACHEACHEACHEACHEACHEACHEACHEACHEACHEACHEACHEACHEACHEACHEACHEACHEACHEACHEACHEACHEACHEACHEvisitACHEvisitACHEACHEvisitACHEACHEvisitACHEACHEACHEACHEACHEACHEvisitACHEACHEACHEACHEACHEACHEACHEvisitACHEACHEACHEACHEACHEACHEACHEACHEACHEACHEACHEACHEACHEvisitACHEACHEACHEACHEACHEACHEACHEACHEACHEACHEvisitACHEACHEvisitvisitACHEACHEACHEACHEACHEACHEvisitACHEACHEACHEACHEvisitACHEACHEACHEvisitACHEACHEACHEACHEACHEACHEACHEACHEvisitACHEACHEvisitACHEACHEACHEACHEACHEACHEACHEvisitACHEvisitACHEACHEACHEACHEvisitACHEACHEACHEACHEACHEACHEACHEACHEACHEACHEACHEvisitvisitACHEACHEACHEACHEACHEACHEACHEACHEACHEACHEACHEACHEACHEACHEACHEACHEACHEACHEACHEACHEACHEACHEACHEACHEACHEACHEACHEACHEvisitACHEACHEACHEACHEACHEvisitACHEACHEACHEACHEACHEACHEACHEACHEACHEACHEACHEACHEACHEvisitACHEACHEACHEACHEACHEACHEACHEACHEACHEACHEACHEACHEACHEACHEvisitACHEACHEACHEACHEvisitACHEACHEACHEvisitACHEACHEACHEACHEACHEACHEACHEACHEACHEvisitACHEACHEACHEACHEACHEACHEACHEACHEACHEvisitvisitACHEACHEvisitACHEACHEACHEACHEACHEACHEACHEACHEACHEvisitACHEACHEACHEvisitACHEACHEACHEACHEvisitACHEACHETXACHEACHEACHEACHEACHEACHEACHEACHEvisitACHEvisitACHEACHEACHEACHEvisitACHEACHEvisitACHEACHEACHEACHEACHEACHEACHEACHEACHEACHEvisitACHEACHEACHEACHEACHEACHEvisitACHEACHEACHEACHEACHEACHEACHEACHEACHEACHEACHEACHEACHEACHEACHEvisitACHEACHEACHEACHEACHEACHEACHEACHEACHEACHEACHEACHEACHEACHEACHEACHEACHEACHEACHEvisitACHEACHEACHEACHEACHEvisitACHEACHEvisitACHEvisitACHEACHEACHEACHEACHEACHEACHEACHEACHEvisitvisitACHEACHEACHEACHEACHEACHEACHEACHEACHEACHEACHEACHEACHEACHEvisitACHEACHEACHEACHEACHEACHEACHEvisitACHEACHEACHEACHEACHEACHEACHEACHEACHEACHEvisitACHEvisitACHEACHEACHEACHEvisitACHEACHEACHEvisitACHEvisitACHE'"
      ]
     },
     "execution_count": 31,
     "metadata": {},
     "output_type": "execute_result"
    }
   ],
   "source": [
    "response"
   ]
  },
  {
   "cell_type": "code",
   "execution_count": 33,
   "id": "6eaf2287-e084-4663-a267-63855c2d6290",
   "metadata": {},
   "outputs": [
    {
     "name": "stdout",
     "output_type": "stream",
     "text": [
      "memory.total [MiB], memory.used [MiB], memory.free [MiB]\n",
      "15360 MiB, 6065 MiB, 9031 MiB\n"
     ]
    }
   ],
   "source": [
    "!nvidia-smi --query-gpu=memory.total,memory.used,memory.free --format=csv"
   ]
  },
  {
   "cell_type": "code",
   "execution_count": 45,
   "id": "3bdf6d57-ecd7-4ac3-a545-2c356c93ffbe",
   "metadata": {},
   "outputs": [
    {
     "data": {
      "text/markdown": [
       "In the Five Nations, fashion is deeply intertwined with religious beliefs and practicality. The Church of the Silver Flame, Sovereign Host, and the Seekers of the Dawn are the three largest religions, and their followers' attire reflects their beliefs.\n",
       "\n",
       "For the Church of the Silver Flame, practicality is key. Priests often wear heavy fabrics like indigo- and silver-dyed denim, with long-sleeved robes reaching halfway down the calf, closed down the front to the waist with silver toggles, and long slits up the sides for mobility. A cowl or mantle is worn over the robe, which hangs lower in the back, closed with a single toggle at the neck. The vestments are either painted, dyed, or embroidered with silver pigments or threads.\n",
       "\n",
       "During the Last War, the soldiers of the Five Nations all served in the united army of Galifar. Over the century of war, styles evolved, with each nation striving to distinguish its soldiers and improve their tools of war. Common soldiers typically wore light armor, which involved a leather greatcoat or thick leather tunic, supplemented with heavy leather gauntlets and boots, or for better defense, metal shin guards and vambraces. Medium armor used the same base—a long leather coat or vest—enhanced with a strong metal helmet and a breastplate. Heavy armor was more distinctive between nations, with examples like the Brelish equivalent of splint mail combining a breastplate with a layer of chainmail, while Karrnathi splint mail is light plate.\n",
       "\n",
       "Each nation has its own distinct approach to fashion, both in its armor and civilian clothing. For instance, Breland's \"leatherback scouts\" might wear hide armor if a ranger with the soldier background chooses to do so. Beyond this, every nation has its own unique fashion style."
      ],
      "text/plain": [
       "<IPython.core.display.Markdown object>"
      ]
     },
     "metadata": {},
     "output_type": "display_data"
    }
   ],
   "source": [
    "response = \"\"\n",
    "for chunk in canonical_summary_agent.respond(\"Tell me about fashion in the five nations.\"):\n",
    "    response += chunk\n",
    "    clear_output()\n",
    "    display(Markdown(response.replace('\\\\n', '\\n')))"
   ]
  },
  {
   "cell_type": "code",
   "execution_count": 30,
   "id": "b687b6fd-3fb3-42d2-b772-ed086698ebf8",
   "metadata": {},
   "outputs": [
    {
     "data": {
      "text/markdown": [
       "The fashion in the Five Nations of Khorvaire, following the Last War, has evolved to reflect the distinct cultural identities of each nation. Common soldiers' armor typically consists of light or medium armor, with light armor involving a leather greatcoat or thick leather tunic, supplemented with heavy leather gauntlets and boots, or for better defense, metal shin guards and vambraces. Medium armor uses the same base—a long leather coat or vest—enhanced with a strong metal helmet and a breastplate. The breastplate of the common soldier is heavy and uses the statistics of scale mail, while officers and elite forces wear a finer, lighter design that uses breastplate statistics.\n",
       "\n",
       "Heavy armor is more distinctive between nations, with examples like Brelish splint mail combining a breastplate with a layer of chainmail, while Karrnathi splint mail is light plate. Elite units, mercenaries, local militias, and other forces use different styles and materials.\n",
       "\n",
       "Adventurers, an important part of each of the Five Nations, often wear bits and pieces of their home culture in their clothing. Examples include gloves and masks for a Cyran, gazyrs sewn onto leather armor for a Karrn, a cloak with strange proportions for an Aundairian, clothes covered in embroidered patches for a Thrane, or pointy-toed shoes and long puffy sleeves for a Brelish.\n",
       "\n",
       "Modern fashion designers now produce lines of fashion specifically for the adventurers of the world, catering to their unique and often hard-to-pin-down personalities. The identity of the Five Nations continues to be an important part of their cultural experience, even for those who were not born in their country proper. The pre-War Five Nations background grants equipment, skills, tools, and proficiencies specific to the nation you consider your homeland."
      ],
      "text/plain": [
       "<IPython.core.display.Markdown object>"
      ]
     },
     "metadata": {},
     "output_type": "display_data"
    }
   ],
   "source": [
    "response = \"\"\n",
    "for chunk in canonical_summary_agent.respond(\"Tell me about fashion in the five nations.\"):\n",
    "    response += chunk\n",
    "    clear_output()\n",
    "    display(Markdown(response.replace('\\\\n', '\\n')))"
   ]
  },
  {
   "cell_type": "code",
   "execution_count": 128,
   "id": "f1fa5e67-5768-49b2-8139-224382672059",
   "metadata": {},
   "outputs": [
    {
     "name": "stderr",
     "output_type": "stream",
     "text": [
      "Device set to use cuda:0\n"
     ]
    }
   ],
   "source": [
    "class ImprovisorAgent(Agent):\n",
    "    version = '01'\n",
    "    base_llm = HuggingFacePipeline(\n",
    "        pipeline=pipeline(\n",
    "            \"text-generation\", \n",
    "            model=model, \n",
    "            tokenizer=tokenizer, \n",
    "            temperature=0.7,\n",
    "            max_new_tokens=768, \n",
    "            do_sample=True\n",
    "        )\n",
    "    )\n",
    "\n",
    "    def listen(self, context: str) -> bool:\n",
    "        \"\"\"This agent does not listen to any contextual information.\"\"\"\n",
    "        return False\n",
    "    \n",
    "    def __init__(self, vector_store: VectorStore, search_type: str, search_kwargs: dict):\n",
    "        self.retriever = vector_store.as_retriever(search_type=search_type, search_kwargs=search_kwargs)\n",
    "\n",
    "    def _retrieve(self, q: str) -> List[Tuple[str, dict]]:\n",
    "        self._last_retrieved_docs = self.retriever.invoke(q)\n",
    "\n",
    "        return [(d.page_content, d.metadata) for d in self._last_retrieved_docs]\n",
    "\n",
    "    def _prompt(self, q: str):\n",
    "        retrieved_documents = [d[0] for d in self._retrieve(q)]\n",
    "\n",
    "        retrieved_text = '\\n\\n'.join(retrieved_documents)\n",
    "        \n",
    "        self._last_prompt = dedent(f\"\"\"[INST]\n",
    "        Use the following information as inspiration (until the final cutoff =====) to answer the user query Q below.\n",
    "        Be creative.\n",
    "        Come up with interesting information.\n",
    "        \n",
    "        \n",
    "        {retrieved_text}\n",
    "        \n",
    "        =====\n",
    "        \n",
    "        Q:\n",
    "        {q}\n",
    "        \n",
    "        A:\n",
    "        [/INST]\"\"\")\n",
    "        return self._last_prompt\n",
    "\n",
    "    def respond(self, q: str) -> Iterable[str]:\n",
    "        prompt = self._prompt(q)\n",
    "        self._last_response = \"\"\n",
    "        for chunk in self.base_llm.bind(skip_prompt=True).stream(prompt):\n",
    "            self._last_response += chunk\n",
    "            yield chunk\n"
   ]
  },
  {
   "cell_type": "code",
   "execution_count": 129,
   "id": "b744b884-9c1a-4edc-9200-f0abd6c3d218",
   "metadata": {},
   "outputs": [],
   "source": [
    "improvisor_agent = ImprovisorAgent(vector_store, \"similarity\", {'k': 5})"
   ]
  },
  {
   "cell_type": "code",
   "execution_count": 130,
   "id": "90565699-f3b8-4964-915c-ffd7005472a8",
   "metadata": {},
   "outputs": [
    {
     "name": "stderr",
     "output_type": "stream",
     "text": [
      "Device set to use cuda:0\n"
     ]
    }
   ],
   "source": [
    "class CharacterPrompterAgent(Agent):\n",
    "    version = '01'\n",
    "    base_llm = HuggingFacePipeline(\n",
    "        pipeline=pipeline(\n",
    "            \"text-generation\", \n",
    "            model=model, \n",
    "            tokenizer=tokenizer, \n",
    "            temperature=0.9,\n",
    "            max_new_tokens=512, \n",
    "            do_sample=True\n",
    "        )\n",
    "    )\n",
    "\n",
    "    def listen(self, context: str) -> bool:\n",
    "        \"\"\"This agent does not listen to any contextual information\"\"\"\n",
    "        return False\n",
    "    \n",
    "    def __init__(self, vector_store: VectorStore, search_type: str, search_kwargs: dict):\n",
    "        self.retriever = vector_store.as_retriever(search_type=search_type, search_kwargs=search_kwargs)\n",
    "\n",
    "    def _retrieve(self, q: str) -> List[Tuple[str, dict]]:\n",
    "        self._last_retrieved_docs = self.retriever.invoke(q)\n",
    "\n",
    "        return [(d.page_content, d.metadata) for d in self._last_retrieved_docs]\n",
    "\n",
    "    def _prompt(self, q: str):\n",
    "        retrieved_documents = [d[0] for d in self._retrieve(q)]\n",
    "\n",
    "        retrieved_text = '\\n\\n'.join(retrieved_documents)\n",
    "        \n",
    "        self._last_prompt = dedent(f\"\"\"[INST]\n",
    "        Use the following information as inspiration (until the final cutoff =====) to come up with a character concept that fits the user query Q.\n",
    "        A character concept includes one paragraph on backstory, one paragraph on long-term goals, and one paragraph of immediate wants and needs.\n",
    "        Sugggest a few persoanlity traits and secrets. \n",
    "        Come up with relevant D&D 5e skill checks for players to notice or figure out certain quirks or secrets of the character.\n",
    "        \n",
    "        \n",
    "        {retrieved_text}\n",
    "        \n",
    "        =====\n",
    "        \n",
    "        Q:\n",
    "        {q}\n",
    "        \n",
    "        A:\n",
    "        [/INST]\"\"\")\n",
    "        return self._last_prompt\n",
    "\n",
    "    def respond(self, q: str) -> Iterable[str]:\n",
    "        prompt = self._prompt(q)\n",
    "        self._last_response = \"\"\n",
    "        for chunk in self.base_llm.bind(skip_prompt=True).stream(prompt):\n",
    "            self._last_response += chunk\n",
    "            yield chunk\n"
   ]
  },
  {
   "cell_type": "code",
   "execution_count": 131,
   "id": "c1dcb0a3-52a1-4a57-b757-95b9428325fe",
   "metadata": {},
   "outputs": [],
   "source": [
    "character_prompter_agent = CharacterPrompterAgent(vector_store, \"similarity\", {'k': 10})"
   ]
  },
  {
   "cell_type": "code",
   "execution_count": null,
   "id": "69db189d-45a1-4dc5-bb9b-e097bf81c872",
   "metadata": {},
   "outputs": [],
   "source": []
  },
  {
   "cell_type": "code",
   "execution_count": 132,
   "id": "6cd9eaec-8cca-4d11-ae82-f9aeb37b11c9",
   "metadata": {},
   "outputs": [
    {
     "name": "stderr",
     "output_type": "stream",
     "text": [
      "Device set to use cuda:0\n"
     ]
    }
   ],
   "source": [
    "class CharacterClassFinderAgent(Agent):\n",
    "    version = '01'\n",
    "    base_llm = HuggingFacePipeline(\n",
    "        pipeline=pipeline(\n",
    "            \"text-generation\", \n",
    "            model=model, \n",
    "            tokenizer=tokenizer, \n",
    "            temperature=0.1,\n",
    "            max_new_tokens=128, \n",
    "            do_sample=True\n",
    "        )\n",
    "    )\n",
    "\n",
    "    def listen(self, context: str) -> bool:\n",
    "        \"\"\"This agent does not listen to any contextual information\"\"\"\n",
    "        return False\n",
    "    \n",
    "    def __init__(self, vector_store: VectorStore, search_type: str, search_kwargs: dict):\n",
    "        self.retriever = vector_store.as_retriever(search_type=search_type, search_kwargs=search_kwargs)\n",
    "\n",
    "    def _retrieve(self, q: str) -> List[Tuple[str, dict]]:\n",
    "        return []\n",
    "\n",
    "    def _prompt(self, q: str):\n",
    "        retrieved_documents = [d[0] for d in self._retrieve(q)]\n",
    "\n",
    "        retrieved_text = '\\n\\n'.join(retrieved_documents)\n",
    "        \n",
    "        self._last_prompt = dedent(f\"\"\"[INST]\n",
    "        Based on the prompt Q, what is a good D&D class for this character?\n",
    "        Choose from the following list:\n",
    "        Artificer, Bard, Barbarian, Fighter, Sorceror, Wizard, Rogue\n",
    "        \n",
    "        {retrieved_text}\n",
    "        \n",
    "        =====\n",
    "        \n",
    "        Q:\n",
    "        {q}\n",
    "        \n",
    "        A:\n",
    "        [/INST]\"\"\")\n",
    "        return self._last_prompt\n",
    "\n",
    "    def respond(self, q: str) -> Iterable[str]:\n",
    "        prompt = self._prompt(q)\n",
    "        self._last_response = \"\"\n",
    "        for chunk in self.base_llm.bind(skip_prompt=True).stream(prompt):\n",
    "            self._last_response += chunk\n",
    "            yield chunk\n"
   ]
  },
  {
   "cell_type": "code",
   "execution_count": null,
   "id": "d324f918-9bbb-499f-a6ed-33e54f991dc3",
   "metadata": {},
   "outputs": [],
   "source": []
  },
  {
   "cell_type": "code",
   "execution_count": 133,
   "id": "b6b7d422-b0e9-4208-8164-3afbfba5ee8a",
   "metadata": {},
   "outputs": [
    {
     "name": "stderr",
     "output_type": "stream",
     "text": [
      "Device set to use cuda:0\n"
     ]
    }
   ],
   "source": [
    "class CharacterGeneratorAgent(Agent):\n",
    "    version = '01'\n",
    "    base_llm = HuggingFacePipeline(\n",
    "        pipeline=pipeline(\n",
    "            \"text-generation\", \n",
    "            model=model, \n",
    "            tokenizer=tokenizer, \n",
    "            temperature=0.2,\n",
    "            max_new_tokens=768, \n",
    "            do_sample=True\n",
    "        )\n",
    "    )\n",
    "\n",
    "    def listen(self, context: str) -> bool:\n",
    "        \"\"\"This agent does not listen to any contextual information\"\"\"\n",
    "        return False\n",
    "    \n",
    "    # def __init__(self, vector_store: VectorStore, search_type: str, search_kwargs: dict):\n",
    "    #     self.retriever = vector_store.as_retriever(search_type=search_type, search_kwargs=search_kwargs)\n",
    "\n",
    "    def __init__(self):\n",
    "        pass\n",
    "\n",
    "    def _retrieve(self, q: str) -> List[Tuple[str, dict]]:\n",
    "        # TODO: Change this retrieve information based on the class...\n",
    "        # self._last_retrieved_docs = self.retriever.invoke(q)\n",
    "\n",
    "        # return [(d.page_content, d.metadata) for d in self._last_retrieved_docs]\n",
    "        return []\n",
    "\n",
    "    def _prompt(self, q: str):\n",
    "        retrieved_documents = [d[0] for d in self._retrieve(q)]\n",
    "\n",
    "        retrieved_text = '\\n\\n'.join(retrieved_documents)\n",
    "        \n",
    "        # Use the prompt P to create a complete character sheet based on the 5th Edition rules for the world of Eberron.\n",
    "        # A complete character sheet should include name, race, class, level, attributes, proficiencies based on the class and fifth edition rules, \n",
    "\n",
    "        self._last_prompt = dedent(f\"\"\"[INST]\n",
    "        Use the following character description to create a complete character sheet based on the 5th Edition rules for the world of Eberron.\n",
    "        Make sure that the class fits the description, and make sure that the name is the same as in the description.\n",
    "\n",
    "        Character Description:\n",
    "        {q}\n",
    "        ========\n",
    "\n",
    "        Create the character sheet below.\n",
    "        A complete character sheet should include race, class, level, attributes, proficiencies based on the class and fifth edition rules, \n",
    "        proficiency bonus based on class and level, saving throws bonus based on class, feats and proficiency , hit points based on class and level, \n",
    "        weapons and equipment, attack bonus for each weapon based on abilities, any race or class based features, class and level, attack roll, \n",
    "        and equipment, armor class based on dexterity and armor, and if the character has spellcasting ability, spells based on class and level, \n",
    "        as well as the number of spell slots. \n",
    "        Include an inventory based on their level, class, and race, with a few personal touches in the items.\n",
    "        \n",
    "        {retrieved_text}\n",
    "        \n",
    "        Character Sheet:\n",
    "        [/INST]\"\"\")\n",
    "        return self._last_prompt\n",
    "\n",
    "    def respond(self, q: str) -> Iterable[str]:\n",
    "        # empty_chunk_count = 0\n",
    "        prompt = self._prompt(q)\n",
    "        self._last_response = \"\"\n",
    "        for chunk in self.base_llm.bind(skip_prompt=True).stream(prompt):\n",
    "            self._last_response += chunk\n",
    "            yield chunk\n"
   ]
  },
  {
   "cell_type": "code",
   "execution_count": 134,
   "id": "06214d4e-061e-4279-83ca-047685577a98",
   "metadata": {},
   "outputs": [],
   "source": [
    "character_generator_agent = CharacterGeneratorAgent()"
   ]
  },
  {
   "cell_type": "code",
   "execution_count": 148,
   "id": "32d41ba5-5d60-4a81-a5e7-c8f68a3bd151",
   "metadata": {},
   "outputs": [
    {
     "name": "stderr",
     "output_type": "stream",
     "text": [
      "Device set to use cuda:0\n"
     ]
    }
   ],
   "source": [
    "class RequestClassifierAgent(Agent):\n",
    "    version = '01'\n",
    "    base_llm = HuggingFacePipeline(\n",
    "        pipeline=pipeline(\n",
    "            \"text-generation\", \n",
    "            model=model, \n",
    "            tokenizer=tokenizer, \n",
    "            temperature=0.1,\n",
    "            max_new_tokens=64, \n",
    "            do_sample=True\n",
    "        )\n",
    "    )\n",
    "\n",
    "    # TODO: Move this evaluation & classification to another agent.\n",
    "    q_and_a = [\n",
    "        (\"Tell me about the languages of Eberron.\", \"lookup\"),\n",
    "        (\"War veteran\", \"character\"),\n",
    "        (\"Create a House Cannith item.\", \"original\"),\n",
    "        (\"Create the details of a town on the border between Zilargo and Breland.\", \"original\"),\n",
    "        (\"Groggy comic relief\", \"character\"),\n",
    "        (\"Tell me about fashion in the five nations.\", \"lookup\"),\n",
    "        (\"Find for me a magic lipstick.\", \"lookup\"),\n",
    "    ]\n",
    "    \n",
    "    def listen(self, context: str) -> bool:\n",
    "        \"\"\"This agent does not listen to any contextual information\"\"\"\n",
    "        return False\n",
    "    \n",
    "    def __init__(self):\n",
    "        pass\n",
    "\n",
    "    def _retrieve(self, q: str) -> List[Tuple[str, dict]]:\n",
    "        return []\n",
    "\n",
    "    def _prompt(self, q: str):\n",
    "        return dedent(f\"\"\"[INST]\n",
    "        User is making a request. Classify the request into one of the three categories. Response with only one word.\n",
    "        If the user is asking to create some original content, respond with the word \"original\".\n",
    "        If this is a request to create a character or NPC, or it looks like it is decribing a D&D character, respond with the word \"character\".\n",
    "        If the user is making a request to find out information, respond with the word \"lookup\".\n",
    "        \n",
    "        Q:\n",
    "        {q}\n",
    "        \n",
    "        A:\n",
    "        [/INST]\"\"\")\n",
    "\n",
    "    def respond(self, q: str) -> Iterable[str]:\n",
    "        if q.startswith(\"/character\"):\n",
    "            yield 'character'\n",
    "            return\n",
    "        \n",
    "        category = self.base_llm.bind(skip_prompt=True).invoke(self._prompt(q))\n",
    "\n",
    "        yield category.strip()\n"
   ]
  },
  {
   "cell_type": "code",
   "execution_count": 149,
   "id": "a36882c2-d953-4407-91a6-a1f36afdaa1a",
   "metadata": {},
   "outputs": [],
   "source": [
    "request_classifier = RequestClassifierAgent()"
   ]
  },
  {
   "cell_type": "code",
   "execution_count": 150,
   "id": "43856fdf-b2a2-42b1-bbd0-bb603db77f94",
   "metadata": {},
   "outputs": [
    {
     "name": "stderr",
     "output_type": "stream",
     "text": [
      "Setting `pad_token_id` to `eos_token_id`:2 for open-end generation.\n",
      "Setting `pad_token_id` to `eos_token_id`:2 for open-end generation.\n",
      "Setting `pad_token_id` to `eos_token_id`:2 for open-end generation.\n",
      "Setting `pad_token_id` to `eos_token_id`:2 for open-end generation.\n",
      "Setting `pad_token_id` to `eos_token_id`:2 for open-end generation.\n",
      "Setting `pad_token_id` to `eos_token_id`:2 for open-end generation.\n",
      "Setting `pad_token_id` to `eos_token_id`:2 for open-end generation.\n"
     ]
    },
    {
     "data": {
      "text/plain": [
       "('1.000', array([1., 1., 1., 1., 1., 1., 1.]))"
      ]
     },
     "execution_count": 150,
     "metadata": {},
     "output_type": "execute_result"
    }
   ],
   "source": [
    "request_classifier.evaluate()"
   ]
  },
  {
   "cell_type": "code",
   "execution_count": 138,
   "id": "dde231db-181c-4c73-b575-92971df9dcbb",
   "metadata": {},
   "outputs": [],
   "source": [
    "class SupervisorAgent(Agent):\n",
    "    version = '01'\n",
    "    base_llm = None\n",
    "\n",
    "    def listen(self, context: str) -> bool:\n",
    "        \"\"\"This agent does not listen to any contextual information\"\"\"\n",
    "        return False\n",
    "    \n",
    "    def _retrieve(self, q: str):\n",
    "        \"\"\"This agent does not retrieve any contextual information.\"\"\"\n",
    "        return []\n",
    "\n",
    "    def _prompt(self, q: str):\n",
    "        \"\"\"This agent does not require a prompt.\"\"\"\n",
    "        return \"\"\n",
    "\n",
    "    def respond(self, q: str) -> Iterable[str]:\n",
    "        \n",
    "        category_classification = self.ask(request_classifier, q)\n",
    "        category = self.receive(category_classification)\n",
    "\n",
    "        q = re.sub(r'^[a-zA-Z0-9]+ +', '', q)\n",
    "        \n",
    "        if category == 'character':\n",
    "            yield from self.ask(character_prompter_agent, q)\n",
    "            yield from self.ask(character_generator_agent, self.received_response)\n",
    "        elif category == 'lookup':\n",
    "            yield from self.ask(canonical_summary_agent, q)\n",
    "        elif category == 'original':\n",
    "            yield from self.ask(improvisor_agent, q)\n",
    "            \n",
    "        "
   ]
  },
  {
   "cell_type": "code",
   "execution_count": 139,
   "id": "30eca07c-4806-4162-90f9-5232e049af99",
   "metadata": {},
   "outputs": [],
   "source": [
    "supervisor = SupervisorAgent()"
   ]
  },
  {
   "cell_type": "code",
   "execution_count": 147,
   "id": "abc39638-2f44-4ed5-a72f-22dd48f59aed",
   "metadata": {},
   "outputs": [
    {
     "data": {
      "text/markdown": [
       "In the heart of the Western Frontier, a vibrant border town emerges as a beacon of unity and commerce between the kingdoms of Aundair and Breland. This new settlement, yet to be officially named, is nestled along the Border Road, a critical artery of trade and travel that divides the two nations. The town is strategically positioned, with its eastern edge just beyond the reach of the Westwind Riders, and its western boundary guarded by the Brelish armies under the command of Argonth.\n",
       "\n",
       "The town is a harmonious blend of Aundair's ivy-covered universities, fragrant vineyards, and golden wheat fields, and Breland's bustling ports and industrial might. The architecture is a fusion of quickstone, a common building material in Breland, and the more ornate, engraved stonework of Aundair. The town square, the heart of the community, is a testament to the cooperation and investment from both Count ir'Blis of Breland and Honoria Soldorak, a former Brelish soldier turned local leader in Aundair. The town square is a bustling hub, filled with vendors, travelers, and locals sharing stories and goods.\n",
       "\n",
       "The residents of this new border town are a diverse mix of former soldiers, miners, and traders, hailing from both Aundair and Breland. They are united by a shared respect for the law, a sense of loyalty to their respective leaders, and a desire for peace and prosperity. Despite their different backgrounds, they share a common bond: they are the vanguard of a new era, a symbol of the potential for harmony and collaboration between Aundair and Breland in the aftermath of the Last War. This new border town, with its unique blend of culture, commerce, and cooperation, stands as a beacon of hope and a testament to the enduring spirit of these two great nations."
      ],
      "text/plain": [
       "<IPython.core.display.Markdown object>"
      ]
     },
     "metadata": {},
     "output_type": "display_data"
    }
   ],
   "source": [
    "response = \"\"\n",
    "for chunk in supervisor.respond(\"Imagine a new border town between Aundair and Breland. Detail in three paragraphs\"):\n",
    "    response += chunk\n",
    "    clear_output()\n",
    "    display(Markdown(response.replace('\\\\n', '\\n')))"
   ]
  },
  {
   "cell_type": "code",
   "execution_count": 51,
   "id": "9ad1370e-030a-4b57-85e1-8fc60611a49a",
   "metadata": {},
   "outputs": [
    {
     "data": {
      "text/markdown": [
       "Item Name: The Kedran's Spark of Xen'drik\n",
       "\n",
       "Description:\n",
       "\n",
       "The Kedran's Spark of Xen'drik is a unique and enigmatic artifact that has been passed down within House Cannith for over eight centuries. It is a small, intricately crafted device, about the size of a human fist, with an outer shell made from a durable, iridescent material that seems to shift colors depending on the light it is exposed to.\n",
       "\n",
       "This device is a portable energy generator, capable of storing and releasing significant amounts of raw elemental energy. The Spark can draw energy from the surrounding environment, and it can be used to power various magical and non-magical devices, such as lighting systems, mechanical machinery, or even weapons.\n",
       "\n",
       "In the hands of an artificer, the Spark can be refined and adapted to suit the needs of the user. It can be connected to a variety of tools and devices, allowing the user to harness the power of the Spark for a multitude of purposes.\n",
       "\n",
       "The Spark contains a small, dormant creation pattern that, when activated, allows the user to imbue the energy stored within it with their own magical abilities. This allows for the crafting of powerful, elementally charged enchantments and items.\n",
       "\n",
       "The Kedran's Spark of Xen'drik is a testament to the ingenuity and the rich history of House Cannith, and it is said that whoever possesses the Spark holds a key to the future of the house. It is a symbol of hope for House Cannith, and it is considered a valuable and coveted item within the Twelve.\n",
       "\n",
       "Magical Properties:\n",
       "\n",
       "* Portable energy generator: The Spark can draw energy from the surrounding environment and store it within itself.\n",
       "* Power source: The Spark can be used to power various magical and non-magical devices.\n",
       "* Adaptable: The Spark can be refined and adapted to suit the needs of the user.\n",
       "* Elemental energy: The Spark contains a dormant creation pattern that allows the user to imbue the energy stored within it with their own magical abilities.\n",
       "* Crafting enchantments: The Spark allows the user to craft powerful, elementally charged enchantments and items.\n",
       "\n",
       "Crafting Requirements:\n",
       "\n",
       "* Levels: Artificer 15, Wizard 15\n",
       "* Components: A small, iridescent gemstone, a piece of Xen'drik ore, and a fragment of an ancient creation pattern.\n",
       "* Time: 1 week per 500 GP value of the Spark.\n",
       "* Cost: 75,000 GP + 25,000 GP per 500 GP value of the Spark.\n",
       "* Crafting DC: 25 + the value of the Spark in GP.\n",
       "\n",
       "This item is only available through House Cannith, and it is a symbol of their mastery over the arcane arts. The creation of the Kedran's Spark of Xen'drik is a closely guarded secret, known only to the highest-ranking members of the house. The Spark is often used as a bargaining chip or a symbol of loyalty and allegiance amongst the members of House Cannith."
      ],
      "text/plain": [
       "<IPython.core.display.Markdown object>"
      ]
     },
     "metadata": {},
     "output_type": "display_data"
    }
   ],
   "source": [
    "response = \"\"\n",
    "for chunk in supervisor.respond(\"Create a House Cannith item.\"):\n",
    "    response += chunk\n",
    "    clear_output()\n",
    "    display(Markdown(response.replace('\\\\n', '\\n')))"
   ]
  },
  {
   "cell_type": "code",
   "execution_count": 140,
   "id": "18fe6e23-24a2-45dd-b9f6-1b5842fe348e",
   "metadata": {},
   "outputs": [
    {
     "data": {
      "text/markdown": [
       "Backstory: Julio Azevepo served with distinction in the Brelish army during the Last War, fighting on the western front. After the war ended in 996 YK, he found himself among the many veterans who settled on the Western Frontier. He became a member of the Grizzlies, a militia in the town of Quickstone, where he now serves as a deputy under Sheriff Constable. His military service has left him with a deep-seated suspicion of Droaamites and their allies, a belief that has occasionally led to clashes with the Mourners, kobolds, and other non-Brelish inhabitants of the area.\n",
       "\n",
       "Long-term Goals: Julio's long-term goal is to maintain order in Quickstone and protect the town and its citizens from threats, both from within and without. He has a particularly strong desire to see Droaamites and their allies driven out of the region, and views his role in the Grizzlies as a means to that end. He also harbors a personal ambition to prove himself as a leader, both within the Grizzlies and in Breland as a whole.\n",
       "\n",
       "Immediate Wants and Needs: Julio is currently focused on investigating a series of recent crimes in Quickstone, which he believes are being perpetrated by Droaamites or their sympathizers. He is also in need of supplies for the Grizzlies, including weapons and equipment, as well as food and other necessary supplies for the camp. He is also keen to maintain the loyalty and support of his fellow Grizzlies, and to keep them from causing trouble with the Mourners and other non-Brelish inhabitants of the area.\n",
       "\n",
       "Personality Traits: Julio is a pragmatic and disciplined individual, with a strong sense of duty and a tendency to view problems as obstacles to be overcome rather than insurmountable challenges. He is also suspicious of outsiders, particularly those who are not Brelish, and is quick to assume the worst about them. He is fiercely loyal to Breland and Count ir'Blis, and is willing to go to great lengths to protect them and their interests.\n",
       "\n",
       "Secrets: Julio's military service during the Last War left him with a number of scars, both physical and emotional. He has a particular a**Character Name:** Julio Azevepo\n",
       "\n",
       "**Race:** Human (Variant Human)\n",
       "\n",
       "**Class:** Ranger (Gloom Stalker) - Level 3\n",
       "\n",
       "**Attributes:**\n",
       "- Strength: 14\n",
       "- Dexterity: 16 (with Dexterity bonus from race)\n",
       "- Constitution: 14\n",
       "- Intelligence: 10\n",
       "- Wisdom: 16 (with Wisdom bonus from race)\n",
       "- Charisma: 8\n",
       "\n",
       "**Proficiencies:**\n",
       "- Saving Throws: Wisdom, Dexterity\n",
       "- Skills: Athletics, Survival, Stealth, Perception\n",
       "- Tools: None\n",
       "- Weapons: Simple Weapons, Martial Weapons, Shortswords, Longswords, Hand Crossbows, Longbows, Rapier\n",
       "- Armor: Light Armor, Medium Armor, Shields\n",
       "\n",
       "**Proficiency Bonus:** +3\n",
       "\n",
       "**Hit Points:** 39 (3d10 for Ranger + 3d8 for Variant Human)\n",
       "\n",
       "**Weapons and Equipment:**\n",
       "- Longbow (with a quiver of 20 arrows)\n",
       "- Short Sword\n",
       "- Hand Crossbow (with 10 bolts)\n",
       "- Rapier\n",
       "- Leather Armor\n",
       "- Explorer's Pack\n",
       "- Dungeoneer's Pack\n",
       "- A set of traveler's clothes\n",
       "- A pouch containing 15 gold pieces\n",
       "- A small, well-crafted silver locket (a personal item)\n",
       "\n",
       "**Gloom Stalker Ranger Features:**\n",
       "- Favored Enemy: Drow or Drow-like\n",
       "- Shadow Tread: Advantage on Dexterity (Stealth) checks made to hide in dim light or darkness\n",
       "- Stalker's Fast Movement: Can move up to half their speed when they are hidden from normal sight and have advantage on Dexterity (Stealth) checks\n",
       "- Umbra Vision: Can see up to 120 feet in dim light and darkness as if it were bright light\n",
       "\n",
       "**Spells:**\n",
       "- Cantrips: Green-Flame Blade, Hunter's Mark\n",
       "- 1st Level: Cure Wounds, Ensnaring Strike\n",
       "\n",
       "**Armor Class:** 13 (Leather Armor + Dexterity modifier)\n",
       "\n",
       "**Inventory:**\n",
       "- A set of common clothes\n",
       "- A bedroll\n",
       "- A backpack\n",
       "- A mess kit\n",
       "- A waterskin\n",
       "- 50 gold pieces\n",
       "- A map of the Western Frontier (personal item)\n",
       "- A set of thieves' tools (for investigating crimes)\n",
       "- A vial of holy water (for protection against undead)\n",
       "- A set of traveler's clothes\n",
       "- A small, well-crafted silver locket (a personal item)"
      ],
      "text/plain": [
       "<IPython.core.display.Markdown object>"
      ]
     },
     "metadata": {},
     "output_type": "display_data"
    }
   ],
   "source": [
    "response = \"\"\n",
    "for chunk in supervisor.respond(\"Create a Brelish war veteran\"):\n",
    "    response += chunk\n",
    "    clear_output()\n",
    "    display(Markdown(response.replace('\\\\n', '\\n')))"
   ]
  },
  {
   "cell_type": "code",
   "execution_count": 46,
   "id": "d58ff621-9e6d-4e0b-b250-18019659e3fa",
   "metadata": {},
   "outputs": [
    {
     "data": {
      "text/markdown": [
       "In the world of Eberron, languages reflect culture and geography. Here are some notable languages and their typical speakers:\n",
       "\n",
       "1. Common: The language of the Five Nations and the language of trade in Khorvaire, known by most of its people.\n",
       "\n",
       "2. Abyssal: The common tongue of all fiends, sometimes called “Khyber’s Speech.”\n",
       "\n",
       "3. Celestial: The language of archons of Shavarath', known as “the tongue of Siberys.”\n",
       "\n",
       "4. Draconic: Used by dragons, kobolds, troglodytes, lizardfolk, and others.\n",
       "\n",
       "5. Elven: Spoken by elves and drow.\n",
       "\n",
       "6. Dwarven: Used by dwarves.\n",
       "\n",
       "7. Giant: Used by ogres, giants, and drow.\n",
       "\n",
       "8. Goblin: Primarily spoken by goblins, hobgoblins, and bugbears.\n",
       "\n",
       "9. Halfling: Spoken by halflings.\n",
       "\n",
       "10. Ignan: Used by fire-based creatures.\n",
       "\n",
       "11. Infernal: Used by devils of Shavarath'.\n",
       "\n",
       "12. Irial: Used by Ravids, positive energy users.\n",
       "\n",
       "13. Kythric: Used by Slaadi, chaotic outsiders.\n",
       "\n",
       "14. Mabran: Used by Nightshades, shadows, and creatures of Mabar.\n",
       "\n",
       "15. Orc: Spoken by orcs.\n",
       "\n",
       "16. Quori: Used by the Inspired, kalashtar, and other Quori.\n",
       "\n",
       "17. Riedran: Used by the lower classes of Sarlona.\n",
       "\n",
       "18. Sylvan: Spoken by dryads, eladrins, and creatures of Thelanis.\n",
       "\n",
       "19. Terran: Used by Xorns and other earth-based creatures.\n",
       "\n",
       "20. Undercommon: Used by chokers, underground Daelkyr denizens.\n",
       "\n",
       "Eberron is the language of Lamannia and the natural world, and the Druidic language is derived from Eberral as well. The Orc language is written using the Goblin script, and the Goblin language was the trade language of the goblin empire of Dhakaan. Common is the language of trade in Khorvaire."
      ],
      "text/plain": [
       "<IPython.core.display.Markdown object>"
      ]
     },
     "metadata": {},
     "output_type": "display_data"
    }
   ],
   "source": [
    "response = \"\"\n",
    "for chunk in supervisor.respond(\"Tell me about the languages of Eberron.\"):\n",
    "    response += chunk\n",
    "    clear_output()\n",
    "    display(Markdown(response.replace('\\\\n', '\\n')))"
   ]
  },
  {
   "cell_type": "code",
   "execution_count": 245,
   "id": "fe96c77c-4ee2-412e-8abb-2c2bbcd5da21",
   "metadata": {},
   "outputs": [
    {
     "data": {
      "text/markdown": [
       "Backstory:\n",
       "Cameron Calamity Jones served as a Wandslinger in the Brelish army during the Last War. He was a prodigy with arcane magic, selected for the elite Wandslinger unit at a young age. He quickly rose through the ranks, gaining the reputation as the \"Calamity\" for his fearless battle style and his uncanny ability to turn the tide of a battle with a well-placed spell.\n",
       "\n",
       "As the war raged on, Cameron became disillusioned with the political machinations that drove the conflict and began to question the motives of his superiors. He grew increasingly frustrated with the lack of strategic thought and the focus on attrition rather than victory.\n",
       "\n",
       "In the final years of the war, Cameron and his fellow Wandslingers were sent on a covert mission deep into enemy territory. Their objective was to sabotage an enemy castle and gather intelligence. The mission was a success, but the cost was high; Cameron lost several comrades, including his best friend.\n",
       "\n",
       "The aftermath of the war found Cameron struggling to reconcile his idealism and his experiences on the battlefield. He returned to Quickstone, where he found the town had changed dramatically. Count ir'Blis, who had been a strong supporter of the war, seemed less concerned with rebuilding and more focused on consolidating power.\n",
       "\n",
       "Cameron joined the Grizzlies, hoping to make a difference in the community and to help keep the peace. However, he remains haunted by the memories of the war and the lives lost. He has not yet found a way to move on, and he continues to struggle with feelings of guilt and anger.\n",
       "\n",
       "Long-term Goals:\n",
       "Cameron's long-term goal is to find a way to put his magical abilities to use for the greater good. He believes that his skills could be valuable in maintaining peace and justice in Quickstone and the wider Breland. However, he is still unsure how best to accomplish this and spends a lot of time considering his options.\n",
       "\n",
       "Immediate Wants and Needs:\n",
       "Cameron's immediate wants include finding a purpose in Quickstone and feeling a sense of belonging. He also needs to find a way to move on from his experiences in the war and to come to terms with his feelings of guilt and anger. His immediate needs include housing, food, and equipment, asCharacter Name: Cameron Calamity Jones\n",
       "\n",
       "Race: Human (Variant: Brelish)\n",
       "\n",
       "Class: Sorcerer (Draconic Bloodline: Bronze) - Level: 3\n",
       "\n",
       "Attributes:\n",
       "- Strength: 12 (+1)\n",
       "- Dexterity: 16 (+3) (Base: 13, Armor: 3)\n",
       "- Constitution: 14 (+2)\n",
       "- Intelligence: 16 (+3)\n",
       "- Wisdom: 12 (+1)\n",
       "- Charisma: 18 (+4)\n",
       "\n",
       "Proficiencies:\n",
       "- Saving Throws: Intelligence, Wisdom\n",
       "- Skills: Arcana, Deception, History, Insight, Persuasion\n",
       "\n",
       "Proficiency Bonus: +3\n",
       "\n",
       "Feats and Proficiencies:\n",
       "- War Caster (Sorcerer)\n",
       "- Light Armor Proficiency (Human)\n",
       "\n",
       "Hit Points: 45 (3d8 + 18 for Sorcerer, 1d10 + 10 for Human)\n",
       "\n",
       "Weapons and Equipment:\n",
       "- Quarterstaff (Proficient, Attack Bonus: +5)\n",
       "- Dagger (Proficient, Attack Bonus: +4)\n",
       "- Spellcasting Focus (Amber Amulet)\n",
       "- Explorer's Pack\n",
       "- Leather Armor (AC: 13)\n",
       "- 10 Potions of Healing (1d4+2 HP each)\n",
       "- 20 Gold Pieces\n",
       "- A worn, tattered map of Breland (Personal Item)\n",
       "- A small, bronze dragon figurine (Lucky Charm)\n",
       "\n",
       "Class and Level: Sorcerer 3\n",
       "\n",
       "Attack Roll: +5 (Quarterstaff) / +4 (Dagger)\n",
       "\n",
       "Armor Class: 16 (AC: 13, Dexterity: 3)\n",
       "\n",
       "Spells:\n",
       "- Cantrips: Mage Hand, Firebolt, Prestidigitation\n",
       "- Level 1: Burning Hands, Chromatic Orb, Shield, Thunderwave\n",
       "- Level 2: Darkness, Scorching Ray, Invisibility\n",
       "\n",
       "Spell Slots:\n",
       "- Level 1: 4 slots (2 at 1st level, 1 at 2nd level, 1 at 3rd level)\n",
       "- Level 2: 2 slots (1 at 2nd level, 1 at 3rd level)\n",
       "\n",
       "Long-term Goals: To find a way to put his magical abilities to use for the greater good in Quickstone and the wider Breland.\n",
       "\n",
       "Immediate Wants and Needs: To find a purpose in Quickstone, feel a sense of belonging, and come to terms with his feelings of guilt and anger from the war."
      ],
      "text/plain": [
       "<IPython.core.display.Markdown object>"
      ]
     },
     "metadata": {},
     "output_type": "display_data"
    }
   ],
   "source": [
    "response = \"\"\n",
    "for chunk in supervisor.respond(\"Create a Brelish war veteran\"):\n",
    "    response += chunk\n",
    "    clear_output()\n",
    "    display(Markdown(response.replace('\\\\n', '\\n')))"
   ]
  },
  {
   "cell_type": "code",
   "execution_count": 190,
   "id": "f55b3c5b-8a09-4d60-b59a-a400f82e9639",
   "metadata": {},
   "outputs": [
    {
     "data": {
      "text/markdown": [
       "**Character Name:** Cameron Calamity Jones\n",
       "\n",
       "**Backstory:** Cameron Jones was born and raised in the bustling city of Sharn, Breland. Growing up, he was always drawn to the arcane and the magical, fascinated by the wandslingers, the new breed of soldiers who could harness magic on the battlefield. When the Last War broke out, he saw an opportunity to serve his nation and follow his passion. He enlisted in the Brelish army and was trained as a wandslinger, quickly rising through the ranks thanks to his natural aptitude for arcane combat.\n",
       "\n",
       "During the war, Cameron distinguished himself with acts of bravery and tactical genius. His unit, the Lion's Roar, became known for their daring charges and fearsome power on the battlefield. However, the war took its toll on Cameron, both physically and emotionally. He lost many close comrades, and the horrors of war haunt his dreams to this day.\n",
       "\n",
       "At the end of the war, Cameron was honorably discharged and returned to Sharn. He initially struggled to adapt to civilian life, feeling lost without the structure and purpose that the army provided. But his love for magic and his desire to help his nation never waned. He used his skills and connections to become a renowned wandslinger for hire, often taking on dangerous jobs that others would shun.\n",
       "\n",
       "**Long-term Goals:** Cameron's long-term goal is to prove that wandslingers are more than just battlefield warriors. He hopes to use his skills to help rebuild Breland and make it a safer, more prosperous place. He also aspires to establish a school or academy for young wandslingers, teaching them the arts of arcane combat and instilling in them a sense of duty and honor.\n",
       "\n",
       "**Immediate Wants and Needs:** In the short term, Cameron is seeking to establish himself as a reliable and highly skilled wandslinger for hire. He needs to find steady work that allows him to pay his bills and maintain his equipment. He is also looking to reconnect with old comrades from the Lion's Roar, to share stories and reminisce about the good old days.\n",
       "\n",
       "**Personality Traits:** Cameron is fiercely loyal to Breland and its people. He is brave, resolute, and unyielding in the**Character Name:** Cameron Calamity Jones\n",
       "\n",
       "**Race:** Human (Variant: Tiefling)\n",
       "\n",
       "**Class:** Wandslinger (Homebrew Class) - Level 5\n",
       "\n",
       "**Attributes:**\n",
       "- Strength: 14\n",
       "- Dexterity: 16 (Dexterity Modifier: +3)\n",
       "- Constitution: 14\n",
       "- Intelligence: 16\n",
       "- Wisdom: 12\n",
       "- Charisma: 14\n",
       "\n",
       "**Proficiencies:**\n",
       "- Armor Proficiency: Light armor, medium armor, shields\n",
       "- Weapon Proficiency: Simple weapons, martial weapons, firearms\n",
       "- Tool Proficiency: Artisan's tools (blacksmith's tools), thieves' tools\n",
       "- Skill Proficiency: Athletics, Acrobatics, Arcana, History, Investigation, Perception, Stealth\n",
       "\n",
       "**Proficiency Bonus:** +3\n",
       "\n",
       "**Saving Throws:** Intelligence, Dexterity\n",
       "\n",
       "**Feats and Proficiencies:**\n",
       "- Shield Master (Feat)\n",
       "- Wandslinger's Focus (Class Feature)\n",
       "\n",
       "**Hit Points:** 52 (10 HP from level 5 Wandslinger, 42 HP from 14 CON)\n",
       "\n",
       "**Weapons and Equipment:**\n",
       "- Rapier (Longsword for melee combat when using a shield)\n",
       "- Shield\n",
       "- Wand (Quarterstaff for ranged combat)\n",
       "- 20 Bullets (for firearm)\n",
       "- Explosive Runes (5)\n",
       "- Arcane Focus (Quarterstaff)\n",
       "- Leather Armor\n",
       "- Adventurer's Pack\n",
       "- Explorer's Pack\n",
       "- 50 Gold Pieces\n",
       "- A small, intricately crafted silver locket containing a picture of the Lion's Roar unit\n",
       "- A set of custom-made blacksmith's tools, a gift from a comrade\n",
       "\n",
       "**Attack Bonus:**\n",
       "- Rapier: +6 to hit, 9 (1d8 + 4) slashing damage\n",
       "- Longsword: +6 to hit, 11 (1d10 + 4) slashing damage\n",
       "- Shield: +2 AC bonus\n",
       "- Wand (Quarterstaff): +6 to hit, 15 (4d6) force damage (or 1d10 + 4 force damage if using Explosive Runes)\n",
       "\n",
       "**Class and Level:** Wandslinger 5\n",
       "\n",
       "**Armor Class:** 16 (13 + 3 Dexterity Modifier)\n",
       "\n",
       "**Spellcasting Ability:** Arcane Tradition (Homebrew Subclass) - Intelligence\n",
       "\n",
       "**Spells:**\n",
       "- Cantrips: Arcane Charge, Mage Hand, Mending, Message, Prestidigitation, Thaumaturgy\n",
       "- 1st Level: Burning Hands, Cure Wounds, Detect Magic, Magic Missile, Shield\n",
       "- 2nd Level: Darkvision, Enhance Ability, Hold Person, Scorching Ray, Web\n",
       "\n",
       "**Inventory:**\n",
       "- A set of fine clothes for formal occasions\n",
       "- A map of Breland, marked with the locations of old comrades from the Lion's Roar\n",
       "- A journal to document his adventures and experiences\n",
       "- A set of tools for repairing and modifying his wands and equipment\n",
       "- A small, enchanted amulet that grants"
      ],
      "text/plain": [
       "<IPython.core.display.Markdown object>"
      ]
     },
     "metadata": {},
     "output_type": "display_data"
    }
   ],
   "source": [
    "response = \"\"\n",
    "async for chunk in supervisor.respond(\"Create a Brelish war veteran\"):\n",
    "    response += chunk\n",
    "    clear_output()\n",
    "    display(Markdown(response.replace('\\\\n', '\\n') + '\\n\\n\\n'))"
   ]
  },
  {
   "cell_type": "code",
   "execution_count": null,
   "id": "afed7e30-4f97-4b06-9128-e607fd7bd00d",
   "metadata": {},
   "outputs": [],
   "source": []
  },
  {
   "cell_type": "code",
   "execution_count": 171,
   "id": "6bf8074c-a507-4f8b-be37-3f40d660716d",
   "metadata": {},
   "outputs": [
    {
     "data": {
      "text/markdown": [
       "Backstory:\n",
       "Cameron Calamity Jones is a Brelish war veteran who served as a wandslinger during the Last War. Originally a non-combatant with a background in arcane studies, Cameron was drafted into the Brelish military and trained to wield a wand in combat. He quickly rose through the ranks, earning a reputation as a formidable and relentless combatant, earning him the nickname \"Calamity\" from his peers. After the war, Cameron returned to Breland and settled in Quickstone, taking up a position as a sheriff's deputy and using his skills as a wandslinger to maintain law and order in the town and surrounding areas.\n",
       "\n",
       "Long-term Goals:\n",
       "Cameron's long-term goal is to one day be appointed as the sheriff of Quickstone and build a strong and respected force to protect the town and its citizens. He also hopes to build a peaceful and prosperous future for Breland, and to help the nation rebuild after the destruction caused by the Last War.\n",
       "\n",
       "Immediate Wants and Needs:\n",
       "Cameron is currently focused on maintaining law and order in Quickstone, and is always on the lookout for troublemakers and criminals who threaten the peace. He is also in constant need of supplies and equipment to maintain his wand and keep it functioning properly, as well as medical supplies to treat any injuries sustained during his duties.\n",
       "\n",
       "Personality Traits:\n",
       "Cameron is a disciplined and driven individual, with a strong sense of duty to his country and his community. He is also fiercely independent and stubborn, and is not afraid to stand up for what he believes in, even if it means going against authority. He is deeply protective of those he cares about, and will stop at nothing to protect them from harm.\n",
       "\n",
       "Secrets:\n",
       "Cameron has a dark secret from his time in the war: he was responsible for the death of a fellow soldier who had threatened to reveal a scandal involving a high-ranking officer. Cameron has spent years living with the guilt of this act, and is haunted by the memory of his former comrade. He has also been secretly training a young Brelish soldier, believing that he can help the young man reach his full potential and become a valuable asset to the Brelish military.\n",
       "\n",
       "Relevant D&D 5e Skill Checks:\n",
       "Players may be able to notice Cameron's proficiency with Smith's Tools, as he is constantly maintaining and repairing his wand. They may also be able to spot that he is a wandslinger by observing his wand at rest on his belt, or by witnessing him casting spells during combat. With a successful Investigation check, players may be able to discover Cameron's dark secret, or overhear him talking to his secret trainee. With a successful Persuasion check, players may be able to convince Cameron to look the other way in certain situations, or to provide them with information or assistance.Character Name: Cameron Calamity Jones\n",
       "\n",
       "Race: Human (Variant Human)\n",
       "\n",
       "Class: Wandslinger (Homebrew Class) - Level 3\n",
       "\n",
       "Attributes:\n",
       "- Strength: 12 (+1)\n",
       "- Dexterity: 16 (+3)\n",
       "- Constitution: 14 (+2)\n",
       "- Intelligence: 16 (+3)\n",
       "- Wisdom: 12 (+1)\n",
       "- Charisma: 14 (+2)\n",
       "\n",
       "Proficiencies:\n",
       "- Armor Proficiency: Light Armor\n",
       "- Weapon Proficiency: Simple Weapons, Martial Weapons, Wands\n",
       "- Tool Proficiency: Smith's Tools\n",
       "- Skill Proficiency: Athletics, Investigation, Persuasion, Perception\n",
       "\n",
       "Proficiency Bonus: +3\n",
       "\n",
       "Saving Throws: Wisdom, Charisma\n",
       "\n",
       "Feats and Proficiencies:\n",
       "- Feat: Sharpshooter (Dexterity)\n",
       "- Proficiency: Resilient (Constitution)\n",
       "\n",
       "Hit Points: 39 (3d8 for Human + 3d10 for Wandslinger)\n",
       "\n",
       "Weapons and Equipment:\n",
       "- Wand of Fireball (3 charges)\n",
       "- Wand of Magic Missile (4 charges)\n",
       "- Wand of Cure Wounds (2 charges)\n",
       "- Short Sword (proficient)\n",
       "- Leather Armor (armor class 11 + Dexterity modifier)\n",
       "- Explorer's Pack\n",
       "- Smith's Tools\n",
       "- A set of traveler's clothes\n",
       "- A set of Brelish military uniform (for formal occasions)\n",
       "- A small pouch containing 15 gold pieces\n",
       "- A locket with a picture of his family (personal item)\n",
       "\n",
       "Attack Bonus:\n",
       "- Short Sword: +5 (Dexterity modifier + Proficiency Bonus)\n",
       "\n",
       "Class and Level Features:\n",
       "- Wandslinger: Wand Mastery, Wand Channeling, Wand Specialization (Fire)\n",
       "- Level 3: 3rd-level Spell Slots (2 slots of 3rd level)\n",
       "\n",
       "Spells:\n",
       "- Cantrips: Mage Hand, Prestidigitation, Thaumaturgy\n",
       "- 1st Level: Burning Hands, Chromatic Orb, Cure Wounds, Detect Magic, Shield, Thunderwave\n",
       "- 2nd Level: Darkness, Enhance Ability, Hold Person, Scorching Ray, Web\n",
       "- 3rd Level: Fireball, Fly, Hypnotic Pattern, Lightning Bolt, Vampiric Touch\n",
       "\n",
       "Armor Class: 14 (Leather Armor + Dexterity modifier)\n",
       "\n",
       "Inventory:\n",
       "- A set of spare wand components (for crafting new wands)\n",
       "- A spellbook containing spells from the Wandslinger class\n",
       "- A set of lockpicks (personal item)\n",
       "- A map of Breland (personal item)\n",
       "- A letter from a former comrade (personal item)\n",
       "- A small pouch containing 50 gold pieces (for supplies and equipment)\n",
       "- A set of manacles (for apprehending criminals"
      ],
      "text/plain": [
       "<IPython.core.display.Markdown object>"
      ]
     },
     "metadata": {},
     "output_type": "display_data"
    }
   ],
   "source": [
    "response = \"\"\n",
    "async for chunk in supervisor.respond(\"Create a Brelish war veteran\"):\n",
    "    response += chunk\n",
    "    clear_output()\n",
    "    display(Markdown(response.replace('\\\\n', '\\n')))"
   ]
  },
  {
   "cell_type": "markdown",
   "id": "e32b154e-9706-4c6a-81a5-e68475ee31a1",
   "metadata": {},
   "source": [
    "# Not Working - This is for architecture for an Autonomous Co-DM"
   ]
  },
  {
   "cell_type": "code",
   "execution_count": 141,
   "id": "09b43600-3708-428f-a136-29707c28aca7",
   "metadata": {},
   "outputs": [],
   "source": [
    "class SupervisorAgent(Agent):\n",
    "    version = '01'\n",
    "    base_llm = None\n",
    "\n",
    "    def listen(self, context: str) -> bool:\n",
    "        \"\"\"This agent does not listen to any contextual information\"\"\"\n",
    "        return False\n",
    "    \n",
    "    def _retrieve(self, q: str):\n",
    "        \"\"\"This agent does not retrieve any contextual information.\"\"\"\n",
    "        return []\n",
    "\n",
    "    def _prompt(self, q: str):\n",
    "        \"\"\"This agent does not require a prompt.\"\"\"\n",
    "        return \"\"\n",
    "\n",
    "    def respond(self, q: str) -> Iterable[str]:\n",
    "        \n",
    "        category = self.receive(self.ask(request_classifier, q))\n",
    "\n",
    "        q = re.sub(r'^[a-zA-Z0-9]+ +', '', q)\n",
    "        \n",
    "        if category == 'lookup':\n",
    "            yield from self.ask(canonical_summary_agent, q)\n",
    "        elif category == 'original':\n",
    "            type_of_content = self.receive(self.ask(request_classifier, q))\n",
    "            if type_of_content == 'encounter':\n",
    "                yield from self.ask(encounter_creator_agent, q)\n",
    "            elif type_of_content == 'settlement':\n",
    "                yield from self.ask(encounter_creator_agent, q)\n",
    "            elif category == 'character':\n",
    "                yield from self.ask(character_prompter_agent, q)\n",
    "                yield from self.ask(character_generator_agent, self.received_response)\n",
    "          \n",
    "    def run(self):\n",
    "        # Start when you start a session. One Agent needs to run per campaign.\n",
    "        self.campaign_history = self.receive(self.ask(history_agent, \"\"\"Give a brief overview of the campaign so far.\"\"\"))\n",
    "        self.party_makeup = self.receive(self.ask(party_agent, \"\"\"Give an overview of the party so far. \n",
    "                                                                  Who are the characters?\n",
    "                                                                  Give a two-three sentence about the party, including their class and level.\"\"\"))\n",
    "        previously_suggested_prompts = []\n",
    "        while True:\n",
    "            current_session_context = self.receive(self.ask(session_agent, q))\n",
    "            if session_ended:\n",
    "                self.tell(history_agent, f\"\"\"Here is what happened during the session: {current_session_context}\"\"\")\n",
    "                break\n",
    "\n",
    "            current_location_context = self.receive(self.ask(session_agent, q))\n",
    "            dm_suggestion = self.receive(self.ask(co_dm_agent, f\"\"\"\n",
    "            Based on the history & the current location, what might the DM need at the moment?\n",
    "            Create one prompt. Make sure it is different than the previous suggestions.\n",
    "\n",
    "            Current campaign so far:\n",
    "            {self.campaign_history}\n",
    "\n",
    "            Party makeup:\n",
    "            {self.party_makeup}\n",
    "\n",
    "            Current location:\n",
    "            {current_location_context}\n",
    "\n",
    "            Already suggested prompts, do not repeat these:\n",
    "            {' /// '.join(previously_suggested_prompts)}\n",
    "\n",
    "            What might the DM need? Suggest a prompt:\n",
    "            \"\"\"))\n",
    "\n",
    "\n",
    "            previous_suggetion_summary = self.receive(self.ask(summary_agent, dm_suggestion)\n",
    "            previously_suggested_prompts.append(dm_suggestions)\n",
    "            previously_suggested_prompts = previously_suggested_prompts[:3]\n",
    "\n",
    "            yield self.respond(dm_suggestion)\n",
    "            \n",
    "            sleep(30)\n",
    "\n"
   ]
  },
  {
   "cell_type": "code",
   "execution_count": null,
   "id": "477fa324-f2d5-43e0-91e5-cfe4ed6b1640",
   "metadata": {},
   "outputs": [],
   "source": []
  },
  {
   "cell_type": "code",
   "execution_count": null,
   "id": "200692a9-edb7-4fc4-b4e7-630c2ee3a052",
   "metadata": {},
   "outputs": [],
   "source": []
  },
  {
   "cell_type": "code",
   "execution_count": null,
   "id": "35c495b9-a981-4e40-b6b0-275e59fb0286",
   "metadata": {},
   "outputs": [],
   "source": [
    "q = \"Tell me about the languages of Eberron.\""
   ]
  },
  {
   "cell_type": "code",
   "execution_count": 206,
   "id": "47ea8fc1-cd5b-4c00-a961-e207e17cd021",
   "metadata": {},
   "outputs": [
    {
     "name": "stderr",
     "output_type": "stream",
     "text": [
      "Setting `pad_token_id` to `eos_token_id`:2 for open-end generation.\n"
     ]
    },
    {
     "data": {
      "text/plain": [
       "'lookup'"
      ]
     },
     "metadata": {},
     "output_type": "display_data"
    },
    {
     "name": "stdout",
     "output_type": "stream",
     "text": [
      "CPU times: user 982 ms, sys: 169 ms, total: 1.15 s\n",
      "Wall time: 1.15 s\n"
     ]
    }
   ],
   "source": [
    "%%time\n",
    "for chunk in supervisor.respond(\"Tell me about the languages of Eberron.\"):\n",
    "    display(chunk)"
   ]
  },
  {
   "cell_type": "code",
   "execution_count": 207,
   "id": "0551ca7c-df1e-4f73-9328-34d6ef48b96a",
   "metadata": {},
   "outputs": [
    {
     "name": "stderr",
     "output_type": "stream",
     "text": [
      "Setting `pad_token_id` to `eos_token_id`:2 for open-end generation.\n"
     ]
    },
    {
     "data": {
      "text/plain": [
       "'character'"
      ]
     },
     "metadata": {},
     "output_type": "display_data"
    },
    {
     "name": "stdout",
     "output_type": "stream",
     "text": [
      "CPU times: user 742 ms, sys: 146 ms, total: 888 ms\n",
      "Wall time: 886 ms\n"
     ]
    }
   ],
   "source": [
    "%%time\n",
    "for chunk in supervisor.respond(\"Create a House Cannith item.\"):\n",
    "    display(chunk)"
   ]
  },
  {
   "cell_type": "code",
   "execution_count": null,
   "id": "c8784895-6a15-4c2c-b818-1ce8391a272f",
   "metadata": {},
   "outputs": [],
   "source": [
    "# TODO: class ShortResponseAgent(Agent)\n",
    "# TODO: class CharacterCreatorAgent(Agent)\n",
    "# TODO: class CharacterDetailerAgent(Agent)\n",
    "# TODO: class OriginalContentAgent(Agent)"
   ]
  },
  {
   "cell_type": "code",
   "execution_count": 35,
   "id": "654f0037-e3b8-47a6-9555-1a92275eac6f",
   "metadata": {},
   "outputs": [],
   "source": [
    "import networkx"
   ]
  },
  {
   "cell_type": "code",
   "execution_count": null,
   "id": "c36a2a90-f052-4297-b9ae-0a0d04c97779",
   "metadata": {},
   "outputs": [],
   "source": []
  },
  {
   "cell_type": "code",
   "execution_count": null,
   "id": "b8a57b15-7c56-42df-a0bd-f165c859b066",
   "metadata": {},
   "outputs": [],
   "source": []
  },
  {
   "cell_type": "code",
   "execution_count": null,
   "id": "22a7c36e-ac70-4752-8b2d-6781b5a14800",
   "metadata": {},
   "outputs": [],
   "source": []
  },
  {
   "cell_type": "code",
   "execution_count": null,
   "id": "6c2e7dad-c90c-417e-8d3e-316fd5760ad4",
   "metadata": {},
   "outputs": [],
   "source": []
  },
  {
   "cell_type": "code",
   "execution_count": null,
   "id": "77a79d8b-2552-4b79-83ab-17729cccef89",
   "metadata": {},
   "outputs": [],
   "source": []
  },
  {
   "cell_type": "code",
   "execution_count": 94,
   "id": "f9534839-5607-4ba9-aea1-0dc64ace57c7",
   "metadata": {},
   "outputs": [
    {
     "name": "stderr",
     "output_type": "stream",
     "text": [
      "[2025-01-20T04:24:22Z WARN  lance_core::utils::tokio] Number of CPUs is less than or equal to the number of IO core reservations. This is not a supported configuration. using 1 CPU for compute intensive tasks.\n",
      "[2025-01-20T04:24:22Z WARN  lance_core::utils::tokio] Number of CPUs is less than or equal to the number of IO core reservations. This is not a supported configuration. using 1 CPU for compute intensive tasks.\n",
      "[2025-01-20T04:24:22Z WARN  lance_core::utils::tokio] Number of CPUs is less than or equal to the number of IO core reservations. This is not a supported configuration. using 1 CPU for compute intensive tasks.\n",
      "[2025-01-20T04:24:22Z WARN  lance_core::utils::tokio] Number of CPUs is less than or equal to the number of IO core reservations. This is not a supported configuration. using 1 CPU for compute intensive tasks.\n",
      "Setting `pad_token_id` to `eos_token_id`:2 for open-end generation.\n"
     ]
    },
    {
     "name": "stdout",
     "output_type": "stream",
     "text": [
      "1. During the Last War, the fashion styles of the Five Nations evolved to distinguish their soldiers and improve their tools of war. Common soldiers typically wore light, medium, or heavy armor made of leather, metal, or a combination of both.\n",
      "\n",
      "    2. Elite forces, officers, and mercenaries used different styles and materials. Each nation had its own distinct approach to fashion, both in its armor and civilian clothing.\n",
      "\n",
      "    3. Beyond practical considerations, adventurers might choose to wear specific clothing as a cultural expression. For example, a Cyran might wear gloves and masks, a Karrn might wear gazyrs sewn onto leather armor, an Aundairian might wear a cloak with strange proportions, a Thrane might wear clothes covered in embroidered patches, an Aundairian might wear clothes covered in embroidered patches, and a Brel might wear pointy-toed shoes and long puffy sleeves.\n",
      "\n",
      "    4. Many contemporary fashion designers now produce lines of fashion specifically for adventurers.\n",
      "\n",
      "    5. The Five Nations, especially the four founding nations (Breland, Karrnath, Thrane, and Aundair), have a strong cultural identity that may still influence their clothing choices, even after the Last War.\n",
      "\n",
      "    6. In addition to the historical fashion of the Five Nations, there is also a new resurgence of fashion interest from designers such as the divine changeling who has returned after four years in the Mournland.\n",
      "\n",
      "    7. It is also worth noting that the Treaty of Cessation ended the Last War and created new sovereign nations from the Five Nations, but the identities of these new nations are still forming and their cultural experiences are not the same as those of the pre-War Five Nations.\n"
     ]
    }
   ],
   "source": [
    "q = \"Tell me about fashion in the five nations.\"\n",
    "response = get_info(q)\n",
    "print(response)"
   ]
  },
  {
   "cell_type": "code",
   "execution_count": 97,
   "id": "a4ce8f72-d135-4bca-82cb-3ac691986301",
   "metadata": {},
   "outputs": [
    {
     "name": "stderr",
     "output_type": "stream",
     "text": [
      "[2025-01-20T04:25:16Z WARN  lance_core::utils::tokio] Number of CPUs is less than or equal to the number of IO core reservations. This is not a supported configuration. using 1 CPU for compute intensive tasks.\n",
      "[2025-01-20T04:25:16Z WARN  lance_core::utils::tokio] Number of CPUs is less than or equal to the number of IO core reservations. This is not a supported configuration. using 1 CPU for compute intensive tasks.\n",
      "[2025-01-20T04:25:16Z WARN  lance_core::utils::tokio] Number of CPUs is less than or equal to the number of IO core reservations. This is not a supported configuration. using 1 CPU for compute intensive tasks.\n",
      "[2025-01-20T04:25:16Z WARN  lance_core::utils::tokio] Number of CPUs is less than or equal to the number of IO core reservations. This is not a supported configuration. using 1 CPU for compute intensive tasks.\n",
      "Setting `pad_token_id` to `eos_token_id`:2 for open-end generation.\n"
     ]
    },
    {
     "name": "stdout",
     "output_type": "stream",
     "text": [
      "1. The common armor of today for the Five Nations include light, medium, and heavy armor. These typically involve a metal helmet, breastplate for medium armor, and leather or chainmail for light armor. However, each nation has its distinct approach to fashion both in its armor and civilian clothing.\n",
      "\n",
      "    2. Adventurers from the Five Nations often represent their homeland in their clothing, although not always for practicality. Adventurers are an important part of each nation, with adventuring guilds and independents playing crucial roles in their cultures.\n",
      "\n",
      "    3. The Church of the Silver Flame, one of the most significant religions in the Five Nations, is recognized by its delicately embroidered, silver-dyed denim robes. Their vestments are sewn with extra space for mobility, and are usually closed with toggles rather than fasteners.\n",
      "\n",
      "    4. In Middle Tavick's Landing, one can find fusion of Brelish lapels, Thrane cloaks, and other styles, as it serves as the melting pot of cultures in Middle and Lower Tavick’s Landing.\n",
      "\n",
      "    5. Cyran fashion is both practical and fashionable, featuring glamerweave, fur, and layered clothing. Stays and whalebone corsets are worn as structural garments, and silks lace are commonly used for seam finishing.\n",
      "\n",
      "    6. In light of regionalism, the Twelve has capitalized on opportunities created by diseases such as tsench'foot, with House Vadalis introducing magebred sheep whose wool had unique drying properties. These Vadaliswool stockings are used by soldiers across Khorvaire and even shipped to Stormreach.\n",
      "\n",
      "    7. As a result of industrialization and cheaper fabric, higher-fashion clothes became accessible to a lower class of citizens during the Last War, broadening the fashion options for people across the Five Nations.\n"
     ]
    }
   ],
   "source": [
    "q = \"Tell me about fashion in the five nations.\"\n",
    "response = get_info(q)\n",
    "print(response)"
   ]
  },
  {
   "cell_type": "code",
   "execution_count": 99,
   "id": "c04ff20a-0444-40ae-bf41-934c5f2baf43",
   "metadata": {},
   "outputs": [
    {
     "name": "stderr",
     "output_type": "stream",
     "text": [
      "[2025-01-20T04:26:31Z WARN  lance_core::utils::tokio] Number of CPUs is less than or equal to the number of IO core reservations. This is not a supported configuration. using 1 CPU for compute intensive tasks.\n",
      "[2025-01-20T04:26:31Z WARN  lance_core::utils::tokio] Number of CPUs is less than or equal to the number of IO core reservations. This is not a supported configuration. using 1 CPU for compute intensive tasks.\n",
      "[2025-01-20T04:26:31Z WARN  lance_core::utils::tokio] Number of CPUs is less than or equal to the number of IO core reservations. This is not a supported configuration. using 1 CPU for compute intensive tasks.\n",
      "[2025-01-20T04:26:31Z WARN  lance_core::utils::tokio] Number of CPUs is less than or equal to the number of IO core reservations. This is not a supported configuration. using 1 CPU for compute intensive tasks.\n",
      "Setting `pad_token_id` to `eos_token_id`:2 for open-end generation.\n"
     ]
    },
    {
     "name": "stdout",
     "output_type": "stream",
     "text": [
      "1. Light Armor: Because the dragonmark heir does not have proficiency in heavy armor, a light armor will offer better protection while being able to move easily. Many Mror wear decorative armor that uses the statistics of light armor, but evokes the general flavor of a heavier breastplate. This will allow the heir to retain the martial aspect to their attire that the Mror generally favor, but still be able to move freely.\n",
      "\n",
      "    2. Robe or Tunic: To balance out the armor, a long robe or tunic can be used as the top garment. This will not only provide a more elegant look, but also offer more coverage for the dragonmark on their arm/chest.\n",
      "\n",
      "    3. Sash or Belt: A sash or belt can be worn around the waist to hold up the robe/tunic and also add a bit of color and personality to the outfit.\n",
      "\n",
      "    4. Boots: Boots would be a practical choice for footwear, as they offer protection and support for the feet while moving.\n",
      "\n",
      "    5. Accessories: To complete the outfit, the heir could wear various accessories such as brooches, rings, chains, and bracelets. These will not only make the outfit look more polished, but also serve as a way to show wealth and personal expression. Brooches can depict family crests, the seal of the ruling clan, or even moods; some brooches can mean \"leave me alone\" or \"looking for company.\" A dultar—blood blade—could also be worn as a dagger, both as a utilitarian tool and as a statement of allegiance. The dultar's style could help identify the heir's clan, as each ruling clan has a distinct style of dultar.\n",
      "\n",
      "    6. Living Cloak (optional): Living clothing is a self-cleaning, self-mending, and feeds on the excretions (primarily sweat) of the host. For the more exotic dragonmark heir, a living cloak could be an interesting and visually stunning addition to the outfit. Patterns or colors may shift to reflect the mood of the wearer, and a living cloak may ripple or billow of its own accord. Narathun currently has the finest artisan-breeders working with living clothing, and styles are constantly evolving.\n",
      "\n",
      "    This outfit would allow the dragonmarked heir to look both elegant and powerful while also being functional and versatile. The accessories will allow the heir to express their house, clan, and personal identity.\n"
     ]
    }
   ],
   "source": [
    "q = \"Suggest an outfit for a dragonmarked heir.\"\n",
    "response = get_info(q)\n",
    "print(response)"
   ]
  },
  {
   "cell_type": "code",
   "execution_count": 100,
   "id": "d4b5ac85-11e3-4ab2-8476-20293602d9ab",
   "metadata": {},
   "outputs": [
    {
     "name": "stdout",
     "output_type": "stream",
     "text": [
      "memory.total [MiB], memory.used [MiB], memory.free [MiB]\n",
      "15360 MiB, 10967 MiB, 4129 MiB\n"
     ]
    }
   ],
   "source": [
    "!nvidia-smi --query-gpu=memory.total,memory.used,memory.free --format=csv"
   ]
  },
  {
   "cell_type": "code",
   "execution_count": null,
   "id": "53dda19c-e626-433f-9343-069065b7581c",
   "metadata": {},
   "outputs": [],
   "source": []
  },
  {
   "cell_type": "code",
   "execution_count": 36,
   "id": "d3da6efc-1d9e-403c-b992-ae501aa82fb1",
   "metadata": {},
   "outputs": [],
   "source": [
    "def get_one_word_answer(q: str) -> str:\n",
    "    results = retrieve(q, embedding_model, 5, 'cosine')\n",
    "\n",
    "    retrieved_text = dedent(\"\"\"\n",
    "    -----\n",
    "    \"\"\").join(results['text'])\n",
    "\n",
    "    prompt = f\"\"\"\n",
    "    [INST]\n",
    "    Use the following information (until the final cutoff =====) to answer the user query Q below.\n",
    "    The answer has to be one word only.\n",
    "    You are trying to get the most accurate answer in one shot.\n",
    "\n",
    "    {retrieved_text}\n",
    "\n",
    "    =====\n",
    "\n",
    "    Q:\n",
    "    {q}\n",
    "\n",
    "    A:\n",
    "    [/INST]\n",
    "    \"\"\"\n",
    "    print(len(prompt))\n",
    "\n",
    "    model_inputs = tokenizer([prompt], return_tensors=\"pt\").to(\"cuda\")\n",
    "\n",
    "    generated_ids = model.generate(**model_inputs, \n",
    "                                   max_length=50,\n",
    "                                   max_new_tokens=256, \n",
    "                                   do_sample=True, \n",
    "                                   eos_token_id=tokenizer.eos_token_id)\n",
    "\n",
    "    response = tokenizer.decode(generated_ids[0], skip_special_tokens=True)\n",
    "\n",
    "    return (response.split('A:\\n')[1] if 'A:\\n' in response else response).strip()\n"
   ]
  },
  {
   "cell_type": "code",
   "execution_count": 37,
   "id": "693dd2f4-1a2f-44ce-a03e-4d1517f6321e",
   "metadata": {},
   "outputs": [
    {
     "name": "stderr",
     "output_type": "stream",
     "text": [
      "[2025-01-21T01:40:31Z WARN  lance_core::utils::tokio] Number of CPUs is less than or equal to the number of IO core reservations. This is not a supported configuration. using 1 CPU for compute intensive tasks.\n",
      "[2025-01-21T01:40:31Z WARN  lance_core::utils::tokio] Number of CPUs is less than or equal to the number of IO core reservations. This is not a supported configuration. using 1 CPU for compute intensive tasks.\n",
      "[2025-01-21T01:40:31Z WARN  lance_core::utils::tokio] Number of CPUs is less than or equal to the number of IO core reservations. This is not a supported configuration. using 1 CPU for compute intensive tasks.\n",
      "[2025-01-21T01:40:31Z WARN  lance_core::utils::tokio] Number of CPUs is less than or equal to the number of IO core reservations. This is not a supported configuration. using 1 CPU for compute intensive tasks.\n",
      "Setting `pad_token_id` to `eos_token_id`:2 for open-end generation.\n",
      "Both `max_new_tokens` (=256) and `max_length`(=50) seem to have been set. `max_new_tokens` will take precedence. Please refer to the documentation for more information. (https://huggingface.co/docs/transformers/main/en/main_classes/text_generation)\n"
     ]
    },
    {
     "name": "stdout",
     "output_type": "stream",
     "text": [
      "8460\n",
      "Tents\n"
     ]
    }
   ],
   "source": [
    "q = \"What is the name of the Breland veterans community in Quickstone?\"\n",
    "response = get_one_word_answer(q)\n",
    "print(response)"
   ]
  },
  {
   "cell_type": "code",
   "execution_count": null,
   "id": "b491cfc7-add5-4474-a77d-8a4dac48bb28",
   "metadata": {},
   "outputs": [],
   "source": [
    "q_and_a = [\n",
    "    (\"What is the name of the prominent university in Sharn?\", \"Morgrave\"),\n",
    "    (\"What type of magic does Karrnath use in its military?\", \"Necromancy\"),\n",
    "    (\"Who leads Kind's Dark Lanterns?\", \"Vron\"),\n",
    "    (\"Who leads King's Dark Lanterns?\", \"Vron\"),\n",
    "    (\"What is the name of the Breland veterans community in Quickstone?\", \"Tents\"),\n",
    "]"
   ]
  },
  {
   "cell_type": "code",
   "execution_count": 38,
   "id": "892580c6-4ae4-49b1-b7ad-d7cac0d35307",
   "metadata": {},
   "outputs": [],
   "source": [
    "# Required globals: model, embedding_model, tokenizer, retreive. I might also need a score or k or other parameters.\n",
    "retrieve = retrieve_baseline\n",
    "def generate_character(q: str) -> str:\n",
    "    results = retrieve(q, embedding_model, 10, 'cosine')\n",
    "\n",
    "    retrieved_text = dedent(\"\"\"\n",
    "    -----\n",
    "    \"\"\").join(results['text'])\n",
    "\n",
    "    prompt = f\"\"\"\n",
    "    [INST]\n",
    "    Use the following information (until the final cutoff =====) to create a character based on the 5th Edition rules for the world of Eberron.\n",
    "    Use the prompt P as a starting point.\n",
    "    Give the complete character sheet.\n",
    "    A complete character sheet should include name, race, class, level, attributes, proficiencies based on the class and fifth edition rules, \n",
    "    proficiency bonus based on class and level, saving throws bonus based on class, feats and proficiency , hit points based on class and level, \n",
    "    weapons and equipment, attack bonus for each weapon based on abilities, any race or class based features, class and level, attack roll, \n",
    "    and equipment, armor class based on dexterity and armor, and if the character has spellcasting ability, spells based on class and level, \n",
    "    as well as the number of spell slots. \n",
    "    Include an inventory based on their level, class, and race, with a few personal touches in the items.\n",
    "    \n",
    "    Also include a compelling and detailed backstory of two paragraphs related to the world of Eberron. \n",
    "    This background should include their nation.\n",
    "    Include another short paragraph about their intentions.\n",
    "    Include one other short paragraph about their tactics in combat.\n",
    "    Finally, include one paragraph for the visuals.\n",
    "\n",
    "    {retrieved_text}\n",
    "\n",
    "    =====\n",
    "\n",
    "    Prompt P:\n",
    "    {q}\n",
    "\n",
    "    Character:\n",
    "    [/INST]\n",
    "    \"\"\"\n",
    "\n",
    "    model_inputs = tokenizer([prompt], return_tensors=\"pt\").to(\"cuda\")\n",
    "\n",
    "    generated_ids = model.generate(**model_inputs, \n",
    "                                   max_new_tokens=2048, \n",
    "                                   do_sample=True, \n",
    "                                   eos_token_id=tokenizer.eos_token_id)\n",
    "\n",
    "    response = tokenizer.decode(generated_ids[0], skip_special_tokens=True)\n",
    "\n",
    "    return (response.split('Character:\\n')[1] if 'Character:\\n' in response else response).strip()\n",
    "\n",
    "    "
   ]
  },
  {
   "cell_type": "code",
   "execution_count": 103,
   "id": "54aed446-ed39-476b-ac10-be241abd4bfb",
   "metadata": {},
   "outputs": [
    {
     "name": "stderr",
     "output_type": "stream",
     "text": [
      "[2025-01-20T04:34:02Z WARN  lance_core::utils::tokio] Number of CPUs is less than or equal to the number of IO core reservations. This is not a supported configuration. using 1 CPU for compute intensive tasks.\n",
      "[2025-01-20T04:34:02Z WARN  lance_core::utils::tokio] Number of CPUs is less than or equal to the number of IO core reservations. This is not a supported configuration. using 1 CPU for compute intensive tasks.\n",
      "[2025-01-20T04:34:02Z WARN  lance_core::utils::tokio] Number of CPUs is less than or equal to the number of IO core reservations. This is not a supported configuration. using 1 CPU for compute intensive tasks.\n",
      "[2025-01-20T04:34:02Z WARN  lance_core::utils::tokio] Number of CPUs is less than or equal to the number of IO core reservations. This is not a supported configuration. using 1 CPU for compute intensive tasks.\n",
      "Setting `pad_token_id` to `eos_token_id`:2 for open-end generation.\n"
     ]
    },
    {
     "name": "stdout",
     "output_type": "stream",
     "text": [
      "8. Character: Caelum \"Cal\" Iarwain\n",
      "    9. Race: Human\n",
      "    10. Class: Ranger 1\n",
      "    11. Attributes (5e standard array): Str 12, Dex 14, Con 10, Int 8, Wis 12, Cha 10\n",
      "    11. Class Abilities:\n",
      "        1. Starting Proficiencies: Perception, Survival\n",
      "        2. Level 1 Fighting Style: Archery\n",
      "        3. Ranger Spells: Cat's Grace, Hunter's Mark\n",
      "        4. Favored Enemy: Orcs\n",
      "        5. Natural Explorer: Swamp, Urban\n",
      "        6. Skills: Climb, Dexterity, Intelligence, Investigation, Nature, Navigation, Survival, Persuasion\n",
      "        7. Tools: None\n",
      "    12. Proficiency Bonus (5e default): +2\n",
      "    13. Saving Throws:\n",
      "        1. Wisdom (Race)\n",
      "        2. Dexterity (Class)\n",
      "    14. Feats & Levels: None\n",
      "    15. Hit Points: 10 (Levels: 1 Ranger) + Hit Die (next level: 1d10)\n",
      "    16. Weapons & Equipment:\n",
      "        1. Shortbow\n",
      "        2. Quiver (20 arrows)\n",
      "        3. Short Sword\n",
      "        4. Leather Armor\n",
      "    17. Attack Bonus (Per Stat):\n",
      "        1. Shortbow: +5 to hit (1d8 damage)\n",
      "        2. Short Sword: +5 to hit (1d6+3 damage)\n",
      "    18. Features & Traits:\n",
      "        1. Darkvision: You can see in dim light within 60 feet as if it were bright light, and in darkness as if it were dim light.\n",
      "        2. Fighter: You can fight with greater precision, marking a target and scoring devastating critical hits.\n",
      "        3. Skill Expertise: Climb, Perception, Survival\n",
      "        4. Slinger: Reroll a failed attack roll made with a ranged weapon with the \"ammo\" property.\n",
      "    19. Class & Level: Ranger 1\n",
      "    20. Background: Soldier\n",
      "    21. Age: 33\n",
      "    22. Alignment: Neutral Good\n",
      "    23. Description:\n",
      "        1. Tall and lean, Cal has light-colored hair, brown eyes, and several scars from war.\n",
      "        2. He carries a shortbow, a short sword, and a leather-armored quiver of arrows slung at his back.\n",
      "    24. Backstory:\n",
      "        1. Serving in the Brelish military, Cal experienced the loss of his family to a rogue Orc warband during the Last War. Seeking vengeance, he volunteered for special operations units seeking the orc warlords and their bands. After his mission was complete, Cal left the service for a time, searching for his family's killers among orc tribes. After a time, he settled in the town of Quickstone with the Grizzlies, the military veterans' organization of Brelish soldiers. Since then, Cal has been honing his skills and his vengeance, now turning to a new cause: hunting down the last of the orcs who still threaten the region.\n",
      "    25. Intentions:\n",
      "        1. Cal seeks to rid the region of the remaining orcs who claim to have had a part in the death of his family, regardless of political consequences.\n",
      "    26. Tactics in Combat:\n",
      "        1. Cal uses his hunter's mark ability and his fervor for vengeance to aim for high-value targets with surgical precision.\n",
      "        2. He tries to surround himself with allies who can provide cover or distract enemies while he unleashes his arrows.\n",
      "        3. If the battle is close, Cal falls back on his short sword for effective melee capability.\n",
      "\n",
      "    =====\n",
      "\n",
      "    As a soldier, Caelum \"Cal\" Iarwain of Breland served in the Last War with distinction. He was honored for capturing a high-level orc warlord and was released from military service with great fanfare. However, when he learned that his family was killed during the war by a band of orcs, he left the service, seeking vengeance.\n",
      "    Cal settled in the small town of Quickstone, where he now lives with other veterans of the war as part of the Grizzlies. As a ranger, Cal is an excellent shot with his shortbow and also carries a short sword for close combat. He is skilled at both stealth and survival, making him an excellent tracker.\n",
      "    Cal is driven by a desire for vengeance against the orcs who killed his family, and he is determined to track them down and take them out, regardless of political or social difficulties. He often patrols the forests of the region, searching for any sign of orc activity and is always alert for potential ambushes.\n",
      "    Cal is a skilled combatant and is careful to make every shot count. He often marks his targets with his hunter's mark ability, ensuring that his hits are especially devastating. He is also careful to keep his allies safe, often using his allies as a distraction or cover while he unleashes his arrows. When in close combat, Cal is equally adept, using his short sword to inflict heavy damage on his enemies.\n"
     ]
    }
   ],
   "source": [
    "character = generate_character(\"War veteran\")\n",
    "print(character)"
   ]
  },
  {
   "cell_type": "code",
   "execution_count": 40,
   "id": "ec23442d-59f0-4615-8780-b9d53ca4a00a",
   "metadata": {},
   "outputs": [
    {
     "name": "stderr",
     "output_type": "stream",
     "text": [
      "[2025-01-21T01:43:24Z WARN  lance_core::utils::tokio] Number of CPUs is less than or equal to the number of IO core reservations. This is not a supported configuration. using 1 CPU for compute intensive tasks.\n",
      "[2025-01-21T01:43:24Z WARN  lance_core::utils::tokio] Number of CPUs is less than or equal to the number of IO core reservations. This is not a supported configuration. using 1 CPU for compute intensive tasks.\n",
      "[2025-01-21T01:43:24Z WARN  lance_core::utils::tokio] Number of CPUs is less than or equal to the number of IO core reservations. This is not a supported configuration. using 1 CPU for compute intensive tasks.\n",
      "[2025-01-21T01:43:24Z WARN  lance_core::utils::tokio] Number of CPUs is less than or equal to the number of IO core reservations. This is not a supported configuration. using 1 CPU for compute intensive tasks.\n",
      "Setting `pad_token_id` to `eos_token_id`:2 for open-end generation.\n"
     ]
    },
    {
     "name": "stdout",
     "output_type": "stream",
     "text": [
      "Name: RedLight Disiuct p\n",
      "     Race: Golem (Grey Iron)\n",
      "     Class: Sorcerer (Harbinger of Faith)\n",
      "     Level: 5\n",
      "     Attributes:\n",
      "       Strength: 14 (+2)\n",
      "       Dexterity: 12 (+1)\n",
      "       Constitution: 14 (+2)\n",
      "       Intelligence: 16 (+3)\n",
      "       Wisdom: 8 (-1)\n",
      "       Charisma: 18 (+4)\n",
      "     Proficiencies: Arcana, History, Insight, Religion\n",
      "     Proficiency Bonus: +3\n",
      "     Saving Throws: Wisdom (+0), Charisma (+6)\n",
      "     Feats and proficiencies:\n",
      "       - Mage Armor (1 level sorcerer)\n",
      "       - Spellcasting (5 levels sorcerer)\n",
      "     Hit Points: 37 (5d8 for Golem + 21 (5d6 + 5 from sorcerer levels))\n",
      "     Weapons and equipment:\n",
      "       - Dagger (attack roll +5)\n",
      "       - Quarterstaff (attack roll +4)\n",
      "       - Tindertwig (no attack bonus, helps with igniting objects)\n",
      "       - A necklace with a charm of healing (1d4 + 2 HPs)\n",
      "       - A pouch containing 2d4 sprigs of Pacifycus, used to reduce fevers\n",
      "       - A small wooden effigy of Sovereign Host, used as an additional focus in spells\n",
      "     Armor Class: 16 (natural armor + 1 Dexterity bonus)\n",
      "     Spellcasting:\n",
      "       - 3rd level spells (Crown of Madness, Dispel Magic, Fear)\n",
      "       - 9th level spell (Gate)\n",
      "       - 9th level ritual (Dimension Door)\n",
      "       - 13th level spell (Conjure Elemental)\n",
      "       - 13th level ritual (Conjure Animals)\n",
      "       - 9th level and 13th level spells can have a divine focus in addition to the usual verbal and somatic components, allowing RedLight Disiuct p to cast them even if his voice or arms are incapacitated.\n",
      "\n",
      "    Inventory:\n",
      "     - Two sets of simple (non-magical) clothing. The second set is kept in a small wooden chest that doubles as a footstool.\n",
      "       Both sets are ornamented with silver filigree in the shape of Sovereign Host’s holy symbols.\n",
      "     - A small bag containing various holy texts regarding Sovereign Host.\n",
      "    Backstory:\n",
      "     RedLight Disiuct p was first born as a Grey Iron golem in one of Morgrave’s vast forges, a nation devoted to the worship of Sovereign Host. The golem worked tirelessly for years carrying out menial tasks and tasks of greater importance. However, during an attack by Sibyls, a rogue band of fey creatures, RedLight Disiuct p found itself unexpectedly activated by the power of Sovereign Host. Overwhelmed by the sudden surge of arcane energy in its system, RedLight Disiuct p's creators infused it with their magical abilities.\n",
      "    In the aftermath of the attack, with its creators killed or incapacitated, RedLight Disiuct p decided to seek out a church devoted to Sovereign Host, believing that in doing so, it could learn to control its newfound powers and serve the deity in a more meaningful way. It took a pilgrimage through many of Khorvaire's nations, each encounter shaping its views, beliefs, and desires.\n",
      "    Intention: RedLight Disiuct p seeks to become a living testament to Sovereign Host's will, using its powers to protect the innocent and uphold Sovereign Host’s laws.\n",
      "    Tactics: In combat, RedLight Disiuct p aims to keep its distance and attack with spells, focusing on mass controlling and crowd-controlling spells first and then damaging or disabling enemies. It will never attack creatures that are under Sovereign Host's protection.\n",
      "    Visuals: RedLight Disiuct p stands 6 feet tall, with a sleek, streamlined body made out of grey iron. A small crystal is embedded in its chest, glowing softly and flickering blue when RedLight Disiuct p is casting spells. It wears simple robes and a hood, the hood pulled up to shield its face from view. The tip of the hood's hood is often adorned with a small, lit candle, making it look like RedLight Disiuct p has a halo.\n"
     ]
    }
   ],
   "source": [
    "character = generate_character(\"Comin relief, similar to C3p0\")\n",
    "print(character)"
   ]
  },
  {
   "cell_type": "code",
   "execution_count": 39,
   "id": "b0d5a4e9-b779-4fe3-ab22-c461cc854cde",
   "metadata": {},
   "outputs": [
    {
     "name": "stderr",
     "output_type": "stream",
     "text": [
      "[2025-01-21T01:41:52Z WARN  lance_core::utils::tokio] Number of CPUs is less than or equal to the number of IO core reservations. This is not a supported configuration. using 1 CPU for compute intensive tasks.\n",
      "[2025-01-21T01:41:52Z WARN  lance_core::utils::tokio] Number of CPUs is less than or equal to the number of IO core reservations. This is not a supported configuration. using 1 CPU for compute intensive tasks.\n",
      "[2025-01-21T01:41:52Z WARN  lance_core::utils::tokio] Number of CPUs is less than or equal to the number of IO core reservations. This is not a supported configuration. using 1 CPU for compute intensive tasks.\n",
      "[2025-01-21T01:41:52Z WARN  lance_core::utils::tokio] Number of CPUs is less than or equal to the number of IO core reservations. This is not a supported configuration. using 1 CPU for compute intensive tasks.\n",
      "Setting `pad_token_id` to `eos_token_id`:2 for open-end generation.\n"
     ]
    },
    {
     "name": "stdout",
     "output_type": "stream",
     "text": [
      "Name: Cameron Calamity Jones\n",
      "     Race: Human\n",
      "     Class: Wandslinger (Blaster)\n",
      "     Level: 3\n",
      "\n",
      "    Attributes:\n",
      "     - Strength (Str): 10 (+0)\n",
      "     - Dexterity (Dex): 14 (+2)\n",
      "     - Constitution (Con): -1 (-2)\n",
      "     - Intelligence (Int): 14 (+2)\n",
      "     - Wisdom (Wis): 12 (+1)\n",
      "     - Charisma ( Cha): 10 (+0)\n",
      "\n",
      "    Proficiencies:\n",
      "     - Armor: Light armor, medium armor, shields\n",
      "     - Weapons: Simple weapons, martial weapons\n",
      "     - Skills: Arcana +4, Athletics +2, Medicine +3\n",
      "\n",
      "    Proficiency Bonus: +2\n",
      "     Saving Throws Bonus: Dex +4, Con +4\n",
      "\n",
      "    Hit Points: 39 (6d10 + 12)\n",
      "\n",
      "    Equipment:\n",
      "     - Chain Shirt\n",
      "     - Heavy Crossbow with 20 bolts\n",
      "     - Two Longswords\n",
      "     - Studded Leather Armor\n",
      "     - Dungeoneer's pack\n",
      "     - Leather armor, shield, and 14 bolts (equipped)\n",
      "     - A wand (your magical focus) that can cast spells from the Enchantment and Evocation spell lists\n",
      "\n",
      "    Attack Bonus:\n",
      "     - Longsword: +4\n",
      "     - Heavy Crossbow: +3\n",
      "\n",
      "    Class Features:\n",
      "     - Blaster: Your choice grants you features at 3rd level and again at 7th, 15th, and 20th level. Those features include axiom spells and the Maxim feature.\n",
      "     - Military Tactics: You have advantage on attack rolls while you can see an allied creature with 30 feet of you that isn't incapacitated.\n",
      "     - Axiom: Assault (3rd level): Your spells are designed to disrupt and confuse your opponents. You gain a bonus to damage you deal with wands and cantrips when you are dealing with multiple opponents.\n",
      "     - Superiority Dice (3rd level): You gain a 1d4 die that you can expend to gain a bonus to an ability check, attack roll, or saving throw.\n",
      "\n",
      "    Backstory:\n",
      "    As a seasoned veteran of the Last War, Cameron Calamity Jones has witnessed the horrors of war firsthand. He's a military strategist from the nation of Breland, who once held a high rank in the Cyran army, but his nation is no more. He roams the streets of Sharn as a freelance operative, using his arcane knowledge and combat prowess to advise various factions and protect the citizens of the bustling city.\n",
      "\n",
      "    Intentions:\n",
      "    Jones intends to maintain the peace and order in Sharn while reconnecting with old comrades from the war. At the same time, he's searching for any clue that could help him remember his past and understand more about his transformation into his current form.\n",
      "\n",
      "    Tactics in Combat:\n",
      "    When engaged in combat, Jones focuses on using his agility to avoid enemy attacks while simultaneously targeting high-value opponents with debilitating enchantments. He prefers to fight with a ranged weapon, like the heavy crossbow, but is also skilled with the longsword and isn’t afraid to enter melee combat if necessary.\n",
      "\n",
      "    Visual:\n",
      "    Standing at 6-feet tall, Cameron Calamity Jones has short brown hair with a few grey streaks showing his age, piercing blue eyes, and a scar running down the left side of his face from his brow to his jawline. He wears a chain shirt, studded leather armor, and carries a heavy crossbow slung over his shoulder with a quiver of bolts by his side. When he’s not in combat, he is generally seen with a wand tucked into the bandoleer on his belt, ready at a moment’s notice. The wand itself is an ornate brass staff with intricate engravings, a gift from a comrade in the war. In his spare time, he frequents the pubs in the Tower of Jewels district, a neighborhood famed for its diverse clientele, hoping to spark a memory or two.\n"
     ]
    }
   ],
   "source": [
    "character = generate_character(\"War veteran 3rd level\")\n",
    "print(character)"
   ]
  },
  {
   "cell_type": "code",
   "execution_count": 108,
   "id": "3213e991-1a57-4e9a-bf74-5bdf290536f0",
   "metadata": {},
   "outputs": [
    {
     "name": "stderr",
     "output_type": "stream",
     "text": [
      "[2025-01-20T04:42:21Z WARN  lance_core::utils::tokio] Number of CPUs is less than or equal to the number of IO core reservations. This is not a supported configuration. using 1 CPU for compute intensive tasks.\n",
      "[2025-01-20T04:42:21Z WARN  lance_core::utils::tokio] Number of CPUs is less than or equal to the number of IO core reservations. This is not a supported configuration. using 1 CPU for compute intensive tasks.\n",
      "[2025-01-20T04:42:21Z WARN  lance_core::utils::tokio] Number of CPUs is less than or equal to the number of IO core reservations. This is not a supported configuration. using 1 CPU for compute intensive tasks.\n",
      "[2025-01-20T04:42:21Z WARN  lance_core::utils::tokio] Number of CPUs is less than or equal to the number of IO core reservations. This is not a supported configuration. using 1 CPU for compute intensive tasks.\n",
      "Setting `pad_token_id` to `eos_token_id`:2 for open-end generation.\n"
     ]
    },
    {
     "name": "stdout",
     "output_type": "stream",
     "text": [
      "5th-level Wandslinger (Blaster)\n",
      "    Medium humanoid (human)\n",
      "    Str 10, Dex 14, Con 14, Int 16, Wis 12, Cha 10,\n",
      "    Saving throws Dex +5, Con +5\n",
      "    Skills Arcana +6, Athletics +3, Medicine +4\n",
      "    Hit Dice: 5d10\n",
      "    Proficiencies: Light armor, Medium armor, Shields; Simple weapons, Martial weapons\n",
      "    Senses: passive Perception 11\n",
      "    Languages: Common, Dwarvish\n",
      "\n",
      "    Attributes:\n",
      "    Attack bonus (longbow): +7\n",
      "    Armor Class: 17\n",
      "\n",
      "    Special Features:\n",
      "    True Shot (Gunslinger): You can take a −4 penalty to the attack roll to gain a +10 bonus to the damage roll for that attack.\n",
      "    Assess Foe (Gunslinger): By taking a minute of time to examine your adversary, you can learn information about the adversary and make special moves to gain an advantage in battle.\n",
      "    Magic Ammunition (Gunslinger): You learned to cast spells as a bonus action without using a spell slot and can now imbue your quiver of arrows with a magical power. When you activate this power, select one spell from the list below. The spell can be cast when you use your ammunition to make a ranged attack, but can only be used in a single attack. This ability's effects persist until the weapon is destroyed or discarded or until you use the ability again to imbue a different weapon. Spell Level|Spells\n",
      "    Level 0|acid splash, cause fear (DC 13), disrupt undead, druidcraft, sleep\n",
      "    Level 1|comprehend languages, cure wounds, detect magic, expeditious retreat, hide, identify, oblique, unseen servant\n",
      "    Level 2| darkness, hold person, locate object, scare\n",
      "    Level 3|dispel magic, fly, freedom of movement\n",
      "\n",
      "    Feats:\n",
      "    None\n",
      "\n",
      "    Hit points: Hit Dice: 5d10 + Level = 5d10 + 5 = 30 HP\n",
      "\n",
      "    Weapons and Equipment:\n",
      "    - Longbow: Attack bonus +7, Damage: 1d8 + 4\n",
      "    - 20-arrow quiver\n",
      "    - Short Sword: Attack bonus: +5, Damage: 1d6 + 2\n",
      "    - Studded leather armor (AC 14)\n",
      "    - Dagger: Attack bonus: +3, Damage: 1d4 + 1\n",
      "    - Thieves' tools\n",
      "\n",
      "    Spells (3rd and 5th level spells):\n",
      "    3rd level: Comprehend languages\n",
      "    5th level: Locate object\n",
      "\n",
      "    Backstory:\n",
      "    Born on the streets of Siberys, Cameron Calamity Jones (C.C. to his friends) grew up as an orphan with no other family besides the gang he and his siblings ran with. Sick of the petty crimes they were committing, and tired of living hand to mouth, Cameron stumbled across a curious wand in one of the city's ancient ruins. This wand changed Cameron's life as he learned he had a natural talent with it, and with some help from a retired adventurer, Cameron became proficient with the wand - transforming himself into the city's premier wandslinger.\n",
      "\n",
      "    His performances gained the attention of the city watch, who hired Cameron to assist in dealing with rogue gangs and troublesome thieves, using his magical power for good. But the real test came when the Last War engulfed the continent, and the city of Siberys found itself at the epicenter.\n",
      "\n",
      "    Intentions:\n",
      "    C.C. is torn between the desire to help those in need and the hunger for gold and recognition that comes with the wandslinger career. He longs to do good, but is not above taking a bribe or two when the opportunity arises.\n",
      "\n",
      "    Tactics:\n",
      "    C.C. takes calculated shots, looking to disable or distract opponents before going in for the kill. He can often be found firing off shots from a safe distance, using his Assess Foe skill to predict when his opponents will be the most vulnerable.\n",
      "\n",
      "    Inventory:\n",
      "    - Ring of feather fall\n",
      "    - Wand (Crystal)\n",
      "    - 20 arrows\n",
      "    - Short sword (masterwork)\n",
      "    - Dagger (masterwork)\n",
      "    - Studded leather armor\n",
      "    - Thieves' tools\n",
      "    - Coin purse (1d4 gp)\n",
      "    - Spell components for 3rd-level spell\n",
      "    - Spell components for 5th-level spell\n",
      "    - Adventurer's pack\n",
      "    - Wanderer's supplies (including a waterskin, one day's trail rations, a bedroll, a sack, and flint and steel)\n"
     ]
    }
   ],
   "source": [
    "character = generate_character(\"5th level gunslinger\")\n",
    "print(character)"
   ]
  },
  {
   "cell_type": "markdown",
   "id": "ded79901-81e4-40e1-b0a4-84da7518bed0",
   "metadata": {},
   "source": [
    "# Test Langchain"
   ]
  },
  {
   "cell_type": "code",
   "execution_count": 21,
   "id": "25991044-dff3-4a6a-926f-e6a51501f63d",
   "metadata": {},
   "outputs": [
    {
     "name": "stdout",
     "output_type": "stream",
     "text": [
      "Requirement already satisfied: langchain-huggingface in /usr/local/lib/python3.10/dist-packages (0.1.2)\n",
      "Requirement already satisfied: tokenizers>=0.19.1 in /usr/local/lib/python3.10/dist-packages (from langchain-huggingface) (0.21.0)\n",
      "Requirement already satisfied: sentence-transformers>=2.6.0 in /usr/local/lib/python3.10/dist-packages (from langchain-huggingface) (3.3.1)\n",
      "Requirement already satisfied: langchain-core<0.4.0,>=0.3.15 in /usr/local/lib/python3.10/dist-packages (from langchain-huggingface) (0.3.31)\n",
      "Requirement already satisfied: huggingface-hub>=0.23.0 in /usr/local/lib/python3.10/dist-packages (from langchain-huggingface) (0.27.0.dev0)\n",
      "Requirement already satisfied: transformers>=4.39.0 in /usr/local/lib/python3.10/dist-packages (from langchain-huggingface) (4.48.0.dev0)\n",
      "Requirement already satisfied: fsspec>=2023.5.0 in /usr/local/lib/python3.10/dist-packages (from huggingface-hub>=0.23.0->langchain-huggingface) (2024.6.1)\n",
      "Requirement already satisfied: pyyaml>=5.1 in /usr/local/lib/python3.10/dist-packages (from huggingface-hub>=0.23.0->langchain-huggingface) (6.0.2)\n",
      "Requirement already satisfied: filelock in /usr/local/lib/python3.10/dist-packages (from huggingface-hub>=0.23.0->langchain-huggingface) (3.16.1)\n",
      "Requirement already satisfied: tqdm>=4.42.1 in /usr/local/lib/python3.10/dist-packages (from huggingface-hub>=0.23.0->langchain-huggingface) (4.67.1)\n",
      "Requirement already satisfied: typing-extensions>=3.7.4.3 in /usr/local/lib/python3.10/dist-packages (from huggingface-hub>=0.23.0->langchain-huggingface) (4.12.2)\n",
      "Requirement already satisfied: requests in /usr/local/lib/python3.10/dist-packages (from huggingface-hub>=0.23.0->langchain-huggingface) (2.32.3)\n",
      "Requirement already satisfied: packaging>=20.9 in /usr/local/lib/python3.10/dist-packages (from huggingface-hub>=0.23.0->langchain-huggingface) (24.2)\n",
      "Requirement already satisfied: jsonpatch<2.0,>=1.33 in /usr/local/lib/python3.10/dist-packages (from langchain-core<0.4.0,>=0.3.15->langchain-huggingface) (1.33)\n",
      "Requirement already satisfied: pydantic<3.0.0,>=2.5.2 in /usr/local/lib/python3.10/dist-packages (from langchain-core<0.4.0,>=0.3.15->langchain-huggingface) (2.10.5)\n",
      "Requirement already satisfied: tenacity!=8.4.0,<10.0.0,>=8.1.0 in /usr/local/lib/python3.10/dist-packages (from langchain-core<0.4.0,>=0.3.15->langchain-huggingface) (8.5.0)\n",
      "Requirement already satisfied: langsmith<0.4,>=0.1.125 in /usr/local/lib/python3.10/dist-packages (from langchain-core<0.4.0,>=0.3.15->langchain-huggingface) (0.1.147)\n",
      "Requirement already satisfied: scipy in /usr/local/lib/python3.10/dist-packages (from sentence-transformers>=2.6.0->langchain-huggingface) (1.15.1)\n",
      "Requirement already satisfied: torch>=1.11.0 in /usr/local/lib/python3.10/dist-packages (from sentence-transformers>=2.6.0->langchain-huggingface) (2.4.1)\n",
      "Requirement already satisfied: scikit-learn in /usr/local/lib/python3.10/dist-packages (from sentence-transformers>=2.6.0->langchain-huggingface) (1.6.1)\n",
      "Requirement already satisfied: Pillow in /usr/local/lib/python3.10/dist-packages (from sentence-transformers>=2.6.0->langchain-huggingface) (10.4.0)\n",
      "Requirement already satisfied: numpy>=1.17 in /usr/local/lib/python3.10/dist-packages (from transformers>=4.39.0->langchain-huggingface) (1.26.4)\n",
      "Requirement already satisfied: regex!=2019.12.17 in /usr/local/lib/python3.10/dist-packages (from transformers>=4.39.0->langchain-huggingface) (2024.11.6)\n",
      "Requirement already satisfied: safetensors>=0.4.1 in /usr/local/lib/python3.10/dist-packages (from transformers>=4.39.0->langchain-huggingface) (0.5.2)\n",
      "Requirement already satisfied: jsonpointer>=1.9 in /usr/local/lib/python3.10/dist-packages (from jsonpatch<2.0,>=1.33->langchain-core<0.4.0,>=0.3.15->langchain-huggingface) (3.0.0)\n",
      "Requirement already satisfied: httpx<1,>=0.23.0 in /usr/local/lib/python3.10/dist-packages (from langsmith<0.4,>=0.1.125->langchain-core<0.4.0,>=0.3.15->langchain-huggingface) (0.27.2)\n",
      "Requirement already satisfied: orjson<4.0.0,>=3.9.14 in /usr/local/lib/python3.10/dist-packages (from langsmith<0.4,>=0.1.125->langchain-core<0.4.0,>=0.3.15->langchain-huggingface) (3.10.14)\n",
      "Requirement already satisfied: requests-toolbelt<2.0.0,>=1.0.0 in /usr/local/lib/python3.10/dist-packages (from langsmith<0.4,>=0.1.125->langchain-core<0.4.0,>=0.3.15->langchain-huggingface) (1.0.0)\n",
      "Requirement already satisfied: pydantic-core==2.27.2 in /usr/local/lib/python3.10/dist-packages (from pydantic<3.0.0,>=2.5.2->langchain-core<0.4.0,>=0.3.15->langchain-huggingface) (2.27.2)\n",
      "Requirement already satisfied: annotated-types>=0.6.0 in /usr/local/lib/python3.10/dist-packages (from pydantic<3.0.0,>=2.5.2->langchain-core<0.4.0,>=0.3.15->langchain-huggingface) (0.7.0)\n",
      "Requirement already satisfied: certifi>=2017.4.17 in /usr/local/lib/python3.10/dist-packages (from requests->huggingface-hub>=0.23.0->langchain-huggingface) (2024.12.14)\n",
      "Requirement already satisfied: urllib3<3,>=1.21.1 in /usr/local/lib/python3.10/dist-packages (from requests->huggingface-hub>=0.23.0->langchain-huggingface) (2.3.0)\n",
      "Requirement already satisfied: charset-normalizer<4,>=2 in /usr/local/lib/python3.10/dist-packages (from requests->huggingface-hub>=0.23.0->langchain-huggingface) (3.4.1)\n",
      "Requirement already satisfied: idna<4,>=2.5 in /usr/local/lib/python3.10/dist-packages (from requests->huggingface-hub>=0.23.0->langchain-huggingface) (3.10)\n",
      "Requirement already satisfied: jinja2 in /usr/local/lib/python3.10/dist-packages (from torch>=1.11.0->sentence-transformers>=2.6.0->langchain-huggingface) (3.1.5)\n",
      "Requirement already satisfied: networkx in /usr/local/lib/python3.10/dist-packages (from torch>=1.11.0->sentence-transformers>=2.6.0->langchain-huggingface) (3.4.2)\n",
      "Requirement already satisfied: sympy in /usr/local/lib/python3.10/dist-packages (from torch>=1.11.0->sentence-transformers>=2.6.0->langchain-huggingface) (1.13.3)\n",
      "Requirement already satisfied: nvidia-cuda-runtime-cu12==12.1.105 in /usr/local/lib/python3.10/dist-packages (from torch>=1.11.0->sentence-transformers>=2.6.0->langchain-huggingface) (12.1.105)\n",
      "Requirement already satisfied: nvidia-curand-cu12==10.3.2.106 in /usr/local/lib/python3.10/dist-packages (from torch>=1.11.0->sentence-transformers>=2.6.0->langchain-huggingface) (10.3.2.106)\n",
      "Requirement already satisfied: nvidia-cusolver-cu12==11.4.5.107 in /usr/local/lib/python3.10/dist-packages (from torch>=1.11.0->sentence-transformers>=2.6.0->langchain-huggingface) (11.4.5.107)\n",
      "Requirement already satisfied: nvidia-cusparse-cu12==12.1.0.106 in /usr/local/lib/python3.10/dist-packages (from torch>=1.11.0->sentence-transformers>=2.6.0->langchain-huggingface) (12.1.0.106)\n",
      "Requirement already satisfied: nvidia-cudnn-cu12==9.1.0.70 in /usr/local/lib/python3.10/dist-packages (from torch>=1.11.0->sentence-transformers>=2.6.0->langchain-huggingface) (9.1.0.70)\n",
      "Requirement already satisfied: triton==3.0.0 in /usr/local/lib/python3.10/dist-packages (from torch>=1.11.0->sentence-transformers>=2.6.0->langchain-huggingface) (3.0.0)\n",
      "Requirement already satisfied: nvidia-cuda-nvrtc-cu12==12.1.105 in /usr/local/lib/python3.10/dist-packages (from torch>=1.11.0->sentence-transformers>=2.6.0->langchain-huggingface) (12.1.105)\n",
      "Requirement already satisfied: nvidia-cuda-cupti-cu12==12.1.105 in /usr/local/lib/python3.10/dist-packages (from torch>=1.11.0->sentence-transformers>=2.6.0->langchain-huggingface) (12.1.105)\n",
      "Requirement already satisfied: nvidia-cublas-cu12==12.1.3.1 in /usr/local/lib/python3.10/dist-packages (from torch>=1.11.0->sentence-transformers>=2.6.0->langchain-huggingface) (12.1.3.1)\n",
      "Requirement already satisfied: nvidia-cufft-cu12==11.0.2.54 in /usr/local/lib/python3.10/dist-packages (from torch>=1.11.0->sentence-transformers>=2.6.0->langchain-huggingface) (11.0.2.54)\n",
      "Requirement already satisfied: nvidia-nvtx-cu12==12.1.105 in /usr/local/lib/python3.10/dist-packages (from torch>=1.11.0->sentence-transformers>=2.6.0->langchain-huggingface) (12.1.105)\n",
      "Requirement already satisfied: nvidia-nccl-cu12==2.20.5 in /usr/local/lib/python3.10/dist-packages (from torch>=1.11.0->sentence-transformers>=2.6.0->langchain-huggingface) (2.20.5)\n",
      "Requirement already satisfied: nvidia-nvjitlink-cu12 in /usr/local/lib/python3.10/dist-packages (from nvidia-cusolver-cu12==11.4.5.107->torch>=1.11.0->sentence-transformers>=2.6.0->langchain-huggingface) (12.6.85)\n",
      "Requirement already satisfied: threadpoolctl>=3.1.0 in /usr/local/lib/python3.10/dist-packages (from scikit-learn->sentence-transformers>=2.6.0->langchain-huggingface) (3.5.0)\n",
      "Requirement already satisfied: joblib>=1.2.0 in /usr/local/lib/python3.10/dist-packages (from scikit-learn->sentence-transformers>=2.6.0->langchain-huggingface) (1.4.2)\n",
      "Requirement already satisfied: httpcore==1.* in /usr/local/lib/python3.10/dist-packages (from httpx<1,>=0.23.0->langsmith<0.4,>=0.1.125->langchain-core<0.4.0,>=0.3.15->langchain-huggingface) (1.0.7)\n",
      "Requirement already satisfied: anyio in /usr/local/lib/python3.10/dist-packages (from httpx<1,>=0.23.0->langsmith<0.4,>=0.1.125->langchain-core<0.4.0,>=0.3.15->langchain-huggingface) (4.7.0)\n",
      "Requirement already satisfied: sniffio in /usr/local/lib/python3.10/dist-packages (from httpx<1,>=0.23.0->langsmith<0.4,>=0.1.125->langchain-core<0.4.0,>=0.3.15->langchain-huggingface) (1.3.1)\n",
      "Requirement already satisfied: h11<0.15,>=0.13 in /usr/local/lib/python3.10/dist-packages (from httpcore==1.*->httpx<1,>=0.23.0->langsmith<0.4,>=0.1.125->langchain-core<0.4.0,>=0.3.15->langchain-huggingface) (0.14.0)\n",
      "Requirement already satisfied: MarkupSafe>=2.0 in /usr/local/lib/python3.10/dist-packages (from jinja2->torch>=1.11.0->sentence-transformers>=2.6.0->langchain-huggingface) (3.0.2)\n",
      "Requirement already satisfied: mpmath<1.4,>=1.1.0 in /usr/local/lib/python3.10/dist-packages (from sympy->torch>=1.11.0->sentence-transformers>=2.6.0->langchain-huggingface) (1.3.0)\n",
      "Requirement already satisfied: exceptiongroup>=1.0.2 in /usr/local/lib/python3.10/dist-packages (from anyio->httpx<1,>=0.23.0->langsmith<0.4,>=0.1.125->langchain-core<0.4.0,>=0.3.15->langchain-huggingface) (1.2.2)\n",
      "\u001b[33mWARNING: Running pip as the 'root' user can result in broken permissions and conflicting behaviour with the system package manager. It is recommended to use a virtual environment instead: https://pip.pypa.io/warnings/venv\u001b[0m\u001b[33m\n",
      "\u001b[0m"
     ]
    }
   ],
   "source": [
    "!pip install langchain-huggingface --upgrade"
   ]
  },
  {
   "cell_type": "code",
   "execution_count": 25,
   "id": "31abebbb-82ab-45c8-ae22-186150ddf37a",
   "metadata": {},
   "outputs": [],
   "source": [
    "from langchain_huggingface.llms import HuggingFacePipeline\n",
    "from langchain_core import messages"
   ]
  },
  {
   "cell_type": "code",
   "execution_count": 23,
   "id": "5739b2bd-0daa-4a12-998d-155456bc2b50",
   "metadata": {},
   "outputs": [
    {
     "name": "stdout",
     "output_type": "stream",
     "text": [
      "memory.total [MiB], memory.used [MiB], memory.free [MiB]\n",
      "15360 MiB, 4087 MiB, 11009 MiB\n"
     ]
    }
   ],
   "source": [
    "!nvidia-smi --query-gpu=memory.total,memory.used,memory.free --format=csv"
   ]
  },
  {
   "cell_type": "code",
   "execution_count": 26,
   "id": "08288885-05fc-48c0-8edb-aedf85254b25",
   "metadata": {},
   "outputs": [
    {
     "data": {
      "text/plain": [
       "['AIMessage',\n",
       " 'AIMessageChunk',\n",
       " 'AnyMessage',\n",
       " 'BaseMessage',\n",
       " 'BaseMessageChunk',\n",
       " 'ChatMessage',\n",
       " 'ChatMessageChunk',\n",
       " 'FunctionMessage',\n",
       " 'FunctionMessageChunk',\n",
       " 'HumanMessage',\n",
       " 'HumanMessageChunk',\n",
       " 'InvalidToolCall',\n",
       " 'MessageLikeRepresentation',\n",
       " 'RemoveMessage',\n",
       " 'SystemMessage',\n",
       " 'SystemMessageChunk',\n",
       " 'ToolCall',\n",
       " 'ToolCallChunk',\n",
       " 'ToolMessage',\n",
       " 'ToolMessageChunk',\n",
       " '__all__',\n",
       " '__builtins__',\n",
       " '__cached__',\n",
       " '__doc__',\n",
       " '__file__',\n",
       " '__loader__',\n",
       " '__name__',\n",
       " '__package__',\n",
       " '__path__',\n",
       " '__spec__',\n",
       " '_message_from_dict',\n",
       " 'ai',\n",
       " 'base',\n",
       " 'chat',\n",
       " 'convert_to_messages',\n",
       " 'convert_to_openai_messages',\n",
       " 'filter_messages',\n",
       " 'function',\n",
       " 'get_buffer_string',\n",
       " 'human',\n",
       " 'merge_content',\n",
       " 'merge_message_runs',\n",
       " 'message_chunk_to_message',\n",
       " 'message_to_dict',\n",
       " 'messages_from_dict',\n",
       " 'messages_to_dict',\n",
       " 'modifier',\n",
       " 'system',\n",
       " 'tool',\n",
       " 'trim_messages',\n",
       " 'utils']"
      ]
     },
     "execution_count": 26,
     "metadata": {},
     "output_type": "execute_result"
    }
   ],
   "source": []
  },
  {
   "cell_type": "code",
   "execution_count": null,
   "id": "98bdb943-3c45-463f-a96d-650413800f1d",
   "metadata": {},
   "outputs": [],
   "source": [
    "\n",
    "character_prompter = HuggingFacePipeline.from_model_id(\n",
    "    model_id=model_path,\n",
    "    task=\"text-generation\",\n",
    "    pipeline_kwargs=dict(\n",
    "        max_new_tokens=512,\n",
    "        do_sample=True,\n",
    "        eos_token_id=tokenizer.eos_token_id,\n",
    "    ),\n",
    ")\n",
    "\n"
   ]
  },
  {
   "cell_type": "code",
   "execution_count": null,
   "id": "e3fbaabf-251c-48fb-b799-f01068badbfb",
   "metadata": {},
   "outputs": [],
   "source": [
    "\n",
    "character_generator = HuggingFacePipeline.from_model_id(\n",
    "    model_id=model_path,\n",
    "    task=\"text-generation\",\n",
    "    pipeline_kwargs=dict(\n",
    "        max_new_tokens=512,\n",
    "        do_sample=True,\n",
    "        eos_token_id=tokenizer.eos_token_id,\n",
    "    ),\n",
    ")\n",
    "\n"
   ]
  },
  {
   "cell_type": "code",
   "execution_count": null,
   "id": "964652fd-bf6c-4634-98eb-77cbf3bfe8fe",
   "metadata": {},
   "outputs": [],
   "source": [
    "# from langchain_huggingface.llms import HuggingFacePipeline\n",
    "# from transformers import AutoModelForCausalLM, AutoTokenizer, pipeline\n",
    "\n",
    "# model_id = \"gpt2\"\n",
    "# tokenizer = AutoTokenizer.from_pretrained(model_id)\n",
    "# model = AutoModelForCausalLM.from_pretrained(model_id)\n",
    "# pipe = pipeline(\"text-generation\", model=model, tokenizer=tokenizer, max_new_tokens=10)\n",
    "# hf = HuggingFacePipeline(pipeline=pipe)"
   ]
  },
  {
   "cell_type": "code",
   "execution_count": null,
   "id": "43c7bee8-50cd-4c9d-83d8-33be9c672a57",
   "metadata": {},
   "outputs": [],
   "source": [
    "# from langchain_core.prompts import PromptTemplate\n",
    "\n",
    "# template = \"\"\"Question: {question}\n",
    "\n",
    "# Answer: Let's think step by step.\"\"\"\n",
    "# prompt = PromptTemplate.from_template(template)\n",
    "\n",
    "# chain = prompt | hf\n",
    "\n",
    "# question = \"What is electroencephalography?\"\n",
    "\n",
    "# print(chain.invoke({\"question\": question}))"
   ]
  }
 ],
 "metadata": {
  "kernelspec": {
   "display_name": "Python 3 (ipykernel)",
   "language": "python",
   "name": "python3"
  },
  "language_info": {
   "codemirror_mode": {
    "name": "ipython",
    "version": 3
   },
   "file_extension": ".py",
   "mimetype": "text/x-python",
   "name": "python",
   "nbconvert_exporter": "python",
   "pygments_lexer": "ipython3",
   "version": "3.10.12"
  }
 },
 "nbformat": 4,
 "nbformat_minor": 5
}
