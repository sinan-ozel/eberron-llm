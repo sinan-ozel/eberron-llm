{
 "cells": [
  {
   "cell_type": "code",
   "execution_count": null,
   "id": "8ed3f62b-33d4-4b39-aaf5-6f740d2c5edb",
   "metadata": {},
   "outputs": [],
   "source": []
  },
  {
   "cell_type": "code",
   "execution_count": 1,
   "id": "bd619d4b-164c-40ec-ab6e-7ef1736d2292",
   "metadata": {},
   "outputs": [
    {
     "name": "stdout",
     "output_type": "stream",
     "text": [
      "Found existing installation: RAGatouille 0.0.8.post4\n",
      "Uninstalling RAGatouille-0.0.8.post4:\n",
      "  Successfully uninstalled RAGatouille-0.0.8.post4\n",
      "\u001b[33mWARNING: Running pip as the 'root' user can result in broken permissions and conflicting behaviour with the system package manager. It is recommended to use a virtual environment instead: https://pip.pypa.io/warnings/venv\u001b[0m\u001b[33m\n",
      "\u001b[0m"
     ]
    }
   ],
   "source": [
    "!pip uninstall ragatouille -y"
   ]
  },
  {
   "cell_type": "code",
   "execution_count": 2,
   "id": "e0729fd2-7f5d-4f7f-aaf3-0f8629db7338",
   "metadata": {},
   "outputs": [
    {
     "name": "stdout",
     "output_type": "stream",
     "text": [
      "Requirement already satisfied: lancedb in /usr/local/lib/python3.10/dist-packages (0.16.0)\n",
      "Collecting lancedb\n",
      "  Downloading lancedb-0.18.0-cp39-abi3-manylinux_2_28_x86_64.whl (32.2 MB)\n",
      "\u001b[2K     \u001b[90m━━━━━━━━━━━━━━━━━━━━━━━━━━━━━━━━━━━━━━━━\u001b[0m \u001b[32m32.2/32.2 MB\u001b[0m \u001b[31m46.2 MB/s\u001b[0m eta \u001b[36m0:00:00\u001b[0m00:01\u001b[0m00:01\u001b[0m\n",
      "Requirement already satisfied: packaging in /usr/local/lib/python3.10/dist-packages (from lancedb) (24.2)\n",
      "Requirement already satisfied: pydantic>=1.10 in /usr/local/lib/python3.10/dist-packages (from lancedb) (2.10.5)\n",
      "Requirement already satisfied: tqdm>=4.27.0 in /usr/local/lib/python3.10/dist-packages (from lancedb) (4.67.1)\n",
      "Requirement already satisfied: deprecation in /usr/local/lib/python3.10/dist-packages (from lancedb) (2.1.0)\n",
      "Collecting pylance==0.22.0\n",
      "  Downloading pylance-0.22.0-cp39-abi3-manylinux_2_28_x86_64.whl (38.3 MB)\n",
      "\u001b[2K     \u001b[90m━━━━━━━━━━━━━━━━━━━━━━━━━━━━━━━━━━━━━━━━\u001b[0m \u001b[32m38.3/38.3 MB\u001b[0m \u001b[31m51.7 MB/s\u001b[0m eta \u001b[36m0:00:00\u001b[0m00:01\u001b[0m00:01\u001b[0m\n",
      "Requirement already satisfied: overrides>=0.7 in /usr/local/lib/python3.10/dist-packages (from lancedb) (7.7.0)\n",
      "Requirement already satisfied: numpy>=1.22 in /usr/local/lib/python3.10/dist-packages (from pylance==0.22.0->lancedb) (1.26.4)\n",
      "Requirement already satisfied: pyarrow>=14 in /usr/local/lib/python3.10/dist-packages (from pylance==0.22.0->lancedb) (18.1.0)\n",
      "Requirement already satisfied: annotated-types>=0.6.0 in /usr/local/lib/python3.10/dist-packages (from pydantic>=1.10->lancedb) (0.7.0)\n",
      "Requirement already satisfied: typing-extensions>=4.12.2 in /usr/local/lib/python3.10/dist-packages (from pydantic>=1.10->lancedb) (4.12.2)\n",
      "Requirement already satisfied: pydantic-core==2.27.2 in /usr/local/lib/python3.10/dist-packages (from pydantic>=1.10->lancedb) (2.27.2)\n",
      "Installing collected packages: pylance, lancedb\n",
      "  Attempting uninstall: pylance\n",
      "    Found existing installation: pylance 0.19.2\n",
      "    Uninstalling pylance-0.19.2:\n",
      "      Successfully uninstalled pylance-0.19.2\n",
      "  Attempting uninstall: lancedb\n",
      "    Found existing installation: lancedb 0.16.0\n",
      "    Uninstalling lancedb-0.16.0:\n",
      "      Successfully uninstalled lancedb-0.16.0\n",
      "Successfully installed lancedb-0.18.0 pylance-0.22.0\n",
      "\u001b[33mWARNING: Running pip as the 'root' user can result in broken permissions and conflicting behaviour with the system package manager. It is recommended to use a virtual environment instead: https://pip.pypa.io/warnings/venv\u001b[0m\u001b[33m\n",
      "\u001b[0m"
     ]
    }
   ],
   "source": [
    "!pip install lancedb --upgrade"
   ]
  },
  {
   "cell_type": "code",
   "execution_count": 3,
   "id": "d60e881d-a824-45c8-9f91-b43b50d5812f",
   "metadata": {},
   "outputs": [
    {
     "name": "stdout",
     "output_type": "stream",
     "text": [
      "Requirement already satisfied: langchain in /usr/local/lib/python3.10/dist-packages (0.2.6)\n",
      "Collecting langchain\n",
      "  Downloading langchain-0.3.15-py3-none-any.whl (1.0 MB)\n",
      "\u001b[2K     \u001b[90m━━━━━━━━━━━━━━━━━━━━━━━━━━━━━━━━━━━━━━━━\u001b[0m \u001b[32m1.0/1.0 MB\u001b[0m \u001b[31m10.9 MB/s\u001b[0m eta \u001b[36m0:00:00\u001b[0m \u001b[36m0:00:01\u001b[0m\n",
      "\u001b[?25hRequirement already satisfied: PyYAML>=5.3 in /usr/local/lib/python3.10/dist-packages (from langchain) (6.0.2)\n",
      "Requirement already satisfied: requests<3,>=2 in /usr/local/lib/python3.10/dist-packages (from langchain) (2.32.3)\n",
      "Requirement already satisfied: async-timeout<5.0.0,>=4.0.0 in /usr/local/lib/python3.10/dist-packages (from langchain) (4.0.3)\n",
      "Requirement already satisfied: pydantic<3.0.0,>=2.7.4 in /usr/local/lib/python3.10/dist-packages (from langchain) (2.10.5)\n",
      "Requirement already satisfied: tenacity!=8.4.0,<10,>=8.1.0 in /usr/local/lib/python3.10/dist-packages (from langchain) (8.5.0)\n",
      "Collecting langchain-text-splitters<0.4.0,>=0.3.3\n",
      "  Using cached langchain_text_splitters-0.3.5-py3-none-any.whl (31 kB)\n",
      "Requirement already satisfied: langsmith<0.4,>=0.1.17 in /usr/local/lib/python3.10/dist-packages (from langchain) (0.1.147)\n",
      "Requirement already satisfied: SQLAlchemy<3,>=1.4 in /usr/local/lib/python3.10/dist-packages (from langchain) (2.0.37)\n",
      "Collecting langchain-core<0.4.0,>=0.3.31\n",
      "  Downloading langchain_core-0.3.31-py3-none-any.whl (412 kB)\n",
      "\u001b[2K     \u001b[90m━━━━━━━━━━━━━━━━━━━━━━━━━━━━━━━━━━━━━━\u001b[0m \u001b[32m412.2/412.2 KB\u001b[0m \u001b[31m80.5 MB/s\u001b[0m eta \u001b[36m0:00:00\u001b[0m\n",
      "\u001b[?25hRequirement already satisfied: numpy<2,>=1.22.4 in /usr/local/lib/python3.10/dist-packages (from langchain) (1.26.4)\n",
      "Requirement already satisfied: aiohttp<4.0.0,>=3.8.3 in /usr/local/lib/python3.10/dist-packages (from langchain) (3.11.11)\n",
      "Requirement already satisfied: aiosignal>=1.1.2 in /usr/local/lib/python3.10/dist-packages (from aiohttp<4.0.0,>=3.8.3->langchain) (1.3.2)\n",
      "Requirement already satisfied: yarl<2.0,>=1.17.0 in /usr/local/lib/python3.10/dist-packages (from aiohttp<4.0.0,>=3.8.3->langchain) (1.18.3)\n",
      "Requirement already satisfied: frozenlist>=1.1.1 in /usr/local/lib/python3.10/dist-packages (from aiohttp<4.0.0,>=3.8.3->langchain) (1.5.0)\n",
      "Requirement already satisfied: propcache>=0.2.0 in /usr/local/lib/python3.10/dist-packages (from aiohttp<4.0.0,>=3.8.3->langchain) (0.2.1)\n",
      "Requirement already satisfied: multidict<7.0,>=4.5 in /usr/local/lib/python3.10/dist-packages (from aiohttp<4.0.0,>=3.8.3->langchain) (6.1.0)\n",
      "Requirement already satisfied: attrs>=17.3.0 in /usr/local/lib/python3.10/dist-packages (from aiohttp<4.0.0,>=3.8.3->langchain) (24.3.0)\n",
      "Requirement already satisfied: aiohappyeyeballs>=2.3.0 in /usr/local/lib/python3.10/dist-packages (from aiohttp<4.0.0,>=3.8.3->langchain) (2.4.4)\n",
      "Requirement already satisfied: packaging<25,>=23.2 in /usr/local/lib/python3.10/dist-packages (from langchain-core<0.4.0,>=0.3.31->langchain) (24.2)\n",
      "Requirement already satisfied: jsonpatch<2.0,>=1.33 in /usr/local/lib/python3.10/dist-packages (from langchain-core<0.4.0,>=0.3.31->langchain) (1.33)\n",
      "Requirement already satisfied: typing-extensions>=4.7 in /usr/local/lib/python3.10/dist-packages (from langchain-core<0.4.0,>=0.3.31->langchain) (4.12.2)\n",
      "Requirement already satisfied: orjson<4.0.0,>=3.9.14 in /usr/local/lib/python3.10/dist-packages (from langsmith<0.4,>=0.1.17->langchain) (3.10.14)\n",
      "Requirement already satisfied: requests-toolbelt<2.0.0,>=1.0.0 in /usr/local/lib/python3.10/dist-packages (from langsmith<0.4,>=0.1.17->langchain) (1.0.0)\n",
      "Requirement already satisfied: httpx<1,>=0.23.0 in /usr/local/lib/python3.10/dist-packages (from langsmith<0.4,>=0.1.17->langchain) (0.27.2)\n",
      "Requirement already satisfied: pydantic-core==2.27.2 in /usr/local/lib/python3.10/dist-packages (from pydantic<3.0.0,>=2.7.4->langchain) (2.27.2)\n",
      "Requirement already satisfied: annotated-types>=0.6.0 in /usr/local/lib/python3.10/dist-packages (from pydantic<3.0.0,>=2.7.4->langchain) (0.7.0)\n",
      "Requirement already satisfied: certifi>=2017.4.17 in /usr/local/lib/python3.10/dist-packages (from requests<3,>=2->langchain) (2024.12.14)\n",
      "Requirement already satisfied: idna<4,>=2.5 in /usr/local/lib/python3.10/dist-packages (from requests<3,>=2->langchain) (3.10)\n",
      "Requirement already satisfied: urllib3<3,>=1.21.1 in /usr/local/lib/python3.10/dist-packages (from requests<3,>=2->langchain) (2.3.0)\n",
      "Requirement already satisfied: charset-normalizer<4,>=2 in /usr/local/lib/python3.10/dist-packages (from requests<3,>=2->langchain) (3.4.1)\n",
      "Requirement already satisfied: greenlet!=0.4.17 in /usr/local/lib/python3.10/dist-packages (from SQLAlchemy<3,>=1.4->langchain) (3.1.1)\n",
      "Requirement already satisfied: sniffio in /usr/local/lib/python3.10/dist-packages (from httpx<1,>=0.23.0->langsmith<0.4,>=0.1.17->langchain) (1.3.1)\n",
      "Requirement already satisfied: httpcore==1.* in /usr/local/lib/python3.10/dist-packages (from httpx<1,>=0.23.0->langsmith<0.4,>=0.1.17->langchain) (1.0.7)\n",
      "Requirement already satisfied: anyio in /usr/local/lib/python3.10/dist-packages (from httpx<1,>=0.23.0->langsmith<0.4,>=0.1.17->langchain) (4.7.0)\n",
      "Requirement already satisfied: h11<0.15,>=0.13 in /usr/local/lib/python3.10/dist-packages (from httpcore==1.*->httpx<1,>=0.23.0->langsmith<0.4,>=0.1.17->langchain) (0.14.0)\n",
      "Requirement already satisfied: jsonpointer>=1.9 in /usr/local/lib/python3.10/dist-packages (from jsonpatch<2.0,>=1.33->langchain-core<0.4.0,>=0.3.31->langchain) (3.0.0)\n",
      "Requirement already satisfied: exceptiongroup>=1.0.2 in /usr/local/lib/python3.10/dist-packages (from anyio->httpx<1,>=0.23.0->langsmith<0.4,>=0.1.17->langchain) (1.2.2)\n",
      "Installing collected packages: langchain-core, langchain-text-splitters, langchain\n",
      "  Attempting uninstall: langchain-core\n",
      "    Found existing installation: langchain-core 0.2.43\n",
      "    Uninstalling langchain-core-0.2.43:\n",
      "      Successfully uninstalled langchain-core-0.2.43\n",
      "  Attempting uninstall: langchain-text-splitters\n",
      "    Found existing installation: langchain-text-splitters 0.2.4\n",
      "    Uninstalling langchain-text-splitters-0.2.4:\n",
      "      Successfully uninstalled langchain-text-splitters-0.2.4\n",
      "  Attempting uninstall: langchain\n",
      "    Found existing installation: langchain 0.2.6\n",
      "    Uninstalling langchain-0.2.6:\n",
      "      Successfully uninstalled langchain-0.2.6\n",
      "\u001b[31mERROR: pip's dependency resolver does not currently take into account all the packages that are installed. This behaviour is the source of the following dependency conflicts.\n",
      "langchain-qdrant 0.1.1 requires langchain-core<0.3,>=0.1.52, but you have langchain-core 0.3.31 which is incompatible.\n",
      "langchain-mistralai 0.1.12 requires langchain-core<0.3.0,>=0.2.26, but you have langchain-core 0.3.31 which is incompatible.\n",
      "langchain-groq 0.1.6 requires langchain-core<0.3,>=0.2.2, but you have langchain-core 0.3.31 which is incompatible.\n",
      "langchain-experimental 0.0.62 requires langchain-core<0.3.0,>=0.2.10, but you have langchain-core 0.3.31 which is incompatible.\n",
      "langchain-community 0.2.6 requires langchain<0.3.0,>=0.2.6, but you have langchain 0.3.15 which is incompatible.\n",
      "langchain-community 0.2.6 requires langchain-core<0.3.0,>=0.2.10, but you have langchain-core 0.3.31 which is incompatible.\u001b[0m\u001b[31m\n",
      "\u001b[0mSuccessfully installed langchain-0.3.15 langchain-core-0.3.31 langchain-text-splitters-0.3.5\n",
      "\u001b[33mWARNING: Running pip as the 'root' user can result in broken permissions and conflicting behaviour with the system package manager. It is recommended to use a virtual environment instead: https://pip.pypa.io/warnings/venv\u001b[0m\u001b[33m\n",
      "\u001b[0m"
     ]
    }
   ],
   "source": [
    "!pip install langchain --upgrade"
   ]
  },
  {
   "cell_type": "code",
   "execution_count": 4,
   "id": "86765fe4-6838-46e5-be94-016fc7e839ac",
   "metadata": {},
   "outputs": [
    {
     "name": "stdout",
     "output_type": "stream",
     "text": [
      "Requirement already satisfied: langchain-community in /usr/local/lib/python3.10/dist-packages (0.2.6)\n",
      "Collecting langchain-community\n",
      "  Downloading langchain_community-0.3.15-py3-none-any.whl (2.5 MB)\n",
      "\u001b[2K     \u001b[90m━━━━━━━━━━━━━━━━━━━━━━━━━━━━━━━━━━━━━━━━\u001b[0m \u001b[32m2.5/2.5 MB\u001b[0m \u001b[31m21.7 MB/s\u001b[0m eta \u001b[36m0:00:00\u001b[0m00:01\u001b[0m0:01\u001b[0m\n",
      "\u001b[?25hRequirement already satisfied: SQLAlchemy<3,>=1.4 in /usr/local/lib/python3.10/dist-packages (from langchain-community) (2.0.37)\n",
      "Requirement already satisfied: httpx-sse<0.5.0,>=0.4.0 in /usr/local/lib/python3.10/dist-packages (from langchain-community) (0.4.0)\n",
      "Requirement already satisfied: langchain-core<0.4.0,>=0.3.31 in /usr/local/lib/python3.10/dist-packages (from langchain-community) (0.3.31)\n",
      "Requirement already satisfied: PyYAML>=5.3 in /usr/local/lib/python3.10/dist-packages (from langchain-community) (6.0.2)\n",
      "Requirement already satisfied: tenacity!=8.4.0,<10,>=8.1.0 in /usr/local/lib/python3.10/dist-packages (from langchain-community) (8.5.0)\n",
      "Collecting pydantic-settings<3.0.0,>=2.4.0\n",
      "  Downloading pydantic_settings-2.7.1-py3-none-any.whl (29 kB)\n",
      "Requirement already satisfied: dataclasses-json<0.7,>=0.5.7 in /usr/local/lib/python3.10/dist-packages (from langchain-community) (0.6.7)\n",
      "Requirement already satisfied: langsmith<0.4,>=0.1.125 in /usr/local/lib/python3.10/dist-packages (from langchain-community) (0.1.147)\n",
      "Requirement already satisfied: numpy<2,>=1.22.4 in /usr/local/lib/python3.10/dist-packages (from langchain-community) (1.26.4)\n",
      "Requirement already satisfied: aiohttp<4.0.0,>=3.8.3 in /usr/local/lib/python3.10/dist-packages (from langchain-community) (3.11.11)\n",
      "Requirement already satisfied: requests<3,>=2 in /usr/local/lib/python3.10/dist-packages (from langchain-community) (2.32.3)\n",
      "Requirement already satisfied: langchain<0.4.0,>=0.3.15 in /usr/local/lib/python3.10/dist-packages (from langchain-community) (0.3.15)\n",
      "Requirement already satisfied: aiohappyeyeballs>=2.3.0 in /usr/local/lib/python3.10/dist-packages (from aiohttp<4.0.0,>=3.8.3->langchain-community) (2.4.4)\n",
      "Requirement already satisfied: frozenlist>=1.1.1 in /usr/local/lib/python3.10/dist-packages (from aiohttp<4.0.0,>=3.8.3->langchain-community) (1.5.0)\n",
      "Requirement already satisfied: propcache>=0.2.0 in /usr/local/lib/python3.10/dist-packages (from aiohttp<4.0.0,>=3.8.3->langchain-community) (0.2.1)\n",
      "Requirement already satisfied: aiosignal>=1.1.2 in /usr/local/lib/python3.10/dist-packages (from aiohttp<4.0.0,>=3.8.3->langchain-community) (1.3.2)\n",
      "Requirement already satisfied: attrs>=17.3.0 in /usr/local/lib/python3.10/dist-packages (from aiohttp<4.0.0,>=3.8.3->langchain-community) (24.3.0)\n",
      "Requirement already satisfied: multidict<7.0,>=4.5 in /usr/local/lib/python3.10/dist-packages (from aiohttp<4.0.0,>=3.8.3->langchain-community) (6.1.0)\n",
      "Requirement already satisfied: yarl<2.0,>=1.17.0 in /usr/local/lib/python3.10/dist-packages (from aiohttp<4.0.0,>=3.8.3->langchain-community) (1.18.3)\n",
      "Requirement already satisfied: async-timeout<6.0,>=4.0 in /usr/local/lib/python3.10/dist-packages (from aiohttp<4.0.0,>=3.8.3->langchain-community) (4.0.3)\n",
      "Requirement already satisfied: typing-inspect<1,>=0.4.0 in /usr/local/lib/python3.10/dist-packages (from dataclasses-json<0.7,>=0.5.7->langchain-community) (0.9.0)\n",
      "Requirement already satisfied: marshmallow<4.0.0,>=3.18.0 in /usr/local/lib/python3.10/dist-packages (from dataclasses-json<0.7,>=0.5.7->langchain-community) (3.25.1)\n",
      "Requirement already satisfied: langchain-text-splitters<0.4.0,>=0.3.3 in /usr/local/lib/python3.10/dist-packages (from langchain<0.4.0,>=0.3.15->langchain-community) (0.3.5)\n",
      "Requirement already satisfied: pydantic<3.0.0,>=2.7.4 in /usr/local/lib/python3.10/dist-packages (from langchain<0.4.0,>=0.3.15->langchain-community) (2.10.5)\n",
      "Requirement already satisfied: typing-extensions>=4.7 in /usr/local/lib/python3.10/dist-packages (from langchain-core<0.4.0,>=0.3.31->langchain-community) (4.12.2)\n",
      "Requirement already satisfied: packaging<25,>=23.2 in /usr/local/lib/python3.10/dist-packages (from langchain-core<0.4.0,>=0.3.31->langchain-community) (24.2)\n",
      "Requirement already satisfied: jsonpatch<2.0,>=1.33 in /usr/local/lib/python3.10/dist-packages (from langchain-core<0.4.0,>=0.3.31->langchain-community) (1.33)\n",
      "Requirement already satisfied: requests-toolbelt<2.0.0,>=1.0.0 in /usr/local/lib/python3.10/dist-packages (from langsmith<0.4,>=0.1.125->langchain-community) (1.0.0)\n",
      "Requirement already satisfied: httpx<1,>=0.23.0 in /usr/local/lib/python3.10/dist-packages (from langsmith<0.4,>=0.1.125->langchain-community) (0.27.2)\n",
      "Requirement already satisfied: orjson<4.0.0,>=3.9.14 in /usr/local/lib/python3.10/dist-packages (from langsmith<0.4,>=0.1.125->langchain-community) (3.10.14)\n",
      "Requirement already satisfied: python-dotenv>=0.21.0 in /usr/local/lib/python3.10/dist-packages (from pydantic-settings<3.0.0,>=2.4.0->langchain-community) (1.0.1)\n",
      "Requirement already satisfied: idna<4,>=2.5 in /usr/local/lib/python3.10/dist-packages (from requests<3,>=2->langchain-community) (3.10)\n",
      "Requirement already satisfied: certifi>=2017.4.17 in /usr/local/lib/python3.10/dist-packages (from requests<3,>=2->langchain-community) (2024.12.14)\n",
      "Requirement already satisfied: urllib3<3,>=1.21.1 in /usr/local/lib/python3.10/dist-packages (from requests<3,>=2->langchain-community) (2.3.0)\n",
      "Requirement already satisfied: charset-normalizer<4,>=2 in /usr/local/lib/python3.10/dist-packages (from requests<3,>=2->langchain-community) (3.4.1)\n",
      "Requirement already satisfied: greenlet!=0.4.17 in /usr/local/lib/python3.10/dist-packages (from SQLAlchemy<3,>=1.4->langchain-community) (3.1.1)\n",
      "Requirement already satisfied: sniffio in /usr/local/lib/python3.10/dist-packages (from httpx<1,>=0.23.0->langsmith<0.4,>=0.1.125->langchain-community) (1.3.1)\n",
      "Requirement already satisfied: anyio in /usr/local/lib/python3.10/dist-packages (from httpx<1,>=0.23.0->langsmith<0.4,>=0.1.125->langchain-community) (4.7.0)\n",
      "Requirement already satisfied: httpcore==1.* in /usr/local/lib/python3.10/dist-packages (from httpx<1,>=0.23.0->langsmith<0.4,>=0.1.125->langchain-community) (1.0.7)\n",
      "Requirement already satisfied: h11<0.15,>=0.13 in /usr/local/lib/python3.10/dist-packages (from httpcore==1.*->httpx<1,>=0.23.0->langsmith<0.4,>=0.1.125->langchain-community) (0.14.0)\n",
      "Requirement already satisfied: jsonpointer>=1.9 in /usr/local/lib/python3.10/dist-packages (from jsonpatch<2.0,>=1.33->langchain-core<0.4.0,>=0.3.31->langchain-community) (3.0.0)\n",
      "Requirement already satisfied: annotated-types>=0.6.0 in /usr/local/lib/python3.10/dist-packages (from pydantic<3.0.0,>=2.7.4->langchain<0.4.0,>=0.3.15->langchain-community) (0.7.0)\n",
      "Requirement already satisfied: pydantic-core==2.27.2 in /usr/local/lib/python3.10/dist-packages (from pydantic<3.0.0,>=2.7.4->langchain<0.4.0,>=0.3.15->langchain-community) (2.27.2)\n",
      "Requirement already satisfied: mypy-extensions>=0.3.0 in /usr/local/lib/python3.10/dist-packages (from typing-inspect<1,>=0.4.0->dataclasses-json<0.7,>=0.5.7->langchain-community) (1.0.0)\n",
      "Requirement already satisfied: exceptiongroup>=1.0.2 in /usr/local/lib/python3.10/dist-packages (from anyio->httpx<1,>=0.23.0->langsmith<0.4,>=0.1.125->langchain-community) (1.2.2)\n",
      "Installing collected packages: pydantic-settings, langchain-community\n",
      "  Attempting uninstall: langchain-community\n",
      "    Found existing installation: langchain-community 0.2.6\n",
      "    Uninstalling langchain-community-0.2.6:\n",
      "      Successfully uninstalled langchain-community-0.2.6\n",
      "\u001b[31mERROR: pip's dependency resolver does not currently take into account all the packages that are installed. This behaviour is the source of the following dependency conflicts.\n",
      "langchain-experimental 0.0.62 requires langchain-community<0.3.0,>=0.2.6, but you have langchain-community 0.3.15 which is incompatible.\n",
      "langchain-experimental 0.0.62 requires langchain-core<0.3.0,>=0.2.10, but you have langchain-core 0.3.31 which is incompatible.\u001b[0m\u001b[31m\n",
      "\u001b[0mSuccessfully installed langchain-community-0.3.15 pydantic-settings-2.7.1\n",
      "\u001b[33mWARNING: Running pip as the 'root' user can result in broken permissions and conflicting behaviour with the system package manager. It is recommended to use a virtual environment instead: https://pip.pypa.io/warnings/venv\u001b[0m\u001b[33m\n",
      "\u001b[0m"
     ]
    }
   ],
   "source": [
    "!pip install langchain-community --upgrade"
   ]
  },
  {
   "cell_type": "code",
   "execution_count": 5,
   "id": "a20c7d74-5d59-4161-b264-7cc66812bbea",
   "metadata": {},
   "outputs": [
    {
     "name": "stdout",
     "output_type": "stream",
     "text": [
      "Collecting langchain-huggingface\n",
      "  Downloading langchain_huggingface-0.1.2-py3-none-any.whl (21 kB)\n",
      "Requirement already satisfied: huggingface-hub>=0.23.0 in /usr/local/lib/python3.10/dist-packages (from langchain-huggingface) (0.27.0.dev0)\n",
      "Requirement already satisfied: langchain-core<0.4.0,>=0.3.15 in /usr/local/lib/python3.10/dist-packages (from langchain-huggingface) (0.3.31)\n",
      "Requirement already satisfied: transformers>=4.39.0 in /usr/local/lib/python3.10/dist-packages (from langchain-huggingface) (4.48.0.dev0)\n",
      "Requirement already satisfied: tokenizers>=0.19.1 in /usr/local/lib/python3.10/dist-packages (from langchain-huggingface) (0.21.0)\n",
      "Collecting sentence-transformers>=2.6.0\n",
      "  Downloading sentence_transformers-3.4.0-py3-none-any.whl (275 kB)\n",
      "\u001b[2K     \u001b[90m━━━━━━━━━━━━━━━━━━━━━━━━━━━━━━━━━━━━━━━\u001b[0m \u001b[32m275.7/275.7 KB\u001b[0m \u001b[31m3.4 MB/s\u001b[0m eta \u001b[36m0:00:00\u001b[0ma \u001b[36m0:00:01\u001b[0m\n",
      "Requirement already satisfied: requests in /usr/local/lib/python3.10/dist-packages (from huggingface-hub>=0.23.0->langchain-huggingface) (2.32.3)\n",
      "Requirement already satisfied: fsspec>=2023.5.0 in /usr/local/lib/python3.10/dist-packages (from huggingface-hub>=0.23.0->langchain-huggingface) (2024.6.1)\n",
      "Requirement already satisfied: typing-extensions>=3.7.4.3 in /usr/local/lib/python3.10/dist-packages (from huggingface-hub>=0.23.0->langchain-huggingface) (4.12.2)\n",
      "Requirement already satisfied: filelock in /usr/local/lib/python3.10/dist-packages (from huggingface-hub>=0.23.0->langchain-huggingface) (3.16.1)\n",
      "Requirement already satisfied: tqdm>=4.42.1 in /usr/local/lib/python3.10/dist-packages (from huggingface-hub>=0.23.0->langchain-huggingface) (4.67.1)\n",
      "Requirement already satisfied: pyyaml>=5.1 in /usr/local/lib/python3.10/dist-packages (from huggingface-hub>=0.23.0->langchain-huggingface) (6.0.2)\n",
      "Requirement already satisfied: packaging>=20.9 in /usr/local/lib/python3.10/dist-packages (from huggingface-hub>=0.23.0->langchain-huggingface) (24.2)\n",
      "Requirement already satisfied: langsmith<0.4,>=0.1.125 in /usr/local/lib/python3.10/dist-packages (from langchain-core<0.4.0,>=0.3.15->langchain-huggingface) (0.1.147)\n",
      "Requirement already satisfied: jsonpatch<2.0,>=1.33 in /usr/local/lib/python3.10/dist-packages (from langchain-core<0.4.0,>=0.3.15->langchain-huggingface) (1.33)\n",
      "Requirement already satisfied: tenacity!=8.4.0,<10.0.0,>=8.1.0 in /usr/local/lib/python3.10/dist-packages (from langchain-core<0.4.0,>=0.3.15->langchain-huggingface) (8.5.0)\n",
      "Requirement already satisfied: pydantic<3.0.0,>=2.5.2 in /usr/local/lib/python3.10/dist-packages (from langchain-core<0.4.0,>=0.3.15->langchain-huggingface) (2.10.5)\n",
      "Requirement already satisfied: scikit-learn in /usr/local/lib/python3.10/dist-packages (from sentence-transformers>=2.6.0->langchain-huggingface) (1.6.1)\n",
      "Requirement already satisfied: scipy in /usr/local/lib/python3.10/dist-packages (from sentence-transformers>=2.6.0->langchain-huggingface) (1.15.1)\n",
      "Requirement already satisfied: Pillow in /usr/local/lib/python3.10/dist-packages (from sentence-transformers>=2.6.0->langchain-huggingface) (10.4.0)\n",
      "Requirement already satisfied: torch>=1.11.0 in /usr/local/lib/python3.10/dist-packages (from sentence-transformers>=2.6.0->langchain-huggingface) (2.4.1)\n",
      "Requirement already satisfied: regex!=2019.12.17 in /usr/local/lib/python3.10/dist-packages (from transformers>=4.39.0->langchain-huggingface) (2024.11.6)\n",
      "Requirement already satisfied: numpy>=1.17 in /usr/local/lib/python3.10/dist-packages (from transformers>=4.39.0->langchain-huggingface) (1.26.4)\n",
      "Requirement already satisfied: safetensors>=0.4.1 in /usr/local/lib/python3.10/dist-packages (from transformers>=4.39.0->langchain-huggingface) (0.5.2)\n",
      "Requirement already satisfied: jsonpointer>=1.9 in /usr/local/lib/python3.10/dist-packages (from jsonpatch<2.0,>=1.33->langchain-core<0.4.0,>=0.3.15->langchain-huggingface) (3.0.0)\n",
      "Requirement already satisfied: httpx<1,>=0.23.0 in /usr/local/lib/python3.10/dist-packages (from langsmith<0.4,>=0.1.125->langchain-core<0.4.0,>=0.3.15->langchain-huggingface) (0.27.2)\n",
      "Requirement already satisfied: orjson<4.0.0,>=3.9.14 in /usr/local/lib/python3.10/dist-packages (from langsmith<0.4,>=0.1.125->langchain-core<0.4.0,>=0.3.15->langchain-huggingface) (3.10.14)\n",
      "Requirement already satisfied: requests-toolbelt<2.0.0,>=1.0.0 in /usr/local/lib/python3.10/dist-packages (from langsmith<0.4,>=0.1.125->langchain-core<0.4.0,>=0.3.15->langchain-huggingface) (1.0.0)\n",
      "Requirement already satisfied: pydantic-core==2.27.2 in /usr/local/lib/python3.10/dist-packages (from pydantic<3.0.0,>=2.5.2->langchain-core<0.4.0,>=0.3.15->langchain-huggingface) (2.27.2)\n",
      "Requirement already satisfied: annotated-types>=0.6.0 in /usr/local/lib/python3.10/dist-packages (from pydantic<3.0.0,>=2.5.2->langchain-core<0.4.0,>=0.3.15->langchain-huggingface) (0.7.0)\n",
      "Requirement already satisfied: charset-normalizer<4,>=2 in /usr/local/lib/python3.10/dist-packages (from requests->huggingface-hub>=0.23.0->langchain-huggingface) (3.4.1)\n",
      "Requirement already satisfied: certifi>=2017.4.17 in /usr/local/lib/python3.10/dist-packages (from requests->huggingface-hub>=0.23.0->langchain-huggingface) (2024.12.14)\n",
      "Requirement already satisfied: urllib3<3,>=1.21.1 in /usr/local/lib/python3.10/dist-packages (from requests->huggingface-hub>=0.23.0->langchain-huggingface) (2.3.0)\n",
      "Requirement already satisfied: idna<4,>=2.5 in /usr/local/lib/python3.10/dist-packages (from requests->huggingface-hub>=0.23.0->langchain-huggingface) (3.10)\n",
      "Requirement already satisfied: jinja2 in /usr/local/lib/python3.10/dist-packages (from torch>=1.11.0->sentence-transformers>=2.6.0->langchain-huggingface) (3.1.5)\n",
      "Requirement already satisfied: nvidia-nccl-cu12==2.20.5 in /usr/local/lib/python3.10/dist-packages (from torch>=1.11.0->sentence-transformers>=2.6.0->langchain-huggingface) (2.20.5)\n",
      "Requirement already satisfied: nvidia-cudnn-cu12==9.1.0.70 in /usr/local/lib/python3.10/dist-packages (from torch>=1.11.0->sentence-transformers>=2.6.0->langchain-huggingface) (9.1.0.70)\n",
      "Requirement already satisfied: nvidia-cuda-runtime-cu12==12.1.105 in /usr/local/lib/python3.10/dist-packages (from torch>=1.11.0->sentence-transformers>=2.6.0->langchain-huggingface) (12.1.105)\n",
      "Requirement already satisfied: nvidia-cuda-nvrtc-cu12==12.1.105 in /usr/local/lib/python3.10/dist-packages (from torch>=1.11.0->sentence-transformers>=2.6.0->langchain-huggingface) (12.1.105)\n",
      "Requirement already satisfied: nvidia-curand-cu12==10.3.2.106 in /usr/local/lib/python3.10/dist-packages (from torch>=1.11.0->sentence-transformers>=2.6.0->langchain-huggingface) (10.3.2.106)\n",
      "Requirement already satisfied: nvidia-cusparse-cu12==12.1.0.106 in /usr/local/lib/python3.10/dist-packages (from torch>=1.11.0->sentence-transformers>=2.6.0->langchain-huggingface) (12.1.0.106)\n",
      "Requirement already satisfied: sympy in /usr/local/lib/python3.10/dist-packages (from torch>=1.11.0->sentence-transformers>=2.6.0->langchain-huggingface) (1.13.3)\n",
      "Requirement already satisfied: triton==3.0.0 in /usr/local/lib/python3.10/dist-packages (from torch>=1.11.0->sentence-transformers>=2.6.0->langchain-huggingface) (3.0.0)\n",
      "Requirement already satisfied: nvidia-nvtx-cu12==12.1.105 in /usr/local/lib/python3.10/dist-packages (from torch>=1.11.0->sentence-transformers>=2.6.0->langchain-huggingface) (12.1.105)\n",
      "Requirement already satisfied: nvidia-cusolver-cu12==11.4.5.107 in /usr/local/lib/python3.10/dist-packages (from torch>=1.11.0->sentence-transformers>=2.6.0->langchain-huggingface) (11.4.5.107)\n",
      "Requirement already satisfied: nvidia-cuda-cupti-cu12==12.1.105 in /usr/local/lib/python3.10/dist-packages (from torch>=1.11.0->sentence-transformers>=2.6.0->langchain-huggingface) (12.1.105)\n",
      "Requirement already satisfied: nvidia-cublas-cu12==12.1.3.1 in /usr/local/lib/python3.10/dist-packages (from torch>=1.11.0->sentence-transformers>=2.6.0->langchain-huggingface) (12.1.3.1)\n",
      "Requirement already satisfied: nvidia-cufft-cu12==11.0.2.54 in /usr/local/lib/python3.10/dist-packages (from torch>=1.11.0->sentence-transformers>=2.6.0->langchain-huggingface) (11.0.2.54)\n",
      "Requirement already satisfied: networkx in /usr/local/lib/python3.10/dist-packages (from torch>=1.11.0->sentence-transformers>=2.6.0->langchain-huggingface) (3.4.2)\n",
      "Requirement already satisfied: nvidia-nvjitlink-cu12 in /usr/local/lib/python3.10/dist-packages (from nvidia-cusolver-cu12==11.4.5.107->torch>=1.11.0->sentence-transformers>=2.6.0->langchain-huggingface) (12.6.85)\n",
      "Requirement already satisfied: threadpoolctl>=3.1.0 in /usr/local/lib/python3.10/dist-packages (from scikit-learn->sentence-transformers>=2.6.0->langchain-huggingface) (3.5.0)\n",
      "Requirement already satisfied: joblib>=1.2.0 in /usr/local/lib/python3.10/dist-packages (from scikit-learn->sentence-transformers>=2.6.0->langchain-huggingface) (1.4.2)\n",
      "Requirement already satisfied: anyio in /usr/local/lib/python3.10/dist-packages (from httpx<1,>=0.23.0->langsmith<0.4,>=0.1.125->langchain-core<0.4.0,>=0.3.15->langchain-huggingface) (4.7.0)\n",
      "Requirement already satisfied: sniffio in /usr/local/lib/python3.10/dist-packages (from httpx<1,>=0.23.0->langsmith<0.4,>=0.1.125->langchain-core<0.4.0,>=0.3.15->langchain-huggingface) (1.3.1)\n",
      "Requirement already satisfied: httpcore==1.* in /usr/local/lib/python3.10/dist-packages (from httpx<1,>=0.23.0->langsmith<0.4,>=0.1.125->langchain-core<0.4.0,>=0.3.15->langchain-huggingface) (1.0.7)\n",
      "Requirement already satisfied: h11<0.15,>=0.13 in /usr/local/lib/python3.10/dist-packages (from httpcore==1.*->httpx<1,>=0.23.0->langsmith<0.4,>=0.1.125->langchain-core<0.4.0,>=0.3.15->langchain-huggingface) (0.14.0)\n",
      "Requirement already satisfied: MarkupSafe>=2.0 in /usr/local/lib/python3.10/dist-packages (from jinja2->torch>=1.11.0->sentence-transformers>=2.6.0->langchain-huggingface) (3.0.2)\n",
      "Requirement already satisfied: mpmath<1.4,>=1.1.0 in /usr/local/lib/python3.10/dist-packages (from sympy->torch>=1.11.0->sentence-transformers>=2.6.0->langchain-huggingface) (1.3.0)\n",
      "Requirement already satisfied: exceptiongroup>=1.0.2 in /usr/local/lib/python3.10/dist-packages (from anyio->httpx<1,>=0.23.0->langsmith<0.4,>=0.1.125->langchain-core<0.4.0,>=0.3.15->langchain-huggingface) (1.2.2)\n",
      "Installing collected packages: sentence-transformers, langchain-huggingface\n",
      "  Attempting uninstall: sentence-transformers\n",
      "    Found existing installation: sentence-transformers 2.5.1\n",
      "    Uninstalling sentence-transformers-2.5.1:\n",
      "      Successfully uninstalled sentence-transformers-2.5.1\n",
      "Successfully installed langchain-huggingface-0.1.2 sentence-transformers-3.4.0\n",
      "\u001b[33mWARNING: Running pip as the 'root' user can result in broken permissions and conflicting behaviour with the system package manager. It is recommended to use a virtual environment instead: https://pip.pypa.io/warnings/venv\u001b[0m\u001b[33m\n",
      "\u001b[0m"
     ]
    }
   ],
   "source": [
    "!pip install langchain-huggingface --upgrade"
   ]
  },
  {
   "cell_type": "code",
   "execution_count": 6,
   "id": "ae4c1e2e-28d0-4407-8452-161b6d171992",
   "metadata": {},
   "outputs": [
    {
     "name": "stdout",
     "output_type": "stream",
     "text": [
      "Collecting tf-keras\n",
      "  Downloading tf_keras-2.18.0-py3-none-any.whl (1.7 MB)\n",
      "\u001b[2K     \u001b[90m━━━━━━━━━━━━━━━━━━━━━━━━━━━━━━━━━━━━━━━━\u001b[0m \u001b[32m1.7/1.7 MB\u001b[0m \u001b[31m5.5 MB/s\u001b[0m eta \u001b[36m0:00:00\u001b[0m00:01\u001b[0m00:01\u001b[0m\n",
      "Collecting tensorflow<2.19,>=2.18\n",
      "  Downloading tensorflow-2.18.0-cp310-cp310-manylinux_2_17_x86_64.manylinux2014_x86_64.whl (615.3 MB)\n",
      "\u001b[2K     \u001b[90m━━━━━━━━━━━━━━━━━━━━━━━━━━━━━━━━━━━━━━━\u001b[0m \u001b[32m615.3/615.3 MB\u001b[0m \u001b[31m2.1 MB/s\u001b[0m eta \u001b[36m0:00:00\u001b[0m00:01\u001b[0m00:01\u001b[0m\n",
      "Requirement already satisfied: six>=1.12.0 in /usr/local/lib/python3.10/dist-packages (from tensorflow<2.19,>=2.18->tf-keras) (1.17.0)\n",
      "Requirement already satisfied: requests<3,>=2.21.0 in /usr/local/lib/python3.10/dist-packages (from tensorflow<2.19,>=2.18->tf-keras) (2.32.3)\n",
      "Requirement already satisfied: numpy<2.1.0,>=1.26.0 in /usr/local/lib/python3.10/dist-packages (from tensorflow<2.19,>=2.18->tf-keras) (1.26.4)\n",
      "Requirement already satisfied: keras>=3.5.0 in /usr/local/lib/python3.10/dist-packages (from tensorflow<2.19,>=2.18->tf-keras) (3.7.0)\n",
      "Collecting tensorboard<2.19,>=2.18\n",
      "  Downloading tensorboard-2.18.0-py3-none-any.whl (5.5 MB)\n",
      "\u001b[2K     \u001b[90m━━━━━━━━━━━━━━━━━━━━━━━━━━━━━━━━━━━━━━━━\u001b[0m \u001b[32m5.5/5.5 MB\u001b[0m \u001b[31m111.3 MB/s\u001b[0m eta \u001b[36m0:00:00\u001b[0m00:01\u001b[0m\n",
      "\u001b[?25hRequirement already satisfied: termcolor>=1.1.0 in /usr/local/lib/python3.10/dist-packages (from tensorflow<2.19,>=2.18->tf-keras) (2.5.0)\n",
      "Requirement already satisfied: gast!=0.5.0,!=0.5.1,!=0.5.2,>=0.2.1 in /usr/local/lib/python3.10/dist-packages (from tensorflow<2.19,>=2.18->tf-keras) (0.6.0)\n",
      "Requirement already satisfied: flatbuffers>=24.3.25 in /usr/local/lib/python3.10/dist-packages (from tensorflow<2.19,>=2.18->tf-keras) (24.12.23)\n",
      "Requirement already satisfied: tensorflow-io-gcs-filesystem>=0.23.1 in /usr/local/lib/python3.10/dist-packages (from tensorflow<2.19,>=2.18->tf-keras) (0.37.1)\n",
      "Requirement already satisfied: google-pasta>=0.1.1 in /usr/local/lib/python3.10/dist-packages (from tensorflow<2.19,>=2.18->tf-keras) (0.2.0)\n",
      "Requirement already satisfied: wrapt>=1.11.0 in /usr/local/lib/python3.10/dist-packages (from tensorflow<2.19,>=2.18->tf-keras) (1.17.0)\n",
      "Requirement already satisfied: opt-einsum>=2.3.2 in /usr/local/lib/python3.10/dist-packages (from tensorflow<2.19,>=2.18->tf-keras) (3.4.0)\n",
      "Requirement already satisfied: typing-extensions>=3.6.6 in /usr/local/lib/python3.10/dist-packages (from tensorflow<2.19,>=2.18->tf-keras) (4.12.2)\n",
      "Requirement already satisfied: astunparse>=1.6.0 in /usr/local/lib/python3.10/dist-packages (from tensorflow<2.19,>=2.18->tf-keras) (1.6.3)\n",
      "Requirement already satisfied: libclang>=13.0.0 in /usr/local/lib/python3.10/dist-packages (from tensorflow<2.19,>=2.18->tf-keras) (18.1.1)\n",
      "Requirement already satisfied: grpcio<2.0,>=1.24.3 in /usr/local/lib/python3.10/dist-packages (from tensorflow<2.19,>=2.18->tf-keras) (1.69.0)\n",
      "Requirement already satisfied: h5py>=3.11.0 in /usr/local/lib/python3.10/dist-packages (from tensorflow<2.19,>=2.18->tf-keras) (3.12.1)\n",
      "Requirement already satisfied: protobuf!=4.21.0,!=4.21.1,!=4.21.2,!=4.21.3,!=4.21.4,!=4.21.5,<6.0.0dev,>=3.20.3 in /usr/local/lib/python3.10/dist-packages (from tensorflow<2.19,>=2.18->tf-keras) (5.29.3)\n",
      "Requirement already satisfied: packaging in /usr/local/lib/python3.10/dist-packages (from tensorflow<2.19,>=2.18->tf-keras) (24.2)\n",
      "Requirement already satisfied: absl-py>=1.0.0 in /usr/local/lib/python3.10/dist-packages (from tensorflow<2.19,>=2.18->tf-keras) (2.1.0)\n",
      "Requirement already satisfied: ml-dtypes<0.5.0,>=0.4.0 in /usr/local/lib/python3.10/dist-packages (from tensorflow<2.19,>=2.18->tf-keras) (0.4.1)\n",
      "Requirement already satisfied: setuptools in /usr/lib/python3/dist-packages (from tensorflow<2.19,>=2.18->tf-keras) (59.6.0)\n",
      "Requirement already satisfied: wheel<1.0,>=0.23.0 in /usr/lib/python3/dist-packages (from astunparse>=1.6.0->tensorflow<2.19,>=2.18->tf-keras) (0.37.1)\n",
      "Requirement already satisfied: rich in /usr/local/lib/python3.10/dist-packages (from keras>=3.5.0->tensorflow<2.19,>=2.18->tf-keras) (13.9.4)\n",
      "Requirement already satisfied: namex in /usr/local/lib/python3.10/dist-packages (from keras>=3.5.0->tensorflow<2.19,>=2.18->tf-keras) (0.0.8)\n",
      "Requirement already satisfied: optree in /usr/local/lib/python3.10/dist-packages (from keras>=3.5.0->tensorflow<2.19,>=2.18->tf-keras) (0.13.1)\n",
      "Requirement already satisfied: idna<4,>=2.5 in /usr/local/lib/python3.10/dist-packages (from requests<3,>=2.21.0->tensorflow<2.19,>=2.18->tf-keras) (3.10)\n",
      "Requirement already satisfied: charset-normalizer<4,>=2 in /usr/local/lib/python3.10/dist-packages (from requests<3,>=2.21.0->tensorflow<2.19,>=2.18->tf-keras) (3.4.1)\n",
      "Requirement already satisfied: certifi>=2017.4.17 in /usr/local/lib/python3.10/dist-packages (from requests<3,>=2.21.0->tensorflow<2.19,>=2.18->tf-keras) (2024.12.14)\n",
      "Requirement already satisfied: urllib3<3,>=1.21.1 in /usr/local/lib/python3.10/dist-packages (from requests<3,>=2.21.0->tensorflow<2.19,>=2.18->tf-keras) (2.3.0)\n",
      "Requirement already satisfied: werkzeug>=1.0.1 in /usr/local/lib/python3.10/dist-packages (from tensorboard<2.19,>=2.18->tensorflow<2.19,>=2.18->tf-keras) (3.1.3)\n",
      "Requirement already satisfied: markdown>=2.6.8 in /usr/local/lib/python3.10/dist-packages (from tensorboard<2.19,>=2.18->tensorflow<2.19,>=2.18->tf-keras) (3.7)\n",
      "Requirement already satisfied: tensorboard-data-server<0.8.0,>=0.7.0 in /usr/local/lib/python3.10/dist-packages (from tensorboard<2.19,>=2.18->tensorflow<2.19,>=2.18->tf-keras) (0.7.2)\n",
      "Requirement already satisfied: MarkupSafe>=2.1.1 in /usr/local/lib/python3.10/dist-packages (from werkzeug>=1.0.1->tensorboard<2.19,>=2.18->tensorflow<2.19,>=2.18->tf-keras) (3.0.2)\n",
      "Requirement already satisfied: markdown-it-py>=2.2.0 in /usr/local/lib/python3.10/dist-packages (from rich->keras>=3.5.0->tensorflow<2.19,>=2.18->tf-keras) (3.0.0)\n",
      "Requirement already satisfied: pygments<3.0.0,>=2.13.0 in /usr/local/lib/python3.10/dist-packages (from rich->keras>=3.5.0->tensorflow<2.19,>=2.18->tf-keras) (2.18.0)\n",
      "Requirement already satisfied: mdurl~=0.1 in /usr/local/lib/python3.10/dist-packages (from markdown-it-py>=2.2.0->rich->keras>=3.5.0->tensorflow<2.19,>=2.18->tf-keras) (0.1.2)\n",
      "Installing collected packages: tensorboard, tensorflow, tf-keras\n",
      "  Attempting uninstall: tensorboard\n",
      "    Found existing installation: tensorboard 2.17.1\n",
      "    Uninstalling tensorboard-2.17.1:\n",
      "      Successfully uninstalled tensorboard-2.17.1\n",
      "  Attempting uninstall: tensorflow\n",
      "    Found existing installation: tensorflow 2.17.0\n",
      "    Uninstalling tensorflow-2.17.0:\n",
      "      Successfully uninstalled tensorflow-2.17.0\n",
      "Successfully installed tensorboard-2.18.0 tensorflow-2.18.0 tf-keras-2.18.0\n",
      "\u001b[33mWARNING: Running pip as the 'root' user can result in broken permissions and conflicting behaviour with the system package manager. It is recommended to use a virtual environment instead: https://pip.pypa.io/warnings/venv\u001b[0m\u001b[33m\n",
      "\u001b[0m"
     ]
    }
   ],
   "source": [
    "!pip install tf-keras"
   ]
  },
  {
   "cell_type": "code",
   "execution_count": 50,
   "id": "1e797496-465a-415e-a751-7cd654c85593",
   "metadata": {},
   "outputs": [],
   "source": [
    "import os\n",
    "import json\n",
    "import pickle\n",
    "from textwrap import dedent\n",
    "from typing import List, Tuple\n",
    "from abc import ABC, abstractmethod\n",
    "from collections.abc import Iterable, AsyncIterable, Callable\n",
    "\n",
    "from tqdm.notebook import tqdm\n",
    "from IPython.display import clear_output, display, HTML, Markdown\n",
    "\n",
    "from sentence_transformers import SentenceTransformer\n",
    "from transformers import AutoTokenizer, AutoModelForCausalLM, BitsAndBytesConfig, TextStreamer, pipeline\n",
    "from langchain_community.embeddings import HuggingFaceEmbeddings\n",
    "from langchain_core.prompts import ChatPromptTemplate\n",
    "from langchain_community.vectorstores import LanceDB\n",
    "from langchain_huggingface.llms import HuggingFacePipeline\n",
    "from langchain.chains import RetrievalQA\n",
    "from langchain_core.language_models.llms import BaseLLM\n",
    "from langchain_core.retrievers import BaseRetriever\n",
    "from langchain_core.vectorstores.base import VectorStore\n",
    "import lancedb\n",
    "import numpy as np\n",
    "import pandas as pd\n",
    "import torch\n"
   ]
  },
  {
   "cell_type": "code",
   "execution_count": 8,
   "id": "29f472fa-5caf-4a94-ba4b-af3db0db873b",
   "metadata": {},
   "outputs": [],
   "source": [
    "ARTEFACT_VERSION = '03'"
   ]
  },
  {
   "cell_type": "code",
   "execution_count": 9,
   "id": "5bca091b-9862-49fe-b8cf-b9db246ced2d",
   "metadata": {},
   "outputs": [],
   "source": [
    "ARTEFACT_ROOT_FOLDER = os.environ.get('ARTEFACT_ROOT_FOLDER', '/artefact')\n",
    "ARTEFACT_FOLDER = os.path.join(ARTEFACT_ROOT_FOLDER, 'eberron', f'v{ARTEFACT_VERSION}')"
   ]
  },
  {
   "cell_type": "code",
   "execution_count": 10,
   "id": "e43b0cd6-ef66-4924-a9e4-f2543ac41b4a",
   "metadata": {},
   "outputs": [],
   "source": [
    "HF_HOME = os.environ.get('HF_HOME')"
   ]
  },
  {
   "cell_type": "code",
   "execution_count": 11,
   "id": "289685f0-140e-48dd-a8bc-ff317c7a1bd3",
   "metadata": {},
   "outputs": [
    {
     "name": "stdout",
     "output_type": "stream",
     "text": [
      "memory.total [MiB], memory.used [MiB], memory.free [MiB]\n",
      "15360 MiB, 3 MiB, 15093 MiB\n"
     ]
    }
   ],
   "source": [
    "!nvidia-smi --query-gpu=memory.total,memory.used,memory.free --format=csv"
   ]
  },
  {
   "cell_type": "markdown",
   "id": "c333b61e-113c-4b8c-b71c-54593d195c9f",
   "metadata": {},
   "source": [
    "# Load the Artefact"
   ]
  },
  {
   "cell_type": "code",
   "execution_count": 12,
   "id": "6f732da5-d78c-4234-8b63-effcee311161",
   "metadata": {},
   "outputs": [],
   "source": [
    "try:\n",
    "    with open(os.path.join(ARTEFACT_FOLDER, 'model_metadata.json'), 'r') as f:\n",
    "        model_metadata = json.load(f)\n",
    "except FileNotFoundError:\n",
    "    with open(os.path.join(ARTEFACT_FOLDER, 'model_metadata.pkl'), 'rb') as f:\n",
    "        model_metadata = pickle.load(f)\n",
    "\n",
    "assert model_metadata['embedding_model']['str'].startswith('SentenceTransformer')"
   ]
  },
  {
   "cell_type": "code",
   "execution_count": 13,
   "id": "f96db9f0-56aa-4097-a92e-850d5f0aebd2",
   "metadata": {},
   "outputs": [],
   "source": [
    "if model_metadata['embedding_format'] == 'pickle':\n",
    "    with open(os.path.join(ARTEFACT_FOLDER, 'embeddings.pkl'), 'rb') as f:\n",
    "        embeddings = pickle.load(f)\n",
    "elif model_metadata['embedding_format'] == 'lancedb':\n",
    "    embeddings_folder = os.path.join(ARTEFACT_FOLDER, 'embeddings')\n",
    "    db = lancedb.connect(embeddings_folder)\n",
    "    table = db.open_table('documents')"
   ]
  },
  {
   "cell_type": "code",
   "execution_count": 14,
   "id": "968ba9a0-73cd-4607-8d82-91b6f7e6c5b2",
   "metadata": {},
   "outputs": [],
   "source": [
    "if model_metadata['version'] == '01':\n",
    "    # I used a JSON to store metadata only in artefact v01. v02 onwards, they are in lancedb fields\n",
    "    with open(os.path.join(ARTEFACT_FOLDER, 'chunk_metadata.json'), 'r') as f:\n",
    "        chunk_metadata = json.load(f)\n"
   ]
  },
  {
   "cell_type": "code",
   "execution_count": 15,
   "id": "c94c9ffd-4e75-4195-a5d1-552fb4578719",
   "metadata": {},
   "outputs": [],
   "source": [
    "if model_metadata['version'] == '01':\n",
    "    file_names = [f for f in os.listdir(os.path.join(ARTEFACT_FOLDER, 'chunks')) if f.endswith('.md')]\n",
    "    file_names = sorted(file_names)\n",
    "    chunks = [None] * len(file_names)\n",
    "    for file_name in tqdm(file_names):\n",
    "        file_path = os.path.join(ARTEFACT_FOLDER, 'chunks', file_name)\n",
    "        with open(file_path, 'r') as f:\n",
    "            chunks[int(file_name.split('.')[0])] = f.read()"
   ]
  },
  {
   "cell_type": "markdown",
   "id": "fed2394c-e76f-4ebb-8e56-5ef96caee142",
   "metadata": {},
   "source": [
    "# Load the Embedding Model"
   ]
  },
  {
   "cell_type": "code",
   "execution_count": null,
   "id": "f8093ab3-eb46-4a96-9c94-6bb7a1f3b766",
   "metadata": {},
   "outputs": [],
   "source": []
  },
  {
   "cell_type": "code",
   "execution_count": 16,
   "id": "10815106-a4c4-4c26-ab51-d4f4ed687cb9",
   "metadata": {},
   "outputs": [
    {
     "name": "stderr",
     "output_type": "stream",
     "text": [
      "/tmp/ipykernel_67/2386398130.py:6: LangChainDeprecationWarning: The class `HuggingFaceEmbeddings` was deprecated in LangChain 0.2.2 and will be removed in 1.0. An updated version of the class exists in the :class:`~langchain-huggingface package and should be used instead. To use it run `pip install -U :class:`~langchain-huggingface` and import as `from :class:`~langchain_huggingface import HuggingFaceEmbeddings``.\n",
      "  embeddings = HuggingFaceEmbeddings(model_name=model_metadata['embedding_model']['name'],\n"
     ]
    }
   ],
   "source": [
    "# embedding_model = SentenceTransformer(model_metadata['embedding_model']['name'], \n",
    "#                                       trust_remote_code=True, \n",
    "#                                       revision=model_metadata['embedding_model']['revision'])\n",
    "# embedding_model = embedding_model.to(\"cpu\")\n",
    "# # embedding_model = embedding_model.to(\"cuda\")\n",
    "embeddings = HuggingFaceEmbeddings(model_name=model_metadata['embedding_model']['name'], \n",
    "                                   model_kwargs={'device': 'cpu', \n",
    "                                                 'revision': model_metadata['embedding_model']['revision'],\n",
    "                                                 'trust_remote_code': True},\n",
    "                                   encode_kwargs={'normalize_embeddings': True})"
   ]
  },
  {
   "cell_type": "markdown",
   "id": "2abaf14a-8ad9-43fa-abe9-c33e92007fa8",
   "metadata": {},
   "source": [
    "# Load the LLM"
   ]
  },
  {
   "cell_type": "code",
   "execution_count": 17,
   "id": "a8f4a2e0-4072-40b2-b90f-45206ac971be",
   "metadata": {},
   "outputs": [
    {
     "name": "stdout",
     "output_type": "stream",
     "text": [
      "memory.total [MiB], memory.used [MiB], memory.free [MiB]\n",
      "15360 MiB, 3 MiB, 15093 MiB\n"
     ]
    }
   ],
   "source": [
    "!nvidia-smi --query-gpu=memory.total,memory.used,memory.free --format=csv"
   ]
  },
  {
   "cell_type": "code",
   "execution_count": 18,
   "id": "1151ff8d-3646-4149-9bac-f1329c27395f",
   "metadata": {},
   "outputs": [],
   "source": [
    "bnb_config = BitsAndBytesConfig(\n",
    "    load_in_4bit=True,\n",
    "    bnb_4bit_quant_type=\"nf4\",\n",
    "    bnb_4bit_use_double_quant=True,\n",
    ")\n"
   ]
  },
  {
   "cell_type": "code",
   "execution_count": 19,
   "id": "53b1883a-10e0-4c29-876e-accad00a1109",
   "metadata": {},
   "outputs": [
    {
     "name": "stdout",
     "output_type": "stream",
     "text": [
      "Found model in cache, reading from the cache\n"
     ]
    },
    {
     "data": {
      "application/vnd.jupyter.widget-view+json": {
       "model_id": "5f697278bb77448aa485b751a6684326",
       "version_major": 2,
       "version_minor": 0
      },
      "text/plain": [
       "Loading checkpoint shards:   0%|          | 0/3 [00:00<?, ?it/s]"
      ]
     },
     "metadata": {},
     "output_type": "display_data"
    }
   ],
   "source": [
    "model_provider = 'mistralai'\n",
    "model_name = 'Mistral-7B-Instruct-v0.3'\n",
    "model_revision = 'e0bc86c23ce5aae1db576c8cca6f06f1f73af2db'\n",
    "model_id = f'{model_provider}/{model_name}'\n",
    "model_path = os.path.join(HF_HOME, 'hub', f'models--{model_provider}--{model_name}', 'snapshots', model_revision)\n",
    "if os.path.exists(model_path):\n",
    "    print(\"Found model in cache, reading from the cache\")\n",
    "    model = AutoModelForCausalLM.from_pretrained(model_path, torch_dtype=torch.bfloat16, quantization_config=bnb_config, device_map=\"auto\")\n",
    "else:\n",
    "    model = AutoModelForCausalLM.from_pretrained(model_id, torch_dtype=torch.bfloat16, quantization_config=bnb_config, device_map=\"auto\")"
   ]
  },
  {
   "cell_type": "code",
   "execution_count": 20,
   "id": "386bddf6-f71d-4065-a709-9927700a607a",
   "metadata": {},
   "outputs": [],
   "source": [
    "tokenizer = AutoTokenizer.from_pretrained(model_path)"
   ]
  },
  {
   "cell_type": "code",
   "execution_count": 21,
   "id": "cb3cc8b9-a72d-4fe4-a3dd-b1d27a84c51b",
   "metadata": {},
   "outputs": [
    {
     "name": "stdout",
     "output_type": "stream",
     "text": [
      "memory.total [MiB], memory.used [MiB], memory.free [MiB]\n",
      "15360 MiB, 4087 MiB, 11009 MiB\n"
     ]
    }
   ],
   "source": [
    "!nvidia-smi --query-gpu=memory.total,memory.used,memory.free --format=csv"
   ]
  },
  {
   "cell_type": "markdown",
   "id": "59497fb0-88ab-4159-a3db-da20bfd0fe6f",
   "metadata": {},
   "source": [
    "# Instantiate Lang* Objects"
   ]
  },
  {
   "cell_type": "code",
   "execution_count": 22,
   "id": "68d0f3c1-108b-47cc-8b34-f0bf0d9057c2",
   "metadata": {},
   "outputs": [],
   "source": [
    "vector_store = LanceDB(connection=db, table_name='documents', embedding=embeddings)"
   ]
  },
  {
   "cell_type": "code",
   "execution_count": 23,
   "id": "c2741ad8-7db9-4feb-8e19-f5aaf23faae6",
   "metadata": {},
   "outputs": [],
   "source": [
    "# similarity_retriever_top_5 = vector_store.as_retriever(search_type=\"similarity\", search_kwargs={'k': 5})\n",
    "# similarity_retriever_top_7 = vector_store.as_retriever(search_type=\"similarity\", search_kwargs={'k': 7})\n",
    "# similarity_retriever_top_10 = vector_store.as_retriever(search_type=\"similarity\", search_kwargs={'k': 10})"
   ]
  },
  {
   "cell_type": "code",
   "execution_count": 24,
   "id": "5ee3e3c7-769f-421b-938b-a47ba7c8bbd5",
   "metadata": {},
   "outputs": [],
   "source": [
    "# # Test\n",
    "# docs = similarity_retriever_top_5.invoke(\"Tell me about the languages of Eberron.\")\n",
    "# assert len(docs) == 5"
   ]
  },
  {
   "cell_type": "code",
   "execution_count": 24,
   "id": "f31ed991-6d12-45b9-8df5-9d2f06514cd2",
   "metadata": {},
   "outputs": [
    {
     "name": "stdout",
     "output_type": "stream",
     "text": [
      "memory.total [MiB], memory.used [MiB], memory.free [MiB]\n",
      "15360 MiB, 4087 MiB, 11009 MiB\n"
     ]
    }
   ],
   "source": [
    "!nvidia-smi --query-gpu=memory.total,memory.used,memory.free --format=csv"
   ]
  },
  {
   "cell_type": "code",
   "execution_count": 25,
   "id": "46c76042-0cd6-4384-9292-2f548a317893",
   "metadata": {},
   "outputs": [],
   "source": [
    "# type(content_summary_pipeline).__bases__"
   ]
  },
  {
   "cell_type": "code",
   "execution_count": 26,
   "id": "0ef1924c-81bc-4fa0-8a04-713b0682d8e3",
   "metadata": {},
   "outputs": [],
   "source": [
    "# type(content_summary_retriever).__bases__"
   ]
  },
  {
   "cell_type": "code",
   "execution_count": 27,
   "id": "2736cfda-d864-43e9-95c8-434a1ea88163",
   "metadata": {},
   "outputs": [],
   "source": [
    "# type(vector_store).__bases__"
   ]
  },
  {
   "cell_type": "code",
   "execution_count": 28,
   "id": "6eaf2287-e084-4663-a267-63855c2d6290",
   "metadata": {},
   "outputs": [
    {
     "name": "stdout",
     "output_type": "stream",
     "text": [
      "memory.total [MiB], memory.used [MiB], memory.free [MiB]\n",
      "15360 MiB, 4087 MiB, 11009 MiB\n"
     ]
    }
   ],
   "source": [
    "!nvidia-smi --query-gpu=memory.total,memory.used,memory.free --format=csv"
   ]
  },
  {
   "cell_type": "code",
   "execution_count": 198,
   "id": "8e3cc3fd-eace-421e-9a3e-e63241476ea2",
   "metadata": {},
   "outputs": [],
   "source": [
    "class Agent(ABC):\n",
    "    \"\"\"\n",
    "    Abstract base class for an AI agent that interacts with a language model\n",
    "    and retrieves information to respond to queries.\n",
    "    \"\"\"\n",
    "\n",
    "    base_llm: BaseLLM\n",
    "    \"\"\"\n",
    "    The base language model used by the agent. This model is responsible for\n",
    "    generating responses and performing language processing tasks.\n",
    "    \"\"\"\n",
    "    \n",
    "    q_and_a: List[Tuple[str, str | Callable]]\n",
    "    \"\"\"\n",
    "    A list of tuples, where each tuple contains:\n",
    "        - A question (str).\n",
    "        - The expected response, which can either be:\n",
    "            - A string (str), or\n",
    "            - A callable function (Callable) that returns the expected response as a string.\n",
    "    Used for evaluating the agent's performance.\n",
    "    \"\"\"\n",
    "\n",
    "    @property\n",
    "    @abstractmethod\n",
    "    def version(self) -> str:\n",
    "        \"\"\"\n",
    "        Abstract property to return the version of the agent.\n",
    "        \n",
    "        Returns:\n",
    "            str: The version of the agent.\n",
    "        \"\"\"\n",
    "        return \"\"\n",
    "    \n",
    "    @abstractmethod\n",
    "    def listen(self, context: str) -> bool:\n",
    "        \"\"\"\n",
    "        Other agents can call this function to pass contextual information.\n",
    "\n",
    "        Args:\n",
    "            context (str): The contextual information in natural language.\n",
    "\n",
    "        Returns:\n",
    "            bool: Return True if the knowledge has been accepted\n",
    "        \"\"\"\n",
    "        return True\n",
    "\n",
    "    @abstractmethod\n",
    "    def _retrieve(self, q: str) -> List[Tuple[str, dict]]:\n",
    "        \"\"\"\n",
    "        Retrieve relevant information for a given query.\n",
    "\n",
    "        Args:\n",
    "            q (str): The query string for which relevant data needs to be retrieved.\n",
    "\n",
    "        Returns:\n",
    "            List[Tuple[str, dict]]: A list of tuples where each tuple contains\n",
    "            a relevant piece of information (e.g., a document or text snippet) as a string,\n",
    "            and its associated metadata as a dictionary.\n",
    "        \"\"\"\n",
    "        return []\n",
    "\n",
    "    @abstractmethod\n",
    "    def _prompt(self, q: str) -> str:\n",
    "        \"\"\"\n",
    "        Generate a formatted prompt based on the given query.\n",
    "\n",
    "        Args:\n",
    "            q (str): The query string for which the prompt is generated.\n",
    "\n",
    "        Returns:\n",
    "            str: The formatted prompt that will be used for generating a response.\n",
    "        \"\"\"\n",
    "        return \"\"\n",
    "\n",
    "    @abstractmethod\n",
    "    async def respond(self, q: str) -> AsyncIterable[str]:\n",
    "        \"\"\"\n",
    "        Generate a response for the given query by retrieving information\n",
    "        and interacting with the language model.\n",
    "\n",
    "        Args:\n",
    "            q (str): The query string for which the response is generated.\n",
    "\n",
    "        Yields:\n",
    "            Iterable[str]: An iterable of response strings generated by the agent.\n",
    "        \"\"\"\n",
    "        while False:\n",
    "            yield \"\"\n",
    "\n",
    "    async def ask(self, agent: \"Agent\", q: str) -> AsyncIterable[str]:\n",
    "        \"\"\"\n",
    "        Asynchronously send a query to another agent and process its response.\n",
    "\n",
    "        Args:\n",
    "            agent (Agent): Another agent to which the query is sent.\n",
    "            q (str): The query string to be sent.\n",
    "\n",
    "        Yields:\n",
    "            Iterable[str]: An iterable of response strings generated by the other agent.\n",
    "        \"\"\"\n",
    "        self.received_response = \"\"\n",
    "        async for chunk in agent.respond(q):\n",
    "            self.received_response += chunk\n",
    "            yield chunk\n",
    "            \n",
    "    async def receive(self, generator: AsyncIterable) -> str:\n",
    "        return ''.join([c async for c in generator])\n",
    "\n",
    "    def tell(self, agent: \"Agent\", context: str) -> bool:\n",
    "        \"\"\"\n",
    "        Send information to another agent.\n",
    "\n",
    "        Args:\n",
    "            agent (Agent): The recipient agent to which the information is sent.\n",
    "            context (str): The information or context to be shared, framed as a query.\n",
    "\n",
    "        \"\"\"\n",
    "        return agent.listen(context)\n",
    "            \n",
    "    async def evaluate(self) -> Tuple[float, np.ndarray]:\n",
    "        \"\"\"\n",
    "        Evaluate the agent's performance by comparing its responses to a list of\n",
    "        predefined question-answer pairs (`q_and_a`).\n",
    "\n",
    "        This method iterates through the list of questions and their corresponding\n",
    "        expected answers. For each question, the agent generates a response using\n",
    "        the `respond` method. The response is compared to the expected answer\n",
    "        (either a string or the output of a callable function) to determine correctness.\n",
    "\n",
    "        Returns:\n",
    "            Tuple[float, np.ndarray]: A tuple containing:\n",
    "                - The accuracy as a float (correct answers / total questions), formatted to three decimal places.\n",
    "                - A NumPy array (`np.ndarray`) where each element is 1 if the response matched the expected answer,\n",
    "                  or 0 otherwise.\n",
    "\n",
    "        Example:\n",
    "            If `q_and_a` contains 10 questions and the agent answers 7 correctly,\n",
    "            and their correctness is stored in a NumPy array, this method will return `(0.700, array([1, 1, 0, ...]))`.\n",
    "        \"\"\"\n",
    "        matches = np.zeros(len(self.q_and_a))\n",
    "        i = 0\n",
    "        for q, expected_response in self.q_and_a:\n",
    "            if isinstance(expected_response, str):\n",
    "                if ''.join([r async for r in self.respond(q)]).strip() == expected_response.strip():\n",
    "                    matches[i] = 1\n",
    "            else:\n",
    "                if ''.join([r async for r in self.respond(q)]).strip() == expected_response().strip():\n",
    "                    matches[i] = 1\n",
    "            i += 1\n",
    "        \n",
    "        return f'{matches.sum() / len(matches):.03f}', matches\n"
   ]
  },
  {
   "cell_type": "code",
   "execution_count": 199,
   "id": "82f51d5d-a858-4c81-9400-263ecc7f529f",
   "metadata": {},
   "outputs": [
    {
     "name": "stderr",
     "output_type": "stream",
     "text": [
      "Device set to use cuda:0\n"
     ]
    }
   ],
   "source": [
    "class CanonicalSummaryAgent(Agent):\n",
    "    version = '01'\n",
    "    base_llm = HuggingFacePipeline(\n",
    "        pipeline=pipeline(\n",
    "            \"text-generation\", \n",
    "            model=model, \n",
    "            tokenizer=tokenizer, \n",
    "            temperature=0.1,\n",
    "            max_new_tokens=768, \n",
    "            do_sample=True\n",
    "        )\n",
    "    )\n",
    "\n",
    "    def listen(self, context: str) -> bool:\n",
    "        \"\"\"This agent does not listen to any contextual information\"\"\"\n",
    "        return False\n",
    "    \n",
    "    def __init__(self, vector_store: VectorStore, search_type: str, search_kwargs: dict):\n",
    "        self.retriever = vector_store.as_retriever(search_type=search_type, search_kwargs=search_kwargs)\n",
    "\n",
    "    def _retrieve(self, q: str) -> List[Tuple[str, dict]]:\n",
    "        self._last_retrieved_docs = self.retriever.invoke(q)\n",
    "\n",
    "        return [(d.page_content, d.metadata) for d in self._last_retrieved_docs]\n",
    "\n",
    "    def _prompt(self, q: str):\n",
    "        retrieved_documents = [d[0] for d in self._retrieve(q)]\n",
    "\n",
    "        retrieved_text = '\\n\\n'.join(retrieved_documents)\n",
    "        \n",
    "        self._last_prompt = dedent(f\"\"\"[INST]\n",
    "        Use the following information (until the final cutoff =====) to answer the user query Q below.\n",
    "        Prefer information closer to the top.\n",
    "        \n",
    "        {retrieved_text}\n",
    "        \n",
    "        =====\n",
    "        \n",
    "        Q:\n",
    "        {q}\n",
    "        \n",
    "        A:\n",
    "        [/INST]\"\"\")\n",
    "        return self._last_prompt\n",
    "\n",
    "    async def respond(self, q: str):\n",
    "        # empty_chunk_count = 0\n",
    "        self._last_response = \"\"\n",
    "        prompt = self._prompt(q)\n",
    "        for chunk in self.base_llm.bind(skip_prompt=True).stream(prompt):\n",
    "            self._last_response += chunk\n",
    "            yield chunk\n"
   ]
  },
  {
   "cell_type": "code",
   "execution_count": 200,
   "id": "045ffd3e-58a7-4cd5-b5a9-a581a31d81c6",
   "metadata": {},
   "outputs": [],
   "source": [
    "canonical_summary_agent = CanonicalSummaryAgent(vector_store, \"similarity\", {'k': 5})"
   ]
  },
  {
   "cell_type": "code",
   "execution_count": 72,
   "id": "57e818f4-c000-4ace-a617-5f0ed648389a",
   "metadata": {},
   "outputs": [
    {
     "data": {
      "text/markdown": [
       "In Eberron, the following languages are mentioned:\n",
       "\n",
       "1. Abyssal: Common tongue of all fiends, also known as \"Khyber’s Speech.\"\n",
       "2. Argon: Spoken by barbarians of Argonnessen.\n",
       "3. Auran: Air-based creatures like elves and dryads use this language.\n",
       "4. Common: The language of the Five Nations and the language of trade in Khorvaire, known by most of its people.\n",
       "5. Daan (Daanvi' and Daan of Kythri'): Used by Formians, Daelkyr, and Slaadi.\n",
       "6. Daelkyr: Spoken by Daelkyr, mind flayers, and other Daelkyr aberrations.\n",
       "7. Draconic: Used by kobolds, troglodytes, lizardfolk, dragons, ogres, giants, drow, and dragons.\n",
       "8. Druidic: Used only by druids.\n",
       "9. Elven: Used by elves and drow.\n",
       "10. Giant: Used by ogres, giants, and drow.\n",
       "11. Gnoll: Used by gnolls.\n",
       "12. Goblin: Used by goblins, hobgoblins, and bugbears.\n",
       "13. Halfling: Used by halflings.\n",
       "14. Ignan: Used by fire-based creatures.\n",
       "15. Infernal: Used by devils of Shavarath.\n",
       "16. Irial: Used by Ravids, positive energy users.\n",
       "17. Kythric: Used by Slaadi.\n",
       "18. Mabran: Used by Nightshades, shadows, and creatures of Mabar.\n",
       "19. Orc: Used by orcs.\n",
       "20. Quori: Used by Quori and kalashtar.\n",
       "21. Riedran: Used by the lower classes of Sarlona.\n",
       "22. Sylvan: Used by dryads, eladrins, and creatures of Thelanis.\n",
       "23. Terran: Used by Xorns and other earth-based creatures.\n",
       "24. Undercommon: Used by chokers and underground Daelkyr denizens.\n",
       "\n",
       "These languages have their own unique alphabets, scripts, and origins. Eberron is the language of the primal spirits of the world, and Druidic is derived from Eberral. Eberral is also the language of Lamannia and the natural world."
      ],
      "text/plain": [
       "<IPython.core.display.Markdown object>"
      ]
     },
     "metadata": {},
     "output_type": "display_data"
    }
   ],
   "source": [
    "response = \"\"\n",
    "async for chunk in canonical_summary_agent.respond(\"What are the languages in Eberron\"):\n",
    "    response += chunk\n",
    "    clear_output()\n",
    "    display(Markdown(response.replace('\\\\n', '\\n')))"
   ]
  },
  {
   "cell_type": "code",
   "execution_count": 40,
   "id": "bd6610be-ec90-4bdf-8d85-fd373da3c14e",
   "metadata": {},
   "outputs": [
    {
     "data": {
      "text/markdown": [
       "The information provided does not detail the rivers of Khorvaire specifically. However, it is mentioned that central Khorvaire remains a bastion of civilization, implying that it likely has developed infrastructure such as rivers for transportation and irrigation. The cities of Aundair, where dueling is still practiced despite recent laws, and Sharn, the focus of the Wayfinder's Guide, are both located in Khorvaire. These cities may have significant rivers or bodies of water. For more detailed information about the rivers of Khorvaire, further research or referencing the sources presented in the appendix would be necessary."
      ],
      "text/plain": [
       "<IPython.core.display.Markdown object>"
      ]
     },
     "metadata": {},
     "output_type": "display_data"
    }
   ],
   "source": [
    "response = \"\"\n",
    "async for chunk in canonical_summary_agent.respond(\"Tell me about the rivers of Khorvaire.\"):\n",
    "    response += chunk\n",
    "    clear_output()\n",
    "    display(Markdown(response.replace('\\\\n', '\\n')))"
   ]
  },
  {
   "cell_type": "code",
   "execution_count": 220,
   "id": "b687b6fd-3fb3-42d2-b772-ed086698ebf8",
   "metadata": {},
   "outputs": [
    {
     "data": {
      "text/markdown": [
       "The fashion in the Five Nations of Khorvaire, following the Last War, has evolved to reflect each nation's unique cultural identity. Common armor for soldiers includes light, medium, and heavy armor, with variations between nations. For example, Brelish splint mail combines a breastplate with a layer of chainmail, while Karrnathi splint mail is light plate.\n",
       "\n",
       "Adventurers, an important part of each nation, often incorporate elements of their homeland's fashion into their attire, even if it isn't the most practical for the situation. Examples include gloves and masks for a Cyran, gazyrs sewn onto leather armor for a Karrn, a cloak with strange proportions for an Aundairian, clothes covered in embroidered patches for a Thrane, or pointy-toed shoes and long puffy sleeves for a Brelish.\n",
       "\n",
       "Modern fashion designers now produce lines of fashion specifically for adventurers, recognizing their unique and often hard-to-pin-down personalities. Some adventurers may choose to wear specific colors or styles as a nod to their cultural roots, while others may not care about their home nation or religion and instead opt for more practical or personalized attire.\n",
       "\n",
       "The Treaty of Thronehold, which divided the Five Nations into separate sovereign nations, has further solidified their cultural experiences, though some are too new or lawless to have a fully developed cultural identity. Pre-War Five Nations background grants equipment, skills, tools, and proficiencies specific to the nation you consider your homeland."
      ],
      "text/plain": [
       "<IPython.core.display.Markdown object>"
      ]
     },
     "metadata": {},
     "output_type": "display_data"
    }
   ],
   "source": [
    "response = \"\"\n",
    "async for chunk in canonical_summary_agent.respond(\"Tell me about fashion in the five nations.\"):\n",
    "    response += chunk\n",
    "    clear_output()\n",
    "    display(Markdown(response.replace('\\\\n', '\\n')))"
   ]
  },
  {
   "cell_type": "code",
   "execution_count": 201,
   "id": "f1fa5e67-5768-49b2-8139-224382672059",
   "metadata": {},
   "outputs": [
    {
     "name": "stderr",
     "output_type": "stream",
     "text": [
      "Device set to use cuda:0\n"
     ]
    }
   ],
   "source": [
    "class ImprovisorAgent(Agent):\n",
    "    version = '01'\n",
    "    base_llm = HuggingFacePipeline(\n",
    "        pipeline=pipeline(\n",
    "            \"text-generation\", \n",
    "            model=model, \n",
    "            tokenizer=tokenizer, \n",
    "            temperature=0.7,\n",
    "            max_new_tokens=768, \n",
    "            do_sample=True\n",
    "        )\n",
    "    )\n",
    "\n",
    "    def listen(self, context: str) -> bool:\n",
    "        \"\"\"This agent does not listen to any contextual information.\"\"\"\n",
    "        return False\n",
    "    \n",
    "    def __init__(self, vector_store: VectorStore, search_type: str, search_kwargs: dict):\n",
    "        self.retriever = vector_store.as_retriever(search_type=search_type, search_kwargs=search_kwargs)\n",
    "\n",
    "    def _retrieve(self, q: str) -> List[Tuple[str, dict]]:\n",
    "        self._last_retrieved_docs = self.retriever.invoke(q)\n",
    "\n",
    "        return [(d.page_content, d.metadata) for d in self._last_retrieved_docs]\n",
    "\n",
    "    def _prompt(self, q: str):\n",
    "        retrieved_documents = [d[0] for d in self._retrieve(q)]\n",
    "\n",
    "        retrieved_text = '\\n\\n'.join(retrieved_documents)\n",
    "        \n",
    "        self._last_prompt = dedent(f\"\"\"[INST]\n",
    "        Use the following information as inspiration (until the final cutoff =====) to answer the user query Q below.\n",
    "        Be creative.\n",
    "        Come up with interesting information.\n",
    "        \n",
    "        \n",
    "        {retrieved_text}\n",
    "        \n",
    "        =====\n",
    "        \n",
    "        Q:\n",
    "        {q}\n",
    "        \n",
    "        A:\n",
    "        [/INST]\"\"\")\n",
    "        return self._last_prompt\n",
    "\n",
    "    async def respond(self, q: str) -> AsyncIterable:\n",
    "        # empty_chunk_count = 0\n",
    "        prompt = self._prompt(q)\n",
    "        self._last_response = \"\"\n",
    "        for chunk in self.base_llm.bind(skip_prompt=True).stream(prompt):\n",
    "            # if empty_chunk_count > 3:\n",
    "            #     return ''\n",
    "            # if chunk.strip() == '':\n",
    "            #     empty_chunk_count += 1\n",
    "            self._last_response += chunk\n",
    "            yield chunk\n"
   ]
  },
  {
   "cell_type": "code",
   "execution_count": 202,
   "id": "b744b884-9c1a-4edc-9200-f0abd6c3d218",
   "metadata": {},
   "outputs": [],
   "source": [
    "improvisor_agent = ImprovisorAgent(vector_store, \"similarity\", {'k': 5})"
   ]
  },
  {
   "cell_type": "code",
   "execution_count": 179,
   "id": "90565699-f3b8-4964-915c-ffd7005472a8",
   "metadata": {},
   "outputs": [
    {
     "name": "stderr",
     "output_type": "stream",
     "text": [
      "Device set to use cuda:0\n"
     ]
    }
   ],
   "source": [
    "class CharacterPrompterAgent(Agent):\n",
    "    version = '01'\n",
    "    base_llm = HuggingFacePipeline(\n",
    "        pipeline=pipeline(\n",
    "            \"text-generation\", \n",
    "            model=model, \n",
    "            tokenizer=tokenizer, \n",
    "            temperature=0.9,\n",
    "            max_new_tokens=512, \n",
    "            do_sample=True\n",
    "        )\n",
    "    )\n",
    "\n",
    "    def listen(self, context: str) -> bool:\n",
    "        \"\"\"This agent does not listen to any contextual information\"\"\"\n",
    "        return False\n",
    "    \n",
    "    def __init__(self, vector_store: VectorStore, search_type: str, search_kwargs: dict):\n",
    "        self.retriever = vector_store.as_retriever(search_type=search_type, search_kwargs=search_kwargs)\n",
    "\n",
    "    def _retrieve(self, q: str) -> List[Tuple[str, dict]]:\n",
    "        self._last_retrieved_docs = self.retriever.invoke(q)\n",
    "\n",
    "        return [(d.page_content, d.metadata) for d in self._last_retrieved_docs]\n",
    "\n",
    "    def _prompt(self, q: str):\n",
    "        retrieved_documents = [d[0] for d in self._retrieve(q)]\n",
    "\n",
    "        retrieved_text = '\\n\\n'.join(retrieved_documents)\n",
    "        \n",
    "        self._last_prompt = dedent(f\"\"\"[INST]\n",
    "        Use the following information as inspiration (until the final cutoff =====) to come up with a character concept that fits the user query Q.\n",
    "        A character concept includes one paragraph on backstory, one paragraph on long-term goals, and one paragraph of immediate wants and needs.\n",
    "        Sugggest a few persoanlity traits and secrets. \n",
    "        Come up with relevant D&D 5e skill checks for players to notice or figure out certain quirks or secrets of the character.\n",
    "        \n",
    "        \n",
    "        {retrieved_text}\n",
    "        \n",
    "        =====\n",
    "        \n",
    "        Q:\n",
    "        {q}\n",
    "        \n",
    "        A:\n",
    "        [/INST]\"\"\")\n",
    "        return self._last_prompt\n",
    "\n",
    "    async def respond(self, q: str) -> AsyncIterable[str]:\n",
    "        # empty_chunk_count = 0\n",
    "        prompt = self._prompt(q)\n",
    "        self._last_response = \"\"\n",
    "        for chunk in self.base_llm.bind(skip_prompt=True).stream(prompt):\n",
    "            # if empty_chunk_count > 3:\n",
    "            #     return ''\n",
    "            # if chunk.strip() == '':\n",
    "            #     empty_chunk_count += 1\n",
    "            self._last_response += chunk\n",
    "            yield chunk\n"
   ]
  },
  {
   "cell_type": "code",
   "execution_count": 180,
   "id": "c1dcb0a3-52a1-4a57-b757-95b9428325fe",
   "metadata": {},
   "outputs": [],
   "source": [
    "character_prompter_agent = CharacterPrompterAgent(vector_store, \"similarity\", {'k': 10})"
   ]
  },
  {
   "cell_type": "code",
   "execution_count": null,
   "id": "69db189d-45a1-4dc5-bb9b-e097bf81c872",
   "metadata": {},
   "outputs": [],
   "source": []
  },
  {
   "cell_type": "code",
   "execution_count": 181,
   "id": "6cd9eaec-8cca-4d11-ae82-f9aeb37b11c9",
   "metadata": {},
   "outputs": [
    {
     "name": "stderr",
     "output_type": "stream",
     "text": [
      "Device set to use cuda:0\n"
     ]
    }
   ],
   "source": [
    "class CharacterClassFinderAgent(Agent):\n",
    "    version = '01'\n",
    "    base_llm = HuggingFacePipeline(\n",
    "        pipeline=pipeline(\n",
    "            \"text-generation\", \n",
    "            model=model, \n",
    "            tokenizer=tokenizer, \n",
    "            temperature=0.1,\n",
    "            max_new_tokens=128, \n",
    "            do_sample=True\n",
    "        )\n",
    "    )\n",
    "\n",
    "    def listen(self, context: str) -> bool:\n",
    "        \"\"\"This agent does not listen to any contextual information\"\"\"\n",
    "        return False\n",
    "    \n",
    "    def __init__(self, vector_store: VectorStore, search_type: str, search_kwargs: dict):\n",
    "        self.retriever = vector_store.as_retriever(search_type=search_type, search_kwargs=search_kwargs)\n",
    "\n",
    "    def _retrieve(self, q: str) -> List[Tuple[str, dict]]:\n",
    "        return []\n",
    "\n",
    "    def _prompt(self, q: str):\n",
    "        retrieved_documents = [d[0] for d in self._retrieve(q)]\n",
    "\n",
    "        retrieved_text = '\\n\\n'.join(retrieved_documents)\n",
    "        \n",
    "        self._last_prompt = dedent(f\"\"\"[INST]\n",
    "        Based on the prompt Q, what is a good D&D class for this character?\n",
    "        Choose from the following list:\n",
    "        Artificer, Bard, Barbarian, Fighter, Sorceror, Wizard, Rogue\n",
    "        \n",
    "        {retrieved_text}\n",
    "        \n",
    "        =====\n",
    "        \n",
    "        Q:\n",
    "        {q}\n",
    "        \n",
    "        A:\n",
    "        [/INST]\"\"\")\n",
    "        return self._last_prompt\n",
    "\n",
    "    async def respond(self, q: str) -> AsyncIterable[str]:\n",
    "        # empty_chunk_count = 0\n",
    "        prompt = self._prompt(q)\n",
    "        self._last_response = \"\"\n",
    "        for chunk in self.base_llm.bind(skip_prompt=True).stream(prompt):\n",
    "            # if empty_chunk_count > 3:\n",
    "            #     return ''\n",
    "            # if chunk.strip() == '':\n",
    "            #     empty_chunk_count += 1\n",
    "            self._last_response += chunk\n",
    "            yield chunk\n"
   ]
  },
  {
   "cell_type": "code",
   "execution_count": null,
   "id": "d324f918-9bbb-499f-a6ed-33e54f991dc3",
   "metadata": {},
   "outputs": [],
   "source": []
  },
  {
   "cell_type": "code",
   "execution_count": 182,
   "id": "b6b7d422-b0e9-4208-8164-3afbfba5ee8a",
   "metadata": {},
   "outputs": [
    {
     "name": "stderr",
     "output_type": "stream",
     "text": [
      "Device set to use cuda:0\n"
     ]
    }
   ],
   "source": [
    "class CharacterGeneratorAgent(Agent):\n",
    "    version = '01'\n",
    "    base_llm = HuggingFacePipeline(\n",
    "        pipeline=pipeline(\n",
    "            \"text-generation\", \n",
    "            model=model, \n",
    "            tokenizer=tokenizer, \n",
    "            temperature=0.2,\n",
    "            max_new_tokens=768, \n",
    "            do_sample=True\n",
    "        )\n",
    "    )\n",
    "\n",
    "    def listen(self, context: str) -> bool:\n",
    "        \"\"\"This agent does not listen to any contextual information\"\"\"\n",
    "        return False\n",
    "    \n",
    "    # def __init__(self, vector_store: VectorStore, search_type: str, search_kwargs: dict):\n",
    "    #     self.retriever = vector_store.as_retriever(search_type=search_type, search_kwargs=search_kwargs)\n",
    "\n",
    "    def __init__(self):\n",
    "        pass\n",
    "\n",
    "    def _retrieve(self, q: str) -> List[Tuple[str, dict]]:\n",
    "        # TODO: Change this retrieve information based on the class...\n",
    "        # self._last_retrieved_docs = self.retriever.invoke(q)\n",
    "\n",
    "        # return [(d.page_content, d.metadata) for d in self._last_retrieved_docs]\n",
    "        return []\n",
    "\n",
    "    def _prompt(self, q: str):\n",
    "        retrieved_documents = [d[0] for d in self._retrieve(q)]\n",
    "\n",
    "        retrieved_text = '\\n\\n'.join(retrieved_documents)\n",
    "        \n",
    "        # Use the prompt P to create a complete character sheet based on the 5th Edition rules for the world of Eberron.\n",
    "        # A complete character sheet should include name, race, class, level, attributes, proficiencies based on the class and fifth edition rules, \n",
    "\n",
    "        self._last_prompt = dedent(f\"\"\"[INST]\n",
    "        Use the following character description to create a complete character sheet based on the 5th Edition rules for the world of Eberron.\n",
    "        Make sure that the class fits the description, and make sure that the name is the same as in the description.\n",
    "\n",
    "        Character Description:\n",
    "        {q}\n",
    "        ========\n",
    "\n",
    "        Create the character sheet below.\n",
    "        A complete character sheet should include race, class, level, attributes, proficiencies based on the class and fifth edition rules, \n",
    "        proficiency bonus based on class and level, saving throws bonus based on class, feats and proficiency , hit points based on class and level, \n",
    "        weapons and equipment, attack bonus for each weapon based on abilities, any race or class based features, class and level, attack roll, \n",
    "        and equipment, armor class based on dexterity and armor, and if the character has spellcasting ability, spells based on class and level, \n",
    "        as well as the number of spell slots. \n",
    "        Include an inventory based on their level, class, and race, with a few personal touches in the items.\n",
    "        \n",
    "        {retrieved_text}\n",
    "        \n",
    "        Character Sheet:\n",
    "        [/INST]\"\"\")\n",
    "        return self._last_prompt\n",
    "\n",
    "    async def respond(self, q: str) -> AsyncIterable[str]:\n",
    "        # empty_chunk_count = 0\n",
    "        prompt = self._prompt(q)\n",
    "        self._last_response = \"\"\n",
    "        for chunk in self.base_llm.bind(skip_prompt=True).stream(prompt):\n",
    "            self._last_response += chunk\n",
    "            yield chunk\n"
   ]
  },
  {
   "cell_type": "code",
   "execution_count": 183,
   "id": "06214d4e-061e-4279-83ca-047685577a98",
   "metadata": {},
   "outputs": [],
   "source": [
    "character_generator_agent = CharacterGeneratorAgent()"
   ]
  },
  {
   "cell_type": "code",
   "execution_count": 184,
   "id": "32d41ba5-5d60-4a81-a5e7-c8f68a3bd151",
   "metadata": {},
   "outputs": [
    {
     "name": "stderr",
     "output_type": "stream",
     "text": [
      "Device set to use cuda:0\n"
     ]
    }
   ],
   "source": [
    "class RequestClassifierAgent(Agent):\n",
    "    version = '01'\n",
    "    base_llm = HuggingFacePipeline(\n",
    "        pipeline=pipeline(\n",
    "            \"text-generation\", \n",
    "            model=model, \n",
    "            tokenizer=tokenizer, \n",
    "            temperature=0.1,\n",
    "            max_new_tokens=64, \n",
    "            do_sample=True\n",
    "        )\n",
    "    )\n",
    "\n",
    "    # TODO: Move this evaluation & classification to another agent.\n",
    "    q_and_a = [\n",
    "        (\"Tell me about the languages of Eberron.\", \"lookup\"),\n",
    "        (\"War veteran\", \"character\"),\n",
    "        (\"Create a House Cannith item.\", \"original\"),\n",
    "        (\"Create the details of a town on the border between Zilargo and Breland.\", \"original\"),\n",
    "        (\"Groggy comic relief\", \"character\"),\n",
    "        (\"Tell me about fashion in the five nations.\", \"lookup\"),\n",
    "    ]\n",
    "    \n",
    "    def listen(self, context: str) -> bool:\n",
    "        \"\"\"This agent does not listen to any contextual information\"\"\"\n",
    "        return False\n",
    "    \n",
    "    def __init__(self):\n",
    "        pass\n",
    "\n",
    "    def _retrieve(self, q: str) -> List[Tuple[str, dict]]:\n",
    "        return []\n",
    "\n",
    "    def _prompt(self, q: str):\n",
    "        return dedent(f\"\"\"[INST]\n",
    "        User is making a request. Classify the request into one of the three categories. Response with only one word.\n",
    "        If the user is asking to create some original content, respond with the word \"original\".\n",
    "        If this is a request to create a character or NPC, or it looks like it is decribing a D&D character, respond with the word \"character\".\n",
    "        If the user is making a request to find out information, respond with the word \"lookup\".\n",
    "        \n",
    "        Q:\n",
    "        {q}\n",
    "        \n",
    "        A:\n",
    "        [/INST]\"\"\")\n",
    "\n",
    "    async def respond(self, q: str) -> AsyncIterable[str]:\n",
    "        if q.startswith(\"/character\"):\n",
    "            yield 'character'\n",
    "            return\n",
    "        \n",
    "        category = self.base_llm.bind(skip_prompt=True).invoke(self._prompt(q))\n",
    "\n",
    "        yield category.strip()\n"
   ]
  },
  {
   "cell_type": "code",
   "execution_count": 167,
   "id": "a36882c2-d953-4407-91a6-a1f36afdaa1a",
   "metadata": {},
   "outputs": [],
   "source": [
    "request_classifier = RequestClassifierAgent()"
   ]
  },
  {
   "cell_type": "code",
   "execution_count": 168,
   "id": "43856fdf-b2a2-42b1-bbd0-bb603db77f94",
   "metadata": {},
   "outputs": [
    {
     "name": "stderr",
     "output_type": "stream",
     "text": [
      "Setting `pad_token_id` to `eos_token_id`:2 for open-end generation.\n",
      "Setting `pad_token_id` to `eos_token_id`:2 for open-end generation.\n",
      "Setting `pad_token_id` to `eos_token_id`:2 for open-end generation.\n",
      "Setting `pad_token_id` to `eos_token_id`:2 for open-end generation.\n",
      "Setting `pad_token_id` to `eos_token_id`:2 for open-end generation.\n",
      "Setting `pad_token_id` to `eos_token_id`:2 for open-end generation.\n"
     ]
    },
    {
     "data": {
      "text/plain": [
       "('1.000', array([1., 1., 1., 1., 1., 1.]))"
      ]
     },
     "execution_count": 168,
     "metadata": {},
     "output_type": "execute_result"
    }
   ],
   "source": [
    "await request_classifier.evaluate()"
   ]
  },
  {
   "cell_type": "code",
   "execution_count": 205,
   "id": "dde231db-181c-4c73-b575-92971df9dcbb",
   "metadata": {},
   "outputs": [],
   "source": [
    "class SupervisorAgent(Agent):\n",
    "    version = '01'\n",
    "    base_llm = None\n",
    "\n",
    "    def listen(self, context: str) -> bool:\n",
    "        \"\"\"This agent does not listen to any contextual information\"\"\"\n",
    "        return False\n",
    "    \n",
    "    def _retrieve(self, q: str):\n",
    "        \"\"\"This agent does not retrieve any contextual information.\"\"\"\n",
    "        return []\n",
    "\n",
    "    def _prompt(self, q: str):\n",
    "        \"\"\"This agent does not require a prompt.\"\"\"\n",
    "        return \"\"\n",
    "\n",
    "    async def respond(self, q: str) -> AsyncIterable[str]:\n",
    "        \n",
    "        category_classification = self.ask(request_classifier, q)\n",
    "        category = await self.receive(category_classification)\n",
    "        \n",
    "        if category == 'character':\n",
    "            q = q.lstrip('/character')\n",
    "            async for chunk in self.ask(character_prompter_agent, q):\n",
    "                yield chunk\n",
    "            async for chunk in self.ask(character_generator_agent, self.received_response):\n",
    "                yield chunk\n",
    "        elif category == 'lookup':\n",
    "            q = q.lstrip('/lookup')\n",
    "            async for chunk in self.ask(canonical_summary_agent, q):\n",
    "                yield chunk\n",
    "        elif category == 'original':\n",
    "            q = q.lstrip('/original')\n",
    "            async for chunk in self.ask(improvisor_agent, q):\n",
    "                yield chunk\n",
    "            \n",
    "        "
   ]
  },
  {
   "cell_type": "code",
   "execution_count": 206,
   "id": "30eca07c-4806-4162-90f9-5232e049af99",
   "metadata": {},
   "outputs": [],
   "source": [
    "supervisor = SupervisorAgent()"
   ]
  },
  {
   "cell_type": "code",
   "execution_count": 207,
   "id": "fe96c77c-4ee2-412e-8abb-2c2bbcd5da21",
   "metadata": {},
   "outputs": [
    {
     "data": {
      "text/markdown": [
       "Backstory:\n",
       "Cameron Calamity Jones, a 42-year-old human male, was once an unremarkable private in the Brelish army during the last centurion-long war. Over the years of conflict, Jones rose through the ranks, becoming a skilled and respected soldier. His exceptional ability to cast spells quickly and accurately, even under intense pressure, earned him the moniker \"Calamity.\" He was eventually promoted to the rank of Lieutenant, where he led a platoon of soldiers on the front lines.\n",
       "\n",
       "Long-term Goals:\n",
       "Jones' long-term goal is to rebuild Breland, using his skills and influence to help create a peaceful and prosperous future for the Five Nations. He aims to establish a network of individuals who share this vision, and together they will work to prevent another devastating war like the one just ended.\n",
       "\n",
       "Immediate Wants and Needs:\n",
       "Jones currently lives within the Tents of Quickstone, working as a consultant for the Grizzlies, offering military and magical advice. He seeks to maintain his independence while supporting the Grizzlies' mission of protecting Quickstone from threats. He wishes to find ways to better manage the town's resources, improve its defenses, and help improve the lives of its inhabitants.\n",
       "\n",
       "Personality Traits:\n",
       "+ Punctual and organized\n",
       "+ Loyal to his friends and Breland\n",
       "+ Pragmatic and practical\n",
       "+ Determined to prevent future wars\n",
       "+ Slightly arrogant about his magical abilities\n",
       "\n",
       "Secrets:\n",
       "+ Jones suffers from a rare ailment called \"Cantrip Fever,\" which causes him to spontaneously manifest spells without concentration. It is a closely-guarded secret, as many believe it to be a sign of divine favor.\n",
       "+ During the war, Jones had an affair with a high-ranking Karrnathi officer, which resulted in a child. The child was sent to a Karrnathi orphanage and is believed to be dead.\n",
       "\n",
       "Relevant D&D 5e Skill Checks:\n",
       "+ A Perception check might reveal Jones' unusual aura when he is casting spells.\n",
       "+ An Investigation check could uncover his hidden affair if the characters delve into Jones' past.\n",
       "+ A Persuasion check might help determine whether Jones is willing to share hisCharacter Name: Cameron Calamity Jones\n",
       "\n",
       "Race: Human\n",
       "\n",
       "Class: Sorcerer (Draconic Bloodline - Bronze Dragon) - Level 5\n",
       "\n",
       "Attributes:\n",
       "- Strength: 12 (+1)\n",
       "- Dexterity: 14 (+2)\n",
       "- Constitution: 14 (+2)\n",
       "- Intelligence: 16 (+3)\n",
       "- Wisdom: 12 (+1)\n",
       "- Charisma: 18 (+4)\n",
       "\n",
       "Proficiencies:\n",
       "- Saving Throws: Wisdom, Charisma\n",
       "- Skills: Arcana, History, Investigation, Persuasion\n",
       "\n",
       "Proficiency Bonus: +3\n",
       "\n",
       "Hit Points: 48 (10 from Constitution, 38 from Class)\n",
       "\n",
       "Weapons and Equipment:\n",
       "- Quarterstaff (Proficient) - Attack Bonus: +5\n",
       "- Dagger (Proficient) - Attack Bonus: +4\n",
       "- Light Crossbow (Proficient) - Attack Bonus: +3\n",
       "- Scale Mail Armor - AC: 14 (+2 Dex)\n",
       "- Explorer's Pack\n",
       "- Dungeoneer's Pack\n",
       "- Healing Potion (x3)\n",
       "- Potion of Cure Wounds (x2)\n",
       "- Potion of Invisibility\n",
       "- Potion of Fire Breath (Draconic Ancestry)\n",
       "- A set of traveler's clothes\n",
       "- A map of the Five Nations\n",
       "- A small, ornate dragon figurine (personal item)\n",
       "\n",
       "Class Features:\n",
       "- Cantrips: Acid Splash, Mage Hand, Prestidigitation\n",
       "- Spell Slots: 5 level 1 slots, 4 level 2 slots\n",
       "- Draconic Ancestry: Resistance to acid and fire damage, ability to cast Fire Breath once per long rest\n",
       "- Font of Magic: Once per long rest, Jones can regain all expended sorcery points\n",
       "- Metamagic: Quickened Spell\n",
       "\n",
       "Class and Level: Sorcerer 5\n",
       "\n",
       "Armor Class: 16 (Scale Mail Armor, Dexterity)\n",
       "\n",
       "Spells:\n",
       "Level 1: Burning Hands, Chromatic Orb, Detect Magic, Disguise Self, Fireball, Mage Armor, Magic Missile, Shield\n",
       "Level 2: Darkness, Hold Person, Invisibility, Scorching Ray, Web\n",
       "\n",
       "Inventory:\n",
       "- 50 gold pieces\n",
       "- A letter from a former soldier, expressing gratitude for Jones' leadership during the war\n",
       "- A small locket containing a picture of his child (secret)\n",
       "- A set of fine clothes for formal occasions\n",
       "- A military medal awarded for bravery in battle\n",
       "- A journal detailing his experiences during the war (personal)\n",
       "- A map of Breland, marked with potential sites for rebuilding efforts\n",
       "- A set of common clothes for everyday wear\n",
       "- A set of traveler's clothes\n",
       "- A small pouch containing 15 gold pieces\n",
       "\n",
       "Long-term Goals: Rebuild Breland and prevent future wars.\n",
       "Immediate Wants and Needs: Maintain independence while supporting the Grizzlies' mission. Improve Quickstone's resources, defenses, and living conditions.\n",
       "Personality Traits: Punctual, organized, loyal, pragmatic, determined, slightly arrogant.\n",
       "Secrets: Suffers from Cantrip Fever,\n",
       "\n",
       "\n"
      ],
      "text/plain": [
       "<IPython.core.display.Markdown object>"
      ]
     },
     "metadata": {},
     "output_type": "display_data"
    }
   ],
   "source": [
    "response = \"\"\n",
    "async for chunk in supervisor.respond(\"Create a Brelish war veteran\"):\n",
    "    response += chunk\n",
    "    clear_output()\n",
    "    display(Markdown(response.replace('\\\\n', '\\n')))"
   ]
  },
  {
   "cell_type": "code",
   "execution_count": 190,
   "id": "f55b3c5b-8a09-4d60-b59a-a400f82e9639",
   "metadata": {},
   "outputs": [
    {
     "data": {
      "text/markdown": [
       "**Character Name:** Cameron Calamity Jones\n",
       "\n",
       "**Backstory:** Cameron Jones was born and raised in the bustling city of Sharn, Breland. Growing up, he was always drawn to the arcane and the magical, fascinated by the wandslingers, the new breed of soldiers who could harness magic on the battlefield. When the Last War broke out, he saw an opportunity to serve his nation and follow his passion. He enlisted in the Brelish army and was trained as a wandslinger, quickly rising through the ranks thanks to his natural aptitude for arcane combat.\n",
       "\n",
       "During the war, Cameron distinguished himself with acts of bravery and tactical genius. His unit, the Lion's Roar, became known for their daring charges and fearsome power on the battlefield. However, the war took its toll on Cameron, both physically and emotionally. He lost many close comrades, and the horrors of war haunt his dreams to this day.\n",
       "\n",
       "At the end of the war, Cameron was honorably discharged and returned to Sharn. He initially struggled to adapt to civilian life, feeling lost without the structure and purpose that the army provided. But his love for magic and his desire to help his nation never waned. He used his skills and connections to become a renowned wandslinger for hire, often taking on dangerous jobs that others would shun.\n",
       "\n",
       "**Long-term Goals:** Cameron's long-term goal is to prove that wandslingers are more than just battlefield warriors. He hopes to use his skills to help rebuild Breland and make it a safer, more prosperous place. He also aspires to establish a school or academy for young wandslingers, teaching them the arts of arcane combat and instilling in them a sense of duty and honor.\n",
       "\n",
       "**Immediate Wants and Needs:** In the short term, Cameron is seeking to establish himself as a reliable and highly skilled wandslinger for hire. He needs to find steady work that allows him to pay his bills and maintain his equipment. He is also looking to reconnect with old comrades from the Lion's Roar, to share stories and reminisce about the good old days.\n",
       "\n",
       "**Personality Traits:** Cameron is fiercely loyal to Breland and its people. He is brave, resolute, and unyielding in the**Character Name:** Cameron Calamity Jones\n",
       "\n",
       "**Race:** Human (Variant: Tiefling)\n",
       "\n",
       "**Class:** Wandslinger (Homebrew Class) - Level 5\n",
       "\n",
       "**Attributes:**\n",
       "- Strength: 14\n",
       "- Dexterity: 16 (Dexterity Modifier: +3)\n",
       "- Constitution: 14\n",
       "- Intelligence: 16\n",
       "- Wisdom: 12\n",
       "- Charisma: 14\n",
       "\n",
       "**Proficiencies:**\n",
       "- Armor Proficiency: Light armor, medium armor, shields\n",
       "- Weapon Proficiency: Simple weapons, martial weapons, firearms\n",
       "- Tool Proficiency: Artisan's tools (blacksmith's tools), thieves' tools\n",
       "- Skill Proficiency: Athletics, Acrobatics, Arcana, History, Investigation, Perception, Stealth\n",
       "\n",
       "**Proficiency Bonus:** +3\n",
       "\n",
       "**Saving Throws:** Intelligence, Dexterity\n",
       "\n",
       "**Feats and Proficiencies:**\n",
       "- Shield Master (Feat)\n",
       "- Wandslinger's Focus (Class Feature)\n",
       "\n",
       "**Hit Points:** 52 (10 HP from level 5 Wandslinger, 42 HP from 14 CON)\n",
       "\n",
       "**Weapons and Equipment:**\n",
       "- Rapier (Longsword for melee combat when using a shield)\n",
       "- Shield\n",
       "- Wand (Quarterstaff for ranged combat)\n",
       "- 20 Bullets (for firearm)\n",
       "- Explosive Runes (5)\n",
       "- Arcane Focus (Quarterstaff)\n",
       "- Leather Armor\n",
       "- Adventurer's Pack\n",
       "- Explorer's Pack\n",
       "- 50 Gold Pieces\n",
       "- A small, intricately crafted silver locket containing a picture of the Lion's Roar unit\n",
       "- A set of custom-made blacksmith's tools, a gift from a comrade\n",
       "\n",
       "**Attack Bonus:**\n",
       "- Rapier: +6 to hit, 9 (1d8 + 4) slashing damage\n",
       "- Longsword: +6 to hit, 11 (1d10 + 4) slashing damage\n",
       "- Shield: +2 AC bonus\n",
       "- Wand (Quarterstaff): +6 to hit, 15 (4d6) force damage (or 1d10 + 4 force damage if using Explosive Runes)\n",
       "\n",
       "**Class and Level:** Wandslinger 5\n",
       "\n",
       "**Armor Class:** 16 (13 + 3 Dexterity Modifier)\n",
       "\n",
       "**Spellcasting Ability:** Arcane Tradition (Homebrew Subclass) - Intelligence\n",
       "\n",
       "**Spells:**\n",
       "- Cantrips: Arcane Charge, Mage Hand, Mending, Message, Prestidigitation, Thaumaturgy\n",
       "- 1st Level: Burning Hands, Cure Wounds, Detect Magic, Magic Missile, Shield\n",
       "- 2nd Level: Darkvision, Enhance Ability, Hold Person, Scorching Ray, Web\n",
       "\n",
       "**Inventory:**\n",
       "- A set of fine clothes for formal occasions\n",
       "- A map of Breland, marked with the locations of old comrades from the Lion's Roar\n",
       "- A journal to document his adventures and experiences\n",
       "- A set of tools for repairing and modifying his wands and equipment\n",
       "- A small, enchanted amulet that grants"
      ],
      "text/plain": [
       "<IPython.core.display.Markdown object>"
      ]
     },
     "metadata": {},
     "output_type": "display_data"
    }
   ],
   "source": [
    "response = \"\"\n",
    "async for chunk in supervisor.respond(\"Create a Brelish war veteran\"):\n",
    "    response += chunk\n",
    "    clear_output()\n",
    "    display(Markdown(response.replace('\\\\n', '\\n') + '\\n\\n\\n'))"
   ]
  },
  {
   "cell_type": "code",
   "execution_count": null,
   "id": "afed7e30-4f97-4b06-9128-e607fd7bd00d",
   "metadata": {},
   "outputs": [],
   "source": []
  },
  {
   "cell_type": "code",
   "execution_count": 171,
   "id": "6bf8074c-a507-4f8b-be37-3f40d660716d",
   "metadata": {},
   "outputs": [
    {
     "data": {
      "text/markdown": [
       "Backstory:\n",
       "Cameron Calamity Jones is a Brelish war veteran who served as a wandslinger during the Last War. Originally a non-combatant with a background in arcane studies, Cameron was drafted into the Brelish military and trained to wield a wand in combat. He quickly rose through the ranks, earning a reputation as a formidable and relentless combatant, earning him the nickname \"Calamity\" from his peers. After the war, Cameron returned to Breland and settled in Quickstone, taking up a position as a sheriff's deputy and using his skills as a wandslinger to maintain law and order in the town and surrounding areas.\n",
       "\n",
       "Long-term Goals:\n",
       "Cameron's long-term goal is to one day be appointed as the sheriff of Quickstone and build a strong and respected force to protect the town and its citizens. He also hopes to build a peaceful and prosperous future for Breland, and to help the nation rebuild after the destruction caused by the Last War.\n",
       "\n",
       "Immediate Wants and Needs:\n",
       "Cameron is currently focused on maintaining law and order in Quickstone, and is always on the lookout for troublemakers and criminals who threaten the peace. He is also in constant need of supplies and equipment to maintain his wand and keep it functioning properly, as well as medical supplies to treat any injuries sustained during his duties.\n",
       "\n",
       "Personality Traits:\n",
       "Cameron is a disciplined and driven individual, with a strong sense of duty to his country and his community. He is also fiercely independent and stubborn, and is not afraid to stand up for what he believes in, even if it means going against authority. He is deeply protective of those he cares about, and will stop at nothing to protect them from harm.\n",
       "\n",
       "Secrets:\n",
       "Cameron has a dark secret from his time in the war: he was responsible for the death of a fellow soldier who had threatened to reveal a scandal involving a high-ranking officer. Cameron has spent years living with the guilt of this act, and is haunted by the memory of his former comrade. He has also been secretly training a young Brelish soldier, believing that he can help the young man reach his full potential and become a valuable asset to the Brelish military.\n",
       "\n",
       "Relevant D&D 5e Skill Checks:\n",
       "Players may be able to notice Cameron's proficiency with Smith's Tools, as he is constantly maintaining and repairing his wand. They may also be able to spot that he is a wandslinger by observing his wand at rest on his belt, or by witnessing him casting spells during combat. With a successful Investigation check, players may be able to discover Cameron's dark secret, or overhear him talking to his secret trainee. With a successful Persuasion check, players may be able to convince Cameron to look the other way in certain situations, or to provide them with information or assistance.Character Name: Cameron Calamity Jones\n",
       "\n",
       "Race: Human (Variant Human)\n",
       "\n",
       "Class: Wandslinger (Homebrew Class) - Level 3\n",
       "\n",
       "Attributes:\n",
       "- Strength: 12 (+1)\n",
       "- Dexterity: 16 (+3)\n",
       "- Constitution: 14 (+2)\n",
       "- Intelligence: 16 (+3)\n",
       "- Wisdom: 12 (+1)\n",
       "- Charisma: 14 (+2)\n",
       "\n",
       "Proficiencies:\n",
       "- Armor Proficiency: Light Armor\n",
       "- Weapon Proficiency: Simple Weapons, Martial Weapons, Wands\n",
       "- Tool Proficiency: Smith's Tools\n",
       "- Skill Proficiency: Athletics, Investigation, Persuasion, Perception\n",
       "\n",
       "Proficiency Bonus: +3\n",
       "\n",
       "Saving Throws: Wisdom, Charisma\n",
       "\n",
       "Feats and Proficiencies:\n",
       "- Feat: Sharpshooter (Dexterity)\n",
       "- Proficiency: Resilient (Constitution)\n",
       "\n",
       "Hit Points: 39 (3d8 for Human + 3d10 for Wandslinger)\n",
       "\n",
       "Weapons and Equipment:\n",
       "- Wand of Fireball (3 charges)\n",
       "- Wand of Magic Missile (4 charges)\n",
       "- Wand of Cure Wounds (2 charges)\n",
       "- Short Sword (proficient)\n",
       "- Leather Armor (armor class 11 + Dexterity modifier)\n",
       "- Explorer's Pack\n",
       "- Smith's Tools\n",
       "- A set of traveler's clothes\n",
       "- A set of Brelish military uniform (for formal occasions)\n",
       "- A small pouch containing 15 gold pieces\n",
       "- A locket with a picture of his family (personal item)\n",
       "\n",
       "Attack Bonus:\n",
       "- Short Sword: +5 (Dexterity modifier + Proficiency Bonus)\n",
       "\n",
       "Class and Level Features:\n",
       "- Wandslinger: Wand Mastery, Wand Channeling, Wand Specialization (Fire)\n",
       "- Level 3: 3rd-level Spell Slots (2 slots of 3rd level)\n",
       "\n",
       "Spells:\n",
       "- Cantrips: Mage Hand, Prestidigitation, Thaumaturgy\n",
       "- 1st Level: Burning Hands, Chromatic Orb, Cure Wounds, Detect Magic, Shield, Thunderwave\n",
       "- 2nd Level: Darkness, Enhance Ability, Hold Person, Scorching Ray, Web\n",
       "- 3rd Level: Fireball, Fly, Hypnotic Pattern, Lightning Bolt, Vampiric Touch\n",
       "\n",
       "Armor Class: 14 (Leather Armor + Dexterity modifier)\n",
       "\n",
       "Inventory:\n",
       "- A set of spare wand components (for crafting new wands)\n",
       "- A spellbook containing spells from the Wandslinger class\n",
       "- A set of lockpicks (personal item)\n",
       "- A map of Breland (personal item)\n",
       "- A letter from a former comrade (personal item)\n",
       "- A small pouch containing 50 gold pieces (for supplies and equipment)\n",
       "- A set of manacles (for apprehending criminals"
      ],
      "text/plain": [
       "<IPython.core.display.Markdown object>"
      ]
     },
     "metadata": {},
     "output_type": "display_data"
    }
   ],
   "source": [
    "response = \"\"\n",
    "async for chunk in supervisor.respond(\"Create a Brelish war veteran\"):\n",
    "    response += chunk\n",
    "    clear_output()\n",
    "    display(Markdown(response.replace('\\\\n', '\\n')))"
   ]
  },
  {
   "cell_type": "code",
   "execution_count": null,
   "id": "35c495b9-a981-4e40-b6b0-275e59fb0286",
   "metadata": {},
   "outputs": [],
   "source": [
    "q = \"Tell me about the languages of Eberron.\""
   ]
  },
  {
   "cell_type": "code",
   "execution_count": 206,
   "id": "47ea8fc1-cd5b-4c00-a961-e207e17cd021",
   "metadata": {},
   "outputs": [
    {
     "name": "stderr",
     "output_type": "stream",
     "text": [
      "Setting `pad_token_id` to `eos_token_id`:2 for open-end generation.\n"
     ]
    },
    {
     "data": {
      "text/plain": [
       "'lookup'"
      ]
     },
     "metadata": {},
     "output_type": "display_data"
    },
    {
     "name": "stdout",
     "output_type": "stream",
     "text": [
      "CPU times: user 982 ms, sys: 169 ms, total: 1.15 s\n",
      "Wall time: 1.15 s\n"
     ]
    }
   ],
   "source": [
    "%%time\n",
    "for chunk in supervisor.respond(\"Tell me about the languages of Eberron.\"):\n",
    "    display(chunk)"
   ]
  },
  {
   "cell_type": "code",
   "execution_count": 207,
   "id": "0551ca7c-df1e-4f73-9328-34d6ef48b96a",
   "metadata": {},
   "outputs": [
    {
     "name": "stderr",
     "output_type": "stream",
     "text": [
      "Setting `pad_token_id` to `eos_token_id`:2 for open-end generation.\n"
     ]
    },
    {
     "data": {
      "text/plain": [
       "'character'"
      ]
     },
     "metadata": {},
     "output_type": "display_data"
    },
    {
     "name": "stdout",
     "output_type": "stream",
     "text": [
      "CPU times: user 742 ms, sys: 146 ms, total: 888 ms\n",
      "Wall time: 886 ms\n"
     ]
    }
   ],
   "source": [
    "%%time\n",
    "for chunk in supervisor.respond(\"Create a House Cannith item.\"):\n",
    "    display(chunk)"
   ]
  },
  {
   "cell_type": "code",
   "execution_count": null,
   "id": "c8784895-6a15-4c2c-b818-1ce8391a272f",
   "metadata": {},
   "outputs": [],
   "source": [
    "# TODO: class ShortResponseAgent(Agent)\n",
    "# TODO: class CharacterCreatorAgent(Agent)\n",
    "# TODO: class CharacterDetailerAgent(Agent)\n",
    "# TODO: class OriginalContentAgent(Agent)"
   ]
  },
  {
   "cell_type": "code",
   "execution_count": 35,
   "id": "654f0037-e3b8-47a6-9555-1a92275eac6f",
   "metadata": {},
   "outputs": [],
   "source": [
    "import networkx"
   ]
  },
  {
   "cell_type": "code",
   "execution_count": null,
   "id": "c36a2a90-f052-4297-b9ae-0a0d04c97779",
   "metadata": {},
   "outputs": [],
   "source": []
  },
  {
   "cell_type": "code",
   "execution_count": null,
   "id": "b8a57b15-7c56-42df-a0bd-f165c859b066",
   "metadata": {},
   "outputs": [],
   "source": []
  },
  {
   "cell_type": "code",
   "execution_count": null,
   "id": "22a7c36e-ac70-4752-8b2d-6781b5a14800",
   "metadata": {},
   "outputs": [],
   "source": []
  },
  {
   "cell_type": "code",
   "execution_count": null,
   "id": "6c2e7dad-c90c-417e-8d3e-316fd5760ad4",
   "metadata": {},
   "outputs": [],
   "source": []
  },
  {
   "cell_type": "code",
   "execution_count": null,
   "id": "77a79d8b-2552-4b79-83ab-17729cccef89",
   "metadata": {},
   "outputs": [],
   "source": []
  },
  {
   "cell_type": "code",
   "execution_count": 94,
   "id": "f9534839-5607-4ba9-aea1-0dc64ace57c7",
   "metadata": {},
   "outputs": [
    {
     "name": "stderr",
     "output_type": "stream",
     "text": [
      "[2025-01-20T04:24:22Z WARN  lance_core::utils::tokio] Number of CPUs is less than or equal to the number of IO core reservations. This is not a supported configuration. using 1 CPU for compute intensive tasks.\n",
      "[2025-01-20T04:24:22Z WARN  lance_core::utils::tokio] Number of CPUs is less than or equal to the number of IO core reservations. This is not a supported configuration. using 1 CPU for compute intensive tasks.\n",
      "[2025-01-20T04:24:22Z WARN  lance_core::utils::tokio] Number of CPUs is less than or equal to the number of IO core reservations. This is not a supported configuration. using 1 CPU for compute intensive tasks.\n",
      "[2025-01-20T04:24:22Z WARN  lance_core::utils::tokio] Number of CPUs is less than or equal to the number of IO core reservations. This is not a supported configuration. using 1 CPU for compute intensive tasks.\n",
      "Setting `pad_token_id` to `eos_token_id`:2 for open-end generation.\n"
     ]
    },
    {
     "name": "stdout",
     "output_type": "stream",
     "text": [
      "1. During the Last War, the fashion styles of the Five Nations evolved to distinguish their soldiers and improve their tools of war. Common soldiers typically wore light, medium, or heavy armor made of leather, metal, or a combination of both.\n",
      "\n",
      "    2. Elite forces, officers, and mercenaries used different styles and materials. Each nation had its own distinct approach to fashion, both in its armor and civilian clothing.\n",
      "\n",
      "    3. Beyond practical considerations, adventurers might choose to wear specific clothing as a cultural expression. For example, a Cyran might wear gloves and masks, a Karrn might wear gazyrs sewn onto leather armor, an Aundairian might wear a cloak with strange proportions, a Thrane might wear clothes covered in embroidered patches, an Aundairian might wear clothes covered in embroidered patches, and a Brel might wear pointy-toed shoes and long puffy sleeves.\n",
      "\n",
      "    4. Many contemporary fashion designers now produce lines of fashion specifically for adventurers.\n",
      "\n",
      "    5. The Five Nations, especially the four founding nations (Breland, Karrnath, Thrane, and Aundair), have a strong cultural identity that may still influence their clothing choices, even after the Last War.\n",
      "\n",
      "    6. In addition to the historical fashion of the Five Nations, there is also a new resurgence of fashion interest from designers such as the divine changeling who has returned after four years in the Mournland.\n",
      "\n",
      "    7. It is also worth noting that the Treaty of Cessation ended the Last War and created new sovereign nations from the Five Nations, but the identities of these new nations are still forming and their cultural experiences are not the same as those of the pre-War Five Nations.\n"
     ]
    }
   ],
   "source": [
    "q = \"Tell me about fashion in the five nations.\"\n",
    "response = get_info(q)\n",
    "print(response)"
   ]
  },
  {
   "cell_type": "code",
   "execution_count": 97,
   "id": "a4ce8f72-d135-4bca-82cb-3ac691986301",
   "metadata": {},
   "outputs": [
    {
     "name": "stderr",
     "output_type": "stream",
     "text": [
      "[2025-01-20T04:25:16Z WARN  lance_core::utils::tokio] Number of CPUs is less than or equal to the number of IO core reservations. This is not a supported configuration. using 1 CPU for compute intensive tasks.\n",
      "[2025-01-20T04:25:16Z WARN  lance_core::utils::tokio] Number of CPUs is less than or equal to the number of IO core reservations. This is not a supported configuration. using 1 CPU for compute intensive tasks.\n",
      "[2025-01-20T04:25:16Z WARN  lance_core::utils::tokio] Number of CPUs is less than or equal to the number of IO core reservations. This is not a supported configuration. using 1 CPU for compute intensive tasks.\n",
      "[2025-01-20T04:25:16Z WARN  lance_core::utils::tokio] Number of CPUs is less than or equal to the number of IO core reservations. This is not a supported configuration. using 1 CPU for compute intensive tasks.\n",
      "Setting `pad_token_id` to `eos_token_id`:2 for open-end generation.\n"
     ]
    },
    {
     "name": "stdout",
     "output_type": "stream",
     "text": [
      "1. The common armor of today for the Five Nations include light, medium, and heavy armor. These typically involve a metal helmet, breastplate for medium armor, and leather or chainmail for light armor. However, each nation has its distinct approach to fashion both in its armor and civilian clothing.\n",
      "\n",
      "    2. Adventurers from the Five Nations often represent their homeland in their clothing, although not always for practicality. Adventurers are an important part of each nation, with adventuring guilds and independents playing crucial roles in their cultures.\n",
      "\n",
      "    3. The Church of the Silver Flame, one of the most significant religions in the Five Nations, is recognized by its delicately embroidered, silver-dyed denim robes. Their vestments are sewn with extra space for mobility, and are usually closed with toggles rather than fasteners.\n",
      "\n",
      "    4. In Middle Tavick's Landing, one can find fusion of Brelish lapels, Thrane cloaks, and other styles, as it serves as the melting pot of cultures in Middle and Lower Tavick’s Landing.\n",
      "\n",
      "    5. Cyran fashion is both practical and fashionable, featuring glamerweave, fur, and layered clothing. Stays and whalebone corsets are worn as structural garments, and silks lace are commonly used for seam finishing.\n",
      "\n",
      "    6. In light of regionalism, the Twelve has capitalized on opportunities created by diseases such as tsench'foot, with House Vadalis introducing magebred sheep whose wool had unique drying properties. These Vadaliswool stockings are used by soldiers across Khorvaire and even shipped to Stormreach.\n",
      "\n",
      "    7. As a result of industrialization and cheaper fabric, higher-fashion clothes became accessible to a lower class of citizens during the Last War, broadening the fashion options for people across the Five Nations.\n"
     ]
    }
   ],
   "source": [
    "q = \"Tell me about fashion in the five nations.\"\n",
    "response = get_info(q)\n",
    "print(response)"
   ]
  },
  {
   "cell_type": "code",
   "execution_count": 99,
   "id": "c04ff20a-0444-40ae-bf41-934c5f2baf43",
   "metadata": {},
   "outputs": [
    {
     "name": "stderr",
     "output_type": "stream",
     "text": [
      "[2025-01-20T04:26:31Z WARN  lance_core::utils::tokio] Number of CPUs is less than or equal to the number of IO core reservations. This is not a supported configuration. using 1 CPU for compute intensive tasks.\n",
      "[2025-01-20T04:26:31Z WARN  lance_core::utils::tokio] Number of CPUs is less than or equal to the number of IO core reservations. This is not a supported configuration. using 1 CPU for compute intensive tasks.\n",
      "[2025-01-20T04:26:31Z WARN  lance_core::utils::tokio] Number of CPUs is less than or equal to the number of IO core reservations. This is not a supported configuration. using 1 CPU for compute intensive tasks.\n",
      "[2025-01-20T04:26:31Z WARN  lance_core::utils::tokio] Number of CPUs is less than or equal to the number of IO core reservations. This is not a supported configuration. using 1 CPU for compute intensive tasks.\n",
      "Setting `pad_token_id` to `eos_token_id`:2 for open-end generation.\n"
     ]
    },
    {
     "name": "stdout",
     "output_type": "stream",
     "text": [
      "1. Light Armor: Because the dragonmark heir does not have proficiency in heavy armor, a light armor will offer better protection while being able to move easily. Many Mror wear decorative armor that uses the statistics of light armor, but evokes the general flavor of a heavier breastplate. This will allow the heir to retain the martial aspect to their attire that the Mror generally favor, but still be able to move freely.\n",
      "\n",
      "    2. Robe or Tunic: To balance out the armor, a long robe or tunic can be used as the top garment. This will not only provide a more elegant look, but also offer more coverage for the dragonmark on their arm/chest.\n",
      "\n",
      "    3. Sash or Belt: A sash or belt can be worn around the waist to hold up the robe/tunic and also add a bit of color and personality to the outfit.\n",
      "\n",
      "    4. Boots: Boots would be a practical choice for footwear, as they offer protection and support for the feet while moving.\n",
      "\n",
      "    5. Accessories: To complete the outfit, the heir could wear various accessories such as brooches, rings, chains, and bracelets. These will not only make the outfit look more polished, but also serve as a way to show wealth and personal expression. Brooches can depict family crests, the seal of the ruling clan, or even moods; some brooches can mean \"leave me alone\" or \"looking for company.\" A dultar—blood blade—could also be worn as a dagger, both as a utilitarian tool and as a statement of allegiance. The dultar's style could help identify the heir's clan, as each ruling clan has a distinct style of dultar.\n",
      "\n",
      "    6. Living Cloak (optional): Living clothing is a self-cleaning, self-mending, and feeds on the excretions (primarily sweat) of the host. For the more exotic dragonmark heir, a living cloak could be an interesting and visually stunning addition to the outfit. Patterns or colors may shift to reflect the mood of the wearer, and a living cloak may ripple or billow of its own accord. Narathun currently has the finest artisan-breeders working with living clothing, and styles are constantly evolving.\n",
      "\n",
      "    This outfit would allow the dragonmarked heir to look both elegant and powerful while also being functional and versatile. The accessories will allow the heir to express their house, clan, and personal identity.\n"
     ]
    }
   ],
   "source": [
    "q = \"Suggest an outfit for a dragonmarked heir.\"\n",
    "response = get_info(q)\n",
    "print(response)"
   ]
  },
  {
   "cell_type": "code",
   "execution_count": 100,
   "id": "d4b5ac85-11e3-4ab2-8476-20293602d9ab",
   "metadata": {},
   "outputs": [
    {
     "name": "stdout",
     "output_type": "stream",
     "text": [
      "memory.total [MiB], memory.used [MiB], memory.free [MiB]\n",
      "15360 MiB, 10967 MiB, 4129 MiB\n"
     ]
    }
   ],
   "source": [
    "!nvidia-smi --query-gpu=memory.total,memory.used,memory.free --format=csv"
   ]
  },
  {
   "cell_type": "code",
   "execution_count": null,
   "id": "53dda19c-e626-433f-9343-069065b7581c",
   "metadata": {},
   "outputs": [],
   "source": []
  },
  {
   "cell_type": "code",
   "execution_count": 36,
   "id": "d3da6efc-1d9e-403c-b992-ae501aa82fb1",
   "metadata": {},
   "outputs": [],
   "source": [
    "def get_one_word_answer(q: str) -> str:\n",
    "    results = retrieve(q, embedding_model, 5, 'cosine')\n",
    "\n",
    "    retrieved_text = dedent(\"\"\"\n",
    "    -----\n",
    "    \"\"\").join(results['text'])\n",
    "\n",
    "    prompt = f\"\"\"\n",
    "    [INST]\n",
    "    Use the following information (until the final cutoff =====) to answer the user query Q below.\n",
    "    The answer has to be one word only.\n",
    "    You are trying to get the most accurate answer in one shot.\n",
    "\n",
    "    {retrieved_text}\n",
    "\n",
    "    =====\n",
    "\n",
    "    Q:\n",
    "    {q}\n",
    "\n",
    "    A:\n",
    "    [/INST]\n",
    "    \"\"\"\n",
    "    print(len(prompt))\n",
    "\n",
    "    model_inputs = tokenizer([prompt], return_tensors=\"pt\").to(\"cuda\")\n",
    "\n",
    "    generated_ids = model.generate(**model_inputs, \n",
    "                                   max_length=50,\n",
    "                                   max_new_tokens=256, \n",
    "                                   do_sample=True, \n",
    "                                   eos_token_id=tokenizer.eos_token_id)\n",
    "\n",
    "    response = tokenizer.decode(generated_ids[0], skip_special_tokens=True)\n",
    "\n",
    "    return (response.split('A:\\n')[1] if 'A:\\n' in response else response).strip()\n"
   ]
  },
  {
   "cell_type": "code",
   "execution_count": 37,
   "id": "693dd2f4-1a2f-44ce-a03e-4d1517f6321e",
   "metadata": {},
   "outputs": [
    {
     "name": "stderr",
     "output_type": "stream",
     "text": [
      "[2025-01-21T01:40:31Z WARN  lance_core::utils::tokio] Number of CPUs is less than or equal to the number of IO core reservations. This is not a supported configuration. using 1 CPU for compute intensive tasks.\n",
      "[2025-01-21T01:40:31Z WARN  lance_core::utils::tokio] Number of CPUs is less than or equal to the number of IO core reservations. This is not a supported configuration. using 1 CPU for compute intensive tasks.\n",
      "[2025-01-21T01:40:31Z WARN  lance_core::utils::tokio] Number of CPUs is less than or equal to the number of IO core reservations. This is not a supported configuration. using 1 CPU for compute intensive tasks.\n",
      "[2025-01-21T01:40:31Z WARN  lance_core::utils::tokio] Number of CPUs is less than or equal to the number of IO core reservations. This is not a supported configuration. using 1 CPU for compute intensive tasks.\n",
      "Setting `pad_token_id` to `eos_token_id`:2 for open-end generation.\n",
      "Both `max_new_tokens` (=256) and `max_length`(=50) seem to have been set. `max_new_tokens` will take precedence. Please refer to the documentation for more information. (https://huggingface.co/docs/transformers/main/en/main_classes/text_generation)\n"
     ]
    },
    {
     "name": "stdout",
     "output_type": "stream",
     "text": [
      "8460\n",
      "Tents\n"
     ]
    }
   ],
   "source": [
    "q = \"What is the name of the Breland veterans community in Quickstone?\"\n",
    "response = get_one_word_answer(q)\n",
    "print(response)"
   ]
  },
  {
   "cell_type": "code",
   "execution_count": null,
   "id": "b491cfc7-add5-4474-a77d-8a4dac48bb28",
   "metadata": {},
   "outputs": [],
   "source": [
    "q_and_a = [\n",
    "    (\"What is the name of the prominent university in Sharn?\", \"Morgrave\"),\n",
    "    (\"What type of magic does Karrnath use in its military?\", \"Necromancy\"),\n",
    "    (\"Who leads Kind's Dark Lanterns?\", \"Vron\"),\n",
    "    (\"Who leads King's Dark Lanterns?\", \"Vron\"),\n",
    "    (\"What is the name of the Breland veterans community in Quickstone?\", \"Tents\"),\n",
    "]"
   ]
  },
  {
   "cell_type": "code",
   "execution_count": 38,
   "id": "892580c6-4ae4-49b1-b7ad-d7cac0d35307",
   "metadata": {},
   "outputs": [],
   "source": [
    "# Required globals: model, embedding_model, tokenizer, retreive. I might also need a score or k or other parameters.\n",
    "retrieve = retrieve_baseline\n",
    "def generate_character(q: str) -> str:\n",
    "    results = retrieve(q, embedding_model, 10, 'cosine')\n",
    "\n",
    "    retrieved_text = dedent(\"\"\"\n",
    "    -----\n",
    "    \"\"\").join(results['text'])\n",
    "\n",
    "    prompt = f\"\"\"\n",
    "    [INST]\n",
    "    Use the following information (until the final cutoff =====) to create a character based on the 5th Edition rules for the world of Eberron.\n",
    "    Use the prompt P as a starting point.\n",
    "    Give the complete character sheet.\n",
    "    A complete character sheet should include name, race, class, level, attributes, proficiencies based on the class and fifth edition rules, \n",
    "    proficiency bonus based on class and level, saving throws bonus based on class, feats and proficiency , hit points based on class and level, \n",
    "    weapons and equipment, attack bonus for each weapon based on abilities, any race or class based features, class and level, attack roll, \n",
    "    and equipment, armor class based on dexterity and armor, and if the character has spellcasting ability, spells based on class and level, \n",
    "    as well as the number of spell slots. \n",
    "    Include an inventory based on their level, class, and race, with a few personal touches in the items.\n",
    "    \n",
    "    Also include a compelling and detailed backstory of two paragraphs related to the world of Eberron. \n",
    "    This background should include their nation.\n",
    "    Include another short paragraph about their intentions.\n",
    "    Include one other short paragraph about their tactics in combat.\n",
    "    Finally, include one paragraph for the visuals.\n",
    "\n",
    "    {retrieved_text}\n",
    "\n",
    "    =====\n",
    "\n",
    "    Prompt P:\n",
    "    {q}\n",
    "\n",
    "    Character:\n",
    "    [/INST]\n",
    "    \"\"\"\n",
    "\n",
    "    model_inputs = tokenizer([prompt], return_tensors=\"pt\").to(\"cuda\")\n",
    "\n",
    "    generated_ids = model.generate(**model_inputs, \n",
    "                                   max_new_tokens=2048, \n",
    "                                   do_sample=True, \n",
    "                                   eos_token_id=tokenizer.eos_token_id)\n",
    "\n",
    "    response = tokenizer.decode(generated_ids[0], skip_special_tokens=True)\n",
    "\n",
    "    return (response.split('Character:\\n')[1] if 'Character:\\n' in response else response).strip()\n",
    "\n",
    "    "
   ]
  },
  {
   "cell_type": "code",
   "execution_count": 103,
   "id": "54aed446-ed39-476b-ac10-be241abd4bfb",
   "metadata": {},
   "outputs": [
    {
     "name": "stderr",
     "output_type": "stream",
     "text": [
      "[2025-01-20T04:34:02Z WARN  lance_core::utils::tokio] Number of CPUs is less than or equal to the number of IO core reservations. This is not a supported configuration. using 1 CPU for compute intensive tasks.\n",
      "[2025-01-20T04:34:02Z WARN  lance_core::utils::tokio] Number of CPUs is less than or equal to the number of IO core reservations. This is not a supported configuration. using 1 CPU for compute intensive tasks.\n",
      "[2025-01-20T04:34:02Z WARN  lance_core::utils::tokio] Number of CPUs is less than or equal to the number of IO core reservations. This is not a supported configuration. using 1 CPU for compute intensive tasks.\n",
      "[2025-01-20T04:34:02Z WARN  lance_core::utils::tokio] Number of CPUs is less than or equal to the number of IO core reservations. This is not a supported configuration. using 1 CPU for compute intensive tasks.\n",
      "Setting `pad_token_id` to `eos_token_id`:2 for open-end generation.\n"
     ]
    },
    {
     "name": "stdout",
     "output_type": "stream",
     "text": [
      "8. Character: Caelum \"Cal\" Iarwain\n",
      "    9. Race: Human\n",
      "    10. Class: Ranger 1\n",
      "    11. Attributes (5e standard array): Str 12, Dex 14, Con 10, Int 8, Wis 12, Cha 10\n",
      "    11. Class Abilities:\n",
      "        1. Starting Proficiencies: Perception, Survival\n",
      "        2. Level 1 Fighting Style: Archery\n",
      "        3. Ranger Spells: Cat's Grace, Hunter's Mark\n",
      "        4. Favored Enemy: Orcs\n",
      "        5. Natural Explorer: Swamp, Urban\n",
      "        6. Skills: Climb, Dexterity, Intelligence, Investigation, Nature, Navigation, Survival, Persuasion\n",
      "        7. Tools: None\n",
      "    12. Proficiency Bonus (5e default): +2\n",
      "    13. Saving Throws:\n",
      "        1. Wisdom (Race)\n",
      "        2. Dexterity (Class)\n",
      "    14. Feats & Levels: None\n",
      "    15. Hit Points: 10 (Levels: 1 Ranger) + Hit Die (next level: 1d10)\n",
      "    16. Weapons & Equipment:\n",
      "        1. Shortbow\n",
      "        2. Quiver (20 arrows)\n",
      "        3. Short Sword\n",
      "        4. Leather Armor\n",
      "    17. Attack Bonus (Per Stat):\n",
      "        1. Shortbow: +5 to hit (1d8 damage)\n",
      "        2. Short Sword: +5 to hit (1d6+3 damage)\n",
      "    18. Features & Traits:\n",
      "        1. Darkvision: You can see in dim light within 60 feet as if it were bright light, and in darkness as if it were dim light.\n",
      "        2. Fighter: You can fight with greater precision, marking a target and scoring devastating critical hits.\n",
      "        3. Skill Expertise: Climb, Perception, Survival\n",
      "        4. Slinger: Reroll a failed attack roll made with a ranged weapon with the \"ammo\" property.\n",
      "    19. Class & Level: Ranger 1\n",
      "    20. Background: Soldier\n",
      "    21. Age: 33\n",
      "    22. Alignment: Neutral Good\n",
      "    23. Description:\n",
      "        1. Tall and lean, Cal has light-colored hair, brown eyes, and several scars from war.\n",
      "        2. He carries a shortbow, a short sword, and a leather-armored quiver of arrows slung at his back.\n",
      "    24. Backstory:\n",
      "        1. Serving in the Brelish military, Cal experienced the loss of his family to a rogue Orc warband during the Last War. Seeking vengeance, he volunteered for special operations units seeking the orc warlords and their bands. After his mission was complete, Cal left the service for a time, searching for his family's killers among orc tribes. After a time, he settled in the town of Quickstone with the Grizzlies, the military veterans' organization of Brelish soldiers. Since then, Cal has been honing his skills and his vengeance, now turning to a new cause: hunting down the last of the orcs who still threaten the region.\n",
      "    25. Intentions:\n",
      "        1. Cal seeks to rid the region of the remaining orcs who claim to have had a part in the death of his family, regardless of political consequences.\n",
      "    26. Tactics in Combat:\n",
      "        1. Cal uses his hunter's mark ability and his fervor for vengeance to aim for high-value targets with surgical precision.\n",
      "        2. He tries to surround himself with allies who can provide cover or distract enemies while he unleashes his arrows.\n",
      "        3. If the battle is close, Cal falls back on his short sword for effective melee capability.\n",
      "\n",
      "    =====\n",
      "\n",
      "    As a soldier, Caelum \"Cal\" Iarwain of Breland served in the Last War with distinction. He was honored for capturing a high-level orc warlord and was released from military service with great fanfare. However, when he learned that his family was killed during the war by a band of orcs, he left the service, seeking vengeance.\n",
      "    Cal settled in the small town of Quickstone, where he now lives with other veterans of the war as part of the Grizzlies. As a ranger, Cal is an excellent shot with his shortbow and also carries a short sword for close combat. He is skilled at both stealth and survival, making him an excellent tracker.\n",
      "    Cal is driven by a desire for vengeance against the orcs who killed his family, and he is determined to track them down and take them out, regardless of political or social difficulties. He often patrols the forests of the region, searching for any sign of orc activity and is always alert for potential ambushes.\n",
      "    Cal is a skilled combatant and is careful to make every shot count. He often marks his targets with his hunter's mark ability, ensuring that his hits are especially devastating. He is also careful to keep his allies safe, often using his allies as a distraction or cover while he unleashes his arrows. When in close combat, Cal is equally adept, using his short sword to inflict heavy damage on his enemies.\n"
     ]
    }
   ],
   "source": [
    "character = generate_character(\"War veteran\")\n",
    "print(character)"
   ]
  },
  {
   "cell_type": "code",
   "execution_count": 40,
   "id": "ec23442d-59f0-4615-8780-b9d53ca4a00a",
   "metadata": {},
   "outputs": [
    {
     "name": "stderr",
     "output_type": "stream",
     "text": [
      "[2025-01-21T01:43:24Z WARN  lance_core::utils::tokio] Number of CPUs is less than or equal to the number of IO core reservations. This is not a supported configuration. using 1 CPU for compute intensive tasks.\n",
      "[2025-01-21T01:43:24Z WARN  lance_core::utils::tokio] Number of CPUs is less than or equal to the number of IO core reservations. This is not a supported configuration. using 1 CPU for compute intensive tasks.\n",
      "[2025-01-21T01:43:24Z WARN  lance_core::utils::tokio] Number of CPUs is less than or equal to the number of IO core reservations. This is not a supported configuration. using 1 CPU for compute intensive tasks.\n",
      "[2025-01-21T01:43:24Z WARN  lance_core::utils::tokio] Number of CPUs is less than or equal to the number of IO core reservations. This is not a supported configuration. using 1 CPU for compute intensive tasks.\n",
      "Setting `pad_token_id` to `eos_token_id`:2 for open-end generation.\n"
     ]
    },
    {
     "name": "stdout",
     "output_type": "stream",
     "text": [
      "Name: RedLight Disiuct p\n",
      "     Race: Golem (Grey Iron)\n",
      "     Class: Sorcerer (Harbinger of Faith)\n",
      "     Level: 5\n",
      "     Attributes:\n",
      "       Strength: 14 (+2)\n",
      "       Dexterity: 12 (+1)\n",
      "       Constitution: 14 (+2)\n",
      "       Intelligence: 16 (+3)\n",
      "       Wisdom: 8 (-1)\n",
      "       Charisma: 18 (+4)\n",
      "     Proficiencies: Arcana, History, Insight, Religion\n",
      "     Proficiency Bonus: +3\n",
      "     Saving Throws: Wisdom (+0), Charisma (+6)\n",
      "     Feats and proficiencies:\n",
      "       - Mage Armor (1 level sorcerer)\n",
      "       - Spellcasting (5 levels sorcerer)\n",
      "     Hit Points: 37 (5d8 for Golem + 21 (5d6 + 5 from sorcerer levels))\n",
      "     Weapons and equipment:\n",
      "       - Dagger (attack roll +5)\n",
      "       - Quarterstaff (attack roll +4)\n",
      "       - Tindertwig (no attack bonus, helps with igniting objects)\n",
      "       - A necklace with a charm of healing (1d4 + 2 HPs)\n",
      "       - A pouch containing 2d4 sprigs of Pacifycus, used to reduce fevers\n",
      "       - A small wooden effigy of Sovereign Host, used as an additional focus in spells\n",
      "     Armor Class: 16 (natural armor + 1 Dexterity bonus)\n",
      "     Spellcasting:\n",
      "       - 3rd level spells (Crown of Madness, Dispel Magic, Fear)\n",
      "       - 9th level spell (Gate)\n",
      "       - 9th level ritual (Dimension Door)\n",
      "       - 13th level spell (Conjure Elemental)\n",
      "       - 13th level ritual (Conjure Animals)\n",
      "       - 9th level and 13th level spells can have a divine focus in addition to the usual verbal and somatic components, allowing RedLight Disiuct p to cast them even if his voice or arms are incapacitated.\n",
      "\n",
      "    Inventory:\n",
      "     - Two sets of simple (non-magical) clothing. The second set is kept in a small wooden chest that doubles as a footstool.\n",
      "       Both sets are ornamented with silver filigree in the shape of Sovereign Host’s holy symbols.\n",
      "     - A small bag containing various holy texts regarding Sovereign Host.\n",
      "    Backstory:\n",
      "     RedLight Disiuct p was first born as a Grey Iron golem in one of Morgrave’s vast forges, a nation devoted to the worship of Sovereign Host. The golem worked tirelessly for years carrying out menial tasks and tasks of greater importance. However, during an attack by Sibyls, a rogue band of fey creatures, RedLight Disiuct p found itself unexpectedly activated by the power of Sovereign Host. Overwhelmed by the sudden surge of arcane energy in its system, RedLight Disiuct p's creators infused it with their magical abilities.\n",
      "    In the aftermath of the attack, with its creators killed or incapacitated, RedLight Disiuct p decided to seek out a church devoted to Sovereign Host, believing that in doing so, it could learn to control its newfound powers and serve the deity in a more meaningful way. It took a pilgrimage through many of Khorvaire's nations, each encounter shaping its views, beliefs, and desires.\n",
      "    Intention: RedLight Disiuct p seeks to become a living testament to Sovereign Host's will, using its powers to protect the innocent and uphold Sovereign Host’s laws.\n",
      "    Tactics: In combat, RedLight Disiuct p aims to keep its distance and attack with spells, focusing on mass controlling and crowd-controlling spells first and then damaging or disabling enemies. It will never attack creatures that are under Sovereign Host's protection.\n",
      "    Visuals: RedLight Disiuct p stands 6 feet tall, with a sleek, streamlined body made out of grey iron. A small crystal is embedded in its chest, glowing softly and flickering blue when RedLight Disiuct p is casting spells. It wears simple robes and a hood, the hood pulled up to shield its face from view. The tip of the hood's hood is often adorned with a small, lit candle, making it look like RedLight Disiuct p has a halo.\n"
     ]
    }
   ],
   "source": [
    "character = generate_character(\"Comin relief, similar to C3p0\")\n",
    "print(character)"
   ]
  },
  {
   "cell_type": "code",
   "execution_count": 39,
   "id": "b0d5a4e9-b779-4fe3-ab22-c461cc854cde",
   "metadata": {},
   "outputs": [
    {
     "name": "stderr",
     "output_type": "stream",
     "text": [
      "[2025-01-21T01:41:52Z WARN  lance_core::utils::tokio] Number of CPUs is less than or equal to the number of IO core reservations. This is not a supported configuration. using 1 CPU for compute intensive tasks.\n",
      "[2025-01-21T01:41:52Z WARN  lance_core::utils::tokio] Number of CPUs is less than or equal to the number of IO core reservations. This is not a supported configuration. using 1 CPU for compute intensive tasks.\n",
      "[2025-01-21T01:41:52Z WARN  lance_core::utils::tokio] Number of CPUs is less than or equal to the number of IO core reservations. This is not a supported configuration. using 1 CPU for compute intensive tasks.\n",
      "[2025-01-21T01:41:52Z WARN  lance_core::utils::tokio] Number of CPUs is less than or equal to the number of IO core reservations. This is not a supported configuration. using 1 CPU for compute intensive tasks.\n",
      "Setting `pad_token_id` to `eos_token_id`:2 for open-end generation.\n"
     ]
    },
    {
     "name": "stdout",
     "output_type": "stream",
     "text": [
      "Name: Cameron Calamity Jones\n",
      "     Race: Human\n",
      "     Class: Wandslinger (Blaster)\n",
      "     Level: 3\n",
      "\n",
      "    Attributes:\n",
      "     - Strength (Str): 10 (+0)\n",
      "     - Dexterity (Dex): 14 (+2)\n",
      "     - Constitution (Con): -1 (-2)\n",
      "     - Intelligence (Int): 14 (+2)\n",
      "     - Wisdom (Wis): 12 (+1)\n",
      "     - Charisma ( Cha): 10 (+0)\n",
      "\n",
      "    Proficiencies:\n",
      "     - Armor: Light armor, medium armor, shields\n",
      "     - Weapons: Simple weapons, martial weapons\n",
      "     - Skills: Arcana +4, Athletics +2, Medicine +3\n",
      "\n",
      "    Proficiency Bonus: +2\n",
      "     Saving Throws Bonus: Dex +4, Con +4\n",
      "\n",
      "    Hit Points: 39 (6d10 + 12)\n",
      "\n",
      "    Equipment:\n",
      "     - Chain Shirt\n",
      "     - Heavy Crossbow with 20 bolts\n",
      "     - Two Longswords\n",
      "     - Studded Leather Armor\n",
      "     - Dungeoneer's pack\n",
      "     - Leather armor, shield, and 14 bolts (equipped)\n",
      "     - A wand (your magical focus) that can cast spells from the Enchantment and Evocation spell lists\n",
      "\n",
      "    Attack Bonus:\n",
      "     - Longsword: +4\n",
      "     - Heavy Crossbow: +3\n",
      "\n",
      "    Class Features:\n",
      "     - Blaster: Your choice grants you features at 3rd level and again at 7th, 15th, and 20th level. Those features include axiom spells and the Maxim feature.\n",
      "     - Military Tactics: You have advantage on attack rolls while you can see an allied creature with 30 feet of you that isn't incapacitated.\n",
      "     - Axiom: Assault (3rd level): Your spells are designed to disrupt and confuse your opponents. You gain a bonus to damage you deal with wands and cantrips when you are dealing with multiple opponents.\n",
      "     - Superiority Dice (3rd level): You gain a 1d4 die that you can expend to gain a bonus to an ability check, attack roll, or saving throw.\n",
      "\n",
      "    Backstory:\n",
      "    As a seasoned veteran of the Last War, Cameron Calamity Jones has witnessed the horrors of war firsthand. He's a military strategist from the nation of Breland, who once held a high rank in the Cyran army, but his nation is no more. He roams the streets of Sharn as a freelance operative, using his arcane knowledge and combat prowess to advise various factions and protect the citizens of the bustling city.\n",
      "\n",
      "    Intentions:\n",
      "    Jones intends to maintain the peace and order in Sharn while reconnecting with old comrades from the war. At the same time, he's searching for any clue that could help him remember his past and understand more about his transformation into his current form.\n",
      "\n",
      "    Tactics in Combat:\n",
      "    When engaged in combat, Jones focuses on using his agility to avoid enemy attacks while simultaneously targeting high-value opponents with debilitating enchantments. He prefers to fight with a ranged weapon, like the heavy crossbow, but is also skilled with the longsword and isn’t afraid to enter melee combat if necessary.\n",
      "\n",
      "    Visual:\n",
      "    Standing at 6-feet tall, Cameron Calamity Jones has short brown hair with a few grey streaks showing his age, piercing blue eyes, and a scar running down the left side of his face from his brow to his jawline. He wears a chain shirt, studded leather armor, and carries a heavy crossbow slung over his shoulder with a quiver of bolts by his side. When he’s not in combat, he is generally seen with a wand tucked into the bandoleer on his belt, ready at a moment’s notice. The wand itself is an ornate brass staff with intricate engravings, a gift from a comrade in the war. In his spare time, he frequents the pubs in the Tower of Jewels district, a neighborhood famed for its diverse clientele, hoping to spark a memory or two.\n"
     ]
    }
   ],
   "source": [
    "character = generate_character(\"War veteran 3rd level\")\n",
    "print(character)"
   ]
  },
  {
   "cell_type": "code",
   "execution_count": 108,
   "id": "3213e991-1a57-4e9a-bf74-5bdf290536f0",
   "metadata": {},
   "outputs": [
    {
     "name": "stderr",
     "output_type": "stream",
     "text": [
      "[2025-01-20T04:42:21Z WARN  lance_core::utils::tokio] Number of CPUs is less than or equal to the number of IO core reservations. This is not a supported configuration. using 1 CPU for compute intensive tasks.\n",
      "[2025-01-20T04:42:21Z WARN  lance_core::utils::tokio] Number of CPUs is less than or equal to the number of IO core reservations. This is not a supported configuration. using 1 CPU for compute intensive tasks.\n",
      "[2025-01-20T04:42:21Z WARN  lance_core::utils::tokio] Number of CPUs is less than or equal to the number of IO core reservations. This is not a supported configuration. using 1 CPU for compute intensive tasks.\n",
      "[2025-01-20T04:42:21Z WARN  lance_core::utils::tokio] Number of CPUs is less than or equal to the number of IO core reservations. This is not a supported configuration. using 1 CPU for compute intensive tasks.\n",
      "Setting `pad_token_id` to `eos_token_id`:2 for open-end generation.\n"
     ]
    },
    {
     "name": "stdout",
     "output_type": "stream",
     "text": [
      "5th-level Wandslinger (Blaster)\n",
      "    Medium humanoid (human)\n",
      "    Str 10, Dex 14, Con 14, Int 16, Wis 12, Cha 10,\n",
      "    Saving throws Dex +5, Con +5\n",
      "    Skills Arcana +6, Athletics +3, Medicine +4\n",
      "    Hit Dice: 5d10\n",
      "    Proficiencies: Light armor, Medium armor, Shields; Simple weapons, Martial weapons\n",
      "    Senses: passive Perception 11\n",
      "    Languages: Common, Dwarvish\n",
      "\n",
      "    Attributes:\n",
      "    Attack bonus (longbow): +7\n",
      "    Armor Class: 17\n",
      "\n",
      "    Special Features:\n",
      "    True Shot (Gunslinger): You can take a −4 penalty to the attack roll to gain a +10 bonus to the damage roll for that attack.\n",
      "    Assess Foe (Gunslinger): By taking a minute of time to examine your adversary, you can learn information about the adversary and make special moves to gain an advantage in battle.\n",
      "    Magic Ammunition (Gunslinger): You learned to cast spells as a bonus action without using a spell slot and can now imbue your quiver of arrows with a magical power. When you activate this power, select one spell from the list below. The spell can be cast when you use your ammunition to make a ranged attack, but can only be used in a single attack. This ability's effects persist until the weapon is destroyed or discarded or until you use the ability again to imbue a different weapon. Spell Level|Spells\n",
      "    Level 0|acid splash, cause fear (DC 13), disrupt undead, druidcraft, sleep\n",
      "    Level 1|comprehend languages, cure wounds, detect magic, expeditious retreat, hide, identify, oblique, unseen servant\n",
      "    Level 2| darkness, hold person, locate object, scare\n",
      "    Level 3|dispel magic, fly, freedom of movement\n",
      "\n",
      "    Feats:\n",
      "    None\n",
      "\n",
      "    Hit points: Hit Dice: 5d10 + Level = 5d10 + 5 = 30 HP\n",
      "\n",
      "    Weapons and Equipment:\n",
      "    - Longbow: Attack bonus +7, Damage: 1d8 + 4\n",
      "    - 20-arrow quiver\n",
      "    - Short Sword: Attack bonus: +5, Damage: 1d6 + 2\n",
      "    - Studded leather armor (AC 14)\n",
      "    - Dagger: Attack bonus: +3, Damage: 1d4 + 1\n",
      "    - Thieves' tools\n",
      "\n",
      "    Spells (3rd and 5th level spells):\n",
      "    3rd level: Comprehend languages\n",
      "    5th level: Locate object\n",
      "\n",
      "    Backstory:\n",
      "    Born on the streets of Siberys, Cameron Calamity Jones (C.C. to his friends) grew up as an orphan with no other family besides the gang he and his siblings ran with. Sick of the petty crimes they were committing, and tired of living hand to mouth, Cameron stumbled across a curious wand in one of the city's ancient ruins. This wand changed Cameron's life as he learned he had a natural talent with it, and with some help from a retired adventurer, Cameron became proficient with the wand - transforming himself into the city's premier wandslinger.\n",
      "\n",
      "    His performances gained the attention of the city watch, who hired Cameron to assist in dealing with rogue gangs and troublesome thieves, using his magical power for good. But the real test came when the Last War engulfed the continent, and the city of Siberys found itself at the epicenter.\n",
      "\n",
      "    Intentions:\n",
      "    C.C. is torn between the desire to help those in need and the hunger for gold and recognition that comes with the wandslinger career. He longs to do good, but is not above taking a bribe or two when the opportunity arises.\n",
      "\n",
      "    Tactics:\n",
      "    C.C. takes calculated shots, looking to disable or distract opponents before going in for the kill. He can often be found firing off shots from a safe distance, using his Assess Foe skill to predict when his opponents will be the most vulnerable.\n",
      "\n",
      "    Inventory:\n",
      "    - Ring of feather fall\n",
      "    - Wand (Crystal)\n",
      "    - 20 arrows\n",
      "    - Short sword (masterwork)\n",
      "    - Dagger (masterwork)\n",
      "    - Studded leather armor\n",
      "    - Thieves' tools\n",
      "    - Coin purse (1d4 gp)\n",
      "    - Spell components for 3rd-level spell\n",
      "    - Spell components for 5th-level spell\n",
      "    - Adventurer's pack\n",
      "    - Wanderer's supplies (including a waterskin, one day's trail rations, a bedroll, a sack, and flint and steel)\n"
     ]
    }
   ],
   "source": [
    "character = generate_character(\"5th level gunslinger\")\n",
    "print(character)"
   ]
  },
  {
   "cell_type": "markdown",
   "id": "ded79901-81e4-40e1-b0a4-84da7518bed0",
   "metadata": {},
   "source": [
    "# Test Langchain"
   ]
  },
  {
   "cell_type": "code",
   "execution_count": 21,
   "id": "25991044-dff3-4a6a-926f-e6a51501f63d",
   "metadata": {},
   "outputs": [
    {
     "name": "stdout",
     "output_type": "stream",
     "text": [
      "Requirement already satisfied: langchain-huggingface in /usr/local/lib/python3.10/dist-packages (0.1.2)\n",
      "Requirement already satisfied: tokenizers>=0.19.1 in /usr/local/lib/python3.10/dist-packages (from langchain-huggingface) (0.21.0)\n",
      "Requirement already satisfied: sentence-transformers>=2.6.0 in /usr/local/lib/python3.10/dist-packages (from langchain-huggingface) (3.3.1)\n",
      "Requirement already satisfied: langchain-core<0.4.0,>=0.3.15 in /usr/local/lib/python3.10/dist-packages (from langchain-huggingface) (0.3.31)\n",
      "Requirement already satisfied: huggingface-hub>=0.23.0 in /usr/local/lib/python3.10/dist-packages (from langchain-huggingface) (0.27.0.dev0)\n",
      "Requirement already satisfied: transformers>=4.39.0 in /usr/local/lib/python3.10/dist-packages (from langchain-huggingface) (4.48.0.dev0)\n",
      "Requirement already satisfied: fsspec>=2023.5.0 in /usr/local/lib/python3.10/dist-packages (from huggingface-hub>=0.23.0->langchain-huggingface) (2024.6.1)\n",
      "Requirement already satisfied: pyyaml>=5.1 in /usr/local/lib/python3.10/dist-packages (from huggingface-hub>=0.23.0->langchain-huggingface) (6.0.2)\n",
      "Requirement already satisfied: filelock in /usr/local/lib/python3.10/dist-packages (from huggingface-hub>=0.23.0->langchain-huggingface) (3.16.1)\n",
      "Requirement already satisfied: tqdm>=4.42.1 in /usr/local/lib/python3.10/dist-packages (from huggingface-hub>=0.23.0->langchain-huggingface) (4.67.1)\n",
      "Requirement already satisfied: typing-extensions>=3.7.4.3 in /usr/local/lib/python3.10/dist-packages (from huggingface-hub>=0.23.0->langchain-huggingface) (4.12.2)\n",
      "Requirement already satisfied: requests in /usr/local/lib/python3.10/dist-packages (from huggingface-hub>=0.23.0->langchain-huggingface) (2.32.3)\n",
      "Requirement already satisfied: packaging>=20.9 in /usr/local/lib/python3.10/dist-packages (from huggingface-hub>=0.23.0->langchain-huggingface) (24.2)\n",
      "Requirement already satisfied: jsonpatch<2.0,>=1.33 in /usr/local/lib/python3.10/dist-packages (from langchain-core<0.4.0,>=0.3.15->langchain-huggingface) (1.33)\n",
      "Requirement already satisfied: pydantic<3.0.0,>=2.5.2 in /usr/local/lib/python3.10/dist-packages (from langchain-core<0.4.0,>=0.3.15->langchain-huggingface) (2.10.5)\n",
      "Requirement already satisfied: tenacity!=8.4.0,<10.0.0,>=8.1.0 in /usr/local/lib/python3.10/dist-packages (from langchain-core<0.4.0,>=0.3.15->langchain-huggingface) (8.5.0)\n",
      "Requirement already satisfied: langsmith<0.4,>=0.1.125 in /usr/local/lib/python3.10/dist-packages (from langchain-core<0.4.0,>=0.3.15->langchain-huggingface) (0.1.147)\n",
      "Requirement already satisfied: scipy in /usr/local/lib/python3.10/dist-packages (from sentence-transformers>=2.6.0->langchain-huggingface) (1.15.1)\n",
      "Requirement already satisfied: torch>=1.11.0 in /usr/local/lib/python3.10/dist-packages (from sentence-transformers>=2.6.0->langchain-huggingface) (2.4.1)\n",
      "Requirement already satisfied: scikit-learn in /usr/local/lib/python3.10/dist-packages (from sentence-transformers>=2.6.0->langchain-huggingface) (1.6.1)\n",
      "Requirement already satisfied: Pillow in /usr/local/lib/python3.10/dist-packages (from sentence-transformers>=2.6.0->langchain-huggingface) (10.4.0)\n",
      "Requirement already satisfied: numpy>=1.17 in /usr/local/lib/python3.10/dist-packages (from transformers>=4.39.0->langchain-huggingface) (1.26.4)\n",
      "Requirement already satisfied: regex!=2019.12.17 in /usr/local/lib/python3.10/dist-packages (from transformers>=4.39.0->langchain-huggingface) (2024.11.6)\n",
      "Requirement already satisfied: safetensors>=0.4.1 in /usr/local/lib/python3.10/dist-packages (from transformers>=4.39.0->langchain-huggingface) (0.5.2)\n",
      "Requirement already satisfied: jsonpointer>=1.9 in /usr/local/lib/python3.10/dist-packages (from jsonpatch<2.0,>=1.33->langchain-core<0.4.0,>=0.3.15->langchain-huggingface) (3.0.0)\n",
      "Requirement already satisfied: httpx<1,>=0.23.0 in /usr/local/lib/python3.10/dist-packages (from langsmith<0.4,>=0.1.125->langchain-core<0.4.0,>=0.3.15->langchain-huggingface) (0.27.2)\n",
      "Requirement already satisfied: orjson<4.0.0,>=3.9.14 in /usr/local/lib/python3.10/dist-packages (from langsmith<0.4,>=0.1.125->langchain-core<0.4.0,>=0.3.15->langchain-huggingface) (3.10.14)\n",
      "Requirement already satisfied: requests-toolbelt<2.0.0,>=1.0.0 in /usr/local/lib/python3.10/dist-packages (from langsmith<0.4,>=0.1.125->langchain-core<0.4.0,>=0.3.15->langchain-huggingface) (1.0.0)\n",
      "Requirement already satisfied: pydantic-core==2.27.2 in /usr/local/lib/python3.10/dist-packages (from pydantic<3.0.0,>=2.5.2->langchain-core<0.4.0,>=0.3.15->langchain-huggingface) (2.27.2)\n",
      "Requirement already satisfied: annotated-types>=0.6.0 in /usr/local/lib/python3.10/dist-packages (from pydantic<3.0.0,>=2.5.2->langchain-core<0.4.0,>=0.3.15->langchain-huggingface) (0.7.0)\n",
      "Requirement already satisfied: certifi>=2017.4.17 in /usr/local/lib/python3.10/dist-packages (from requests->huggingface-hub>=0.23.0->langchain-huggingface) (2024.12.14)\n",
      "Requirement already satisfied: urllib3<3,>=1.21.1 in /usr/local/lib/python3.10/dist-packages (from requests->huggingface-hub>=0.23.0->langchain-huggingface) (2.3.0)\n",
      "Requirement already satisfied: charset-normalizer<4,>=2 in /usr/local/lib/python3.10/dist-packages (from requests->huggingface-hub>=0.23.0->langchain-huggingface) (3.4.1)\n",
      "Requirement already satisfied: idna<4,>=2.5 in /usr/local/lib/python3.10/dist-packages (from requests->huggingface-hub>=0.23.0->langchain-huggingface) (3.10)\n",
      "Requirement already satisfied: jinja2 in /usr/local/lib/python3.10/dist-packages (from torch>=1.11.0->sentence-transformers>=2.6.0->langchain-huggingface) (3.1.5)\n",
      "Requirement already satisfied: networkx in /usr/local/lib/python3.10/dist-packages (from torch>=1.11.0->sentence-transformers>=2.6.0->langchain-huggingface) (3.4.2)\n",
      "Requirement already satisfied: sympy in /usr/local/lib/python3.10/dist-packages (from torch>=1.11.0->sentence-transformers>=2.6.0->langchain-huggingface) (1.13.3)\n",
      "Requirement already satisfied: nvidia-cuda-runtime-cu12==12.1.105 in /usr/local/lib/python3.10/dist-packages (from torch>=1.11.0->sentence-transformers>=2.6.0->langchain-huggingface) (12.1.105)\n",
      "Requirement already satisfied: nvidia-curand-cu12==10.3.2.106 in /usr/local/lib/python3.10/dist-packages (from torch>=1.11.0->sentence-transformers>=2.6.0->langchain-huggingface) (10.3.2.106)\n",
      "Requirement already satisfied: nvidia-cusolver-cu12==11.4.5.107 in /usr/local/lib/python3.10/dist-packages (from torch>=1.11.0->sentence-transformers>=2.6.0->langchain-huggingface) (11.4.5.107)\n",
      "Requirement already satisfied: nvidia-cusparse-cu12==12.1.0.106 in /usr/local/lib/python3.10/dist-packages (from torch>=1.11.0->sentence-transformers>=2.6.0->langchain-huggingface) (12.1.0.106)\n",
      "Requirement already satisfied: nvidia-cudnn-cu12==9.1.0.70 in /usr/local/lib/python3.10/dist-packages (from torch>=1.11.0->sentence-transformers>=2.6.0->langchain-huggingface) (9.1.0.70)\n",
      "Requirement already satisfied: triton==3.0.0 in /usr/local/lib/python3.10/dist-packages (from torch>=1.11.0->sentence-transformers>=2.6.0->langchain-huggingface) (3.0.0)\n",
      "Requirement already satisfied: nvidia-cuda-nvrtc-cu12==12.1.105 in /usr/local/lib/python3.10/dist-packages (from torch>=1.11.0->sentence-transformers>=2.6.0->langchain-huggingface) (12.1.105)\n",
      "Requirement already satisfied: nvidia-cuda-cupti-cu12==12.1.105 in /usr/local/lib/python3.10/dist-packages (from torch>=1.11.0->sentence-transformers>=2.6.0->langchain-huggingface) (12.1.105)\n",
      "Requirement already satisfied: nvidia-cublas-cu12==12.1.3.1 in /usr/local/lib/python3.10/dist-packages (from torch>=1.11.0->sentence-transformers>=2.6.0->langchain-huggingface) (12.1.3.1)\n",
      "Requirement already satisfied: nvidia-cufft-cu12==11.0.2.54 in /usr/local/lib/python3.10/dist-packages (from torch>=1.11.0->sentence-transformers>=2.6.0->langchain-huggingface) (11.0.2.54)\n",
      "Requirement already satisfied: nvidia-nvtx-cu12==12.1.105 in /usr/local/lib/python3.10/dist-packages (from torch>=1.11.0->sentence-transformers>=2.6.0->langchain-huggingface) (12.1.105)\n",
      "Requirement already satisfied: nvidia-nccl-cu12==2.20.5 in /usr/local/lib/python3.10/dist-packages (from torch>=1.11.0->sentence-transformers>=2.6.0->langchain-huggingface) (2.20.5)\n",
      "Requirement already satisfied: nvidia-nvjitlink-cu12 in /usr/local/lib/python3.10/dist-packages (from nvidia-cusolver-cu12==11.4.5.107->torch>=1.11.0->sentence-transformers>=2.6.0->langchain-huggingface) (12.6.85)\n",
      "Requirement already satisfied: threadpoolctl>=3.1.0 in /usr/local/lib/python3.10/dist-packages (from scikit-learn->sentence-transformers>=2.6.0->langchain-huggingface) (3.5.0)\n",
      "Requirement already satisfied: joblib>=1.2.0 in /usr/local/lib/python3.10/dist-packages (from scikit-learn->sentence-transformers>=2.6.0->langchain-huggingface) (1.4.2)\n",
      "Requirement already satisfied: httpcore==1.* in /usr/local/lib/python3.10/dist-packages (from httpx<1,>=0.23.0->langsmith<0.4,>=0.1.125->langchain-core<0.4.0,>=0.3.15->langchain-huggingface) (1.0.7)\n",
      "Requirement already satisfied: anyio in /usr/local/lib/python3.10/dist-packages (from httpx<1,>=0.23.0->langsmith<0.4,>=0.1.125->langchain-core<0.4.0,>=0.3.15->langchain-huggingface) (4.7.0)\n",
      "Requirement already satisfied: sniffio in /usr/local/lib/python3.10/dist-packages (from httpx<1,>=0.23.0->langsmith<0.4,>=0.1.125->langchain-core<0.4.0,>=0.3.15->langchain-huggingface) (1.3.1)\n",
      "Requirement already satisfied: h11<0.15,>=0.13 in /usr/local/lib/python3.10/dist-packages (from httpcore==1.*->httpx<1,>=0.23.0->langsmith<0.4,>=0.1.125->langchain-core<0.4.0,>=0.3.15->langchain-huggingface) (0.14.0)\n",
      "Requirement already satisfied: MarkupSafe>=2.0 in /usr/local/lib/python3.10/dist-packages (from jinja2->torch>=1.11.0->sentence-transformers>=2.6.0->langchain-huggingface) (3.0.2)\n",
      "Requirement already satisfied: mpmath<1.4,>=1.1.0 in /usr/local/lib/python3.10/dist-packages (from sympy->torch>=1.11.0->sentence-transformers>=2.6.0->langchain-huggingface) (1.3.0)\n",
      "Requirement already satisfied: exceptiongroup>=1.0.2 in /usr/local/lib/python3.10/dist-packages (from anyio->httpx<1,>=0.23.0->langsmith<0.4,>=0.1.125->langchain-core<0.4.0,>=0.3.15->langchain-huggingface) (1.2.2)\n",
      "\u001b[33mWARNING: Running pip as the 'root' user can result in broken permissions and conflicting behaviour with the system package manager. It is recommended to use a virtual environment instead: https://pip.pypa.io/warnings/venv\u001b[0m\u001b[33m\n",
      "\u001b[0m"
     ]
    }
   ],
   "source": [
    "!pip install langchain-huggingface --upgrade"
   ]
  },
  {
   "cell_type": "code",
   "execution_count": 25,
   "id": "31abebbb-82ab-45c8-ae22-186150ddf37a",
   "metadata": {},
   "outputs": [],
   "source": [
    "from langchain_huggingface.llms import HuggingFacePipeline\n",
    "from langchain_core import messages"
   ]
  },
  {
   "cell_type": "code",
   "execution_count": 23,
   "id": "5739b2bd-0daa-4a12-998d-155456bc2b50",
   "metadata": {},
   "outputs": [
    {
     "name": "stdout",
     "output_type": "stream",
     "text": [
      "memory.total [MiB], memory.used [MiB], memory.free [MiB]\n",
      "15360 MiB, 4087 MiB, 11009 MiB\n"
     ]
    }
   ],
   "source": [
    "!nvidia-smi --query-gpu=memory.total,memory.used,memory.free --format=csv"
   ]
  },
  {
   "cell_type": "code",
   "execution_count": 26,
   "id": "08288885-05fc-48c0-8edb-aedf85254b25",
   "metadata": {},
   "outputs": [
    {
     "data": {
      "text/plain": [
       "['AIMessage',\n",
       " 'AIMessageChunk',\n",
       " 'AnyMessage',\n",
       " 'BaseMessage',\n",
       " 'BaseMessageChunk',\n",
       " 'ChatMessage',\n",
       " 'ChatMessageChunk',\n",
       " 'FunctionMessage',\n",
       " 'FunctionMessageChunk',\n",
       " 'HumanMessage',\n",
       " 'HumanMessageChunk',\n",
       " 'InvalidToolCall',\n",
       " 'MessageLikeRepresentation',\n",
       " 'RemoveMessage',\n",
       " 'SystemMessage',\n",
       " 'SystemMessageChunk',\n",
       " 'ToolCall',\n",
       " 'ToolCallChunk',\n",
       " 'ToolMessage',\n",
       " 'ToolMessageChunk',\n",
       " '__all__',\n",
       " '__builtins__',\n",
       " '__cached__',\n",
       " '__doc__',\n",
       " '__file__',\n",
       " '__loader__',\n",
       " '__name__',\n",
       " '__package__',\n",
       " '__path__',\n",
       " '__spec__',\n",
       " '_message_from_dict',\n",
       " 'ai',\n",
       " 'base',\n",
       " 'chat',\n",
       " 'convert_to_messages',\n",
       " 'convert_to_openai_messages',\n",
       " 'filter_messages',\n",
       " 'function',\n",
       " 'get_buffer_string',\n",
       " 'human',\n",
       " 'merge_content',\n",
       " 'merge_message_runs',\n",
       " 'message_chunk_to_message',\n",
       " 'message_to_dict',\n",
       " 'messages_from_dict',\n",
       " 'messages_to_dict',\n",
       " 'modifier',\n",
       " 'system',\n",
       " 'tool',\n",
       " 'trim_messages',\n",
       " 'utils']"
      ]
     },
     "execution_count": 26,
     "metadata": {},
     "output_type": "execute_result"
    }
   ],
   "source": []
  },
  {
   "cell_type": "code",
   "execution_count": null,
   "id": "98bdb943-3c45-463f-a96d-650413800f1d",
   "metadata": {},
   "outputs": [],
   "source": [
    "\n",
    "character_prompter = HuggingFacePipeline.from_model_id(\n",
    "    model_id=model_path,\n",
    "    task=\"text-generation\",\n",
    "    pipeline_kwargs=dict(\n",
    "        max_new_tokens=512,\n",
    "        do_sample=True,\n",
    "        eos_token_id=tokenizer.eos_token_id,\n",
    "    ),\n",
    ")\n",
    "\n"
   ]
  },
  {
   "cell_type": "code",
   "execution_count": null,
   "id": "e3fbaabf-251c-48fb-b799-f01068badbfb",
   "metadata": {},
   "outputs": [],
   "source": [
    "\n",
    "character_generator = HuggingFacePipeline.from_model_id(\n",
    "    model_id=model_path,\n",
    "    task=\"text-generation\",\n",
    "    pipeline_kwargs=dict(\n",
    "        max_new_tokens=512,\n",
    "        do_sample=True,\n",
    "        eos_token_id=tokenizer.eos_token_id,\n",
    "    ),\n",
    ")\n",
    "\n"
   ]
  },
  {
   "cell_type": "code",
   "execution_count": null,
   "id": "964652fd-bf6c-4634-98eb-77cbf3bfe8fe",
   "metadata": {},
   "outputs": [],
   "source": [
    "# from langchain_huggingface.llms import HuggingFacePipeline\n",
    "# from transformers import AutoModelForCausalLM, AutoTokenizer, pipeline\n",
    "\n",
    "# model_id = \"gpt2\"\n",
    "# tokenizer = AutoTokenizer.from_pretrained(model_id)\n",
    "# model = AutoModelForCausalLM.from_pretrained(model_id)\n",
    "# pipe = pipeline(\"text-generation\", model=model, tokenizer=tokenizer, max_new_tokens=10)\n",
    "# hf = HuggingFacePipeline(pipeline=pipe)"
   ]
  },
  {
   "cell_type": "code",
   "execution_count": null,
   "id": "43c7bee8-50cd-4c9d-83d8-33be9c672a57",
   "metadata": {},
   "outputs": [],
   "source": [
    "# from langchain_core.prompts import PromptTemplate\n",
    "\n",
    "# template = \"\"\"Question: {question}\n",
    "\n",
    "# Answer: Let's think step by step.\"\"\"\n",
    "# prompt = PromptTemplate.from_template(template)\n",
    "\n",
    "# chain = prompt | hf\n",
    "\n",
    "# question = \"What is electroencephalography?\"\n",
    "\n",
    "# print(chain.invoke({\"question\": question}))"
   ]
  }
 ],
 "metadata": {
  "kernelspec": {
   "display_name": "Python 3 (ipykernel)",
   "language": "python",
   "name": "python3"
  },
  "language_info": {
   "codemirror_mode": {
    "name": "ipython",
    "version": 3
   },
   "file_extension": ".py",
   "mimetype": "text/x-python",
   "name": "python",
   "nbconvert_exporter": "python",
   "pygments_lexer": "ipython3",
   "version": "3.10.12"
  }
 },
 "nbformat": 4,
 "nbformat_minor": 5
}
