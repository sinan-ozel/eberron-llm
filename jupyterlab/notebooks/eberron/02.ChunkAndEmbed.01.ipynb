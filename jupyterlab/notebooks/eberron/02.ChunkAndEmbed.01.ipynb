{
 "cells": [
  {
   "cell_type": "code",
   "execution_count": 73,
   "id": "4a16cd04-d040-47b8-bf3a-831331814156",
   "metadata": {},
   "outputs": [],
   "source": [
    "import os\n",
    "import re\n",
    "import json\n",
    "import pickle\n",
    "from tempfile import mkdtemp\n",
    "import shutil\n",
    "\n",
    "import numpy as np\n",
    "\n",
    "import torch\n",
    "from sentence_transformers import SentenceTransformer\n",
    "from langchain_mistralai import ChatMistralAI\n",
    "\n",
    "from tqdm.notebook import tqdm\n"
   ]
  },
  {
   "cell_type": "code",
   "execution_count": 13,
   "id": "b52283cb-d51e-489a-9c6c-e66f32305579",
   "metadata": {},
   "outputs": [],
   "source": [
    "ARTEFACT_VERSION = '01'"
   ]
  },
  {
   "cell_type": "code",
   "execution_count": 31,
   "id": "5558cf89-2408-4168-9a0e-5ca44d7ac58a",
   "metadata": {},
   "outputs": [],
   "source": [
    "DOCUMENT_VERSION = '03'\n",
    "CORPUS_FOLDER = f'/jupyterlab/corpus/eberron/v{DOCUMENT_VERSION}'\n",
    "ARTEFACT_ROOT_FOLDER = os.environ.get('ARTEFACT_ROOT_FOLDER', '/artefact')\n",
    "ARTEFACT_FOLDER = os.path.join(ARTEFACT_ROOT_FOLDER, 'eberron', f'v{ARTEFACT_VERSION}')\n",
    "\n"
   ]
  },
  {
   "cell_type": "code",
   "execution_count": 6,
   "id": "d513e9ce-4ebc-4435-9323-d7624b8c0a3f",
   "metadata": {},
   "outputs": [],
   "source": [
    "os.makedirs(ARTEFACT_FOLDER, exist_ok=True)"
   ]
  },
  {
   "cell_type": "code",
   "execution_count": 56,
   "id": "73b88ca0-98a9-4b99-904c-63f463143a55",
   "metadata": {},
   "outputs": [],
   "source": [
    "model_name = 'Alibaba-NLP/gte-base-en-v1.5'\n",
    "model_revision = 'a829fd0e060bb84554da0dfd354d0de0f7712b7f'\n",
    "model = SentenceTransformer(model_name, trust_remote_code=True, revision=model_revision)\n",
    "model = model.to(\"cuda\")\n",
    "\n",
    "\n"
   ]
  },
  {
   "cell_type": "code",
   "execution_count": 8,
   "id": "3e74819c-3e2e-444f-9a17-4358273fed39",
   "metadata": {},
   "outputs": [
    {
     "data": {
      "text/plain": [
       "True"
      ]
     },
     "execution_count": 8,
     "metadata": {},
     "output_type": "execute_result"
    }
   ],
   "source": [
    "# Are we using cuda? Needs to be True\n",
    "all([param.is_cuda for param in model.parameters()])"
   ]
  },
  {
   "cell_type": "code",
   "execution_count": 32,
   "id": "dcd8d262-aadf-42c3-8512-ac1307990524",
   "metadata": {},
   "outputs": [],
   "source": [
    "with open(os.path.join(CORPUS_FOLDER, 'metadata.json')) as f:\n",
    "    metadata = json.load(f)\n",
    "metadata_dict = {}\n",
    "for data in metadata:\n",
    "    metadata_dict[data['filename'][:-4]] = data"
   ]
  },
  {
   "cell_type": "code",
   "execution_count": 120,
   "id": "b83d90de-bd16-4ca8-9863-40b8535f7605",
   "metadata": {},
   "outputs": [],
   "source": [
    "include_previous = 1\n",
    "include_next = 1\n",
    "drop_if_less_than_n_chars = 100\n",
    "chunks = []\n",
    "chunk_metadata = []\n",
    "chunk_idx = 0\n",
    "for file_name in os.listdir(CORPUS_FOLDER):\n",
    "    file_path = os.path.join(CORPUS_FOLDER, file_name)\n",
    "    with open(file_path) as f:\n",
    "        document = f.read()\n",
    "    page_splits = re.split(r'\\n## .*\\n', document)\n",
    "    for idx, split in enumerate(page_splits):\n",
    "        if len(split) < drop_if_less_than_n_chars:\n",
    "            page_splits[idx] = ''\n",
    "    page_index = {}\n",
    "    for idx, split in enumerate(page_splits):\n",
    "\n",
    "        if idx < include_previous or idx > len(page_splits) - include_next - 1:\n",
    "            continue\n",
    "        chunk_metadata.append(metadata_dict.get(file_name[:-3], {'filename': file_name[:-3] + '.pdf'}).copy())\n",
    "        chunk_metadata[chunk_idx]['pages'] = list(range(idx-include_previous, idx+include_next+1))\n",
    "        chunks.append('   '.join(page_splits[idx-include_previous:idx+include_next+1]))\n",
    "        chunk_idx += 1\n",
    "\n"
   ]
  },
  {
   "cell_type": "code",
   "execution_count": 121,
   "id": "d4ddd7cd-6d06-4629-a5c9-a9d83ba3cd64",
   "metadata": {},
   "outputs": [
    {
     "data": {
      "text/plain": [
       "[4, 5, 6]"
      ]
     },
     "execution_count": 121,
     "metadata": {},
     "output_type": "execute_result"
    }
   ],
   "source": [
    "idx = 5\n",
    "list(range(idx-include_previous, idx+include_next+1))"
   ]
  },
  {
   "cell_type": "code",
   "execution_count": 122,
   "id": "d7da9a7a-30c9-445d-b6cc-b602329f76cb",
   "metadata": {},
   "outputs": [
    {
     "data": {
      "text/plain": [
       "(7639,\n",
       " 7639,\n",
       " [{'filename': '248087-sample.pdf',\n",
       "   'edition': '5e',\n",
       "   'pdf/title': 'Korranberg Chronicle: Threat Dispatch',\n",
       "   'pdf/author': 'Anthony J. Turco',\n",
       "   'pages': [44, 45, 46]},\n",
       "  {'filename': '248087-sample.pdf',\n",
       "   'edition': '5e',\n",
       "   'pdf/title': 'Korranberg Chronicle: Threat Dispatch',\n",
       "   'pdf/author': 'Anthony J. Turco',\n",
       "   'pages': [45, 46, 47]},\n",
       "  {'filename': '248087-sample.pdf',\n",
       "   'edition': '5e',\n",
       "   'pdf/title': 'Korranberg Chronicle: Threat Dispatch',\n",
       "   'pdf/author': 'Anthony J. Turco',\n",
       "   'pages': [46, 47, 48]},\n",
       "  {'filename': '248087-sample.pdf',\n",
       "   'edition': '5e',\n",
       "   'pdf/title': 'Korranberg Chronicle: Threat Dispatch',\n",
       "   'pdf/author': 'Anthony J. Turco',\n",
       "   'pages': [47, 48, 49]},\n",
       "  {'filename': '248087-sample.pdf',\n",
       "   'edition': '5e',\n",
       "   'pdf/title': 'Korranberg Chronicle: Threat Dispatch',\n",
       "   'pdf/author': 'Anthony J. Turco',\n",
       "   'pages': [48, 49, 50]}])"
      ]
     },
     "execution_count": 122,
     "metadata": {},
     "output_type": "execute_result"
    }
   ],
   "source": [
    "len(chunks), len(chunk_metadata), chunk_metadata[50:55]"
   ]
  },
  {
   "cell_type": "code",
   "execution_count": 123,
   "id": "c7b4f31b-ef94-4ef2-b5eb-eb05ee5ba45e",
   "metadata": {},
   "outputs": [
    {
     "data": {
      "application/vnd.jupyter.widget-view+json": {
       "model_id": "c138ae7146804ab5b0ed956a84f8714f",
       "version_major": 2,
       "version_minor": 0
      },
      "text/plain": [
       "  0%|          | 0/7639 [00:00<?, ?it/s]"
      ]
     },
     "metadata": {},
     "output_type": "display_data"
    }
   ],
   "source": [
    "embeddings = []\n",
    "for chunk in tqdm(chunks):\n",
    "    embedding = model.encode(chunk, normalize_embeddings=True)\n",
    "    embeddings.append(embedding)"
   ]
  },
  {
   "cell_type": "markdown",
   "id": "3fae286e-98b0-4c5e-b963-f4e052e89563",
   "metadata": {},
   "source": [
    "# Save the Artefact"
   ]
  },
  {
   "cell_type": "code",
   "execution_count": 130,
   "id": "af975184-b095-48ed-a2bd-3131b3644b89",
   "metadata": {},
   "outputs": [],
   "source": [
    "# TODO: Turn into class\n",
    "# TODO: Add lancedb\n",
    "# TODO: Understand cross-encoder\n",
    "tmp_artefact_folder = mkdtemp()\n"
   ]
  },
  {
   "cell_type": "code",
   "execution_count": 131,
   "id": "f4e868cd-3969-4826-95ae-c67cdc0987f2",
   "metadata": {},
   "outputs": [],
   "source": [
    "model_metadata = {\n",
    "    'version': ARTEFACT_VERSION,\n",
    "    'document_version': DOCUMENT_VERSION,\n",
    "    'chunk_count': len(chunks),\n",
    "    'embedding_format': 'pickle',\n",
    "    'embedding_model': {\n",
    "        'name': model_name, \n",
    "        'str': str(model).replace('\\n', ''), \n",
    "        'revision': model_revision,\n",
    "    }\n",
    "}\n",
    "with open(os.path.join(tmp_artefact_folder, 'model_metadata.json'), 'w') as f:\n",
    "\tjson.dump(model_metadata, f)"
   ]
  },
  {
   "cell_type": "code",
   "execution_count": 132,
   "id": "a232cb6b-336f-4498-ba3f-f91d3197007b",
   "metadata": {},
   "outputs": [],
   "source": [
    "with open(os.path.join(tmp_artefact_folder, 'chunk_metadata.json'), 'w') as f:\n",
    "\tjson.dump(chunk_metadata, f)"
   ]
  },
  {
   "cell_type": "code",
   "execution_count": 133,
   "id": "b43a15cc-45f0-48d0-91ae-5dfd84cb64ba",
   "metadata": {},
   "outputs": [],
   "source": [
    "with open(os.path.join(tmp_artefact_folder, 'embeddings.pkl'), 'wb') as f:\n",
    "\tpickle.dump(embeddings, f)"
   ]
  },
  {
   "cell_type": "code",
   "execution_count": 134,
   "id": "8845be37-7f4b-4a56-97c3-a475106d5643",
   "metadata": {},
   "outputs": [
    {
     "data": {
      "application/vnd.jupyter.widget-view+json": {
       "model_id": "ddd18d88e9204998b5ba87792b765df2",
       "version_major": 2,
       "version_minor": 0
      },
      "text/plain": [
       "  0%|          | 0/7639 [00:00<?, ?it/s]"
      ]
     },
     "metadata": {},
     "output_type": "display_data"
    }
   ],
   "source": [
    "\n",
    "os.makedirs(os.path.join(tmp_artefact_folder, 'chunks'), exist_ok=True)\n",
    "for i, chunk in enumerate(tqdm(chunks)):\n",
    "    filename_width = len(str(len(chunks)))\n",
    "    file_path = os.path.join(tmp_artefact_folder, 'chunks', str(i).zfill(filename_width) + '.md')\n",
    "    with open(file_path, 'w') as f:\n",
    "        f.write(chunk)"
   ]
  },
  {
   "cell_type": "code",
   "execution_count": 135,
   "id": "570a719f-b958-4de4-912f-452dca15e759",
   "metadata": {},
   "outputs": [
    {
     "data": {
      "text/plain": [
       "'/jupyterlab/artefacts/eberron/v01'"
      ]
     },
     "execution_count": 135,
     "metadata": {},
     "output_type": "execute_result"
    }
   ],
   "source": [
    "shutil.rmtree(ARTEFACT_FOLDER)\n",
    "shutil.move(tmp_artefact_folder, ARTEFACT_FOLDER)"
   ]
  },
  {
   "cell_type": "markdown",
   "id": "7363c9cd-e17e-4585-8d4c-2dce6623d16f",
   "metadata": {},
   "source": [
    "# Unserialize the Embeddings"
   ]
  },
  {
   "cell_type": "code",
   "execution_count": 136,
   "id": "6c12afcf-8df7-4a38-be26-ce04d62cb595",
   "metadata": {},
   "outputs": [],
   "source": [
    "with open(os.path.join(ARTEFACT_FOLDER, 'embeddings.pkl'), 'rb') as f:\n",
    "    embeddings = pickle.load(f)\n"
   ]
  },
  {
   "cell_type": "markdown",
   "id": "70e3f1ad-d5e3-403f-b8fd-11f4997b5e8d",
   "metadata": {},
   "source": [
    "# Evaluate"
   ]
  },
  {
   "cell_type": "code",
   "execution_count": 137,
   "id": "ae2ea462-f58d-4a79-ab6e-b3b343af7cc3",
   "metadata": {},
   "outputs": [],
   "source": [
    "# TODO: Experiment with BM25 and compare"
   ]
  },
  {
   "cell_type": "code",
   "execution_count": 153,
   "id": "4280d4f2-d3d5-4b73-a5c2-dc93c63f2be0",
   "metadata": {},
   "outputs": [],
   "source": [
    "# query = \"Who is Dash Dannigan?\"\n",
    "# query = \"Who is Commander Iyanna?\"\n",
    "# query = \"Tell me about Menthis Plateau.\"\n",
    "# query = \"Tell me about Eldeen Reaches.\"\n",
    "# query = \"Tell me about the rivers of Khorvaire.\"\n",
    "# query = \"Tell me about Xen'drik.\"\n",
    "# query = \"Tell me about fashion in Khorvaire.\"\n",
    "# query = \"Create a House Cannith item.\"\n",
    "# query = \"Tell me about the lnaguages of Eberron.\"\n",
    "# query = \"What's the weakest of the quori\" - TSOREVA\n",
    "# query = \"What are dolgrims?\"\n",
    "query_embed = model.encode(query, normalize_embeddings=True)"
   ]
  },
  {
   "cell_type": "code",
   "execution_count": 154,
   "id": "52e932a3-8a48-499a-b7dc-45ad2695f2b8",
   "metadata": {},
   "outputs": [
    {
     "data": {
      "text/plain": [
       "[4113, 4115, 4147, 4114, 1077, 4141, 574]"
      ]
     },
     "execution_count": 154,
     "metadata": {},
     "output_type": "execute_result"
    }
   ],
   "source": [
    "k = 7\n",
    "similarities = torch.from_numpy(np.dot(embeddings, query_embed.T))\n",
    "similarities.topk(k).indices.tolist()"
   ]
  },
  {
   "cell_type": "code",
   "execution_count": 155,
   "id": "656c4290-9908-4df7-8aa7-64b7d935e5d8",
   "metadata": {},
   "outputs": [
    {
     "name": "stdout",
     "output_type": "stream",
     "text": [
      "{'filename': '496317-sample.pdf', 'edition': '5e', 'pdf/title': '', 'pdf/author': '', 'pages': [0, 1, 2]}\n",
      "{'filename': '496317-sample.pdf', 'edition': '5e', 'pdf/title': '', 'pdf/author': '', 'pages': [2, 3, 4]}\n",
      "{'filename': '496317-sample.pdf', 'edition': '5e', 'pdf/title': '', 'pdf/author': '', 'pages': [34, 35, 36]}\n",
      "{'filename': '496317-sample.pdf', 'edition': '5e', 'pdf/title': '', 'pdf/author': '', 'pages': [1, 2, 3]}\n",
      "{'filename': '2255601-Exploring_Eberron_1.05.pdf', 'edition': '5e', 'pdf/title': 'Exploring Eberron', 'pdf/author': 'Keith Baker', 'pages': [16, 17, 18]}\n",
      "{'filename': '496317-sample.pdf', 'edition': '5e', 'pdf/title': '', 'pdf/author': '', 'pages': [28, 29, 30]}\n",
      "{'filename': 'Five Nations.pdf', 'edition': '3e', 'pdf/title': 'Five Nations', 'pdf/author': '', 'pages': [80, 81, 82]}\n"
     ]
    }
   ],
   "source": [
    "for i in similarities.topk(k).indices.tolist():\n",
    "    print(chunk_metadata[i])"
   ]
  },
  {
   "cell_type": "code",
   "execution_count": 156,
   "id": "12def3e0-4f5a-42e2-a004-7ea015ad971d",
   "metadata": {},
   "outputs": [],
   "source": [
    "# for i in similarities.topk(k).indices.tolist():\n",
    "#     print(chunks[i])"
   ]
  },
  {
   "cell_type": "code",
   "execution_count": 157,
   "id": "7c0ce94e-5bea-48b6-9007-22df14d1806f",
   "metadata": {},
   "outputs": [],
   "source": [
    "# TODO: Add a model here to actually respond."
   ]
  },
  {
   "cell_type": "code",
   "execution_count": null,
   "id": "b4032d11-c2eb-4d4a-a9e9-2dbb3dd01cc2",
   "metadata": {},
   "outputs": [],
   "source": []
  }
 ],
 "metadata": {
  "kernelspec": {
   "display_name": "Python 3 (ipykernel)",
   "language": "python",
   "name": "python3"
  },
  "language_info": {
   "codemirror_mode": {
    "name": "ipython",
    "version": 3
   },
   "file_extension": ".py",
   "mimetype": "text/x-python",
   "name": "python",
   "nbconvert_exporter": "python",
   "pygments_lexer": "ipython3",
   "version": "3.10.12"
  }
 },
 "nbformat": 4,
 "nbformat_minor": 5
}
