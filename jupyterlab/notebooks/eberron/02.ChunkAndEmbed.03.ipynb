{
 "cells": [
  {
   "cell_type": "code",
   "execution_count": 1,
   "id": "9b0d7f1d-96ef-4e56-aba1-4dd9d901e61a",
   "metadata": {},
   "outputs": [],
   "source": [
    "import os\n",
    "import json\n",
    "import re\n",
    "import string\n",
    "from collections import Counter\n",
    "import random\n",
    "from tempfile import mkdtemp\n",
    "import shutil\n",
    "import pickle\n",
    "\n",
    "from tqdm.notebook import tqdm\n",
    "from IPython.display import clear_output, display\n",
    "\n",
    "import pyarrow as pa\n",
    "from sentence_transformers import SentenceTransformer\n",
    "import lancedb\n",
    "from lancedb.pydantic import LanceModel, Vector\n",
    "from lancedb.embeddings import get_registry\n",
    "from pydantic import BaseModel"
   ]
  },
  {
   "cell_type": "code",
   "execution_count": 2,
   "id": "bfd92450-7b2e-4c7f-83a3-6b86714ea041",
   "metadata": {},
   "outputs": [],
   "source": [
    "# Input parameters\n",
    "DOCUMENT_VERSION = '03'\n",
    "CORPUS_FOLDER = f'/jupyterlab/corpus/eberron/v{DOCUMENT_VERSION}'"
   ]
  },
  {
   "cell_type": "code",
   "execution_count": 3,
   "id": "f4e587a5-b91b-478a-bd4e-e21571ab3499",
   "metadata": {},
   "outputs": [],
   "source": [
    "# Output parameters\n",
    "ARTEFACT_VERSION = '03'\n",
    "ARTEFACT_ROOT_FOLDER = os.environ.get('ARTEFACT_ROOT_FOLDER', '/artefact')\n",
    "ARTEFACT_FOLDER = os.path.join(ARTEFACT_ROOT_FOLDER, 'eberron', f'v{ARTEFACT_VERSION}')"
   ]
  },
  {
   "cell_type": "markdown",
   "id": "186bb67e-08e6-4027-a616-4a94528d44cb",
   "metadata": {},
   "source": [
    "### Read Document Metadata"
   ]
  },
  {
   "cell_type": "code",
   "execution_count": 4,
   "id": "c239ebf3-161d-4bb9-9e7e-e6c1bdfd1587",
   "metadata": {},
   "outputs": [],
   "source": [
    "with open(os.path.join(CORPUS_FOLDER, 'metadata.json')) as f:\n",
    "    metadata = json.load(f)\n",
    "metadata_dict = {}\n",
    "for data in metadata:\n",
    "    metadata_dict[data['filename'][:-4]] = data"
   ]
  },
  {
   "cell_type": "markdown",
   "id": "77b254e7-c4a2-44b5-99ff-3773ad1091e2",
   "metadata": {},
   "source": [
    "### First Pass (Fast): Split Into Sections"
   ]
  },
  {
   "cell_type": "code",
   "execution_count": 5,
   "id": "47f3d861-51d9-4eef-a92e-88c5c33e99f3",
   "metadata": {},
   "outputs": [],
   "source": [
    "def is_integer_string(value):\n",
    "    \"\"\"\n",
    "    Check if the given value (string) represents an integer.\n",
    "    \n",
    "    :param value: The value to check.\n",
    "    :return: True if the string represents an integer, False otherwise.\n",
    "    \"\"\"\n",
    "    try:\n",
    "        int(value)\n",
    "        return True\n",
    "    except (ValueError, TypeError):\n",
    "        return False"
   ]
  },
  {
   "cell_type": "code",
   "execution_count": 6,
   "id": "eecbc8b5-aa3b-47c5-9637-705e2eff5f8b",
   "metadata": {},
   "outputs": [],
   "source": [
    "title_fixes = {\n",
    "    '881665-eberron_cannith_cat2': 'House Cannith Catalogue #2'\n",
    "}"
   ]
  },
  {
   "cell_type": "code",
   "execution_count": 7,
   "id": "fb6fff56-49ba-4b4f-bca0-20234e4bf0b6",
   "metadata": {},
   "outputs": [],
   "source": [
    "disallowed_section_titles = {'Actions', 'Reactions', 'Cannith Catalogue 2', 'THREAT DISPATCH', 'Legendary Actions', 'Wizard Level Feature'\n",
    "                             'Languages —', '-', 'Finesse', 'Weight Properties', 'Player’s Handbook','Spell Resistance:', 'Capital: Korth',\n",
    "                             'Combat', 'Capital: Rhukaan Draal', 'STR DEX CON INT WIS CHA', 'Favor', 'DIALECTS', 'WIS CHA',\n",
    "                             'CLASS FEATURES',\n",
    "}\n",
    "disallowed_section_title_regexp = [\n",
    "    r'Skills\\s+.+\\+[0-9].*',\n",
    "    r'Saving Throws\\s+.+\\+[0-9].*',\n",
    "    r'.*\\-level.*feature',\n",
    "    r'Languages.*Common.*',\n",
    "    r'^[0-9\\s.\\(\\)]+$',\n",
    "    r'Hit Points\\s+[0-9]+.*'\n",
    "    r'Challenge\\s+[0-9]+.*',\n",
    "    r'Damage Immunities.*',\n",
    "    r'Damage Resistances.*',\n",
    "    r'Level Adjustment:.*',\n",
    "    r'Challenge Rating:.*',\n",
    "    r'Initiative:.*',\n",
    "    r'Treasure:.*',\n",
    "    r'Environment: .*',\n",
    "    r'Skills: .*',\n",
    "    r'Feats: .*',\n",
    "    r'Organization: .*',\n",
    "    r'Base Atk .*',\n",
    "    r'Base Attack .*',\n",
    "    r'Special Attacks: .*',\n",
    "    r'Range: .*',\n",
    "    r'Spell Resistance: .*',\n",
    "    r'Graft Location: .*',\n",
    "    r'Weight: .*',\n",
    "    r'Light: .*\\.',\n",
    "    r'Scripts: .*',\n",
    "    r'Script: .*',\n",
    "    r'Speakers: .*',\n",
    "    r'Format: .*',\n",
    "    r'Knowledge ([a-z]+)',\n",
    "    r'[0-9](st|nd|th).*level.*',\n",
    "    r'.*KORRANBERG CHRONICLE: THREAT DISPATCH',\n",
    "    r'SIDEBAR: .*',\n",
    "    r'WIZARDS OF EBERRON: FIVE ARCANE TRADITIONS [0-9]+.*',\n",
    "    r'.*DUNGEON DECEMBER 2004',\n",
    "    r'.*[cves]\\s+[0-9]+',\n",
    "]"
   ]
  },
  {
   "cell_type": "code",
   "execution_count": 8,
   "id": "2e2bfd1a-4610-456b-8ba8-62bedd5d6aec",
   "metadata": {},
   "outputs": [],
   "source": [
    "ignore_list = {'Eberron Character Sheet', 'New & Expanded Feat List', '476764-sample', 'SharnIndexIntegrated'}"
   ]
  },
  {
   "cell_type": "code",
   "execution_count": 9,
   "id": "ef16c03e-8d6c-4aeb-8c65-ac29ea5c09fc",
   "metadata": {},
   "outputs": [
    {
     "data": {
      "application/vnd.jupyter.widget-view+json": {
       "model_id": "bd5b4ab961754e8992fcd09a2edd08c2",
       "version_major": 2,
       "version_minor": 0
      },
      "text/plain": [
       "  0%|          | 0/127 [00:00<?, ?it/s]"
      ]
     },
     "metadata": {},
     "output_type": "display_data"
    },
    {
     "data": {
      "text/plain": [
       "(21118, 'Magic of Eberron')"
      ]
     },
     "execution_count": 9,
     "metadata": {},
     "output_type": "execute_result"
    }
   ],
   "source": [
    "sections = []\n",
    "section_metadata = []\n",
    "book_count = 0\n",
    "\n",
    "for file_count, file_name in enumerate(tqdm(os.listdir(CORPUS_FOLDER))):\n",
    "    if file_name[-3:] != '.md':\n",
    "        continue\n",
    "    if file_name[:-3] in ignore_list:\n",
    "        continue\n",
    "    book_title = file_name[:-3]\n",
    "    pdf_title = metadata_dict[file_name[:-3]]['pdf/title']\n",
    "    edition = metadata_dict[file_name[:-3]]['edition']\n",
    "    if pdf_title:\n",
    "        if book_title.endswith('sample'):\n",
    "            book_title = pdf_title\n",
    "    book_title = title_fixes.get(book_title, book_title)\n",
    "    current_page = 0\n",
    "    current_section_title = ''\n",
    "    current_section_lines = []\n",
    "    empty_line_ctr = 0\n",
    "    file_path = os.path.join(CORPUS_FOLDER, file_name)\n",
    "    with open(file_path) as f:\n",
    "        document = f.read()\n",
    "        lines = document.split('\\n')\n",
    "        line_count = len(lines)\n",
    "        for line_no, line in enumerate(lines):\n",
    "            previous_line = lines[line_no - 1].strip() if line_no > 0 else '\\0'\n",
    "            next_line = lines[line_no + 1].strip() if line_no < line_count - 1 else '\\0'\n",
    "            current_line = line.strip()\n",
    "\n",
    "            if not current_line:\n",
    "                continue\n",
    "\n",
    "            m = re.match(r'##\\s+Page\\s+([0-9]+)', line)\n",
    "            if m:\n",
    "                current_page = int(m[1])\n",
    "                continue\n",
    "\n",
    "            current_section_word_count = len(\" \".join(current_section_lines).split(' '))\n",
    "    \n",
    "            if previous_line == '' and (next_line == '' or next_line.startswith('Medium') or next_line.startswith('Large') or next_line.startswith('District Type')):\n",
    "                may_be_section_title = True\n",
    "                if current_line.upper() != current_line and string.capwords(current_line) != current_line:\n",
    "                    may_be_section_title = False\n",
    "                if current_section_title.lower() == current_line.lower():\n",
    "                    may_be_section_title = False\n",
    "                if may_be_section_title and is_integer_string(current_line):\n",
    "                    may_be_section_title = False\n",
    "                if may_be_section_title and current_line in disallowed_section_titles:\n",
    "                    may_be_section_title = False\n",
    "                if len(re.sub(r'[^a-zA-Z\\.]', '', current_line)) < 4:\n",
    "                    may_be_section_title = False\n",
    "                if ',' in current_line:\n",
    "                    may_be_section_title = False\n",
    "                if may_be_section_title:\n",
    "                    for regexp in disallowed_section_title_regexp:\n",
    "                        m = re.match(regexp, current_line, re.IGNORECASE)\n",
    "                        if m:\n",
    "                            may_be_section_title = False\n",
    "\n",
    "                if may_be_section_title:\n",
    "                    if current_section_title:\n",
    "                        if current_section_lines and current_section_word_count > 15:\n",
    "                            text = \" \".join(current_section_lines)\n",
    "                            if len(text.split(' ')) > 5:\n",
    "                                sections.append(text)\n",
    "                                section_metadata.append({\n",
    "                                    'book_title': book_title,\n",
    "                                    'file_name': file_name,\n",
    "                                    'edition': edition,\n",
    "                                    'section_title': current_section_title,\n",
    "                                    'section_pages': current_section_pages,\n",
    "                                    'initial_word_count': current_section_word_count\n",
    "                                })\n",
    "                    current_section_title = current_line\n",
    "                    current_section_lines = []\n",
    "                    current_section_pages = (current_page, current_page)\n",
    "                    continue\n",
    "\n",
    "            if current_section_word_count > 450:\n",
    "                end = line_no + 10\n",
    "                start = line_no - len(current_section_lines) + 10\n",
    "                text = \"\\n\".join([l for l in lines[start:end] if l and not l.startswith('## Page ')])\n",
    "                sections.append(text)\n",
    "                section_metadata.append({\n",
    "                    'book_title': book_title,\n",
    "                    'file_name': file_name,\n",
    "                    'edition': edition,\n",
    "                    'section_title': current_section_title,\n",
    "                    'section_pages': current_section_pages,\n",
    "                    'initial_word_count': len(text.split(' '))\n",
    "                })\n",
    "                current_section_lines = []\n",
    "                current_section_pages = (current_page, current_page)\n",
    "                continue\n",
    "\n",
    "            if current_section_title and current_line:\n",
    "                current_section_lines.append(current_line)\n",
    "                current_section_pages = (current_section_pages[0], current_page)\n",
    "        if current_section_lines:\n",
    "            text = ' '.join(current_section_lines)\n",
    "            sections.append(text)\n",
    "            section_metadata.append({\n",
    "                'book_title': book_title,\n",
    "                'file_name': file_name,\n",
    "                'edition': edition,\n",
    "                'section_title': current_section_title,\n",
    "                'section_pages': current_section_pages,\n",
    "                'initial_word_count': len(text.split(' '))\n",
    "            })\n",
    "section_count = len(sections)\n",
    "assert len(section_metadata) == section_count\n",
    "assert section_metadata[1]['section_title'] == 'Litmus Strips'\n",
    "assert section_metadata[11]['section_title'] == 'Automatic Chatelaine'\n",
    "section_titles = {d['section_title'] for d in section_metadata}\n",
    "assert 'Automatic Chatelaine' in section_titles\n",
    "assert 'HORRID HYENA' in section_titles\n",
    "assert 'HORRID BADGER' in section_titles\n",
    "assert 'NAZTHARUNE RAKSHASA' in section_titles\n",
    "assert 'CRYSTEEL' in section_titles\n",
    "assert 'DENDRITIC' in section_titles\n",
    "assert 'IRONBARK' in section_titles\n",
    "assert 'DARKLEAF' in section_titles\n",
    "assert 'KNIGHT PHANTOM' in section_titles\n",
    "assert 'SHARN SKYMAGE' in section_titles\n",
    "assert 'WEAPONS OF KHORVAIRE' in section_titles\n",
    "assert 'ADVENTURING GEAR' in section_titles\n",
    "assert '7. The Library' in section_titles\n",
    "assert '8. The Entry Hall' in section_titles\n",
    "assert 'THE ORIGIN OF THE FIVE NATIONS' in section_titles\n",
    "assert 'AUNDAIR AT A GLANCE' in section_titles\n",
    "assert 'THE COMING OF GALIFAR' in section_titles\n",
    "assert 'Highhold' in section_titles\n",
    "assert 'PERIPLANAR OF ICE ~ PERISIAN' in section_titles\n",
    "assert 'HOUSE THARASHK' in section_titles\n",
    "assert 'ARGON' in section_titles\n",
    "assert 'METRON' in section_titles\n",
    "assert 'DARKLEAF' in section_titles\n",
    "assert 'DARKLEAF' in section_titles\n",
    "section_count, book_title"
   ]
  },
  {
   "cell_type": "code",
   "execution_count": 10,
   "id": "15ad3cf2-a5a5-44b7-8792-b3ad8279c5c0",
   "metadata": {},
   "outputs": [],
   "source": [
    "# TODO: For second pass, delete:\n",
    "# Contents\n",
    "# Thanks\n",
    "# CREDITS\n"
   ]
  },
  {
   "cell_type": "markdown",
   "id": "f602f407-c648-4636-8ef5-3b0c1c22b52f",
   "metadata": {},
   "source": [
    "### Embed"
   ]
  },
  {
   "cell_type": "code",
   "execution_count": 11,
   "id": "7116403f-7cde-49b8-9031-4861633fcad0",
   "metadata": {},
   "outputs": [
    {
     "name": "stderr",
     "output_type": "stream",
     "text": [
      "2025-01-23 19:26:05.901616: E external/local_xla/xla/stream_executor/cuda/cuda_fft.cc:485] Unable to register cuFFT factory: Attempting to register factory for plugin cuFFT when one has already been registered\n",
      "2025-01-23 19:26:05.921589: E external/local_xla/xla/stream_executor/cuda/cuda_dnn.cc:8454] Unable to register cuDNN factory: Attempting to register factory for plugin cuDNN when one has already been registered\n",
      "2025-01-23 19:26:05.927581: E external/local_xla/xla/stream_executor/cuda/cuda_blas.cc:1452] Unable to register cuBLAS factory: Attempting to register factory for plugin cuBLAS when one has already been registered\n"
     ]
    }
   ],
   "source": [
    "model_name = 'Alibaba-NLP/gte-base-en-v1.5'\n",
    "model_revision = 'a829fd0e060bb84554da0dfd354d0de0f7712b7f'\n",
    "# model_name = 'sentence-transformers/all-MiniLM-L6-v2'\n",
    "model = SentenceTransformer(model_name, trust_remote_code=True, revision=model_revision)\n",
    "model = model.to(\"cuda\")\n",
    "\n",
    "\n"
   ]
  },
  {
   "cell_type": "code",
   "execution_count": 30,
   "id": "2fcd2799-b905-42cb-aca7-53babcf8be6c",
   "metadata": {},
   "outputs": [
    {
     "data": {
      "application/vnd.jupyter.widget-view+json": {
       "model_id": "fdbf854ce4e54ccb9ab2aafaad50b6b1",
       "version_major": 2,
       "version_minor": 0
      },
      "text/plain": [
       "  0%|          | 0/21118 [00:00<?, ?it/s]"
      ]
     },
     "metadata": {},
     "output_type": "display_data"
    }
   ],
   "source": [
    "embeddings = []\n",
    "for chunk in tqdm(sections):\n",
    "    embedding = model.encode(chunk, normalize_embeddings=True)\n",
    "    embeddings.append(embedding)"
   ]
  },
  {
   "cell_type": "code",
   "execution_count": 31,
   "id": "c8d3345f-f645-43e5-bf71-12b7a2e1ca16",
   "metadata": {},
   "outputs": [
    {
     "data": {
      "text/plain": [
       "768"
      ]
     },
     "execution_count": 31,
     "metadata": {},
     "output_type": "execute_result"
    }
   ],
   "source": [
    "assert all([embedding.size == embeddings[0].size for embedding in embeddings])\n",
    "embeddings[0].size"
   ]
  },
  {
   "cell_type": "code",
   "execution_count": 117,
   "id": "3708d1f6-98e4-42fb-ab49-468cfc6a7259",
   "metadata": {},
   "outputs": [
    {
     "data": {
      "text/plain": [
       "numpy.ndarray"
      ]
     },
     "execution_count": 117,
     "metadata": {},
     "output_type": "execute_result"
    }
   ],
   "source": [
    "type(embeddings[0])"
   ]
  },
  {
   "cell_type": "markdown",
   "id": "78ad4ff0-afe3-4ed4-b129-a8ee69dc6907",
   "metadata": {},
   "source": [
    "### Save"
   ]
  },
  {
   "cell_type": "code",
   "execution_count": 102,
   "id": "4cc428c3-04cd-4cc3-8fc7-8a0b658a3b22",
   "metadata": {},
   "outputs": [],
   "source": [
    "tmp_artefact_folder = mkdtemp()"
   ]
  },
  {
   "cell_type": "code",
   "execution_count": 103,
   "id": "2f00a341-9c5d-4a33-9399-d3e5afafa6d0",
   "metadata": {},
   "outputs": [],
   "source": [
    "embeddings_folder = os.path.join(tmp_artefact_folder, 'embeddings')\n",
    "os.makedirs(embeddings_folder, exist_ok=True)\n",
    "db = lancedb.connect(embeddings_folder)"
   ]
  },
  {
   "cell_type": "code",
   "execution_count": 104,
   "id": "fd28e75d-c86a-4fd5-8865-4b1297199fe3",
   "metadata": {},
   "outputs": [],
   "source": [
    "model_registry = get_registry().get('sentence-transformers')\n",
    "sentence_transformer_embeddings = model_registry.create(name=model_name)"
   ]
  },
  {
   "cell_type": "code",
   "execution_count": null,
   "id": "7e68b509-8ab5-4c6b-89e3-a1fd4fea68e4",
   "metadata": {},
   "outputs": [],
   "source": []
  },
  {
   "cell_type": "code",
   "execution_count": 105,
   "id": "01c56d15-0f85-44d2-a98a-baf0c5e6d27b",
   "metadata": {},
   "outputs": [],
   "source": [
    "class MetaData(BaseModel):\n",
    "    book_title: str\n",
    "    file_name: str\n",
    "    edition: str\n",
    "    section_title: str\n",
    "    page_from: int\n",
    "    page_to: int\n",
    "    initial_word_count: int\n"
   ]
  },
  {
   "cell_type": "code",
   "execution_count": 106,
   "id": "f8dc5950-d861-4298-9368-9ff3d378ad13",
   "metadata": {},
   "outputs": [],
   "source": [
    "class Document(LanceModel):\n",
    "    text: str = sentence_transformer_embeddings.SourceField()\n",
    "    vector: Vector(embeddings[0].size) = sentence_transformer_embeddings.VectorField\n",
    "    metadata: MetaData\n",
    "    book_title: str\n",
    "    file_name: str\n",
    "    edition: str\n",
    "    section_title: str\n",
    "    page_from: int\n",
    "    page_to: int\n",
    "    initial_word_count: int\n"
   ]
  },
  {
   "cell_type": "code",
   "execution_count": 107,
   "id": "1b5ba6d6-2041-462d-965b-be4ca192b0a8",
   "metadata": {},
   "outputs": [],
   "source": [
    "table_name = \"documents\"\n",
    "if table_name not in db.table_names():\n",
    "    table = db.create_table(\n",
    "        table_name, \n",
    "        schema=Document\n",
    "    )\n",
    "else:\n",
    "    table = db.open_table(table_name)"
   ]
  },
  {
   "cell_type": "code",
   "execution_count": 108,
   "id": "491ea92f-f902-48b3-a938-010e60a48ec6",
   "metadata": {},
   "outputs": [
    {
     "data": {
      "text/plain": [
       "MetaData(book_title='Magic of Eberron', file_name='Magic of Eberron.md', edition='3e', section_title='Advancement: None', page_from=160, page_to=160, initial_word_count=150)"
      ]
     },
     "execution_count": 108,
     "metadata": {},
     "output_type": "execute_result"
    }
   ],
   "source": [
    "    MetaData(\n",
    "        book_title=section_metadata[i]['book_title'],\n",
    "        file_name=section_metadata[i]['file_name'],\n",
    "        edition=section_metadata[i]['edition'],\n",
    "        section_title=section_metadata[i]['section_title'],\n",
    "        page_from=section_metadata[i]['section_pages'][0],\n",
    "        page_to=section_metadata[i]['section_pages'][1],\n",
    "        initial_word_count=section_metadata[i]['initial_word_count'],\n",
    "    )"
   ]
  },
  {
   "cell_type": "code",
   "execution_count": 109,
   "id": "205ec307-c30a-4034-80d8-6705724e461c",
   "metadata": {},
   "outputs": [
    {
     "data": {
      "text/plain": [
       "'21000 / 21118'"
      ]
     },
     "metadata": {},
     "output_type": "display_data"
    }
   ],
   "source": [
    "assert not os.path.exists(os.path.join(embeddings_folder, 'documents.lance', 'data'))\n",
    "data_to_insert = []\n",
    "for i in range(len(sections)):\n",
    "    row = section_metadata[i].copy()\n",
    "    del row['section_pages']\n",
    "    row['page_from'] = section_metadata[i]['section_pages'][0]\n",
    "    row['page_to'] = section_metadata[i]['section_pages'][1]\n",
    "    row['vector'] = embeddings[i]\n",
    "    row['text'] = sections[i]\n",
    "    row['metadata'] = dict(\n",
    "        book_title=section_metadata[i]['book_title'],\n",
    "        file_name=section_metadata[i]['file_name'],\n",
    "        edition=section_metadata[i]['edition'],\n",
    "        section_title=section_metadata[i]['section_title'],\n",
    "        page_from=section_metadata[i]['section_pages'][0],\n",
    "        page_to=section_metadata[i]['section_pages'][1],\n",
    "        initial_word_count=section_metadata[i]['initial_word_count'],\n",
    "    )\n",
    "    data_to_insert.append(row)\n",
    "    if i % 500 == 0:\n",
    "        clear_output()\n",
    "        display(f'{i} / {len(sections)}')\n",
    "table.add(data_to_insert)\n",
    "assert os.path.exists(os.path.join(embeddings_folder, 'documents.lance', 'data'))"
   ]
  },
  {
   "cell_type": "code",
   "execution_count": 110,
   "id": "0b0692f1-5496-4853-848b-4d7eada3491a",
   "metadata": {},
   "outputs": [],
   "source": [
    "model_metadata = {\n",
    "    'version': ARTEFACT_VERSION,\n",
    "    'document_version': DOCUMENT_VERSION,\n",
    "    'chunk_count': len(sections),\n",
    "    'embedding_format': 'lancedb',\n",
    "    'embedding_model': {\n",
    "        'name': model_name, \n",
    "        'str': str(model).replace('\\n', ''), \n",
    "        'revision': model_revision,\n",
    "    }\n",
    "}\n",
    "with open(os.path.join(tmp_artefact_folder, 'model_metadata.pkl'), 'wb') as f:\n",
    "\tpickle.dump(model_metadata, f)"
   ]
  },
  {
   "cell_type": "code",
   "execution_count": 111,
   "id": "102fe308-7f3b-46f4-b863-357e45008cb4",
   "metadata": {},
   "outputs": [],
   "source": [
    "backup_made = False\n",
    "if os.path.exists(ARTEFACT_FOLDER):\n",
    "    tmp_backup_folder = mkdtemp()\n",
    "    shutil.move(ARTEFACT_FOLDER, tmp_backup_folder)\n",
    "    backup_made = True\n",
    "shutil.move(tmp_artefact_folder, ARTEFACT_FOLDER)\n",
    "if backup_made:\n",
    "    shutil.rmtree(tmp_backup_folder)"
   ]
  },
  {
   "cell_type": "markdown",
   "id": "1726a62f-ba3c-4723-9af9-38b2c676bec2",
   "metadata": {},
   "source": [
    "### Cross-check\n",
    "### Do Not Remove, Do Not Ignore, Run To Make Sure Things Are There"
   ]
  },
  {
   "cell_type": "code",
   "execution_count": 112,
   "id": "64c0151d-bd1d-44a3-9589-8e09834d33b7",
   "metadata": {},
   "outputs": [],
   "source": [
    "assert os.path.exists(os.path.join(ARTEFACT_FOLDER, 'model_metadata.pkl')) or os.path.exists(os.path.join(ARTEFACT_FOLDER, 'model_metadata.json'))"
   ]
  },
  {
   "cell_type": "code",
   "execution_count": 113,
   "id": "4be2a918-76f3-4285-9c38-4476492b9ecb",
   "metadata": {},
   "outputs": [],
   "source": [
    "with open(os.path.join(ARTEFACT_FOLDER, 'model_metadata.pkl'), 'rb') as f:\n",
    "    model_metadata = pickle.load(f)\n",
    "\n",
    "assert model_metadata['embedding_model']['str'].startswith('SentenceTransformer')\n",
    "assert 'version' in model_metadata\n",
    "assert model_metadata['version'] == ARTEFACT_VERSION\n",
    "assert 'embedding_format' in model_metadata\n",
    "if model_metadata['embedding_format'] == 'lancedb':\n",
    "    assert os.path.exists(os.path.join(ARTEFACT_FOLDER, 'embeddings'))\n",
    "assert os.path.exists(os.path.join(ARTEFACT_FOLDER, 'embeddings', 'documents.lance', 'data'))"
   ]
  },
  {
   "cell_type": "code",
   "execution_count": 114,
   "id": "acf827f5-4cb1-4ad2-afa1-bc7fbaf4d19b",
   "metadata": {},
   "outputs": [
    {
     "name": "stderr",
     "output_type": "stream",
     "text": [
      "[2025-01-23T20:24:25Z WARN  lance_core::utils::tokio] Number of CPUs is less than or equal to the number of IO core reservations. This is not a supported configuration. using 1 CPU for compute intensive tasks.\n",
      "[2025-01-23T20:24:25Z WARN  lance_core::utils::tokio] Number of CPUs is less than or equal to the number of IO core reservations. This is not a supported configuration. using 1 CPU for compute intensive tasks.\n"
     ]
    },
    {
     "data": {
      "text/html": [
       "<div>\n",
       "<style scoped>\n",
       "    .dataframe tbody tr th:only-of-type {\n",
       "        vertical-align: middle;\n",
       "    }\n",
       "\n",
       "    .dataframe tbody tr th {\n",
       "        vertical-align: top;\n",
       "    }\n",
       "\n",
       "    .dataframe thead th {\n",
       "        text-align: right;\n",
       "    }\n",
       "</style>\n",
       "<table border=\"1\" class=\"dataframe\">\n",
       "  <thead>\n",
       "    <tr style=\"text-align: right;\">\n",
       "      <th></th>\n",
       "      <th>text</th>\n",
       "      <th>vector</th>\n",
       "      <th>metadata</th>\n",
       "      <th>book_title</th>\n",
       "      <th>file_name</th>\n",
       "      <th>edition</th>\n",
       "      <th>section_title</th>\n",
       "      <th>page_from</th>\n",
       "      <th>page_to</th>\n",
       "      <th>initial_word_count</th>\n",
       "    </tr>\n",
       "  </thead>\n",
       "  <tbody>\n",
       "    <tr>\n",
       "      <th>0</th>\n",
       "      <td>Cannith Catalogue 2 The following sections des...</td>\n",
       "      <td>[0.043904938, -0.071870774, 0.06289965, 0.0281...</td>\n",
       "      <td>{'book_title': 'House Cannith Catalogue #2', '...</td>\n",
       "      <td>House Cannith Catalogue #2</td>\n",
       "      <td>881665-eberron_cannith_cat2.md</td>\n",
       "      <td>5e</td>\n",
       "      <td>DAVIDE QUATRINTI'S</td>\n",
       "      <td>1</td>\n",
       "      <td>2</td>\n",
       "      <td>30</td>\n",
       "    </tr>\n",
       "    <tr>\n",
       "      <th>1</th>\n",
       "      <td>This carnet contains ten strips of parchment a...</td>\n",
       "      <td>[-0.012223399, -0.04427961, -0.0037638887, -0....</td>\n",
       "      <td>{'book_title': 'House Cannith Catalogue #2', '...</td>\n",
       "      <td>House Cannith Catalogue #2</td>\n",
       "      <td>881665-eberron_cannith_cat2.md</td>\n",
       "      <td>5e</td>\n",
       "      <td>Litmus Strips</td>\n",
       "      <td>2</td>\n",
       "      <td>2</td>\n",
       "      <td>150</td>\n",
       "    </tr>\n",
       "    <tr>\n",
       "      <th>2</th>\n",
       "      <td>Made of an extremely robust leather obtained b...</td>\n",
       "      <td>[-0.013698697, -0.028550351, 0.002355276, 0.00...</td>\n",
       "      <td>{'book_title': 'House Cannith Catalogue #2', '...</td>\n",
       "      <td>House Cannith Catalogue #2</td>\n",
       "      <td>881665-eberron_cannith_cat2.md</td>\n",
       "      <td>5e</td>\n",
       "      <td>Muck Springers</td>\n",
       "      <td>2</td>\n",
       "      <td>2</td>\n",
       "      <td>89</td>\n",
       "    </tr>\n",
       "    <tr>\n",
       "      <th>3</th>\n",
       "      <td>An apparently ordinary item, this box is made ...</td>\n",
       "      <td>[0.031405162, -0.040899698, 0.10993457, 0.0552...</td>\n",
       "      <td>{'book_title': 'House Cannith Catalogue #2', '...</td>\n",
       "      <td>House Cannith Catalogue #2</td>\n",
       "      <td>881665-eberron_cannith_cat2.md</td>\n",
       "      <td>5e</td>\n",
       "      <td>Metaprocessor</td>\n",
       "      <td>2</td>\n",
       "      <td>2</td>\n",
       "      <td>66</td>\n",
       "    </tr>\n",
       "    <tr>\n",
       "      <th>4</th>\n",
       "      <td>A mass of writhing worms (50% of probability),...</td>\n",
       "      <td>[-0.019326776, -0.027411627, 0.043334335, -0.0...</td>\n",
       "      <td>{'book_title': 'House Cannith Catalogue #2', '...</td>\n",
       "      <td>House Cannith Catalogue #2</td>\n",
       "      <td>881665-eberron_cannith_cat2.md</td>\n",
       "      <td>5e</td>\n",
       "      <td>Input Output</td>\n",
       "      <td>2</td>\n",
       "      <td>2</td>\n",
       "      <td>101</td>\n",
       "    </tr>\n",
       "  </tbody>\n",
       "</table>\n",
       "</div>"
      ],
      "text/plain": [
       "                                                text  \\\n",
       "0  Cannith Catalogue 2 The following sections des...   \n",
       "1  This carnet contains ten strips of parchment a...   \n",
       "2  Made of an extremely robust leather obtained b...   \n",
       "3  An apparently ordinary item, this box is made ...   \n",
       "4  A mass of writhing worms (50% of probability),...   \n",
       "\n",
       "                                              vector  \\\n",
       "0  [0.043904938, -0.071870774, 0.06289965, 0.0281...   \n",
       "1  [-0.012223399, -0.04427961, -0.0037638887, -0....   \n",
       "2  [-0.013698697, -0.028550351, 0.002355276, 0.00...   \n",
       "3  [0.031405162, -0.040899698, 0.10993457, 0.0552...   \n",
       "4  [-0.019326776, -0.027411627, 0.043334335, -0.0...   \n",
       "\n",
       "                                            metadata  \\\n",
       "0  {'book_title': 'House Cannith Catalogue #2', '...   \n",
       "1  {'book_title': 'House Cannith Catalogue #2', '...   \n",
       "2  {'book_title': 'House Cannith Catalogue #2', '...   \n",
       "3  {'book_title': 'House Cannith Catalogue #2', '...   \n",
       "4  {'book_title': 'House Cannith Catalogue #2', '...   \n",
       "\n",
       "                   book_title                       file_name edition  \\\n",
       "0  House Cannith Catalogue #2  881665-eberron_cannith_cat2.md      5e   \n",
       "1  House Cannith Catalogue #2  881665-eberron_cannith_cat2.md      5e   \n",
       "2  House Cannith Catalogue #2  881665-eberron_cannith_cat2.md      5e   \n",
       "3  House Cannith Catalogue #2  881665-eberron_cannith_cat2.md      5e   \n",
       "4  House Cannith Catalogue #2  881665-eberron_cannith_cat2.md      5e   \n",
       "\n",
       "        section_title  page_from  page_to  initial_word_count  \n",
       "0  DAVIDE QUATRINTI'S          1        2                  30  \n",
       "1       Litmus Strips          2        2                 150  \n",
       "2      Muck Springers          2        2                  89  \n",
       "3       Metaprocessor          2        2                  66  \n",
       "4        Input Output          2        2                 101  "
      ]
     },
     "execution_count": 114,
     "metadata": {},
     "output_type": "execute_result"
    }
   ],
   "source": [
    "test_table = lancedb.connect(os.path.join(ARTEFACT_FOLDER, 'embeddings')).open_table(table_name)\n",
    "df = test_table.head().to_pandas()\n",
    "assert len(df) == 5\n",
    "df"
   ]
  }
 ],
 "metadata": {
  "kernelspec": {
   "display_name": "Python 3 (ipykernel)",
   "language": "python",
   "name": "python3"
  },
  "language_info": {
   "codemirror_mode": {
    "name": "ipython",
    "version": 3
   },
   "file_extension": ".py",
   "mimetype": "text/x-python",
   "name": "python",
   "nbconvert_exporter": "python",
   "pygments_lexer": "ipython3",
   "version": "3.10.12"
  }
 },
 "nbformat": 4,
 "nbformat_minor": 5
}
