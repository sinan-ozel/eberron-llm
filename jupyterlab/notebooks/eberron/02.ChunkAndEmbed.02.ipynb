{
 "cells": [
  {
   "cell_type": "code",
   "execution_count": 61,
   "id": "9b0d7f1d-96ef-4e56-aba1-4dd9d901e61a",
   "metadata": {},
   "outputs": [],
   "source": [
    "import os\n",
    "import json\n",
    "import re\n",
    "import string\n",
    "from collections import Counter\n",
    "import random\n",
    "from tempfile import mkdtemp\n",
    "import shutil\n",
    "import pickle\n",
    "\n",
    "from tqdm.notebook import tqdm\n",
    "from IPython.display import clear_output, display\n",
    "\n",
    "import pyarrow as pa\n",
    "from sentence_transformers import SentenceTransformer\n",
    "import lancedb\n",
    "from lancedb.pydantic import LanceModel, Vector\n",
    "from lancedb.embeddings import get_registry"
   ]
  },
  {
   "cell_type": "code",
   "execution_count": 2,
   "id": "bfd92450-7b2e-4c7f-83a3-6b86714ea041",
   "metadata": {},
   "outputs": [],
   "source": [
    "# Input parameters\n",
    "DOCUMENT_VERSION = '03'\n",
    "CORPUS_FOLDER = f'/jupyterlab/corpus/eberron/v{DOCUMENT_VERSION}'"
   ]
  },
  {
   "cell_type": "code",
   "execution_count": 25,
   "id": "f4e587a5-b91b-478a-bd4e-e21571ab3499",
   "metadata": {},
   "outputs": [],
   "source": [
    "# Output parameters\n",
    "ARTEFACT_VERSION = '02'\n",
    "ARTEFACT_ROOT_FOLDER = os.environ.get('ARTEFACT_ROOT_FOLDER', '/artefact')\n",
    "ARTEFACT_FOLDER = os.path.join(ARTEFACT_ROOT_FOLDER, 'eberron', f'v{ARTEFACT_VERSION}')"
   ]
  },
  {
   "cell_type": "markdown",
   "id": "186bb67e-08e6-4027-a616-4a94528d44cb",
   "metadata": {},
   "source": [
    "### Read Document Metadata"
   ]
  },
  {
   "cell_type": "code",
   "execution_count": 4,
   "id": "c239ebf3-161d-4bb9-9e7e-e6c1bdfd1587",
   "metadata": {},
   "outputs": [],
   "source": [
    "with open(os.path.join(CORPUS_FOLDER, 'metadata.json')) as f:\n",
    "    metadata = json.load(f)\n",
    "metadata_dict = {}\n",
    "for data in metadata:\n",
    "    metadata_dict[data['filename'][:-4]] = data"
   ]
  },
  {
   "cell_type": "markdown",
   "id": "77b254e7-c4a2-44b5-99ff-3773ad1091e2",
   "metadata": {},
   "source": [
    "### First Pass (Fast): Split Into Sections"
   ]
  },
  {
   "cell_type": "code",
   "execution_count": 10,
   "id": "47f3d861-51d9-4eef-a92e-88c5c33e99f3",
   "metadata": {},
   "outputs": [],
   "source": [
    "def is_integer_string(value):\n",
    "    \"\"\"\n",
    "    Check if the given value (string) represents an integer.\n",
    "    \n",
    "    :param value: The value to check.\n",
    "    :return: True if the string represents an integer, False otherwise.\n",
    "    \"\"\"\n",
    "    try:\n",
    "        int(value)\n",
    "        return True\n",
    "    except (ValueError, TypeError):\n",
    "        return False"
   ]
  },
  {
   "cell_type": "code",
   "execution_count": 6,
   "id": "eecbc8b5-aa3b-47c5-9637-705e2eff5f8b",
   "metadata": {},
   "outputs": [],
   "source": [
    "title_fixes = {\n",
    "    '881665-eberron_cannith_cat2': 'House Cannith Catalogue #2'\n",
    "}"
   ]
  },
  {
   "cell_type": "code",
   "execution_count": 7,
   "id": "fb6fff56-49ba-4b4f-bca0-20234e4bf0b6",
   "metadata": {},
   "outputs": [],
   "source": [
    "disallowed_section_titles = {'Actions', 'Reactions', 'Cannith Catalogue 2', 'THREAT DISPATCH', 'Legendary Actions', 'Wizard Level Feature'\n",
    "                             'Languages —', '-', 'Finesse', 'Weight Properties', 'Player’s Handbook','Spell Resistance:', 'Capital: Korth',\n",
    "                             'Combat', 'Capital: Rhukaan Draal', 'STR DEX CON INT WIS CHA', 'Favor', 'DIALECTS', 'WIS CHA',\n",
    "                             'CLASS FEATURES',\n",
    "}\n",
    "disallowed_section_title_regexp = [\n",
    "    r'Skills\\s+.+\\+[0-9].*',\n",
    "    r'Saving Throws\\s+.+\\+[0-9].*',\n",
    "    r'.*\\-level.*feature',\n",
    "    r'Languages.*Common.*',\n",
    "    r'^[0-9\\s.\\(\\)]+$',\n",
    "    r'Hit Points\\s+[0-9]+.*'\n",
    "    r'Challenge\\s+[0-9]+.*',\n",
    "    r'Damage Immunities.*',\n",
    "    r'Damage Resistances.*',\n",
    "    r'Level Adjustment:.*',\n",
    "    r'Challenge Rating:.*',\n",
    "    r'Initiative:.*',\n",
    "    r'Treasure:.*',\n",
    "    r'Environment: .*',\n",
    "    r'Skills: .*',\n",
    "    r'Feats: .*',\n",
    "    r'Organization: .*',\n",
    "    r'Base Atk .*',\n",
    "    r'Base Attack .*',\n",
    "    r'Special Attacks: .*',\n",
    "    r'Range: .*',\n",
    "    r'Spell Resistance: .*',\n",
    "    r'Graft Location: .*',\n",
    "    r'Weight: .*',\n",
    "    r'Light: .*\\.',\n",
    "    r'Scripts: .*',\n",
    "    r'Script: .*',\n",
    "    r'Speakers: .*',\n",
    "    r'Format: .*',\n",
    "    r'Knowledge ([a-z]+)',\n",
    "    r'[0-9](st|nd|th).*level.*',\n",
    "    r'.*KORRANBERG CHRONICLE: THREAT DISPATCH',\n",
    "    r'SIDEBAR: .*',\n",
    "    r'WIZARDS OF EBERRON: FIVE ARCANE TRADITIONS [0-9]+.*',\n",
    "    r'.*DUNGEON DECEMBER 2004',\n",
    "    r'.*[cves]\\s+[0-9]+',\n",
    "]"
   ]
  },
  {
   "cell_type": "code",
   "execution_count": 108,
   "id": "2e2bfd1a-4610-456b-8ba8-62bedd5d6aec",
   "metadata": {},
   "outputs": [],
   "source": [
    "ignore_list = {'Eberron Character Sheet', 'New & Expanded Feat List', '476764-sample', 'SharnIndexIntegrated'}"
   ]
  },
  {
   "cell_type": "code",
   "execution_count": 123,
   "id": "ef16c03e-8d6c-4aeb-8c65-ac29ea5c09fc",
   "metadata": {},
   "outputs": [
    {
     "data": {
      "application/vnd.jupyter.widget-view+json": {
       "model_id": "171b9aea14df49e7acc49ade77e55320",
       "version_major": 2,
       "version_minor": 0
      },
      "text/plain": [
       "  0%|          | 0/127 [00:00<?, ?it/s]"
      ]
     },
     "metadata": {},
     "output_type": "display_data"
    },
    {
     "data": {
      "text/plain": [
       "(21118, 'Magic of Eberron')"
      ]
     },
     "execution_count": 123,
     "metadata": {},
     "output_type": "execute_result"
    }
   ],
   "source": [
    "sections = []\n",
    "section_metadata = []\n",
    "book_count = 0\n",
    "\n",
    "for file_count, file_name in enumerate(tqdm(os.listdir(CORPUS_FOLDER))):\n",
    "    if file_name[-3:] != '.md':\n",
    "        continue\n",
    "    if file_name[:-3] in ignore_list:\n",
    "        continue\n",
    "    book_title = file_name[:-3]\n",
    "    pdf_title = metadata_dict[file_name[:-3]]['pdf/title']\n",
    "    edition = metadata_dict[file_name[:-3]]['edition']\n",
    "    if pdf_title:\n",
    "        if book_title.endswith('sample'):\n",
    "            book_title = pdf_title\n",
    "    book_title = title_fixes.get(book_title, book_title)\n",
    "    current_page = 0\n",
    "    current_section_title = ''\n",
    "    current_section_lines = []\n",
    "    empty_line_ctr = 0\n",
    "    file_path = os.path.join(CORPUS_FOLDER, file_name)\n",
    "    with open(file_path) as f:\n",
    "        document = f.read()\n",
    "        lines = document.split('\\n')\n",
    "        line_count = len(lines)\n",
    "        for line_no, line in enumerate(lines):\n",
    "            previous_line = lines[line_no - 1].strip() if line_no > 0 else '\\0'\n",
    "            next_line = lines[line_no + 1].strip() if line_no < line_count - 1 else '\\0'\n",
    "            current_line = line.strip()\n",
    "\n",
    "            if not current_line:\n",
    "                continue\n",
    "\n",
    "            m = re.match(r'##\\s+Page\\s+([0-9]+)', line)\n",
    "            if m:\n",
    "                current_page = int(m[1])\n",
    "                continue\n",
    "\n",
    "            current_section_word_count = len(\" \".join(current_section_lines).split(' '))\n",
    "    \n",
    "            if previous_line == '' and (next_line == '' or next_line.startswith('Medium') or next_line.startswith('Large') or next_line.startswith('District Type')):\n",
    "                may_be_section_title = True\n",
    "                if current_line.upper() != current_line and string.capwords(current_line) != current_line:\n",
    "                    may_be_section_title = False\n",
    "                if current_section_title.lower() == current_line.lower():\n",
    "                    may_be_section_title = False\n",
    "                if may_be_section_title and is_integer_string(current_line):\n",
    "                    may_be_section_title = False\n",
    "                if may_be_section_title and current_line in disallowed_section_titles:\n",
    "                    may_be_section_title = False\n",
    "                if len(re.sub(r'[^a-zA-Z\\.]', '', current_line)) < 4:\n",
    "                    may_be_section_title = False\n",
    "                if ',' in current_line:\n",
    "                    may_be_section_title = False\n",
    "                if may_be_section_title:\n",
    "                    for regexp in disallowed_section_title_regexp:\n",
    "                        m = re.match(regexp, current_line, re.IGNORECASE)\n",
    "                        if m:\n",
    "                            may_be_section_title = False\n",
    "\n",
    "                if may_be_section_title:\n",
    "                    if current_section_title:\n",
    "                        if current_section_lines and current_section_word_count > 15:\n",
    "                            text = \" \".join(current_section_lines)\n",
    "                            if len(text.split(' ')) > 5:\n",
    "                                sections.append(text)\n",
    "                                section_metadata.append({\n",
    "                                    'book_title': book_title,\n",
    "                                    'file_name': file_name,\n",
    "                                    'edition': edition,\n",
    "                                    'section_title': current_section_title,\n",
    "                                    'section_pages': current_section_pages,\n",
    "                                    'initial_word_count': current_section_word_count\n",
    "                                })\n",
    "                    current_section_title = current_line\n",
    "                    current_section_lines = []\n",
    "                    current_section_pages = (current_page, current_page)\n",
    "                    continue\n",
    "\n",
    "            if current_section_word_count > 450:\n",
    "                end = line_no + 10\n",
    "                start = line_no - len(current_section_lines) + 10\n",
    "                text = \"\\n\".join([l for l in lines[start:end] if l and not l.startswith('## Page ')])\n",
    "                sections.append(text)\n",
    "                section_metadata.append({\n",
    "                    'book_title': book_title,\n",
    "                    'file_name': file_name,\n",
    "                    'edition': edition,\n",
    "                    'section_title': current_section_title,\n",
    "                    'section_pages': current_section_pages,\n",
    "                    'initial_word_count': len(text.split(' '))\n",
    "                })\n",
    "                current_section_lines = []\n",
    "                current_section_pages = (current_page, current_page)\n",
    "                continue\n",
    "\n",
    "            if current_section_title and current_line:\n",
    "                current_section_lines.append(current_line)\n",
    "                current_section_pages = (current_section_pages[0], current_page)\n",
    "        if current_section_lines:\n",
    "            text = ' '.join(current_section_lines)\n",
    "            sections.append(text)\n",
    "            section_metadata.append({\n",
    "                'book_title': book_title,\n",
    "                'file_name': file_name,\n",
    "                'edition': edition,\n",
    "                'section_title': current_section_title,\n",
    "                'section_pages': current_section_pages,\n",
    "                'initial_word_count': len(text.split(' '))\n",
    "            })\n",
    "section_count = len(sections)\n",
    "assert len(section_metadata) == section_count\n",
    "assert section_metadata[1]['section_title'] == 'Litmus Strips'\n",
    "assert section_metadata[11]['section_title'] == 'Automatic Chatelaine'\n",
    "section_titles = {d['section_title'] for d in section_metadata}\n",
    "assert 'Automatic Chatelaine' in section_titles\n",
    "assert 'HORRID HYENA' in section_titles\n",
    "assert 'HORRID BADGER' in section_titles\n",
    "assert 'NAZTHARUNE RAKSHASA' in section_titles\n",
    "assert 'CRYSTEEL' in section_titles\n",
    "assert 'DENDRITIC' in section_titles\n",
    "assert 'IRONBARK' in section_titles\n",
    "assert 'DARKLEAF' in section_titles\n",
    "assert 'KNIGHT PHANTOM' in section_titles\n",
    "assert 'SHARN SKYMAGE' in section_titles\n",
    "assert 'WEAPONS OF KHORVAIRE' in section_titles\n",
    "assert 'ADVENTURING GEAR' in section_titles\n",
    "assert '7. The Library' in section_titles\n",
    "assert '8. The Entry Hall' in section_titles\n",
    "assert 'THE ORIGIN OF THE FIVE NATIONS' in section_titles\n",
    "assert 'AUNDAIR AT A GLANCE' in section_titles\n",
    "assert 'THE COMING OF GALIFAR' in section_titles\n",
    "assert 'Highhold' in section_titles\n",
    "assert 'PERIPLANAR OF ICE ~ PERISIAN' in section_titles\n",
    "assert 'HOUSE THARASHK' in section_titles\n",
    "assert 'ARGON' in section_titles\n",
    "assert 'METRON' in section_titles\n",
    "assert 'DARKLEAF' in section_titles\n",
    "assert 'DARKLEAF' in section_titles\n",
    "section_count, book_title"
   ]
  },
  {
   "cell_type": "code",
   "execution_count": 124,
   "id": "15ad3cf2-a5a5-44b7-8792-b3ad8279c5c0",
   "metadata": {},
   "outputs": [],
   "source": [
    "# TODO: For second pass, delete:\n",
    "# Contents\n",
    "# Thanks\n",
    "# CREDITS\n"
   ]
  },
  {
   "cell_type": "markdown",
   "id": "f602f407-c648-4636-8ef5-3b0c1c22b52f",
   "metadata": {},
   "source": [
    "### Embed"
   ]
  },
  {
   "cell_type": "code",
   "execution_count": 125,
   "id": "7116403f-7cde-49b8-9031-4861633fcad0",
   "metadata": {},
   "outputs": [],
   "source": [
    "model_name = 'Alibaba-NLP/gte-base-en-v1.5'\n",
    "model_revision = 'a829fd0e060bb84554da0dfd354d0de0f7712b7f'\n",
    "# model_name = 'sentence-transformers/all-MiniLM-L6-v2'\n",
    "model = SentenceTransformer(model_name, trust_remote_code=True, revision=model_revision)\n",
    "model = model.to(\"cuda\")\n",
    "\n",
    "\n"
   ]
  },
  {
   "cell_type": "code",
   "execution_count": 126,
   "id": "2fcd2799-b905-42cb-aca7-53babcf8be6c",
   "metadata": {},
   "outputs": [
    {
     "data": {
      "application/vnd.jupyter.widget-view+json": {
       "model_id": "672da04dbff047169ac632e39b59a118",
       "version_major": 2,
       "version_minor": 0
      },
      "text/plain": [
       "  0%|          | 0/21118 [00:00<?, ?it/s]"
      ]
     },
     "metadata": {},
     "output_type": "display_data"
    }
   ],
   "source": [
    "embeddings = []\n",
    "for chunk in tqdm(sections):\n",
    "    embedding = model.encode(chunk, normalize_embeddings=True)\n",
    "    embeddings.append(embedding)"
   ]
  },
  {
   "cell_type": "code",
   "execution_count": 127,
   "id": "c8d3345f-f645-43e5-bf71-12b7a2e1ca16",
   "metadata": {},
   "outputs": [
    {
     "data": {
      "text/plain": [
       "768"
      ]
     },
     "execution_count": 127,
     "metadata": {},
     "output_type": "execute_result"
    }
   ],
   "source": [
    "assert all([embedding.size == embeddings[0].size for embedding in embeddings])\n",
    "embeddings[0].size"
   ]
  },
  {
   "cell_type": "markdown",
   "id": "78ad4ff0-afe3-4ed4-b129-a8ee69dc6907",
   "metadata": {},
   "source": [
    "### Save"
   ]
  },
  {
   "cell_type": "code",
   "execution_count": 128,
   "id": "4cc428c3-04cd-4cc3-8fc7-8a0b658a3b22",
   "metadata": {},
   "outputs": [],
   "source": [
    "tmp_artefact_folder = mkdtemp()"
   ]
  },
  {
   "cell_type": "code",
   "execution_count": 129,
   "id": "2f00a341-9c5d-4a33-9399-d3e5afafa6d0",
   "metadata": {},
   "outputs": [],
   "source": [
    "embeddings_folder = os.path.join(tmp_artefact_folder, 'embeddings')\n",
    "os.makedirs(embeddings_folder, exist_ok=True)\n",
    "db = lancedb.connect(embeddings_folder)"
   ]
  },
  {
   "cell_type": "code",
   "execution_count": 130,
   "id": "fd28e75d-c86a-4fd5-8865-4b1297199fe3",
   "metadata": {},
   "outputs": [],
   "source": [
    "model_registry = get_registry().get('sentence-transformers')\n",
    "sentence_transformer_embeddings = model_registry.create(name=model_name)"
   ]
  },
  {
   "cell_type": "code",
   "execution_count": null,
   "id": "7e68b509-8ab5-4c6b-89e3-a1fd4fea68e4",
   "metadata": {},
   "outputs": [],
   "source": []
  },
  {
   "cell_type": "code",
   "execution_count": 131,
   "id": "f8dc5950-d861-4298-9368-9ff3d378ad13",
   "metadata": {},
   "outputs": [],
   "source": [
    "class Document(LanceModel):\n",
    "    text: str = sentence_transformer_embeddings.SourceField()\n",
    "    vector: Vector(embeddings[0].size) = sentence_transformer_embeddings.VectorField\n",
    "    book_title: str\n",
    "    file_name: str\n",
    "    edition: str\n",
    "    section_title: str\n",
    "    page_from: int\n",
    "    page_to: int\n",
    "    initial_word_count: int"
   ]
  },
  {
   "cell_type": "code",
   "execution_count": 132,
   "id": "1b5ba6d6-2041-462d-965b-be4ca192b0a8",
   "metadata": {},
   "outputs": [],
   "source": [
    "table_name = \"documents\"\n",
    "if table_name not in db.table_names():\n",
    "    table = db.create_table(\n",
    "        table_name, \n",
    "        schema=Document\n",
    "    )\n",
    "else:\n",
    "    table = db.open_table(table_name)"
   ]
  },
  {
   "cell_type": "code",
   "execution_count": 133,
   "id": "205ec307-c30a-4034-80d8-6705724e461c",
   "metadata": {},
   "outputs": [
    {
     "data": {
      "text/plain": [
       "'21000 / 21118'"
      ]
     },
     "metadata": {},
     "output_type": "display_data"
    }
   ],
   "source": [
    "assert not os.path.exists(os.path.join(embeddings_folder, 'documents.lance', 'data'))\n",
    "data_to_insert = []\n",
    "for i in range(len(sections)):\n",
    "    row = section_metadata[i].copy()\n",
    "    del row['section_pages']\n",
    "    row['page_from'] = section_metadata[i]['section_pages'][0]\n",
    "    row['page_to'] = section_metadata[i]['section_pages'][1]\n",
    "    row['vector'] = embeddings[i]\n",
    "    row['text'] = sections[i]\n",
    "    data_to_insert.append(row)\n",
    "    if i % 500 == 0:\n",
    "        clear_output()\n",
    "        display(f'{i} / {len(sections)}')\n",
    "table.add(data_to_insert)\n",
    "assert os.path.exists(os.path.join(embeddings_folder, 'documents.lance', 'data'))"
   ]
  },
  {
   "cell_type": "code",
   "execution_count": 134,
   "id": "0b0692f1-5496-4853-848b-4d7eada3491a",
   "metadata": {},
   "outputs": [],
   "source": [
    "model_metadata = {\n",
    "    'version': ARTEFACT_VERSION,\n",
    "    'document_version': DOCUMENT_VERSION,\n",
    "    'chunk_count': len(sections),\n",
    "    'embedding_format': 'lancedb',\n",
    "    'embedding_model': {\n",
    "        'name': model_name, \n",
    "        'str': str(model).replace('\\n', ''), \n",
    "        'revision': model_revision,\n",
    "    }\n",
    "}\n",
    "with open(os.path.join(tmp_artefact_folder, 'model_metadata.pkl'), 'wb') as f:\n",
    "\tpickle.dump(model_metadata, f)"
   ]
  },
  {
   "cell_type": "code",
   "execution_count": 135,
   "id": "102fe308-7f3b-46f4-b863-357e45008cb4",
   "metadata": {},
   "outputs": [],
   "source": [
    "backup_made = False\n",
    "if os.path.exists(ARTEFACT_FOLDER):\n",
    "    tmp_backup_folder = mkdtemp()\n",
    "    shutil.move(ARTEFACT_FOLDER, tmp_backup_folder)\n",
    "    backup_made = True\n",
    "shutil.move(tmp_artefact_folder, ARTEFACT_FOLDER)\n",
    "if backup_made:\n",
    "    shutil.rmtree(tmp_backup_folder)"
   ]
  },
  {
   "cell_type": "markdown",
   "id": "1726a62f-ba3c-4723-9af9-38b2c676bec2",
   "metadata": {},
   "source": [
    "### Cross-check\n",
    "### Do Not Remove, Do Not Ignore, Run To Make Sure Things Are There"
   ]
  },
  {
   "cell_type": "code",
   "execution_count": 136,
   "id": "64c0151d-bd1d-44a3-9589-8e09834d33b7",
   "metadata": {},
   "outputs": [],
   "source": [
    "assert os.path.exists(os.path.join(ARTEFACT_FOLDER, 'model_metadata.pkl')) or os.path.exists(os.path.join(ARTEFACT_FOLDER, 'model_metadata.json'))"
   ]
  },
  {
   "cell_type": "code",
   "execution_count": 137,
   "id": "4be2a918-76f3-4285-9c38-4476492b9ecb",
   "metadata": {},
   "outputs": [],
   "source": [
    "with open(os.path.join(ARTEFACT_FOLDER, 'model_metadata.pkl'), 'rb') as f:\n",
    "    model_metadata = pickle.load(f)\n",
    "\n",
    "assert model_metadata['embedding_model']['str'].startswith('SentenceTransformer')\n",
    "assert 'version' in model_metadata\n",
    "assert model_metadata['version'] == ARTEFACT_VERSION\n",
    "assert 'embedding_format' in model_metadata\n",
    "if model_metadata['embedding_format'] == 'lancedb':\n",
    "    assert os.path.exists(os.path.join(ARTEFACT_FOLDER, 'embeddings'))\n",
    "assert os.path.exists(os.path.join(ARTEFACT_FOLDER, 'embeddings', 'documents.lance', 'data'))"
   ]
  },
  {
   "cell_type": "code",
   "execution_count": null,
   "id": "acf827f5-4cb1-4ad2-afa1-bc7fbaf4d19b",
   "metadata": {},
   "outputs": [],
   "source": []
  },
  {
   "cell_type": "code",
   "execution_count": null,
   "id": "bea4cb2e-3b01-473d-9547-4276db8e4c0d",
   "metadata": {},
   "outputs": [],
   "source": []
  }
 ],
 "metadata": {
  "kernelspec": {
   "display_name": "Python 3 (ipykernel)",
   "language": "python",
   "name": "python3"
  },
  "language_info": {
   "codemirror_mode": {
    "name": "ipython",
    "version": 3
   },
   "file_extension": ".py",
   "mimetype": "text/x-python",
   "name": "python",
   "nbconvert_exporter": "python",
   "pygments_lexer": "ipython3",
   "version": "3.10.12"
  }
 },
 "nbformat": 4,
 "nbformat_minor": 5
}
