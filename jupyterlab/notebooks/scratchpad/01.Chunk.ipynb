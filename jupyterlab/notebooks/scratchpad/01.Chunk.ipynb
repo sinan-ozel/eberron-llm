{
 "cells": [
  {
   "cell_type": "code",
   "execution_count": 1,
   "id": "09976c08-17fd-49d2-8d80-efa7dc101dd5",
   "metadata": {},
   "outputs": [],
   "source": [
    "import os\n",
    "import openparse\n",
    "from tqdm.notebook import tqdm"
   ]
  },
  {
   "cell_type": "code",
   "execution_count": 2,
   "id": "b5fe172f-add2-4dbd-b08c-085e34227f40",
   "metadata": {},
   "outputs": [],
   "source": [
    "folders = ['/eberron/3e', '/eberron/5e']\n",
    "corpus_folder = '/corpus/texts_v2'"
   ]
  },
  {
   "cell_type": "code",
   "execution_count": 3,
   "id": "6442e164-ed8f-456b-a538-f3b643a57401",
   "metadata": {},
   "outputs": [],
   "source": [
    "parser = openparse.DocumentParser()"
   ]
  },
  {
   "cell_type": "code",
   "execution_count": 10,
   "id": "85a4ba01-1cf2-4316-a82e-4555c72c583e",
   "metadata": {},
   "outputs": [
    {
     "data": {
      "application/vnd.jupyter.widget-view+json": {
       "model_id": "804ea1380e3d4b2a9eb33e6601215c2a",
       "version_major": 2,
       "version_minor": 0
      },
      "text/plain": [
       "  0%|          | 0/2 [00:00<?, ?it/s]"
      ]
     },
     "metadata": {},
     "output_type": "display_data"
    },
    {
     "data": {
      "application/vnd.jupyter.widget-view+json": {
       "model_id": "2ed82ea565cd43688cea8e260a3d3bf8",
       "version_major": 2,
       "version_minor": 0
      },
      "text/plain": [
       "  0%|          | 0/39 [00:00<?, ?it/s]"
      ]
     },
     "metadata": {},
     "output_type": "display_data"
    },
    {
     "name": "stderr",
     "output_type": "stream",
     "text": [
      "WARNING:pypdf._reader:Object 393 0 not defined.\n"
     ]
    },
    {
     "ename": "ValidationError",
     "evalue": "1 validation error for Bbox\n  Value error, x1 must be greater than x0 [type=value_error, input_value={'x0': 927.18, 'y0': 728....684, 'page_height': 873}, input_type=dict]\n    For further information visit https://errors.pydantic.dev/2.9/v/value_error",
     "output_type": "error",
     "traceback": [
      "\u001b[0;31m---------------------------------------------------------------------------\u001b[0m",
      "\u001b[0;31mValidationError\u001b[0m                           Traceback (most recent call last)",
      "Cell \u001b[0;32mIn[10], line 10\u001b[0m\n\u001b[1;32m      8\u001b[0m     \u001b[38;5;28;01mcontinue\u001b[39;00m\n\u001b[1;32m      9\u001b[0m \u001b[38;5;28;01mtry\u001b[39;00m:\n\u001b[0;32m---> 10\u001b[0m     parsed_content \u001b[38;5;241m=\u001b[39m \u001b[43mparser\u001b[49m\u001b[38;5;241;43m.\u001b[39;49m\u001b[43mparse\u001b[49m\u001b[43m(\u001b[49m\u001b[43mos\u001b[49m\u001b[38;5;241;43m.\u001b[39;49m\u001b[43mpath\u001b[49m\u001b[38;5;241;43m.\u001b[39;49m\u001b[43mjoin\u001b[49m\u001b[43m(\u001b[49m\u001b[43mfolder\u001b[49m\u001b[43m,\u001b[49m\u001b[43m \u001b[49m\u001b[43mfilename\u001b[49m\u001b[43m)\u001b[49m\u001b[43m)\u001b[49m\n\u001b[1;32m     11\u001b[0m \u001b[38;5;28;01mexcept\u001b[39;00m \u001b[38;5;167;01mOSError\u001b[39;00m:\n\u001b[1;32m     12\u001b[0m     \u001b[38;5;28;01mcontinue\u001b[39;00m\n",
      "File \u001b[0;32m/usr/local/lib/python3.10/dist-packages/openparse/doc_parser.py:100\u001b[0m, in \u001b[0;36mDocumentParser.parse\u001b[0;34m(self, file, ocr)\u001b[0m\n\u001b[1;32m     95\u001b[0m doc \u001b[38;5;241m=\u001b[39m Pdf(file)\n\u001b[1;32m     97\u001b[0m text_engine: Literal[\u001b[38;5;124m\"\u001b[39m\u001b[38;5;124mpdfminer\u001b[39m\u001b[38;5;124m\"\u001b[39m, \u001b[38;5;124m\"\u001b[39m\u001b[38;5;124mpymupdf\u001b[39m\u001b[38;5;124m\"\u001b[39m] \u001b[38;5;241m=\u001b[39m (\n\u001b[1;32m     98\u001b[0m     \u001b[38;5;124m\"\u001b[39m\u001b[38;5;124mpdfminer\u001b[39m\u001b[38;5;124m\"\u001b[39m \u001b[38;5;28;01mif\u001b[39;00m \u001b[38;5;129;01mnot\u001b[39;00m ocr \u001b[38;5;28;01melse\u001b[39;00m \u001b[38;5;124m\"\u001b[39m\u001b[38;5;124mpymupdf\u001b[39m\u001b[38;5;124m\"\u001b[39m\n\u001b[1;32m     99\u001b[0m )\n\u001b[0;32m--> 100\u001b[0m text_elems \u001b[38;5;241m=\u001b[39m \u001b[43mtext\u001b[49m\u001b[38;5;241;43m.\u001b[39;49m\u001b[43mingest\u001b[49m\u001b[43m(\u001b[49m\u001b[43mdoc\u001b[49m\u001b[43m,\u001b[49m\u001b[43m \u001b[49m\u001b[43mparsing_method\u001b[49m\u001b[38;5;241;43m=\u001b[39;49m\u001b[43mtext_engine\u001b[49m\u001b[43m)\u001b[49m\n\u001b[1;32m    101\u001b[0m text_nodes \u001b[38;5;241m=\u001b[39m \u001b[38;5;28mself\u001b[39m\u001b[38;5;241m.\u001b[39m_elems_to_nodes(text_elems)\n\u001b[1;32m    103\u001b[0m table_nodes \u001b[38;5;241m=\u001b[39m []\n",
      "File \u001b[0;32m/usr/local/lib/python3.10/dist-packages/openparse/text/parse.py:19\u001b[0m, in \u001b[0;36mingest\u001b[0;34m(doc, parsing_method)\u001b[0m\n\u001b[1;32m     12\u001b[0m \u001b[38;5;250m\u001b[39m\u001b[38;5;124;03m\"\"\"\u001b[39;00m\n\u001b[1;32m     13\u001b[0m \u001b[38;5;124;03mDefault to pdfminer-based implementation.\u001b[39;00m\n\u001b[1;32m     14\u001b[0m \n\u001b[1;32m     15\u001b[0m \u001b[38;5;124;03mOptional use the PyMuPDF-based implementation which has identical behaviour but supports OCR. Important - see their licensing to view the terms of use:\u001b[39;00m\n\u001b[1;32m     16\u001b[0m \u001b[38;5;124;03mhttps://mupdf.com/licensing/index.html\u001b[39;00m\n\u001b[1;32m     17\u001b[0m \u001b[38;5;124;03m\"\"\"\u001b[39;00m\n\u001b[1;32m     18\u001b[0m \u001b[38;5;28;01mif\u001b[39;00m parsing_method \u001b[38;5;241m==\u001b[39m \u001b[38;5;124m\"\u001b[39m\u001b[38;5;124mpdfminer\u001b[39m\u001b[38;5;124m\"\u001b[39m:\n\u001b[0;32m---> 19\u001b[0m     \u001b[38;5;28;01mreturn\u001b[39;00m \u001b[43mpdfminer\u001b[49m\u001b[38;5;241;43m.\u001b[39;49m\u001b[43mingest\u001b[49m\u001b[43m(\u001b[49m\u001b[43mdoc\u001b[49m\u001b[43m)\u001b[49m\n\u001b[1;32m     20\u001b[0m \u001b[38;5;28;01melif\u001b[39;00m parsing_method \u001b[38;5;241m==\u001b[39m \u001b[38;5;124m\"\u001b[39m\u001b[38;5;124mpymupdf\u001b[39m\u001b[38;5;124m\"\u001b[39m:\n\u001b[1;32m     21\u001b[0m     \u001b[38;5;28;01mreturn\u001b[39;00m pymupdf\u001b[38;5;241m.\u001b[39mingest(doc)\n",
      "File \u001b[0;32m/usr/local/lib/python3.10/dist-packages/openparse/text/pdfminer/core.py:230\u001b[0m, in \u001b[0;36mingest\u001b[0;34m(pdf_input)\u001b[0m\n\u001b[1;32m    225\u001b[0m         \u001b[38;5;28;01mcontinue\u001b[39;00m\n\u001b[1;32m    226\u001b[0m     bbox \u001b[38;5;241m=\u001b[39m _get_bbox(lines)\n\u001b[1;32m    228\u001b[0m     page_elements\u001b[38;5;241m.\u001b[39mappend(\n\u001b[1;32m    229\u001b[0m         TextElement(\n\u001b[0;32m--> 230\u001b[0m             bbox\u001b[38;5;241m=\u001b[39m\u001b[43mBbox\u001b[49m\u001b[43m(\u001b[49m\n\u001b[1;32m    231\u001b[0m \u001b[43m                \u001b[49m\u001b[43mx0\u001b[49m\u001b[38;5;241;43m=\u001b[39;49m\u001b[43mbbox\u001b[49m\u001b[43m[\u001b[49m\u001b[38;5;241;43m0\u001b[39;49m\u001b[43m]\u001b[49m\u001b[43m,\u001b[49m\n\u001b[1;32m    232\u001b[0m \u001b[43m                \u001b[49m\u001b[43my0\u001b[49m\u001b[38;5;241;43m=\u001b[39;49m\u001b[43mbbox\u001b[49m\u001b[43m[\u001b[49m\u001b[38;5;241;43m1\u001b[39;49m\u001b[43m]\u001b[49m\u001b[43m,\u001b[49m\n\u001b[1;32m    233\u001b[0m \u001b[43m                \u001b[49m\u001b[43mx1\u001b[49m\u001b[38;5;241;43m=\u001b[39;49m\u001b[43mbbox\u001b[49m\u001b[43m[\u001b[49m\u001b[38;5;241;43m2\u001b[39;49m\u001b[43m]\u001b[49m\u001b[43m,\u001b[49m\n\u001b[1;32m    234\u001b[0m \u001b[43m                \u001b[49m\u001b[43my1\u001b[49m\u001b[38;5;241;43m=\u001b[39;49m\u001b[43mbbox\u001b[49m\u001b[43m[\u001b[49m\u001b[38;5;241;43m3\u001b[39;49m\u001b[43m]\u001b[49m\u001b[43m,\u001b[49m\n\u001b[1;32m    235\u001b[0m \u001b[43m                \u001b[49m\u001b[43mpage\u001b[49m\u001b[38;5;241;43m=\u001b[39;49m\u001b[43mpage_num\u001b[49m\u001b[43m,\u001b[49m\n\u001b[1;32m    236\u001b[0m \u001b[43m                \u001b[49m\u001b[43mpage_width\u001b[49m\u001b[38;5;241;43m=\u001b[39;49m\u001b[43mpage_width\u001b[49m\u001b[43m,\u001b[49m\n\u001b[1;32m    237\u001b[0m \u001b[43m                \u001b[49m\u001b[43mpage_height\u001b[49m\u001b[38;5;241;43m=\u001b[39;49m\u001b[43mpage_height\u001b[49m\u001b[43m,\u001b[49m\n\u001b[1;32m    238\u001b[0m \u001b[43m            \u001b[49m\u001b[43m)\u001b[49m,\n\u001b[1;32m    239\u001b[0m             text\u001b[38;5;241m=\u001b[39m\u001b[38;5;124m\"\u001b[39m\u001b[38;5;130;01m\\n\u001b[39;00m\u001b[38;5;124m\"\u001b[39m\u001b[38;5;241m.\u001b[39mjoin(line\u001b[38;5;241m.\u001b[39mtext \u001b[38;5;28;01mfor\u001b[39;00m line \u001b[38;5;129;01min\u001b[39;00m lines),\n\u001b[1;32m    240\u001b[0m             lines\u001b[38;5;241m=\u001b[39m\u001b[38;5;28mtuple\u001b[39m(lines),\n\u001b[1;32m    241\u001b[0m         )\n\u001b[1;32m    242\u001b[0m     )\n\u001b[1;32m    243\u001b[0m \u001b[38;5;28;01melif\u001b[39;00m \u001b[38;5;28misinstance\u001b[39m(element, LTFigure):\n\u001b[1;32m    244\u001b[0m     \u001b[38;5;28;01mfor\u001b[39;00m e \u001b[38;5;129;01min\u001b[39;00m element:\n",
      "File \u001b[0;32m/usr/local/lib/python3.10/dist-packages/pydantic/main.py:209\u001b[0m, in \u001b[0;36mBaseModel.__init__\u001b[0;34m(self, **data)\u001b[0m\n\u001b[1;32m    207\u001b[0m \u001b[38;5;66;03m# `__tracebackhide__` tells pytest and some other tools to omit this function from tracebacks\u001b[39;00m\n\u001b[1;32m    208\u001b[0m __tracebackhide__ \u001b[38;5;241m=\u001b[39m \u001b[38;5;28;01mTrue\u001b[39;00m\n\u001b[0;32m--> 209\u001b[0m validated_self \u001b[38;5;241m=\u001b[39m \u001b[38;5;28;43mself\u001b[39;49m\u001b[38;5;241;43m.\u001b[39;49m\u001b[43m__pydantic_validator__\u001b[49m\u001b[38;5;241;43m.\u001b[39;49m\u001b[43mvalidate_python\u001b[49m\u001b[43m(\u001b[49m\u001b[43mdata\u001b[49m\u001b[43m,\u001b[49m\u001b[43m \u001b[49m\u001b[43mself_instance\u001b[49m\u001b[38;5;241;43m=\u001b[39;49m\u001b[38;5;28;43mself\u001b[39;49m\u001b[43m)\u001b[49m\n\u001b[1;32m    210\u001b[0m \u001b[38;5;28;01mif\u001b[39;00m \u001b[38;5;28mself\u001b[39m \u001b[38;5;129;01mis\u001b[39;00m \u001b[38;5;129;01mnot\u001b[39;00m validated_self:\n\u001b[1;32m    211\u001b[0m     warnings\u001b[38;5;241m.\u001b[39mwarn(\n\u001b[1;32m    212\u001b[0m         \u001b[38;5;124m'\u001b[39m\u001b[38;5;124mA custom validator is returning a value other than `self`.\u001b[39m\u001b[38;5;130;01m\\n\u001b[39;00m\u001b[38;5;124m'\u001b[39m\n\u001b[1;32m    213\u001b[0m         \u001b[38;5;124m\"\u001b[39m\u001b[38;5;124mReturning anything other than `self` from a top level model validator isn\u001b[39m\u001b[38;5;124m'\u001b[39m\u001b[38;5;124mt supported when validating via `__init__`.\u001b[39m\u001b[38;5;130;01m\\n\u001b[39;00m\u001b[38;5;124m\"\u001b[39m\n\u001b[1;32m    214\u001b[0m         \u001b[38;5;124m'\u001b[39m\u001b[38;5;124mSee the `model_validator` docs (https://docs.pydantic.dev/latest/concepts/validators/#model-validators) for more details.\u001b[39m\u001b[38;5;124m'\u001b[39m,\n\u001b[1;32m    215\u001b[0m         category\u001b[38;5;241m=\u001b[39m\u001b[38;5;28;01mNone\u001b[39;00m,\n\u001b[1;32m    216\u001b[0m     )\n",
      "\u001b[0;31mValidationError\u001b[0m: 1 validation error for Bbox\n  Value error, x1 must be greater than x0 [type=value_error, input_value={'x0': 927.18, 'y0': 728....684, 'page_height': 873}, input_type=dict]\n    For further information visit https://errors.pydantic.dev/2.9/v/value_error"
     ]
    }
   ],
   "source": [
    "metadata = {}\n",
    "excluded_filenames = ['Dragons of eberron.pdf', 'Eberron - Eyes_of_the_Lich_Queen.pdf']\n",
    "for folder in tqdm(folders):\n",
    "    for filename in tqdm(os.listdir(folder)):\n",
    "        if filename[-4:].lower() != '.pdf':\n",
    "            continue\n",
    "        if filename in excluded_filenames:\n",
    "            continue\n",
    "        try:\n",
    "            parsed_content = parser.parse(os.path.join(folder, filename))\n",
    "        except OSError:\n",
    "            continue\n",
    "        for node in parsed_content.nodes:\n",
    "            node_output_path = os.path.join(corpus_folder, f'{filename[:-4]}-{node.start_page:03}-{node.end_page:03}.txt')\n",
    "            if node.text:\n",
    "                with open(node_output_path, 'w') as chunk_file:\n",
    "                    chunk_file.write(node.text)"
   ]
  },
  {
   "cell_type": "code",
   "execution_count": 14,
   "id": "b5426584-f9c8-4500-966f-e30af29ad717",
   "metadata": {},
   "outputs": [
    {
     "data": {
      "text/plain": [
       "'1090548-blessed_of_the_traveler'"
      ]
     },
     "execution_count": 14,
     "metadata": {},
     "output_type": "execute_result"
    }
   ],
   "source": []
  },
  {
   "cell_type": "code",
   "execution_count": 9,
   "id": "68caedb2-01f3-4425-b677-a50c5591f8de",
   "metadata": {},
   "outputs": [
    {
     "data": {
      "text/plain": [
       "('/eberron/3e', 'Eberron - Eyes_of_the_Lich_Queen.pdf', 191)"
      ]
     },
     "execution_count": 9,
     "metadata": {},
     "output_type": "execute_result"
    }
   ],
   "source": [
    "folder, filename, len(parsed_content.nodes)\n"
   ]
  },
  {
   "cell_type": "code",
   "execution_count": 24,
   "id": "908a9686-ce55-4790-ae7d-a6d442c5dbf4",
   "metadata": {},
   "outputs": [
    {
     "name": "stdout",
     "output_type": "stream",
     "text": [
      "d4e4b11e-d4cb-4b2b-917f-a38453692ca0 0 0 3795\n",
      "1ea05abf-eb92-49c7-b02e-7bddd7fb853a 1 1 3852\n",
      "93778682-0880-46fe-95b1-ddb691e0296b 2 2 1555\n"
     ]
    },
    {
     "data": {
      "text/plain": [
       "['__abstractmethods__',\n",
       " '__add__',\n",
       " '__annotations__',\n",
       " '__class__',\n",
       " '__class_getitem__',\n",
       " '__class_vars__',\n",
       " '__copy__',\n",
       " '__deepcopy__',\n",
       " '__delattr__',\n",
       " '__dict__',\n",
       " '__dir__',\n",
       " '__doc__',\n",
       " '__eq__',\n",
       " '__fields__',\n",
       " '__fields_set__',\n",
       " '__format__',\n",
       " '__ge__',\n",
       " '__get_pydantic_core_schema__',\n",
       " '__get_pydantic_json_schema__',\n",
       " '__getattr__',\n",
       " '__getattribute__',\n",
       " '__getstate__',\n",
       " '__gt__',\n",
       " '__hash__',\n",
       " '__init__',\n",
       " '__init_subclass__',\n",
       " '__iter__',\n",
       " '__le__',\n",
       " '__lt__',\n",
       " '__module__',\n",
       " '__ne__',\n",
       " '__new__',\n",
       " '__pretty__',\n",
       " '__private_attributes__',\n",
       " '__pydantic_complete__',\n",
       " '__pydantic_core_schema__',\n",
       " '__pydantic_custom_init__',\n",
       " '__pydantic_decorators__',\n",
       " '__pydantic_extra__',\n",
       " '__pydantic_fields_set__',\n",
       " '__pydantic_generic_metadata__',\n",
       " '__pydantic_init_subclass__',\n",
       " '__pydantic_parent_namespace__',\n",
       " '__pydantic_post_init__',\n",
       " '__pydantic_private__',\n",
       " '__pydantic_root_model__',\n",
       " '__pydantic_serializer__',\n",
       " '__pydantic_validator__',\n",
       " '__reduce__',\n",
       " '__reduce_ex__',\n",
       " '__repr__',\n",
       " '__repr_args__',\n",
       " '__repr_name__',\n",
       " '__repr_str__',\n",
       " '__rich_repr__',\n",
       " '__setattr__',\n",
       " '__setstate__',\n",
       " '__signature__',\n",
       " '__sizeof__',\n",
       " '__slots__',\n",
       " '__str__',\n",
       " '__subclasshook__',\n",
       " '__weakref__',\n",
       " '_abc_impl',\n",
       " '_calculate_keys',\n",
       " '_check_frozen',\n",
       " '_copy_and_set_values',\n",
       " '_get_value',\n",
       " '_iter',\n",
       " '_repr_markdown_',\n",
       " 'bbox',\n",
       " 'construct',\n",
       " 'coordinate_system',\n",
       " 'copy',\n",
       " 'dict',\n",
       " 'elements',\n",
       " 'embedding',\n",
       " 'end_page',\n",
       " 'ends_with_bullet',\n",
       " 'from_orm',\n",
       " 'id_',\n",
       " 'images',\n",
       " 'is_heading',\n",
       " 'is_large',\n",
       " 'is_small',\n",
       " 'is_stub',\n",
       " 'json',\n",
       " 'model_computed_fields',\n",
       " 'model_config',\n",
       " 'model_construct',\n",
       " 'model_copy',\n",
       " 'model_dump',\n",
       " 'model_dump_json',\n",
       " 'model_extra',\n",
       " 'model_fields',\n",
       " 'model_fields_set',\n",
       " 'model_json_schema',\n",
       " 'model_parametrized_name',\n",
       " 'model_post_init',\n",
       " 'model_rebuild',\n",
       " 'model_validate',\n",
       " 'model_validate_json',\n",
       " 'model_validate_strings',\n",
       " 'node_id',\n",
       " 'num_pages',\n",
       " 'overlaps',\n",
       " 'parse_file',\n",
       " 'parse_obj',\n",
       " 'parse_raw',\n",
       " 'reading_order',\n",
       " 'schema',\n",
       " 'schema_json',\n",
       " 'start_page',\n",
       " 'starts_with_bullet',\n",
       " 'starts_with_heading',\n",
       " 'text',\n",
       " 'to_llama_index',\n",
       " 'tokenization_lower_limit',\n",
       " 'tokenization_upper_limit',\n",
       " 'tokens',\n",
       " 'update_forward_refs',\n",
       " 'validate',\n",
       " 'variant']"
      ]
     },
     "execution_count": 24,
     "metadata": {},
     "output_type": "execute_result"
    }
   ],
   "source": [
    "for node in parsed_content.nodes:\n",
    "    print(node.node_id, node.start_page, node.end_page, len(node.text))\n",
    "dir(node)"
   ]
  },
  {
   "cell_type": "code",
   "execution_count": 25,
   "id": "6a97c92f-8756-4438-858c-71cfccffb8a5",
   "metadata": {},
   "outputs": [
    {
     "data": {
      "text/plain": [
       "'Blades of the Quori <br><br>The most common martial path among the quori is that of the jilashtora, in which the discipline of monk and \\nsoulknife are woven together. At the discretion of the DM, the following feat can be used to represent this \\ntradition. <br><br>**Flowing Blade [General]**<br><br>Your mind blade is an extension of your body and soul, and you wield it with the same grace as your foot or fist. <br><br>**Prerequisite:**Ability to generate a mind blade, Weapon Focus (mind blade), flurry of blows class feature. <br><br>**Benefit:**You can treat your mind blade as a special monk weapon so that you can perform a flurry of blows with \\nit. <br><br>**Special:**A kalashtar or Inspired monk can select this as a bonus feat at 2nd or 6th level, in addition to the \\nnormal options available at those levels. They must still meet all prerequisites for the feat. <br><br><br><br>**About the Author**<br><br>Keith Baker has been an avid fan of**Dungeons & Dragons**since grade school. His life took a dramatic turn in \\n2002 when he submitted the world of**Eberron**to the Wizards of the Coast Fantasy Setting Search. In addition \\nto developing the**Eberron**Campaign Setting and Shadows of the Last War, he has worked for Atlas Games, \\nGoodman Games, and Green Ronin. <br><br>©1995-2004 Wizards of the Coast, Inc., a subsidiary of Hasbro, Inc. All Rights Reserved. Wizards is \\nheadquartered in Renton, Washington, PO Box 707, Renton, WA 98057. <br><br>http://www.wizards.com/default.asp?x=dnd/ebds/20050110a&pf=true (3 de 3)10/01/2005 14:45:02 '"
      ]
     },
     "execution_count": 25,
     "metadata": {},
     "output_type": "execute_result"
    }
   ],
   "source": [
    "node.text"
   ]
  },
  {
   "cell_type": "code",
   "execution_count": null,
   "id": "747989c5-5ff5-4b03-87ac-776bd4f00856",
   "metadata": {},
   "outputs": [],
   "source": []
  }
 ],
 "metadata": {
  "kernelspec": {
   "display_name": "Python 3 (ipykernel)",
   "language": "python",
   "name": "python3"
  },
  "language_info": {
   "codemirror_mode": {
    "name": "ipython",
    "version": 3
   },
   "file_extension": ".py",
   "mimetype": "text/x-python",
   "name": "python",
   "nbconvert_exporter": "python",
   "pygments_lexer": "ipython3",
   "version": "3.10.12"
  }
 },
 "nbformat": 4,
 "nbformat_minor": 5
}
