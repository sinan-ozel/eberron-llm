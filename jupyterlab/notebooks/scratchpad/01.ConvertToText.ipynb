{
 "cells": [
  {
   "cell_type": "code",
   "execution_count": 5,
   "id": "55af9d96-4e3f-4715-af3f-bc76ee466f78",
   "metadata": {},
   "outputs": [],
   "source": [
    "import os\n",
    "import json\n",
    "import random\n",
    "from pypdf import PdfReader\n",
    "from pypdf.errors import PdfStreamError\n",
    "from tqdm.notebook import tqdm"
   ]
  },
  {
   "cell_type": "code",
   "execution_count": null,
   "id": "9d020d17-f21b-4584-be9d-01fdf84e4e78",
   "metadata": {},
   "outputs": [],
   "source": [
    "folders = ['/eberron/3e', '/eberron/5e']\n",
    "corpus_folder = '/corpus/texts_v1'"
   ]
  },
  {
   "cell_type": "code",
   "execution_count": 12,
   "id": "72a6b326-840f-4cf5-bc11-af236c837040",
   "metadata": {},
   "outputs": [
    {
     "data": {
      "application/vnd.jupyter.widget-view+json": {
       "model_id": "3841b66e4a1a40d580646159c4659e69",
       "version_major": 2,
       "version_minor": 0
      },
      "text/plain": [
       "  0%|          | 0/2 [00:00<?, ?it/s]"
      ]
     },
     "metadata": {},
     "output_type": "display_data"
    },
    {
     "data": {
      "application/vnd.jupyter.widget-view+json": {
       "model_id": "3fb11b7bbb4740e1926ef1b22e3f9910",
       "version_major": 2,
       "version_minor": 0
      },
      "text/plain": [
       "  0%|          | 0/39 [00:00<?, ?it/s]"
      ]
     },
     "metadata": {},
     "output_type": "display_data"
    },
    {
     "data": {
      "application/vnd.jupyter.widget-view+json": {
       "model_id": "9f52bc50607946e8ba9a333deba29bc4",
       "version_major": 2,
       "version_minor": 0
      },
      "text/plain": [
       "  0%|          | 0/119 [00:00<?, ?it/s]"
      ]
     },
     "metadata": {},
     "output_type": "display_data"
    },
    {
     "name": "stderr",
     "output_type": "stream",
     "text": [
      "Ignoring wrong pointing object 25 0 (offset 0)\n",
      "Ignoring wrong pointing object 27 0 (offset 0)\n",
      "Ignoring wrong pointing object 71 0 (offset 0)\n",
      "Ignoring wrong pointing object 73 0 (offset 0)\n",
      "Ignoring wrong pointing object 75 0 (offset 0)\n",
      "Ignoring wrong pointing object 78 0 (offset 0)\n",
      "Ignoring wrong pointing object 80 0 (offset 0)\n",
      "Ignoring wrong pointing object 94 0 (offset 0)\n",
      "Ignoring wrong pointing object 96 0 (offset 0)\n",
      "Ignoring wrong pointing object 98 0 (offset 0)\n",
      "Ignoring wrong pointing object 100 0 (offset 0)\n",
      "Ignoring wrong pointing object 110 0 (offset 0)\n",
      "Ignoring wrong pointing object 129 0 (offset 0)\n",
      "Ignoring wrong pointing object 19 0 (offset 0)\n",
      "Ignoring wrong pointing object 22 0 (offset 0)\n",
      "Ignoring wrong pointing object 24 0 (offset 0)\n",
      "Ignoring wrong pointing object 26 0 (offset 0)\n",
      "Ignoring wrong pointing object 52 0 (offset 0)\n",
      "Ignoring wrong pointing object 54 0 (offset 0)\n",
      "Ignoring wrong pointing object 149 0 (offset 0)\n",
      "Ignoring wrong pointing object 23 0 (offset 0)\n",
      "Ignoring wrong pointing object 68 0 (offset 0)\n",
      "EOF marker not found\n"
     ]
    }
   ],
   "source": [
    "metadata = {}\n",
    "for folder in tqdm(folders):\n",
    "    for filename in tqdm(os.listdir(folder)):\n",
    "        if filename[-4:].lower() != '.pdf':\n",
    "            continue\n",
    "        try:\n",
    "            reader = PdfReader(f'{folder}/{filename}')\n",
    "        except PdfStreamError:\n",
    "            continue\n",
    "        if reader.outline:\n",
    "            metadata[filename] = reader.metadata"
   ]
  },
  {
   "cell_type": "code",
   "execution_count": 13,
   "id": "07f474ec-269a-486f-badc-c55edf1b4732",
   "metadata": {},
   "outputs": [],
   "source": [
    "def get_obj(outline, depth=1, obj='/Title'):\n",
    "    object_list = []\n",
    "    if isinstance(outline, list):\n",
    "        for part in outline:\n",
    "            object_list += get_obj(part, depth + 1, obj)\n",
    "    else:\n",
    "        if obj in outline and outline[obj] is not None:\n",
    "            object_list.append(outline[obj])\n",
    "        else:\n",
    "            object_list.append('')\n",
    "    return object_list\n",
    "\n"
   ]
  },
  {
   "cell_type": "code",
   "execution_count": 14,
   "id": "f457ec9f-84b6-4cb3-ba3e-2749f6825dc4",
   "metadata": {},
   "outputs": [],
   "source": [
    "def get_title(outline, depth=1):\n",
    "    titles = []\n",
    "    if isinstance(outline, list):\n",
    "        for part in outline:\n",
    "            titles += get_title(part, depth + 1)\n",
    "    else:\n",
    "        titles.append('#' * depth + ' ' + outline['/Title'])\n",
    "    return titles\n",
    "\n"
   ]
  },
  {
   "cell_type": "code",
   "execution_count": 11,
   "id": "36f58120-bf4c-4493-8ebc-7811301548b5",
   "metadata": {},
   "outputs": [
    {
     "data": {
      "application/vnd.jupyter.widget-view+json": {
       "model_id": "6d11413bbeb54ab388c6b0001abc2468",
       "version_major": 2,
       "version_minor": 0
      },
      "text/plain": [
       "  0%|          | 0/2 [00:00<?, ?it/s]"
      ]
     },
     "metadata": {},
     "output_type": "display_data"
    },
    {
     "data": {
      "application/vnd.jupyter.widget-view+json": {
       "model_id": "366ee28f2d4b48d099fead5af737e8ec",
       "version_major": 2,
       "version_minor": 0
      },
      "text/plain": [
       "  0%|          | 0/39 [00:00<?, ?it/s]"
      ]
     },
     "metadata": {},
     "output_type": "display_data"
    },
    {
     "name": "stderr",
     "output_type": "stream",
     "text": [
      "Object 393 0 not defined.\n"
     ]
    },
    {
     "data": {
      "application/vnd.jupyter.widget-view+json": {
       "model_id": "e241fa13bf5a49c2854ff313b6dfab98",
       "version_major": 2,
       "version_minor": 0
      },
      "text/plain": [
       "  0%|          | 0/119 [00:00<?, ?it/s]"
      ]
     },
     "metadata": {},
     "output_type": "display_data"
    },
    {
     "name": "stderr",
     "output_type": "stream",
     "text": [
      "Ignoring wrong pointing object 25 0 (offset 0)\n",
      "Ignoring wrong pointing object 27 0 (offset 0)\n",
      "Ignoring wrong pointing object 71 0 (offset 0)\n",
      "Ignoring wrong pointing object 73 0 (offset 0)\n",
      "Ignoring wrong pointing object 75 0 (offset 0)\n",
      "Ignoring wrong pointing object 78 0 (offset 0)\n",
      "Ignoring wrong pointing object 80 0 (offset 0)\n",
      "Ignoring wrong pointing object 94 0 (offset 0)\n",
      "Ignoring wrong pointing object 96 0 (offset 0)\n",
      "Ignoring wrong pointing object 98 0 (offset 0)\n",
      "Ignoring wrong pointing object 100 0 (offset 0)\n",
      "Ignoring wrong pointing object 110 0 (offset 0)\n",
      "Ignoring wrong pointing object 129 0 (offset 0)\n",
      "Ignoring wrong pointing object 19 0 (offset 0)\n",
      "Ignoring wrong pointing object 22 0 (offset 0)\n",
      "Ignoring wrong pointing object 24 0 (offset 0)\n",
      "Ignoring wrong pointing object 26 0 (offset 0)\n",
      "Ignoring wrong pointing object 52 0 (offset 0)\n",
      "Ignoring wrong pointing object 54 0 (offset 0)\n",
      "Ignoring wrong pointing object 149 0 (offset 0)\n",
      "Ignoring wrong pointing object 23 0 (offset 0)\n",
      "Ignoring wrong pointing object 68 0 (offset 0)\n",
      "EOF marker not found\n"
     ]
    }
   ],
   "source": [
    "chunk_size = 3  # pdf pages\n",
    "parts_of_books = {}\n",
    "page_objects = {}\n",
    "for folder in tqdm(folders):\n",
    "    for filename in tqdm(os.listdir(folder)):\n",
    "        if filename[-4:].lower() != '.pdf':\n",
    "            continue\n",
    "        try:\n",
    "            reader = PdfReader(f'{folder}/{filename}')\n",
    "        except PdfStreamError:\n",
    "            continue\n",
    "        # labels = reader.get_page_labels()\n",
    "        num_pages = reader.get_num_pages()\n",
    "        for i in range(num_pages):\n",
    "            first = i\n",
    "            last = i + chunk_size - 1\n",
    "            text_filename = f'{filename[:-4]}-{first:03}-{last:03}.txt'\n",
    "            pages = reader.pages[first:last]\n",
    "            text = \"\"\n",
    "            for page in pages:\n",
    "                text += page.extract_text()\n",
    "            if text:\n",
    "                with open(f'{corpus_folder}/{text_filename}', 'w') as f:\n",
    "                    f.write(text)\n"
   ]
  },
  {
   "cell_type": "code",
   "execution_count": 7,
   "id": "ff6a3cf2-da55-4003-88ae-a085d6665e28",
   "metadata": {},
   "outputs": [
    {
     "data": {
      "application/vnd.jupyter.widget-view+json": {
       "model_id": "bdddd2da099b43ef9ec8b99639a5e772",
       "version_major": 2,
       "version_minor": 0
      },
      "text/plain": [
       "  0%|          | 0/2 [00:00<?, ?it/s]"
      ]
     },
     "metadata": {},
     "output_type": "display_data"
    },
    {
     "data": {
      "application/vnd.jupyter.widget-view+json": {
       "model_id": "70a24671a38e4712bcb5cf0cce51b96b",
       "version_major": 2,
       "version_minor": 0
      },
      "text/plain": [
       "  0%|          | 0/37 [00:00<?, ?it/s]"
      ]
     },
     "metadata": {},
     "output_type": "display_data"
    },
    {
     "data": {
      "application/vnd.jupyter.widget-view+json": {
       "model_id": "567fb4889d1b4c279ba5fb3c97e8c1d1",
       "version_major": 2,
       "version_minor": 0
      },
      "text/plain": [
       "0it [00:00, ?it/s]"
      ]
     },
     "metadata": {},
     "output_type": "display_data"
    }
   ],
   "source": [
    "parts_of_books = {}\n",
    "page_objects = {}\n",
    "for folder in tqdm(folders):\n",
    "    for filename in tqdm(os.listdir(folder)):\n",
    "        if filename[-4:].lower() != '.pdf':\n",
    "            continue\n",
    "        parts_of_books[filename] = []\n",
    "        page_objects[filename] = []\n",
    "        reader = PdfReader(f'{folder}/{filename}')\n",
    "        if reader.outline:\n",
    "            for part in reader.outline:\n",
    "                parts_of_books[filename] += get_title(part, 1)\n",
    "                page_objects[filename] += get_obj(part, 1, '/Page')\n"
   ]
  },
  {
   "cell_type": "code",
   "execution_count": 6,
   "id": "bb5eae18-3cb4-4f9c-964e-cee64834205a",
   "metadata": {},
   "outputs": [
    {
     "data": {
      "text/plain": [
       "['Across Eberron.pdf',\n",
       " 'Blades Of The Quori.pdf',\n",
       " 'D&D 3E Races of Eberron.pdf',\n",
       " 'Dragonmarked.pdf',\n",
       " 'Dragonmarks, Dragonshards & Dynasties of Power.pdf',\n",
       " 'Dragons of eberron.pdf',\n",
       " 'Eberron - Eyes_of_the_Lich_Queen.pdf',\n",
       " 'Eberron Campaign Setting.pdf',\n",
       " 'Eberron Character Sheet.pdf',\n",
       " 'Eberron-CityofStormreach.pdf',\n",
       " 'Encounter the Warforged.pdf',\n",
       " 'Errata',\n",
       " \"Explorer's Handbook.pdf\",\n",
       " 'Faiths of Eberron.pdf',\n",
       " 'Fallen Angel.pdf',\n",
       " 'Five Nations.pdf',\n",
       " 'Grasp of The Emerald Claw.pdf',\n",
       " 'Keith Baker - The City of Towers (Eberron_ The Dreaming Dark, Book 1)-Wizards of the Coast (2005).pdf',\n",
       " 'Keith Baker - The Gates of Night (The Dreaming Dark, Book 3)-Wizards of the Coast (2006).pdf',\n",
       " 'Keith Baker - The Shattered Land (Eberron_ The Dreaming Dark)-Wizards of the Coast (2005).pdf',\n",
       " 'Keith Baker, Scott Fitzgerald Gray, Glenn McDonald, Chris Sims - Secrets of Sarlona (Dungeons & Dragons d20 3.5 Fantasy Roleplaying, Eberron Supplement)-Wizards of the Coast (2007).pdf',\n",
       " 'Keith Baker, Scott Fitzgerald Gray, Nicolas Logue, Amber Scott - Dragons of Eberron (Dungeon & Dragons d20 3.5 Fantasy Roleplaying, Eberron Setting).pdf',\n",
       " 'Living Nightmares, Dream Creatures Of Dal Quor.pdf',\n",
       " 'Lord Of Blades.pdf',\n",
       " 'Magic of Eberron.pdf',\n",
       " 'Map of Khorvaire.pdf',\n",
       " \"Player's Guide to Eberron.pdf\",\n",
       " \"Secrets of Xen'drik.pdf\",\n",
       " 'Shadows of The Last War.pdf',\n",
       " 'Sharn - City of Towers.pdf',\n",
       " 'Sharn City of Towers.pdf',\n",
       " 'Steel Shadows.pdf',\n",
       " 'The Forgotten Forge.pdf',\n",
       " 'The Queen With Burning Eyes.pdf',\n",
       " 'The Race of Eight Winds.pdf',\n",
       " 'Voyage of the Golden Dragon.pdf',\n",
       " \"Whispers of The Vampire's Blade.pdf\"]"
      ]
     },
     "execution_count": 6,
     "metadata": {},
     "output_type": "execute_result"
    }
   ],
   "source": [
    "os.listdir('/eberron/3e')"
   ]
  },
  {
   "cell_type": "code",
   "execution_count": 33,
   "id": "71ca539d-6ca6-4923-820a-325e4cc173b8",
   "metadata": {},
   "outputs": [
    {
     "data": {
      "text/plain": [
       "[{'filename': 'Blades Of The Quori.pdf',\n",
       "  'edition': '3e',\n",
       "  'pdf/title': 'Blades of the Quori',\n",
       "  'pdf/author': ''},\n",
       " {'filename': 'D&D 3E Eberron Campaign Setting.pdf',\n",
       "  'edition': '3e',\n",
       "  'pdf/title': 'Acr179.tmp',\n",
       "  'pdf/author': ''},\n",
       " {'filename': 'Dragons of eberron.pdf',\n",
       "  'edition': '3e',\n",
       "  'pdf/title': '',\n",
       "  'pdf/author': ''},\n",
       " {'filename': 'Eberron - Eyes_of_the_Lich_Queen.pdf',\n",
       "  'edition': '3e',\n",
       "  'pdf/title': '',\n",
       "  'pdf/author': ''},\n",
       " {'filename': 'Eberron-CityofStormreach.pdf',\n",
       "  'edition': '3e',\n",
       "  'pdf/title': 'City of Stormreach',\n",
       "  'pdf/author': ''},\n",
       " {'filename': 'Keith Baker, Scott Fitzgerald Gray, Glenn McDonald, Chris Sims - Secrets of Sarlona (Dungeons & Dragons d20 3.5 Fantasy Roleplaying, Eberron Supplement)-Wizards of the Coast (2007).pdf',\n",
       "  'edition': '3e',\n",
       "  'pdf/title': '',\n",
       "  'pdf/author': ''},\n",
       " {'filename': 'Keith Baker, Scott Fitzgerald Gray, Nicolas Logue, Amber Scott - Dragons of Eberron (Dungeon & Dragons d20 3.5 Fantasy Roleplaying, Eberron Setting).pdf',\n",
       "  'edition': '3e',\n",
       "  'pdf/title': '',\n",
       "  'pdf/author': ''},\n",
       " {'filename': 'Magic of Eberron.pdf',\n",
       "  'edition': '3e',\n",
       "  'pdf/title': 'Magic Of Eberron',\n",
       "  'pdf/author': ''},\n",
       " {'filename': \"Player's Guide to Eberron.pdf\",\n",
       "  'edition': '3e',\n",
       "  'pdf/title': \"Player's Guide to Eberron\",\n",
       "  'pdf/author': 'James Wyatt'},\n",
       " {'filename': \"Secrets of Xen'drik.pdf\",\n",
       "  'edition': '3e',\n",
       "  'pdf/title': '',\n",
       "  'pdf/author': ''},\n",
       " {'filename': 'Sharn City of Towers.pdf',\n",
       "  'edition': '3e',\n",
       "  'pdf/title': '620_86420_SharnCh1.indd',\n",
       "  'pdf/author': ''},\n",
       " {'filename': 'The Forgotten Forge.pdf',\n",
       "  'edition': '3e',\n",
       "  'pdf/title': 'Ghostscript wrapper for \\\\\\\\Thuis\\\\data\\\\Mijn documenten\\\\Walter\\\\RPG\\\\Core books\\\\Eberron\\\\Eberron Campaign Setting.pdf',\n",
       "  'pdf/author': ''},\n",
       " {'filename': 'The Race of Eight Winds.pdf',\n",
       "  'edition': '3e',\n",
       "  'pdf/title': 'The Race of Eight Winds',\n",
       "  'pdf/author': ''},\n",
       " {'filename': 'Voyage of the Golden Dragon.pdf',\n",
       "  'edition': '3e',\n",
       "  'pdf/title': 'D&D - Eberron - Voyage of the Dragon Below',\n",
       "  'pdf/author': ''},\n",
       " {'filename': '1090548-Blessed_of_The_Traveler.pdf',\n",
       "  'edition': '5e',\n",
       "  'pdf/title': 'Blessed of The Traveler: Queer Gender Identity in Eberron',\n",
       "  'pdf/author': 'Lex Permann'},\n",
       " {'filename': '1598836-Languages_of_Eberron_2E.pdf',\n",
       "  'edition': '5e',\n",
       "  'pdf/title': 'Languages of Eberron 2E mk iii',\n",
       "  'pdf/author': ''},\n",
       " {'filename': '1920353-Eberronicon_1.2.pdf',\n",
       "  'edition': '5e',\n",
       "  'pdf/title': 'Eberronicon: A Pocket Guide to the World',\n",
       "  'pdf/author': 'Across Eberron'},\n",
       " {'filename': '2234776-EberAcaAddendum.pdf',\n",
       "  'edition': '5e',\n",
       "  'pdf/title': 'Academies of Eberron',\n",
       "  'pdf/author': 'Ners'},\n",
       " {'filename': '2255601-Eberron_Confidential.pdf',\n",
       "  'edition': '5e',\n",
       "  'pdf/title': 'Eberron Confidential',\n",
       "  'pdf/author': 'Keith Baker'},\n",
       " {'filename': '2255601-Exploring_Eberron_1.05.pdf',\n",
       "  'edition': '5e',\n",
       "  'pdf/title': 'Exploring Eberron',\n",
       "  'pdf/author': 'Keith Baker'},\n",
       " {'filename': '2255601-Frontiers_of_Eberron_Quickstone_v1.0.3.pdf',\n",
       "  'edition': '5e',\n",
       "  'pdf/title': '',\n",
       "  'pdf/author': ''},\n",
       " {'filename': '309241-Enta-Spinwhistle_Guide-to-Sharn_vol1_3e.pdf',\n",
       "  'edition': '5e',\n",
       "  'pdf/title': \"Enta Spinwhistle's Guide to Sharn\",\n",
       "  'pdf/author': 'Pietro Calogero'},\n",
       " {'filename': '328949-Artificer_Book_1.0.pdf',\n",
       "  'edition': '5e',\n",
       "  'pdf/title': \"Adam d'Cannith's Guide to Artificers v1.0\",\n",
       "  'pdf/author': 'Bradford Yurkiw'},\n",
       " {'filename': '433010-Eberron_RE_-_SharnFiveNations-PrinterFriendly1.pdf',\n",
       "  'edition': '5e',\n",
       "  'pdf/title': '',\n",
       "  'pdf/author': 'Shauna Wolf Narciso'},\n",
       " {'filename': '459381-Lawyers_and_Laws_of_Eberron_(16_August_2022).pdf',\n",
       "  'edition': '5e',\n",
       "  'pdf/title': '',\n",
       "  'pdf/author': 'Microsoft Office User'},\n",
       " {'filename': '60907-Wizards_of_Eberron.pdf',\n",
       "  'edition': '5e',\n",
       "  'pdf/title': '',\n",
       "  'pdf/author': ''},\n",
       " {'filename': '831833-Morgrave_Miscellany_2020_Full-Res.pdf',\n",
       "  'edition': '5e',\n",
       "  'pdf/title': '',\n",
       "  'pdf/author': ''},\n",
       " {'filename': '84847-Creatures_of_Eberron_21.pdf',\n",
       "  'edition': '5e',\n",
       "  'pdf/title': '',\n",
       "  'pdf/author': ''},\n",
       " {'filename': '848965-The_Bookhounds_of_Eberron.pdf',\n",
       "  'edition': '5e',\n",
       "  'pdf/title': '',\n",
       "  'pdf/author': ''},\n",
       " {'filename': '881665-eberron_cannith_cat2.pdf',\n",
       "  'edition': '5e',\n",
       "  'pdf/title': '',\n",
       "  'pdf/author': ''},\n",
       " {'filename': '898079-Exotic-Materials.pdf',\n",
       "  'edition': '5e',\n",
       "  'pdf/title': '',\n",
       "  'pdf/author': ''},\n",
       " {'filename': 'Chronicles of Eberron -- Keith Baker -- 2022 -- Dungeon Master Guild -- 890952c9aeb1fe706f36feccf93a1dbe -- Anna’s Archive.pdf',\n",
       "  'edition': '5e',\n",
       "  'pdf/title': 'Chronicles of Eberron',\n",
       "  'pdf/author': 'Keith Baker'},\n",
       " {'filename': 'Eberron_ Rising From the Last War - Jeremy Crawford & James Wyatt & Keith Baker.pdf',\n",
       "  'edition': '5e',\n",
       "  'pdf/title': 'Eberron: Rising From the Last War',\n",
       "  'pdf/author': 'Jeremy Crawford & James Wyatt & Keith Baker'},\n",
       " {'filename': 'Khyber_s_Cursed_Case_Studies_of_Eberron_s_Aberrant_Dragonmarks.pdf',\n",
       "  'edition': '5e',\n",
       "  'pdf/title': 'Khybers Cursed v1.2',\n",
       "  'pdf/author': ''},\n",
       " {'filename': \"Wayfinder's Guide to Eberron - Keith Baker.pdf\",\n",
       "  'edition': '5e',\n",
       "  'pdf/title': '',\n",
       "  'pdf/author': ''}]"
      ]
     },
     "execution_count": 33,
     "metadata": {},
     "output_type": "execute_result"
    }
   ],
   "source": [
    "file_names_in_3e = os.listdir('/eberron/3e')\n",
    "file_names_in_5e = os.listdir('/eberron/5e')\n",
    "full_metadata = []\n",
    "for file_name in metadata:\n",
    "    if file_name in file_names_in_3e:\n",
    "        edition = '3e'\n",
    "    elif file_name in file_names_in_5e:\n",
    "        edition = '5e'\n",
    "    else:\n",
    "        raise RuntimeError\n",
    "    # print(type(metadata[file_name].get('/Title', '')))\n",
    "    full_metadata.append(\n",
    "        {\n",
    "            'filename': file_name,\n",
    "            'edition': edition,\n",
    "            'pdf/title': str(metadata[file_name].get('/Title', '')),\n",
    "            'pdf/author': metadata[file_name].get('/Author', ''),\n",
    "        }\n",
    "    )\n",
    "full_metadata"
   ]
  },
  {
   "cell_type": "code",
   "execution_count": 37,
   "id": "6ff1de10-75e8-47f3-b807-cfa7c30b2688",
   "metadata": {},
   "outputs": [],
   "source": [
    "with open(os.path.join('/corpus/metadata.json'), 'w') as metadata_file:\n",
    "    json.dump(full_metadata, metadata_file)"
   ]
  },
  {
   "cell_type": "code",
   "execution_count": 38,
   "id": "d49f5208-e558-43bc-917b-a28a98c1a2b3",
   "metadata": {},
   "outputs": [
    {
     "data": {
      "text/plain": [
       "{'Blades Of The Quori.pdf': {'/ModDate': \"D:20050110134502+01'00'\",\n",
       "  '/CreationDate': 'D:20050110134458Z',\n",
       "  '/Title': 'Blades of the Quori',\n",
       "  '/Producer': 'Acrobat Web Capture 6.0'},\n",
       " 'D&D 3E Eberron Campaign Setting.pdf': {'/ModDate': \"D:20040729210624-04'00'\",\n",
       "  '/CreationDate': \"D:20040729132722-04'00'\",\n",
       "  '/Title': 'Acr179.tmp',\n",
       "  '/Creator': 'Adobe Acrobat 6.0',\n",
       "  '/Producer': 'Acrobat Distiller 6.0.1 (Windows)'},\n",
       " 'Dragons of eberron.pdf': {'/CreationDate': \"D:20071229214352-06'00'\",\n",
       "  '/ModDate': \"D:20240604203339-04'00'\"},\n",
       " 'Eberron - Eyes_of_the_Lich_Queen.pdf': {'/CreationDate': \"D:20080209075428+01'00'\",\n",
       "  '/ModDate': \"D:20080209151404-05'00'\"},\n",
       " 'Eberron-CityofStormreach.pdf': {'/CreationDate': \"D:20080820143821-05'00'\",\n",
       "  '/Creator': 'Adobe InDesign CS2 (4.0.5)',\n",
       "  '/Producer': 'PDF PT 3.10 (pdf-tools.com)',\n",
       "  '/Title': 'City of Stormreach',\n",
       "  '/ModDate': \"D:20240522204102-04'00'\"},\n",
       " 'Keith Baker, Scott Fitzgerald Gray, Glenn McDonald, Chris Sims - Secrets of Sarlona (Dungeons & Dragons d20 3.5 Fantasy Roleplaying, Eberron Supplement)-Wizards of the Coast (2007).pdf': {'/CreationDate': 'D:20070603130541Z',\n",
       "  '/Producer': 'ABBYY FineReader 8.0 Professional Edition',\n",
       "  '/ModDate': \"D:20240523122935-04'00'\"},\n",
       " 'Keith Baker, Scott Fitzgerald Gray, Nicolas Logue, Amber Scott - Dragons of Eberron (Dungeon & Dragons d20 3.5 Fantasy Roleplaying, Eberron Setting).pdf': {'/CreationDate': \"D:20080210150543+01'00'\",\n",
       "  '/ModDate': \"D:20240729080625-04'00'\"},\n",
       " 'Magic of Eberron.pdf': {'/CreationDate': \"D:20050808130223-07'00'\",\n",
       "  '/Creator': 'Adobe InDesign CS (3.0.1)',\n",
       "  '/Producer': 'Gnostice PDFtoolkit V2.02',\n",
       "  '/Title': 'Magic Of Eberron',\n",
       "  '/ModDate': \"D:20240514214842-04'00'\"},\n",
       " \"Player's Guide to Eberron.pdf\": {'/CreationDate': \"D:20060121122327-05'00'\",\n",
       "  '/Subject': 'Eberron',\n",
       "  '/Author': 'James Wyatt',\n",
       "  '/Creator': 'Adobe Acrobat 7.05',\n",
       "  '/Keywords': '',\n",
       "  '/Producer': 'Adobe Acrobat 7.05 Paper Capture Plug-in',\n",
       "  '/Title': \"Player's Guide to Eberron\",\n",
       "  '/ModDate': \"D:20240908202316-04'00'\"},\n",
       " \"Secrets of Xen'drik.pdf\": {'/CreationDate': \"D:20061117223354+02'00'\",\n",
       "  '/Creator': 'Adobe Acrobat 7.08',\n",
       "  '/Producer': 'Adobe Acrobat 7.08 Image Conversion Plug-in',\n",
       "  '/ModDate': \"D:20061209010130-06'00'\"},\n",
       " 'Sharn City of Towers.pdf': {'/CreationDate': 'D:20040730103845Z',\n",
       "  '/Creator': 'Adobe InDesign CS (3.0)',\n",
       "  '/Producer': 'Gnostice PDFtoolkit V2.02',\n",
       "  '/Title': '620_86420_SharnCh1.indd',\n",
       "  '/Trapped': '/False',\n",
       "  '/ModDate': \"D:20241020220054-04'00'\"},\n",
       " 'The Forgotten Forge.pdf': {'/CreationDate': 'D:20040818225429Z',\n",
       "  '/Creator': 'GSview',\n",
       "  '/Producer': 'AFPL Ghostscript 8.14',\n",
       "  '/ModDate': \"D:20061209010901-06'00'\",\n",
       "  '/Title': 'Ghostscript wrapper for \\\\\\\\Thuis\\\\data\\\\Mijn documenten\\\\Walter\\\\RPG\\\\Core books\\\\Eberron\\\\Eberron Campaign Setting.pdf'},\n",
       " 'The Race of Eight Winds.pdf': {'/CreationDate': \"D:20050418154751-05'00'\",\n",
       "  '/Producer': 'Acrobat Web Capture 7.0',\n",
       "  '/ModDate': \"D:20050418154753-05'00'\",\n",
       "  '/Title': 'The Race of Eight Winds'},\n",
       " 'Voyage of the Golden Dragon.pdf': {'/CreationDate': \"D:20060505165435+02'00'\",\n",
       "  '/Creator': 'Adobe Acrobat 7.0',\n",
       "  '/Producer': 'Adobe Acrobat 7.0 Image Conversion Plug-in',\n",
       "  '/ModDate': \"D:20061209011341-06'00'\",\n",
       "  '/Title': 'D&D - Eberron - Voyage of the Dragon Below'},\n",
       " '1090548-Blessed_of_The_Traveler.pdf': {'/Author': 'Lex Permann',\n",
       "  '/CreationDate': \"D:20181001220825-07'00'\",\n",
       "  '/Creator': 'LaTeX with hyperref package',\n",
       "  '/Keywords': '',\n",
       "  '/ModDate': \"D:20181001220825-07'00'\",\n",
       "  '/PTEX.Fullbanner': 'This is pdfTeX, Version 3.14159265-2.6-1.40.19 (TeX Live 2018) kpathsea version 6.3.0',\n",
       "  '/Producer': 'pdfTeX-1.40.19',\n",
       "  '/Subject': '',\n",
       "  '/Title': 'Blessed of The Traveler: Queer Gender Identity in Eberron',\n",
       "  '/Trapped': '/False'},\n",
       " '1598836-Languages_of_Eberron_2E.pdf': {'/CreationDate': \"D:20210706083132-07'00'\",\n",
       "  '/Creator': 'Serif Affinity Publisher 1.9.2',\n",
       "  '/Producer': 'PDFlib+PDI 9.2.0p5-i (Win32)',\n",
       "  '/Title': 'Languages of Eberron 2E mk iii',\n",
       "  '/trapped': 'false',\n",
       "  '/ModDate': \"D:20240520223320-04'00'\"},\n",
       " '1920353-Eberronicon_1.2.pdf': {'/Author': 'Across Eberron',\n",
       "  '/CreationDate': \"D:20200218132343-06'00'\",\n",
       "  '/Creator': 'Serif Affinity Publisher 1.7.3',\n",
       "  '/ModDate': \"D:20200218132948-06'00'\",\n",
       "  '/Producer': 'PDFlib+PDI 9.1.2p1-i (Win32)',\n",
       "  '/Title': 'Eberronicon: A Pocket Guide to the World',\n",
       "  '/trapped': 'false'},\n",
       " '2234776-EberAcaAddendum.pdf': {'/trapped': 'false',\n",
       "  '/Author': 'Ners',\n",
       "  '/Creator': 'Serif Affinity Publisher 1.10.4',\n",
       "  '/Title': 'Academies of Eberron',\n",
       "  '/CreationDate': \"D:20220115105057-06'00'\",\n",
       "  '/ModDate': \"D:20220115105057-06'00'\",\n",
       "  '/Producer': 'PDFlib+PDI 9.3.1-i (Win32)'},\n",
       " '2255601-Eberron_Confidential.pdf': {'/Author': 'Keith Baker',\n",
       "  '/CreationDate': \"D:20201109180152-06'00'\",\n",
       "  '/Creator': 'Adobe InDesign 15.1 (Windows)',\n",
       "  '/ModDate': \"D:20201109180709-06'00'\",\n",
       "  '/Producer': 'Adobe PDF Library 15.0',\n",
       "  '/Title': 'Eberron Confidential',\n",
       "  '/Trapped': '/False'},\n",
       " '2255601-Exploring_Eberron_1.05.pdf': {'/Author': 'Keith Baker',\n",
       "  '/CreationDate': \"D:20230103113059-06'00'\",\n",
       "  '/Creator': 'Adobe InDesign 18.0 (Windows)',\n",
       "  '/Producer': 'Adobe PDF Library 17.0',\n",
       "  '/Title': 'Exploring Eberron',\n",
       "  '/Trapped': '/False',\n",
       "  '/ModDate': \"D:20241216210843-05'00'\"},\n",
       " '2255601-Frontiers_of_Eberron_Quickstone_v1.0.3.pdf': {'/CreationDate': \"D:20240916155008-04'00'\",\n",
       "  '/Creator': 'Adobe InDesign 19.5 (Windows)',\n",
       "  '/Producer': 'Adobe PDF Library 17.0',\n",
       "  '/Trapped': '/False',\n",
       "  '/ModDate': \"D:20241224034258-05'00'\"},\n",
       " '309241-Enta-Spinwhistle_Guide-to-Sharn_vol1_3e.pdf': {'/Title': \"Enta Spinwhistle's Guide to Sharn\",\n",
       "  '/Author': 'Pietro Calogero',\n",
       "  '/Creator': 'Writer',\n",
       "  '/Producer': 'LibreOffice 7.2',\n",
       "  '/CreationDate': \"D:20211221063244-07'00'\",\n",
       "  '/ModDate': \"D:20240220134003-05'00'\"},\n",
       " '328949-Artificer_Book_1.0.pdf': {'/Author': 'Bradford Yurkiw',\n",
       "  '/CreationDate': \"D:20200321235233-07'00'\",\n",
       "  '/Creator': 'Adobe InDesign 15.0 (Windows)',\n",
       "  '/ModDate': \"D:20200321235327-07'00'\",\n",
       "  '/Producer': 'Adobe PDF Library 15.0',\n",
       "  '/Title': \"Adam d'Cannith's Guide to Artificers v1.0\",\n",
       "  '/Trapped': '/False'},\n",
       " '433010-Eberron_RE_-_SharnFiveNations-PrinterFriendly1.pdf': {'/Author': 'Shauna Wolf Narciso',\n",
       "  '/CreationDate': \"D:20190205081813-05'00'\",\n",
       "  '/Creator': 'Microsoft® Word for Office 365',\n",
       "  '/ModDate': \"D:20190205082303-05'00'\",\n",
       "  '/Producer': 'Microsoft® Word for Office 365'},\n",
       " '459381-Lawyers_and_Laws_of_Eberron_(16_August_2022).pdf': {'/Author': 'Microsoft Office User',\n",
       "  '/Creator': 'Microsoft Word',\n",
       "  '/CreationDate': \"D:20220816142352+00'00'\",\n",
       "  '/ModDate': \"D:20220816142352+00'00'\"},\n",
       " '60907-Wizards_of_Eberron.pdf': {'/Producer': 'macOS Version 10.14.6 (Build 18G103) Quartz PDFContext',\n",
       "  '/Creator': 'Writer',\n",
       "  '/CreationDate': \"D:20200420175607Z00'00'\",\n",
       "  '/ModDate': \"D:20200420175607Z00'00'\"},\n",
       " '831833-Morgrave_Miscellany_2020_Full-Res.pdf': {'/CreationDate': \"D:20201006192641-04'00'\",\n",
       "  '/Creator': 'Adobe InDesign 15.1 (Windows)',\n",
       "  '/ModDate': \"D:20201022101417-04'00'\",\n",
       "  '/Producer': 'Adobe PDF Library 15.0',\n",
       "  '/Trapped': '/False'},\n",
       " '84847-Creatures_of_Eberron_21.pdf': {'/Producer': 'Microsoft® Word for Microsoft 365',\n",
       "  '/Creator': 'Microsoft® Word for Microsoft 365',\n",
       "  '/CreationDate': \"D:20210226132632-08'00'\",\n",
       "  '/ModDate': \"D:20210226132632-08'00'\"},\n",
       " '848965-The_Bookhounds_of_Eberron.pdf': {'/CreationDate': \"D:20200417233004-05'00'\",\n",
       "  '/Creator': 'Adobe Acrobat Pro DC 20.6.20042',\n",
       "  '/ModDate': \"D:20200417233004-05'00'\",\n",
       "  '/Producer': 'Adobe Acrobat Pro DC 20.6.20042'},\n",
       " '881665-eberron_cannith_cat2.pdf': {'/Producer': 'iLovePDF',\n",
       "  '/ModDate': 'D:20210318164727Z'},\n",
       " '898079-Exotic-Materials.pdf': {'/CreationDate': \"D:20161216101046-08'00'\",\n",
       "  '/Creator': 'cairo 1.14.2 (http://cairographics.org)',\n",
       "  '/ModDate': \"D:20161217215617-08'00'\",\n",
       "  '/Producer': 'Adobe Acrobat Pro DC 15 Paper Capture Plug-in',\n",
       "  '/Title': ''},\n",
       " 'Chronicles of Eberron -- Keith Baker -- 2022 -- Dungeon Master Guild -- 890952c9aeb1fe706f36feccf93a1dbe -- Anna’s Archive.pdf': {'/Author': 'Keith Baker',\n",
       "  '/CreationDate': \"D:20221125220425-06'00'\",\n",
       "  '/Creator': 'Adobe InDesign 18.0 (Windows)',\n",
       "  '/Producer': 'Adobe PDF Library 17.0',\n",
       "  '/Title': 'Chronicles of Eberron',\n",
       "  '/Trapped': '/False',\n",
       "  '/ModDate': \"D:20240726233052-04'00'\"},\n",
       " 'Eberron_ Rising From the Last War - Jeremy Crawford & James Wyatt & Keith Baker.pdf': {'/Author': 'Jeremy Crawford & James Wyatt & Keith Baker',\n",
       "  '/CreationDate': \"D:20200511213447-07'00'\",\n",
       "  '/Creator': 'calibre (5.23.0) [https://calibre-ebook.com]',\n",
       "  '/Keywords': '5e, d20, d20 (5e), d20 (Eberron), Eberron, Fantasy',\n",
       "  '/Producer': 'calibre (5.23.0) [https://calibre-ebook.com]',\n",
       "  '/Title': 'Eberron: Rising From the Last War',\n",
       "  '/ModDate': \"D:20240729224650-04'00'\"},\n",
       " 'Khyber_s_Cursed_Case_Studies_of_Eberron_s_Aberrant_Dragonmarks.pdf': {'/Title': 'Khybers Cursed v1.2',\n",
       "  '/Producer': 'macOS Version 10.14.4 (Build 18E226) Quartz PDFContext',\n",
       "  '/Creator': 'Pages',\n",
       "  '/CreationDate': \"D:20190912053526Z00'00'\",\n",
       "  '/ModDate': \"D:20190912053526Z00'00'\"},\n",
       " \"Wayfinder's Guide to Eberron - Keith Baker.pdf\": {'/ModDate': \"D:20240520144015-04'00'\"}}"
      ]
     },
     "execution_count": 38,
     "metadata": {},
     "output_type": "execute_result"
    }
   ],
   "source": [
    "metadata"
   ]
  },
  {
   "cell_type": "code",
   "execution_count": null,
   "id": "d145554f-92ee-4e18-abd0-d196cdf38948",
   "metadata": {},
   "outputs": [],
   "source": []
  }
 ],
 "metadata": {
  "kernelspec": {
   "display_name": "Python 3 (ipykernel)",
   "language": "python",
   "name": "python3"
  },
  "language_info": {
   "codemirror_mode": {
    "name": "ipython",
    "version": 3
   },
   "file_extension": ".py",
   "mimetype": "text/x-python",
   "name": "python",
   "nbconvert_exporter": "python",
   "pygments_lexer": "ipython3",
   "version": "3.10.12"
  }
 },
 "nbformat": 4,
 "nbformat_minor": 5
}
