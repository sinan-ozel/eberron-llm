{
 "cells": [
  {
   "cell_type": "code",
   "execution_count": 101,
   "id": "9b0d7f1d-96ef-4e56-aba1-4dd9d901e61a",
   "metadata": {},
   "outputs": [],
   "source": [
    "import os\n",
    "import json\n",
    "import re\n",
    "import string\n",
    "from collections import Counter\n",
    "import random\n",
    "\n",
    "from tqdm.notebook import tqdm\n",
    "from IPython.display import clear_output, display"
   ]
  },
  {
   "cell_type": "code",
   "execution_count": 22,
   "id": "bfd92450-7b2e-4c7f-83a3-6b86714ea041",
   "metadata": {},
   "outputs": [],
   "source": [
    "# Input parameters\n",
    "DOCUMENT_VERSION = '03'\n",
    "CORPUS_FOLDER = f'/jupyterlab/corpus/eberron/v{DOCUMENT_VERSION}'"
   ]
  },
  {
   "cell_type": "code",
   "execution_count": 23,
   "id": "f4e587a5-b91b-478a-bd4e-e21571ab3499",
   "metadata": {},
   "outputs": [],
   "source": [
    "# Output parameters\n",
    "ARTEFACT_VERSION = '02'"
   ]
  },
  {
   "cell_type": "markdown",
   "id": "186bb67e-08e6-4027-a616-4a94528d44cb",
   "metadata": {},
   "source": [
    "### Read Document Metadata"
   ]
  },
  {
   "cell_type": "code",
   "execution_count": 24,
   "id": "c239ebf3-161d-4bb9-9e7e-e6c1bdfd1587",
   "metadata": {},
   "outputs": [],
   "source": [
    "with open(os.path.join(CORPUS_FOLDER, 'metadata.json')) as f:\n",
    "    metadata = json.load(f)\n",
    "metadata_dict = {}\n",
    "for data in metadata:\n",
    "    metadata_dict[data['filename'][:-4]] = data"
   ]
  },
  {
   "cell_type": "code",
   "execution_count": 91,
   "id": "44ec905e-4f48-4e8d-a8e8-1e8a40d85e6b",
   "metadata": {},
   "outputs": [
    {
     "data": {
      "text/plain": [
       "{'filename': 'Across Eberron.pdf',\n",
       " 'edition': '3e',\n",
       " 'pdf/title': '',\n",
       " 'pdf/author': ''}"
      ]
     },
     "execution_count": 91,
     "metadata": {},
     "output_type": "execute_result"
    }
   ],
   "source": [
    "metadata[0]"
   ]
  },
  {
   "cell_type": "markdown",
   "id": "77b254e7-c4a2-44b5-99ff-3773ad1091e2",
   "metadata": {},
   "source": [
    "### First Pass (Fast): Split Into Sections"
   ]
  },
  {
   "cell_type": "code",
   "execution_count": 147,
   "id": "eecbc8b5-aa3b-47c5-9637-705e2eff5f8b",
   "metadata": {},
   "outputs": [],
   "source": [
    "title_fixes = {\n",
    "    '881665-eberron_cannith_cat2': 'House Cannith Catalogue #2'\n",
    "}"
   ]
  },
  {
   "cell_type": "code",
   "execution_count": 1255,
   "id": "fb6fff56-49ba-4b4f-bca0-20234e4bf0b6",
   "metadata": {},
   "outputs": [],
   "source": [
    "disallowed_section_titles = {'Actions', 'Reactions', 'Cannith Catalogue 2', 'THREAT DISPATCH', 'Legendary Actions', 'Wizard Level Feature'\n",
    "                             'Languages —', '-', 'Finesse', 'Weight Properties', 'Player’s Handbook','Spell Resistance:', 'Capital: Korth',\n",
    "                             'Combat', 'Capital: Rhukaan Draal', 'STR DEX CON INT WIS CHA', 'Favor', 'DIALECTS', 'WIS CHA',\n",
    "                             'CLASS FEATURES',\n",
    "}\n",
    "disallowed_section_title_regexp = [\n",
    "    r'Skills\\s+.+\\+[0-9].*',\n",
    "    r'Saving Throws\\s+.+\\+[0-9].*',\n",
    "    r'.*\\-level.*feature',\n",
    "    r'Languages.*Common.*',\n",
    "    r'^[0-9\\s.\\(\\)]+$',\n",
    "    r'Hit Points\\s+[0-9]+.*'\n",
    "    r'Challenge\\s+[0-9]+.*',\n",
    "    r'Damage Immunities.*',\n",
    "    r'Damage Resistances.*',\n",
    "    r'Level Adjustment:.*',\n",
    "    r'Challenge Rating:.*',\n",
    "    r'Initiative:.*',\n",
    "    r'Treasure:.*',\n",
    "    r'Environment: .*',\n",
    "    r'Skills: .*',\n",
    "    r'Feats: .*',\n",
    "    r'Organization: .*',\n",
    "    r'Base Atk .*',\n",
    "    r'Base Attack .*',\n",
    "    r'Special Attacks: .*',\n",
    "    r'Range: .*',\n",
    "    r'Spell Resistance: .*',\n",
    "    r'Graft Location: .*',\n",
    "    r'Weight: .*',\n",
    "    r'Light: .*\\.',\n",
    "    r'Scripts: .*',\n",
    "    r'Script: .*',\n",
    "    r'Speakers: .*',\n",
    "    r'Format: .*',\n",
    "    r'Knowledge ([a-z]+)',\n",
    "    r'[0-9](st|nd|th).*level.*',\n",
    "    r'.*KORRANBERG CHRONICLE: THREAT DISPATCH',\n",
    "    r'SIDEBAR: .*',\n",
    "    r'WIZARDS OF EBERRON: FIVE ARCANE TRADITIONS [0-9]+.*',\n",
    "    r'.*DUNGEON DECEMBER 2004',\n",
    "    r'.*[cves]\\s+[0-9]+',\n",
    "]"
   ]
  },
  {
   "cell_type": "code",
   "execution_count": 1256,
   "id": "2e2bfd1a-4610-456b-8ba8-62bedd5d6aec",
   "metadata": {},
   "outputs": [],
   "source": [
    "ignore_list = {'Eberron Character Sheet', 'New & Expanded Feat List', '476764-sample', 'SharnIndexIntegrated'}"
   ]
  },
  {
   "cell_type": "code",
   "execution_count": 1257,
   "id": "ef16c03e-8d6c-4aeb-8c65-ac29ea5c09fc",
   "metadata": {},
   "outputs": [
    {
     "data": {
      "application/vnd.jupyter.widget-view+json": {
       "model_id": "ecacc9d0890d406086a55b1fb654d8aa",
       "version_major": 2,
       "version_minor": 0
      },
      "text/plain": [
       "  0%|          | 0/127 [00:00<?, ?it/s]"
      ]
     },
     "metadata": {},
     "output_type": "display_data"
    },
    {
     "data": {
      "text/plain": [
       "(19991, 'Magic of Eberron')"
      ]
     },
     "execution_count": 1257,
     "metadata": {},
     "output_type": "execute_result"
    }
   ],
   "source": [
    "sections = []\n",
    "section_metadata = []\n",
    "book_count = 0\n",
    "\n",
    "for file_count, file_name in enumerate(tqdm(os.listdir(CORPUS_FOLDER))):\n",
    "    if file_name[-3:] != '.md':\n",
    "        continue\n",
    "    if file_name[:-3] in ignore_list:\n",
    "        continue\n",
    "    book_title = file_name[:-3]\n",
    "    pdf_title = metadata_dict[file_name[:-3]]['pdf/title']\n",
    "    edition = metadata_dict[file_name[:-3]]['edition']\n",
    "    if pdf_title:\n",
    "        if book_title.endswith('sample'):\n",
    "            book_title = pdf_title\n",
    "    book_title = title_fixes.get(book_title, book_title)\n",
    "    current_page = 0\n",
    "    current_section_title = ''\n",
    "    current_section_lines = []\n",
    "    empty_line_ctr = 0\n",
    "    file_path = os.path.join(CORPUS_FOLDER, file_name)\n",
    "    with open(file_path) as f:\n",
    "        document = f.read()\n",
    "        lines = document.split('\\n')\n",
    "        line_count = len(lines)\n",
    "        for line_no, line in enumerate(lines):\n",
    "            previous_line = lines[line_no - 1].strip() if line_no > 0 else '\\0'\n",
    "            next_line = lines[line_no + 1].strip() if line_no < line_count - 1 else '\\0'\n",
    "            current_line = line.strip()\n",
    "\n",
    "            if not current_line:\n",
    "                continue\n",
    "\n",
    "            m = re.match(r'##\\s+Page\\s+([0-9]+)', line)\n",
    "            if m:\n",
    "                current_page = int(m[1])\n",
    "                continue\n",
    "\n",
    "            current_section_word_count = len(\"\\n\".join(current_section_lines).split(' '))\n",
    "    \n",
    "            if previous_line == '' and (next_line == '' or next_line.startswith('Medium') or next_line.startswith('Large') or next_line.startswith('District Type')):\n",
    "                may_be_section_title = True\n",
    "                if current_line.upper() != current_line and string.capwords(current_line) != current_line:\n",
    "                    may_be_section_title = False\n",
    "                if current_section_title.lower() == current_line.lower():\n",
    "                    may_be_section_title = False\n",
    "                if may_be_section_title and is_integer_string(current_line):\n",
    "                    may_be_section_title = False\n",
    "                if may_be_section_title and current_line in disallowed_section_titles:\n",
    "                    may_be_section_title = False\n",
    "                if len(re.sub(r'[^a-zA-Z\\.]', '', current_line)) < 4:\n",
    "                    may_be_section_title = False\n",
    "                if ',' in current_line:\n",
    "                    may_be_section_title = False\n",
    "                if may_be_section_title:\n",
    "                    for regexp in disallowed_section_title_regexp:\n",
    "                        m = re.match(regexp, current_line, re.IGNORECASE)\n",
    "                        if m:\n",
    "                            may_be_section_title = False\n",
    "\n",
    "                if may_be_section_title:\n",
    "                    if current_section_title:\n",
    "                        if current_section_lines and current_section_word_count > 15:\n",
    "                            text = \"\\n\".join(current_section_lines)\n",
    "                            if len(text.split(' ')) > 5:\n",
    "                                sections.append(text)\n",
    "                                section_metadata.append({\n",
    "                                    'book_title': book_title,\n",
    "                                    'file_name': file_name,\n",
    "                                    'edition': edition,\n",
    "                                    'section_title': current_section_title,\n",
    "                                    'section_pages': current_section_pages,\n",
    "                                    'initial_word_count': current_section_word_count\n",
    "                                })\n",
    "                    current_section_title = current_line\n",
    "                    current_section_lines = []\n",
    "                    current_section_pages = (current_page, current_page)\n",
    "                    continue\n",
    "\n",
    "            if current_section_word_count > 450:\n",
    "                end = line_no + 10\n",
    "                start = line_no - len(current_section_lines) + 10\n",
    "                text = \"\\n\".join([l for l in lines[start:end] if l and not l.startswith('## Page ')])\n",
    "                sections.append(text)\n",
    "                section_metadata.append({\n",
    "                    'book_title': book_title,\n",
    "                    'file_name': file_name,\n",
    "                    'edition': edition,\n",
    "                    'section_title': current_section_title,\n",
    "                    'section_pages': current_section_pages,\n",
    "                    'initial_word_count': len(text.split(' '))\n",
    "                })\n",
    "                current_section_lines = []\n",
    "                current_section_pages = (current_page, current_page)\n",
    "                continue\n",
    "\n",
    "            if current_section_title and current_line:\n",
    "                current_section_lines.append(current_line)\n",
    "                current_section_pages = (current_section_pages[0], current_page)\n",
    "        if current_section_lines:\n",
    "            text = ' '.join(current_section_lines)\n",
    "            sections.append(text)\n",
    "            section_metadata.append({\n",
    "                'book_title': book_title,\n",
    "                'file_name': file_name,\n",
    "                'edition': edition,\n",
    "                'section_title': current_section_title,\n",
    "                'section_pages': current_section_pages,\n",
    "                'initial_word_count': len(text.split(' '))\n",
    "            })\n",
    "    # book_count += 1\n",
    "    # if book_count > 20:\n",
    "    #     break\n",
    "section_count = len(sections)\n",
    "assert len(section_metadata) == section_count\n",
    "assert section_metadata[1]['section_title'] == 'Litmus Strips'\n",
    "assert section_metadata[11]['section_title'] == 'Automatic Chatelaine'\n",
    "section_titles = {d['section_title'] for d in section_metadata}\n",
    "assert 'Automatic Chatelaine' in section_titles\n",
    "assert 'HORRID HYENA' in section_titles\n",
    "assert 'HORRID BADGER' in section_titles\n",
    "assert 'NAZTHARUNE RAKSHASA' in section_titles\n",
    "assert 'CRYSTEEL' in section_titles\n",
    "assert 'DENDRITIC' in section_titles\n",
    "assert 'IRONBARK' in section_titles\n",
    "assert 'DARKLEAF' in section_titles\n",
    "assert 'KNIGHT PHANTOM' in section_titles\n",
    "assert 'SHARN SKYMAGE' in section_titles\n",
    "assert 'WEAPONS OF KHORVAIRE' in section_titles\n",
    "assert 'ADVENTURING GEAR' in section_titles\n",
    "assert '7. The Library' in section_titles\n",
    "assert '8. The Entry Hall' in section_titles\n",
    "assert 'THE ORIGIN OF THE FIVE NATIONS' in section_titles\n",
    "assert 'AUNDAIR AT A GLANCE' in section_titles\n",
    "assert 'THE COMING OF GALIFAR' in section_titles\n",
    "assert 'Highhold' in section_titles\n",
    "assert 'PERIPLANAR OF ICE ~ PERISIAN' in section_titles\n",
    "assert 'HOUSE THARASHK' in section_titles\n",
    "assert 'ARGON' in section_titles\n",
    "assert 'METRON' in section_titles\n",
    "assert 'DARKLEAF' in section_titles\n",
    "assert 'DARKLEAF' in section_titles\n",
    "section_count, book_title"
   ]
  },
  {
   "cell_type": "code",
   "execution_count": 1258,
   "id": "15ad3cf2-a5a5-44b7-8792-b3ad8279c5c0",
   "metadata": {},
   "outputs": [],
   "source": [
    "# TODO: For second pass, delete:\n",
    "# Contents\n",
    "# Thanks\n",
    "# CREDITS\n"
   ]
  },
  {
   "cell_type": "code",
   "execution_count": 1259,
   "id": "c3fb1b17-3200-42b0-a786-bc1daa719800",
   "metadata": {},
   "outputs": [
    {
     "data": {
      "text/plain": [
       "('Maruk Ghaash’kala (clan) 159', 26)"
      ]
     },
     "execution_count": 1259,
     "metadata": {},
     "output_type": "execute_result"
    }
   ],
   "source": [
    "random.choice([(d['section_title'], d['initial_word_count']) for d in section_metadata])"
   ]
  },
  {
   "cell_type": "code",
   "execution_count": 1260,
   "id": "e23896d0-ff60-431d-bac7-43583246b6d3",
   "metadata": {},
   "outputs": [],
   "source": [
    "def get_sections_by_title(title):\n",
    "    for i, d in enumerate(section_metadata):\n",
    "        if d['section_title'] == title:\n",
    "            yield sections[i]"
   ]
  },
  {
   "cell_type": "code",
   "execution_count": 1282,
   "id": "6bc86130-d861-4f1e-9224-72872b85ebfa",
   "metadata": {},
   "outputs": [
    {
     "data": {
      "text/plain": [
       "('1262926-Politics_of_Breland_v1.4',\n",
       " {'AS AN ADVENTURE',\n",
       "  'CONCLUSION',\n",
       "  'Crown New Cyre',\n",
       "  'DEMOGRAPHICS',\n",
       "  'INDUSTRY',\n",
       "  'MILITARY',\n",
       "  'PARLIAMENT',\n",
       "  'REIGNITING THE LAST WAR',\n",
       "  'THE CROWN',\n",
       "  'THE HEIRS',\n",
       "  'THE MACE OF PARLIAMENT'})"
      ]
     },
     "execution_count": 1282,
     "metadata": {},
     "output_type": "execute_result"
    }
   ],
   "source": [
    "book_titles = {d['book_title'] for d in section_metadata}\n",
    "book_title = random.choice(list(book_titles))\n",
    "book_title, {d['section_title'] for d in section_metadata if d['book_title'] == book_title}"
   ]
  },
  {
   "cell_type": "code",
   "execution_count": 1274,
   "id": "2f6a921a-d315-4fcf-9807-4fc477fb4db4",
   "metadata": {},
   "outputs": [
    {
     "name": "stdout",
     "output_type": "stream",
     "text": [
      "7053\n",
      "DROW ENCOUNTERS\n",
      "{'book_title': 'D&D 3E Races of Eberron', 'file_name': 'D&D 3E Races of Eberron.md', 'edition': '3e', 'section_title': 'DROW ENCOUNTERS', 'section_pages': (77, 77), 'initial_word_count': 71}\n",
      "check can improve the attitude of a sentient being. The\n",
      "scout rolls 1d20+3, or 1d20—1 if attempting to influence\n",
      "a magical beast with an Intelligence score of 1 or 2.\n",
      "Light Blindness: Abrupt exposure to bright light (such\n",
      "assunlight or a daylight spell) blinds drow for 1 round.\n",
      "On subsequent rounds, they are dazzled as long as they\n",
      "remain in the affected area.\n",
      "Possessions: +1 studded leather, masterwork longsword,\n",
      "masterwork composite longbow (+2 Str bonus) with 20\n",
      "arrows, 1,500 gp.\n"
     ]
    }
   ],
   "source": [
    "def truncate(text, k):\n",
    "    \"\"\"\n",
    "    Truncate the text to the first k words and append '...' if there are more words.\n",
    "    \n",
    "    :param text: The input string.\n",
    "    :param k: The maximum number of words to include.\n",
    "    :return: The truncated string.\n",
    "    \"\"\"\n",
    "    words = text.split()\n",
    "    if len(words) > k:\n",
    "        return \" \".join(words[:k]) + \" ...\"\n",
    "    return text\n",
    "i = random.randint(0, section_count - 1)\n",
    "print(i)\n",
    "print(section_metadata[i]['section_title'])\n",
    "print(section_metadata[i])\n",
    "print(sections[i])"
   ]
  },
  {
   "cell_type": "code",
   "execution_count": 1254,
   "id": "412ecd7b-8bb9-43ed-a5a7-f213ba68a055",
   "metadata": {},
   "outputs": [
    {
     "data": {
      "text/plain": [
       "['CREDITS',\n",
       " 'CONTENTS',\n",
       " 'INTRODUCTION',\n",
       " 'INTRODUCTION',\n",
       " 'STARTING FEATURES',\n",
       " 'STARTING FEATURES',\n",
       " 'SCRIPTS',\n",
       " 'SCRIPTS',\n",
       " 'SCRIPTS',\n",
       " 'LANGUAGE FAMILIES',\n",
       " 'DEAD LANGUAGES',\n",
       " 'SECRET LANGUAGES',\n",
       " 'LANGUAGES',\n",
       " 'CORVAGURI FAMILY',\n",
       " 'ADARKHA',\n",
       " 'CORVAGURI',\n",
       " 'ENTUUSI',\n",
       " 'ISOCHAR',\n",
       " 'KHUNANI',\n",
       " 'LOW KALUUNI',\n",
       " 'SYRKHA',\n",
       " 'AVENTUUAN +',\n",
       " 'SUNYAGIRI +',\n",
       " 'CRYPTOGRAPHIC FAMILY',\n",
       " 'JOLAN',\n",
       " 'THE NULAKESH HARMONIES',\n",
       " 'THE REKKENMARK MANUAL',\n",
       " 'SKIN CANT',\n",
       " 'STONESPEECH',\n",
       " 'WEAK LINK',\n",
       " 'DHAKAAL FAMILY',\n",
       " 'DARGUUL',\n",
       " \"GAA'RAK\",\n",
       " \"TAARKA'VUUL\",\n",
       " 'EBERRAL FAMILY',\n",
       " 'ALCATHAH',\n",
       " 'ALULA',\n",
       " 'EBERRAL',\n",
       " 'EMEA',\n",
       " 'VVAAR¥',\n",
       " 'ASHTAGARI',\n",
       " 'BAPHOM',\n",
       " 'SHARGONIC',\n",
       " 'XXIPHU',\n",
       " 'YEENOGH',\n",
       " \"OUR'AT\",\n",
       " \"« OUR'SIR\",\n",
       " '© Script: Oural',\n",
       " \"OUR'USH\",\n",
       " 'JUNGLE GIANTS',\n",
       " 'ELEVENTH +',\n",
       " \"SUL'AT +\",\n",
       " \"OTHER XEN'DRIKAN LANGUAGES\",\n",
       " 'QUORI FAMILY',\n",
       " 'KOSTET',\n",
       " 'LASHTI',\n",
       " 'OLD KREEN +',\n",
       " 'YANNAHI +',\n",
       " 'RHIAVHAAN FAMILY',\n",
       " 'DASKARI',\n",
       " 'KORTHISH',\n",
       " 'LHAZAARMAL',\n",
       " 'METRON',\n",
       " 'THALIAIS',\n",
       " 'WROATI',\n",
       " 'MALEERIQ +',\n",
       " 'NULAKESE +',\n",
       " 'RHIAVHAAN +',\n",
       " 'UORAALAN +',\n",
       " 'ARGON',\n",
       " 'JHORUK',\n",
       " 'KHAAST',\n",
       " 'LORSVEK',\n",
       " 'SEREN',\n",
       " 'SHULATL',\n",
       " 'UALVEK',\n",
       " 'BORUNANI +',\n",
       " 'KHALESHI ¥',\n",
       " 'ORUK',\n",
       " 'AEREN',\n",
       " 'SCORPION~TALKING',\n",
       " 'THELANIN',\n",
       " 'UMBRAL',\n",
       " 'VALOMELIN',\n",
       " 'ZILMELIN',\n",
       " 'GITZSAI',\n",
       " 'KIAK',\n",
       " 'MRORIK',\n",
       " 'TALENLI',\n",
       " 'CREOLES',\n",
       " 'AZHANI',\n",
       " \"HAKA'VEK\",\n",
       " \"JHOREL'DEEN\",\n",
       " 'KHORAVAR CANT',\n",
       " \"OUR'DRAO\",\n",
       " 'SHAARATALK',\n",
       " 'TASHANIQ',\n",
       " 'YANNAKHA',\n",
       " 'PIDGINS',\n",
       " 'COLDTONGUE',\n",
       " 'HAGSPIT',\n",
       " 'SIREN SONG',\n",
       " 'STORMSPEAK',\n",
       " 'WAVEWEB',\n",
       " 'SCRIPTS OF EBERRON',\n",
       " 'CORVAGURI',\n",
       " 'DHAKAAL',\n",
       " 'DHAKAAS',\n",
       " 'ENTUUSI',\n",
       " 'HAAMIC',\n",
       " 'KALUUNI',\n",
       " 'KHYBRAN',\n",
       " 'MALEERIQ',\n",
       " 'NOGHU',\n",
       " 'QUORI',\n",
       " 'RHIAVHAAN',\n",
       " 'SENTIRAGURI',\n",
       " 'SIBERINE',\n",
       " 'SYRK',\n",
       " 'TALENLI',\n",
       " 'THELANIN',\n",
       " \"TIR'SU\",\n",
       " 'WORDSKIN',\n",
       " 'LANGUAGE TABLES',\n",
       " 'Q’barra',\n",
       " 'Stonespeech',\n",
       " 'Talenli']"
      ]
     },
     "execution_count": 1254,
     "metadata": {},
     "output_type": "execute_result"
    }
   ],
   "source": [
    "[d['section_title'] for d in section_metadata if d['book_title'] == '1598836-Languages_of_Eberron_2E']"
   ]
  },
  {
   "cell_type": "code",
   "execution_count": 1240,
   "id": "719017d3-6dd1-43a9-b1b2-efb7848fe17d",
   "metadata": {},
   "outputs": [
    {
     "data": {
      "text/plain": [
       "[('CREDITS', 345),\n",
       " ('CONTENTS', 40),\n",
       " ('INTRODUCTION', 360),\n",
       " ('INTRODUCTION', 172),\n",
       " ('STARTING FEATURES', 359),\n",
       " ('STARTING FEATURES', 220),\n",
       " ('SCRIPTS', 364),\n",
       " ('SCRIPTS', 372),\n",
       " ('SCRIPTS', 418),\n",
       " ('LANGUAGE FAMILIES', 111),\n",
       " ('DEAD LANGUAGES', 80),\n",
       " ('SECRET LANGUAGES', 55),\n",
       " ('LANGUAGES', 52),\n",
       " ('CORVAGURI FAMILY', 22),\n",
       " ('ADARKHA', 86),\n",
       " ('CORVAGURI', 119),\n",
       " ('ENTUUSI', 407),\n",
       " ('ISOCHAR', 107),\n",
       " ('KHUNANI', 96),\n",
       " ('LOW KALUUNI', 124),\n",
       " ('SYRKHA', 56),\n",
       " ('AVENTUUAN +', 438),\n",
       " ('SUNYAGIRI +', 139),\n",
       " ('CRYPTOGRAPHIC FAMILY', 31),\n",
       " ('JOLAN', 114),\n",
       " ('THE NULAKESH HARMONIES', 80),\n",
       " ('THE REKKENMARK MANUAL', 72),\n",
       " ('Format: Signed', 73),\n",
       " ('STONESPEECH', 69),\n",
       " ('WEAK LINK', 58),\n",
       " ('DHAKAAL FAMILY', 30),\n",
       " ('DARGUUL', 169),\n",
       " (\"GAA'RAK\", 87),\n",
       " (\"TAARKA'VUUL\", 243),\n",
       " ('EBERRAL FAMILY', 26),\n",
       " ('ALCATHAH', 58),\n",
       " ('ALULA', 149),\n",
       " ('EBERRAL', 77),\n",
       " ('EMEA', 84),\n",
       " ('Speakers: Druids', 165),\n",
       " ('ASHTAGARI', 66),\n",
       " ('Speakers: Minotaurs', 86),\n",
       " ('SHARGONIC', 135),\n",
       " ('XXIPHU', 118),\n",
       " ('YEENOGH', 118),\n",
       " (\"OUR'AT\", 93),\n",
       " (\"« OUR'SIR\", 17),\n",
       " ('© Script: Oural', 60),\n",
       " (\"OUR'USH\", 78),\n",
       " ('JUNGLE GIANTS', 214),\n",
       " ('ELEVENTH +', 212),\n",
       " (\"SUL'AT +\", 58),\n",
       " (\"OTHER XEN'DRIKAN LANGUAGES\", 76),\n",
       " ('QUORI FAMILY', 77),\n",
       " ('Speakers: Kreen', 155),\n",
       " ('Speakers: Quori', 72),\n",
       " ('OLD KREEN +', 57),\n",
       " ('YANNAHI +', 56),\n",
       " ('RHIAVHAAN FAMILY', 18),\n",
       " ('Speakers: Thranes', 97),\n",
       " ('KORTHISH', 125),\n",
       " ('LHAZAARMAL', 73),\n",
       " ('METRON', 91),\n",
       " ('THALIAIS', 80),\n",
       " ('Speakers: Brels', 58),\n",
       " ('MALEERIQ +', 73),\n",
       " ('NULAKESE +', 63),\n",
       " ('RHIAVHAAN +', 135),\n",
       " ('UORAALAN +', 67),\n",
       " ('ARGON', 98),\n",
       " ('JHORUK', 57),\n",
       " ('KHAAST', 162),\n",
       " ('LORSVEK', 170),\n",
       " ('SEREN', 74),\n",
       " ('SHULATL', 67),\n",
       " ('UALVEK', 161),\n",
       " ('BORUNANI +', 103),\n",
       " ('KHALESHI ¥', 184),\n",
       " ('ORUK', 106),\n",
       " ('AEREN', 127),\n",
       " ('Format: Signed', 51),\n",
       " ('THELANIN', 53),\n",
       " ('UMBRAL', 89),\n",
       " ('VALOMELIN', 54),\n",
       " ('ZILMELIN', 213),\n",
       " ('Speakers: Gith', 129),\n",
       " ('KIAK', 295),\n",
       " ('MRORIK', 138),\n",
       " ('Speakers: Halflings', 128),\n",
       " ('CREOLES', 43),\n",
       " ('AZHANI', 152),\n",
       " (\"HAKA'VEK\", 137),\n",
       " (\"JHOREL'DEEN\", 119),\n",
       " ('KHORAVAR CANT', 23),\n",
       " ('Speakers: Khoravar', 114),\n",
       " (\"OUR'DRAO\", 130),\n",
       " ('SHAARATALK', 138),\n",
       " ('TASHANIQ', 101),\n",
       " ('Speakers: Kalashtar', 73),\n",
       " ('PIDGINS', 87),\n",
       " ('COLDTONGUE', 78),\n",
       " ('Format: Spoken', 68),\n",
       " ('SIREN SONG', 56),\n",
       " ('Format: Spoken', 68),\n",
       " ('WAVEWEB', 55),\n",
       " ('SCRIPTS OF EBERRON', 149),\n",
       " ('CORVAGURI', 55),\n",
       " ('DHAKAAL', 30),\n",
       " ('DHAKAAS', 56),\n",
       " ('ENTUUSI', 80),\n",
       " ('HAAMIC', 41),\n",
       " ('KALUUNI', 21),\n",
       " ('KHYBRAN', 118),\n",
       " ('MALEERIQ', 71),\n",
       " ('NOGHU', 132),\n",
       " ('QUORI', 63),\n",
       " ('RHIAVHAAN', 46),\n",
       " ('SENTIRAGURI', 36),\n",
       " ('SIBERINE', 55),\n",
       " ('SYRK', 53),\n",
       " ('TALENLI', 74),\n",
       " ('THELANIN', 70),\n",
       " (\"TIR'SU\", 128),\n",
       " ('WORDSKIN', 54),\n",
       " ('LANGUAGE TABLES', 41),\n",
       " ('Q’barra', 21),\n",
       " ('Stonespeech', 151),\n",
       " ('Talenli', 19)]"
      ]
     },
     "execution_count": 1240,
     "metadata": {},
     "output_type": "execute_result"
    }
   ],
   "source": [
    "[(d['section_title'], d['initial_word_count']) for d in section_metadata if d['book_title'] == '1598836-Languages_of_Eberron_2E']"
   ]
  },
  {
   "cell_type": "code",
   "execution_count": 216,
   "id": "8934f7db-a744-4d46-b0cc-ebd47cddcf88",
   "metadata": {},
   "outputs": [
    {
     "ename": "IndexError",
     "evalue": "list index out of range",
     "output_type": "error",
     "traceback": [
      "\u001b[0;31m---------------------------------------------------------------------------\u001b[0m",
      "\u001b[0;31mIndexError\u001b[0m                                Traceback (most recent call last)",
      "Cell \u001b[0;32mIn[216], line 1\u001b[0m\n\u001b[0;32m----> 1\u001b[0m \u001b[43msections\u001b[49m\u001b[43m[\u001b[49m\u001b[43mi\u001b[49m\u001b[43m]\u001b[49m\n",
      "\u001b[0;31mIndexError\u001b[0m: list index out of range"
     ]
    }
   ],
   "source": [
    "sections[i]"
   ]
  },
  {
   "cell_type": "code",
   "execution_count": 225,
   "id": "53655758-8703-4645-8a4b-a4ea3337eed0",
   "metadata": {},
   "outputs": [
    {
     "data": {
      "text/plain": [
       "8"
      ]
     },
     "execution_count": 225,
     "metadata": {},
     "output_type": "execute_result"
    }
   ],
   "source": [
    "len('Symbiotic Nature. A crawling gauntlet can’t be remo'.split(' '))"
   ]
  }
 ],
 "metadata": {
  "kernelspec": {
   "display_name": "Python 3 (ipykernel)",
   "language": "python",
   "name": "python3"
  },
  "language_info": {
   "codemirror_mode": {
    "name": "ipython",
    "version": 3
   },
   "file_extension": ".py",
   "mimetype": "text/x-python",
   "name": "python",
   "nbconvert_exporter": "python",
   "pygments_lexer": "ipython3",
   "version": "3.10.12"
  }
 },
 "nbformat": 4,
 "nbformat_minor": 5
}
