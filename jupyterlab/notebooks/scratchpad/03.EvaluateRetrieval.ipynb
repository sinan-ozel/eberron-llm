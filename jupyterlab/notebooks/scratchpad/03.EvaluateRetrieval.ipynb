{
 "cells": [
  {
   "cell_type": "code",
   "execution_count": 2,
   "id": "62493c62-06fe-4537-8ae9-9699edfe616f",
   "metadata": {},
   "outputs": [
    {
     "name": "stdout",
     "output_type": "stream",
     "text": [
      "Requirement already satisfied: behave==1.2.6 in /usr/local/lib/python3.10/dist-packages (1.2.6)\n",
      "Requirement already satisfied: parse-type>=0.4.2 in /usr/local/lib/python3.10/dist-packages (from behave==1.2.6) (0.6.4)\n",
      "Requirement already satisfied: parse>=1.8.2 in /usr/local/lib/python3.10/dist-packages (from behave==1.2.6) (1.20.2)\n",
      "Requirement already satisfied: six>=1.11 in /usr/local/lib/python3.10/dist-packages (from behave==1.2.6) (1.17.0)\n",
      "\u001b[33mWARNING: Running pip as the 'root' user can result in broken permissions and conflicting behaviour with the system package manager. It is recommended to use a virtual environment instead: https://pip.pypa.io/warnings/venv\u001b[0m\u001b[33m\n",
      "\u001b[0m"
     ]
    }
   ],
   "source": [
    "!pip install behave==1.2.6"
   ]
  },
  {
   "cell_type": "code",
   "execution_count": 38,
   "id": "0e469db8-cfb9-4240-b933-1ffc9ec9d632",
   "metadata": {},
   "outputs": [],
   "source": [
    "import os\n",
    "import json\n",
    "import pickle\n",
    "from abc import ABC, abstractmethod\n",
    "from typing import Tuple, List\n",
    "\n",
    "from sentence_transformers import SentenceTransformer\n",
    "\n",
    "from behave import given\n",
    "\n",
    "from tqdm.notebook import tqdm"
   ]
  },
  {
   "cell_type": "code",
   "execution_count": 18,
   "id": "ae9e240d-80c3-4946-9545-3e975cf8b564",
   "metadata": {},
   "outputs": [],
   "source": [
    "ARTEFACT_VERSION = '01'"
   ]
  },
  {
   "cell_type": "code",
   "execution_count": 19,
   "id": "4bbb2566-fa97-40ae-9844-8cf6a62e3ab0",
   "metadata": {},
   "outputs": [],
   "source": [
    "ARTEFACT_ROOT_FOLDER = os.environ.get('ARTEFACT_ROOT_FOLDER', '/artefact')\n",
    "ARTEFACT_FOLDER = os.path.join(ARTEFACT_ROOT_FOLDER, 'eberron', f'v{ARTEFACT_VERSION}')"
   ]
  },
  {
   "cell_type": "code",
   "execution_count": null,
   "id": "fa2b1926-4814-4301-a1e8-d561908f7f67",
   "metadata": {},
   "outputs": [],
   "source": []
  },
  {
   "cell_type": "code",
   "execution_count": null,
   "id": "ab017f39-8e9f-46ff-b56f-654fac206a98",
   "metadata": {},
   "outputs": [],
   "source": []
  },
  {
   "cell_type": "markdown",
   "id": "d4e17518-a38f-4dd7-a8ba-d06efaa694d7",
   "metadata": {},
   "source": [
    "# Load the Artefact"
   ]
  },
  {
   "cell_type": "code",
   "execution_count": 20,
   "id": "60c31585-89d8-4c8e-ab76-95b23b2173b2",
   "metadata": {},
   "outputs": [],
   "source": [
    "with open(os.path.join(ARTEFACT_FOLDER, 'embeddings.pkl'), 'rb') as f:\n",
    "    embeddings = pickle.load(f)\n"
   ]
  },
  {
   "cell_type": "code",
   "execution_count": 21,
   "id": "d7737655-ae25-4384-b276-eccca9009069",
   "metadata": {},
   "outputs": [],
   "source": [
    "with open(os.path.join(ARTEFACT_FOLDER, 'model_metadata.json'), 'r') as f:\n",
    "    model_metadata = json.load(f)\n",
    "assert model_metadata['embedding_model']['str'].startswith('SentenceTransformer')"
   ]
  },
  {
   "cell_type": "code",
   "execution_count": 22,
   "id": "62cfcf7c-413a-4d84-97c8-e129094106b1",
   "metadata": {},
   "outputs": [],
   "source": [
    "with open(os.path.join(ARTEFACT_FOLDER, 'chunk_metadata.json'), 'r') as f:\n",
    "    chunk_metadata = json.load(f)\n"
   ]
  },
  {
   "cell_type": "code",
   "execution_count": 25,
   "id": "ab5d53c5-9ff9-4a3c-839b-4e4b99c414ad",
   "metadata": {},
   "outputs": [
    {
     "data": {
      "application/vnd.jupyter.widget-view+json": {
       "model_id": "7bb90f3e43f74647b6a370a7c39b570f",
       "version_major": 2,
       "version_minor": 0
      },
      "text/plain": [
       "  0%|          | 0/7639 [00:00<?, ?it/s]"
      ]
     },
     "metadata": {},
     "output_type": "display_data"
    }
   ],
   "source": [
    "file_names = [f for f in os.listdir(os.path.join(ARTEFACT_FOLDER, 'chunks')) if f.endswith('.md')]\n",
    "file_names = sorted(file_names)\n",
    "chunks = [None] * len(file_names)\n",
    "for file_name in tqdm(file_names):\n",
    "    file_path = os.path.join(ARTEFACT_FOLDER, 'chunks', file_name)\n",
    "    with open(file_path, 'r') as f:\n",
    "        chunks[int(file_name.split('.')[0])] = f.read()"
   ]
  },
  {
   "cell_type": "markdown",
   "id": "1d34040f-df2e-434b-8aa9-1dd628106014",
   "metadata": {},
   "source": [
    "# Load the Embedding Model"
   ]
  },
  {
   "cell_type": "code",
   "execution_count": 28,
   "id": "fa82579f-31c2-426f-a033-10aa84f1a8a6",
   "metadata": {},
   "outputs": [
    {
     "name": "stderr",
     "output_type": "stream",
     "text": [
      "2025-01-14 02:21:42.080578: I tensorflow/core/util/port.cc:153] oneDNN custom operations are on. You may see slightly different numerical results due to floating-point round-off errors from different computation orders. To turn them off, set the environment variable `TF_ENABLE_ONEDNN_OPTS=0`.\n",
      "2025-01-14 02:21:42.095865: E external/local_xla/xla/stream_executor/cuda/cuda_fft.cc:485] Unable to register cuFFT factory: Attempting to register factory for plugin cuFFT when one has already been registered\n",
      "2025-01-14 02:21:42.114739: E external/local_xla/xla/stream_executor/cuda/cuda_dnn.cc:8454] Unable to register cuDNN factory: Attempting to register factory for plugin cuDNN when one has already been registered\n",
      "2025-01-14 02:21:42.120431: E external/local_xla/xla/stream_executor/cuda/cuda_blas.cc:1452] Unable to register cuBLAS factory: Attempting to register factory for plugin cuBLAS when one has already been registered\n",
      "2025-01-14 02:21:42.134174: I tensorflow/core/platform/cpu_feature_guard.cc:210] This TensorFlow binary is optimized to use available CPU instructions in performance-critical operations.\n",
      "To enable the following instructions: AVX2 AVX512F AVX512_VNNI FMA, in other operations, rebuild TensorFlow with the appropriate compiler flags.\n",
      "2025-01-14 02:21:43.149790: W tensorflow/compiler/tf2tensorrt/utils/py_utils.cc:38] TF-TRT Warning: Could not find TensorRT\n"
     ]
    }
   ],
   "source": [
    "embedding_model = SentenceTransformer(model_metadata['embedding_model']['name'], \n",
    "                                      trust_remote_code=True, \n",
    "                                      revision=model_metadata['embedding_model']['revision'])\n",
    "embedding_model = embedding_model.to(\"cpu\")"
   ]
  },
  {
   "cell_type": "markdown",
   "id": "f88846d4-462e-4536-805e-472743606d9c",
   "metadata": {},
   "source": [
    "# Evaluate"
   ]
  },
  {
   "cell_type": "markdown",
   "id": "700f1610-1620-4950-8196-f6c93e2ee120",
   "metadata": {},
   "source": [
    "## Define the Test"
   ]
  },
  {
   "cell_type": "code",
   "execution_count": 47,
   "id": "ac3bcdaf-63c7-4cbc-92bf-60b0fce0d353",
   "metadata": {},
   "outputs": [],
   "source": [
    "class Retriever(ABC):\n",
    "    def retrieve(self, query: str, k: int) -> Tuple[list, list]:\n",
    "        pass"
   ]
  },
  {
   "cell_type": "code",
   "execution_count": 48,
   "id": "51449b7e-5672-447e-af89-c57691504f2e",
   "metadata": {},
   "outputs": [],
   "source": [
    "class EmbeddingsRetreiver(Retriever):\n",
    "    def __init__(self, model: SentenceTransformer, embeddings, metadata: List[dict]):\n",
    "        self.model = model\n",
    "        self.embeddings = embeddings\n",
    "        self.metadata = metadata\n",
    "\n",
    "    def retreive(self, query: str, k: int):\n",
    "        query_embed = embedding_model.encode(query, normalize_embeddings=True)\n",
    "        similarities = torch.from_numpy(np.dot(embeddings, query_embed.T))\n",
    "        document_indices = similarities.topk(k).indices.tolist()\n",
    "        document_metadata = [self.metadata[i] for i in chunk_metadata]\n",
    "\n",
    "        return document_indices, document_metadata\n",
    "\n",
    "retreiver = EmbeddingsRetreiver(embedding_model, embeddings, chunk_metadata)"
   ]
  },
  {
   "cell_type": "code",
   "execution_count": 29,
   "id": "03674663-33da-48ed-a38f-ad4abf7a8b1f",
   "metadata": {},
   "outputs": [],
   "source": [
    "from behave import given, when, then\n",
    "\n",
    "\n",
    "@given('an embedding model and document embeddings')\n",
    "def step_impl(context):\n",
    "    context.retriever = EmbeddingsRetreiver(embedding_model, embeddings, chunk_metadata)\n",
    "\n",
    "@when('I query {query}')\n",
    "def step_impl(context, query):\n",
    "    context.query = query\n",
    "    context.indices, context.metadata = context.reteriever.retreive(query, 10)\n",
    "\n",
    "@then('one of the top {k:d} retrieved documents should include {keyword} in their title')\n",
    "def step_impl(context, expected):\n",
    "    assert context.result == expected"
   ]
  },
  {
   "cell_type": "code",
   "execution_count": null,
   "id": "19c62399-9e18-420e-88ff-a48ad83a071c",
   "metadata": {},
   "outputs": [],
   "source": []
  }
 ],
 "metadata": {
  "kernelspec": {
   "display_name": "Python 3 (ipykernel)",
   "language": "python",
   "name": "python3"
  },
  "language_info": {
   "codemirror_mode": {
    "name": "ipython",
    "version": 3
   },
   "file_extension": ".py",
   "mimetype": "text/x-python",
   "name": "python",
   "nbconvert_exporter": "python",
   "pygments_lexer": "ipython3",
   "version": "3.10.12"
  }
 },
 "nbformat": 4,
 "nbformat_minor": 5
}
