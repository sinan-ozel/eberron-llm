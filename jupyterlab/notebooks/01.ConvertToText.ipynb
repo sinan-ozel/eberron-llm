{
 "cells": [
  {
   "cell_type": "code",
   "execution_count": 1,
   "id": "55af9d96-4e3f-4715-af3f-bc76ee466f78",
   "metadata": {},
   "outputs": [],
   "source": [
    "import os\n",
    "import json\n",
    "import random\n",
    "from pypdf import PdfReader\n",
    "from tqdm.notebook import tqdm"
   ]
  },
  {
   "cell_type": "code",
   "execution_count": 2,
   "id": "9d020d17-f21b-4584-be9d-01fdf84e4e78",
   "metadata": {},
   "outputs": [],
   "source": [
    "folders = ['/eberron/3e', '/eberron/5e']\n",
    "corpus_folder = '/corpus/texts'"
   ]
  },
  {
   "cell_type": "code",
   "execution_count": 3,
   "id": "72a6b326-840f-4cf5-bc11-af236c837040",
   "metadata": {},
   "outputs": [
    {
     "data": {
      "application/vnd.jupyter.widget-view+json": {
       "model_id": "ab4b4f52c4d64548b3755f8834192fca",
       "version_major": 2,
       "version_minor": 0
      },
      "text/plain": [
       "  0%|          | 0/2 [00:00<?, ?it/s]"
      ]
     },
     "metadata": {},
     "output_type": "display_data"
    },
    {
     "data": {
      "application/vnd.jupyter.widget-view+json": {
       "model_id": "7184e630ed16463488d6e8ea5a21a95e",
       "version_major": 2,
       "version_minor": 0
      },
      "text/plain": [
       "  0%|          | 0/37 [00:00<?, ?it/s]"
      ]
     },
     "metadata": {},
     "output_type": "display_data"
    },
    {
     "data": {
      "application/vnd.jupyter.widget-view+json": {
       "model_id": "88cb7b4f72b9406ba672fb0f8ab43c31",
       "version_major": 2,
       "version_minor": 0
      },
      "text/plain": [
       "0it [00:00, ?it/s]"
      ]
     },
     "metadata": {},
     "output_type": "display_data"
    }
   ],
   "source": [
    "metadata = {}\n",
    "for folder in tqdm(folders):\n",
    "    for filename in tqdm(os.listdir(folder)):\n",
    "        if filename[-4:].lower() != '.pdf':\n",
    "            continue\n",
    "        reader = PdfReader(f'{folder}/{filename}')\n",
    "        if reader.outline:\n",
    "            metadata[filename] = reader.metadata"
   ]
  },
  {
   "cell_type": "code",
   "execution_count": 4,
   "id": "07f474ec-269a-486f-badc-c55edf1b4732",
   "metadata": {},
   "outputs": [],
   "source": [
    "def get_obj(outline, depth=1, obj='/Title'):\n",
    "    object_list = []\n",
    "    if isinstance(outline, list):\n",
    "        for part in outline:\n",
    "            object_list += get_obj(part, depth + 1, obj)\n",
    "    else:\n",
    "        if obj in outline and outline[obj] is not None:\n",
    "            object_list.append(outline[obj])\n",
    "        else:\n",
    "            object_list.append('')\n",
    "    return object_list\n",
    "\n"
   ]
  },
  {
   "cell_type": "code",
   "execution_count": 5,
   "id": "f457ec9f-84b6-4cb3-ba3e-2749f6825dc4",
   "metadata": {},
   "outputs": [],
   "source": [
    "def get_title(outline, depth=1):\n",
    "    titles = []\n",
    "    if isinstance(outline, list):\n",
    "        for part in outline:\n",
    "            titles += get_title(part, depth + 1)\n",
    "    else:\n",
    "        titles.append('#' * depth + ' ' + outline['/Title'])\n",
    "    return titles\n",
    "\n"
   ]
  },
  {
   "cell_type": "code",
   "execution_count": 6,
   "id": "36f58120-bf4c-4493-8ebc-7811301548b5",
   "metadata": {},
   "outputs": [
    {
     "data": {
      "application/vnd.jupyter.widget-view+json": {
       "model_id": "c79d4c31528b477fbf6d7d77a972a0bb",
       "version_major": 2,
       "version_minor": 0
      },
      "text/plain": [
       "  0%|          | 0/2 [00:00<?, ?it/s]"
      ]
     },
     "metadata": {},
     "output_type": "display_data"
    },
    {
     "data": {
      "application/vnd.jupyter.widget-view+json": {
       "model_id": "63d88eec09a24177a89eb9ddc783d1ca",
       "version_major": 2,
       "version_minor": 0
      },
      "text/plain": [
       "  0%|          | 0/37 [00:00<?, ?it/s]"
      ]
     },
     "metadata": {},
     "output_type": "display_data"
    },
    {
     "data": {
      "application/vnd.jupyter.widget-view+json": {
       "model_id": "87813dc2c4fd4d4ea36a206cbd53f4d9",
       "version_major": 2,
       "version_minor": 0
      },
      "text/plain": [
       "0it [00:00, ?it/s]"
      ]
     },
     "metadata": {},
     "output_type": "display_data"
    }
   ],
   "source": [
    "chunk_size = 2  # pdf pages\n",
    "parts_of_books = {}\n",
    "page_objects = {}\n",
    "for folder in tqdm(folders):\n",
    "    for filename in tqdm(os.listdir(folder)):\n",
    "        if filename[-4:].lower() != '.pdf':\n",
    "            continue\n",
    "        reader = PdfReader(f'{folder}/{filename}')\n",
    "        # labels = reader.get_page_labels()\n",
    "        num_pages = reader.get_num_pages()\n",
    "        for i in range(num_pages):\n",
    "            first = i\n",
    "            last = i + chunk_size - 1\n",
    "            text_filename = f'{filename[:-4]}-{first:03}-{last:03}.txt'\n",
    "            pages = reader.pages[first:last]\n",
    "            text = \"\"\n",
    "            for page in pages:\n",
    "                text += page.extract_text()\n",
    "            if text:\n",
    "                with open(f'{corpus_folder}/{text_filename}', 'w') as f:\n",
    "                    f.write(text)\n"
   ]
  },
  {
   "cell_type": "code",
   "execution_count": 7,
   "id": "ff6a3cf2-da55-4003-88ae-a085d6665e28",
   "metadata": {},
   "outputs": [
    {
     "data": {
      "application/vnd.jupyter.widget-view+json": {
       "model_id": "bdddd2da099b43ef9ec8b99639a5e772",
       "version_major": 2,
       "version_minor": 0
      },
      "text/plain": [
       "  0%|          | 0/2 [00:00<?, ?it/s]"
      ]
     },
     "metadata": {},
     "output_type": "display_data"
    },
    {
     "data": {
      "application/vnd.jupyter.widget-view+json": {
       "model_id": "70a24671a38e4712bcb5cf0cce51b96b",
       "version_major": 2,
       "version_minor": 0
      },
      "text/plain": [
       "  0%|          | 0/37 [00:00<?, ?it/s]"
      ]
     },
     "metadata": {},
     "output_type": "display_data"
    },
    {
     "data": {
      "application/vnd.jupyter.widget-view+json": {
       "model_id": "567fb4889d1b4c279ba5fb3c97e8c1d1",
       "version_major": 2,
       "version_minor": 0
      },
      "text/plain": [
       "0it [00:00, ?it/s]"
      ]
     },
     "metadata": {},
     "output_type": "display_data"
    }
   ],
   "source": [
    "parts_of_books = {}\n",
    "page_objects = {}\n",
    "for folder in tqdm(folders):\n",
    "    for filename in tqdm(os.listdir(folder)):\n",
    "        if filename[-4:].lower() != '.pdf':\n",
    "            continue\n",
    "        parts_of_books[filename] = []\n",
    "        page_objects[filename] = []\n",
    "        reader = PdfReader(f'{folder}/{filename}')\n",
    "        if reader.outline:\n",
    "            for part in reader.outline:\n",
    "                parts_of_books[filename] += get_title(part, 1)\n",
    "                page_objects[filename] += get_obj(part, 1, '/Page')\n"
   ]
  },
  {
   "cell_type": "code",
   "execution_count": 6,
   "id": "bb5eae18-3cb4-4f9c-964e-cee64834205a",
   "metadata": {},
   "outputs": [
    {
     "data": {
      "text/plain": [
       "['Across Eberron.pdf',\n",
       " 'Blades Of The Quori.pdf',\n",
       " 'D&D 3E Races of Eberron.pdf',\n",
       " 'Dragonmarked.pdf',\n",
       " 'Dragonmarks, Dragonshards & Dynasties of Power.pdf',\n",
       " 'Dragons of eberron.pdf',\n",
       " 'Eberron - Eyes_of_the_Lich_Queen.pdf',\n",
       " 'Eberron Campaign Setting.pdf',\n",
       " 'Eberron Character Sheet.pdf',\n",
       " 'Eberron-CityofStormreach.pdf',\n",
       " 'Encounter the Warforged.pdf',\n",
       " 'Errata',\n",
       " \"Explorer's Handbook.pdf\",\n",
       " 'Faiths of Eberron.pdf',\n",
       " 'Fallen Angel.pdf',\n",
       " 'Five Nations.pdf',\n",
       " 'Grasp of The Emerald Claw.pdf',\n",
       " 'Keith Baker - The City of Towers (Eberron_ The Dreaming Dark, Book 1)-Wizards of the Coast (2005).pdf',\n",
       " 'Keith Baker - The Gates of Night (The Dreaming Dark, Book 3)-Wizards of the Coast (2006).pdf',\n",
       " 'Keith Baker - The Shattered Land (Eberron_ The Dreaming Dark)-Wizards of the Coast (2005).pdf',\n",
       " 'Keith Baker, Scott Fitzgerald Gray, Glenn McDonald, Chris Sims - Secrets of Sarlona (Dungeons & Dragons d20 3.5 Fantasy Roleplaying, Eberron Supplement)-Wizards of the Coast (2007).pdf',\n",
       " 'Keith Baker, Scott Fitzgerald Gray, Nicolas Logue, Amber Scott - Dragons of Eberron (Dungeon & Dragons d20 3.5 Fantasy Roleplaying, Eberron Setting).pdf',\n",
       " 'Living Nightmares, Dream Creatures Of Dal Quor.pdf',\n",
       " 'Lord Of Blades.pdf',\n",
       " 'Magic of Eberron.pdf',\n",
       " 'Map of Khorvaire.pdf',\n",
       " \"Player's Guide to Eberron.pdf\",\n",
       " \"Secrets of Xen'drik.pdf\",\n",
       " 'Shadows of The Last War.pdf',\n",
       " 'Sharn - City of Towers.pdf',\n",
       " 'Sharn City of Towers.pdf',\n",
       " 'Steel Shadows.pdf',\n",
       " 'The Forgotten Forge.pdf',\n",
       " 'The Queen With Burning Eyes.pdf',\n",
       " 'The Race of Eight Winds.pdf',\n",
       " 'Voyage of the Golden Dragon.pdf',\n",
       " \"Whispers of The Vampire's Blade.pdf\"]"
      ]
     },
     "execution_count": 6,
     "metadata": {},
     "output_type": "execute_result"
    }
   ],
   "source": [
    "os.listdir('/eberron/3e')"
   ]
  },
  {
   "cell_type": "code",
   "execution_count": 8,
   "id": "6ff1de10-75e8-47f3-b807-cfa7c30b2688",
   "metadata": {},
   "outputs": [
    {
     "data": {
      "text/plain": [
       "{'Blades Of The Quori.pdf': {'/ModDate': \"D:20050110134502+01'00'\",\n",
       "  '/CreationDate': 'D:20050110134458Z',\n",
       "  '/Title': 'Blades of the Quori',\n",
       "  '/Producer': 'Acrobat Web Capture 6.0'},\n",
       " 'Dragons of eberron.pdf': {'/CreationDate': \"D:20071229214352-06'00'\",\n",
       "  '/ModDate': \"D:20240604203339-04'00'\"},\n",
       " 'Eberron - Eyes_of_the_Lich_Queen.pdf': {'/CreationDate': \"D:20080209075428+01'00'\",\n",
       "  '/ModDate': \"D:20080209151404-05'00'\"},\n",
       " 'Eberron-CityofStormreach.pdf': {'/CreationDate': \"D:20080820143821-05'00'\",\n",
       "  '/Creator': 'Adobe InDesign CS2 (4.0.5)',\n",
       "  '/Producer': 'PDF PT 3.10 (pdf-tools.com)',\n",
       "  '/Title': 'City of Stormreach',\n",
       "  '/ModDate': \"D:20240522204102-04'00'\"},\n",
       " 'Keith Baker, Scott Fitzgerald Gray, Glenn McDonald, Chris Sims - Secrets of Sarlona (Dungeons & Dragons d20 3.5 Fantasy Roleplaying, Eberron Supplement)-Wizards of the Coast (2007).pdf': {'/CreationDate': 'D:20070603130541Z',\n",
       "  '/Producer': 'ABBYY FineReader 8.0 Professional Edition',\n",
       "  '/ModDate': \"D:20240523122935-04'00'\"},\n",
       " 'Keith Baker, Scott Fitzgerald Gray, Nicolas Logue, Amber Scott - Dragons of Eberron (Dungeon & Dragons d20 3.5 Fantasy Roleplaying, Eberron Setting).pdf': {'/CreationDate': \"D:20080210150543+01'00'\",\n",
       "  '/ModDate': \"D:20240729080625-04'00'\"},\n",
       " 'Magic of Eberron.pdf': {'/CreationDate': \"D:20050808130223-07'00'\",\n",
       "  '/Creator': 'Adobe InDesign CS (3.0.1)',\n",
       "  '/Producer': 'Gnostice PDFtoolkit V2.02',\n",
       "  '/Title': 'Magic Of Eberron',\n",
       "  '/ModDate': \"D:20240514214842-04'00'\"},\n",
       " \"Player's Guide to Eberron.pdf\": {'/CreationDate': \"D:20060121122327-05'00'\",\n",
       "  '/Subject': 'Eberron',\n",
       "  '/Author': 'James Wyatt',\n",
       "  '/Creator': 'Adobe Acrobat 7.05',\n",
       "  '/Keywords': '',\n",
       "  '/Producer': 'Adobe Acrobat 7.05 Paper Capture Plug-in',\n",
       "  '/ModDate': \"D:20061209003859-06'00'\",\n",
       "  '/Title': \"Player's Guide to Eberron\"},\n",
       " \"Secrets of Xen'drik.pdf\": {'/CreationDate': \"D:20061117223354+02'00'\",\n",
       "  '/Creator': 'Adobe Acrobat 7.08',\n",
       "  '/Producer': 'Adobe Acrobat 7.08 Image Conversion Plug-in',\n",
       "  '/ModDate': \"D:20061209010130-06'00'\"},\n",
       " 'Sharn City of Towers.pdf': {'/CreationDate': 'D:20040730103845Z',\n",
       "  '/Creator': 'Adobe InDesign CS (3.0)',\n",
       "  '/Producer': 'Gnostice PDFtoolkit V2.02',\n",
       "  '/Title': '620_86420_SharnCh1.indd',\n",
       "  '/Trapped': '/False',\n",
       "  '/ModDate': \"D:20240729231721-04'00'\"},\n",
       " 'The Forgotten Forge.pdf': {'/CreationDate': 'D:20040818225429Z',\n",
       "  '/Creator': 'GSview',\n",
       "  '/Producer': 'AFPL Ghostscript 8.14',\n",
       "  '/ModDate': \"D:20061209010901-06'00'\",\n",
       "  '/Title': 'Ghostscript wrapper for \\\\\\\\Thuis\\\\data\\\\Mijn documenten\\\\Walter\\\\RPG\\\\Core books\\\\Eberron\\\\Eberron Campaign Setting.pdf'},\n",
       " 'The Race of Eight Winds.pdf': {'/CreationDate': \"D:20050418154751-05'00'\",\n",
       "  '/Producer': 'Acrobat Web Capture 7.0',\n",
       "  '/ModDate': \"D:20050418154753-05'00'\",\n",
       "  '/Title': 'The Race of Eight Winds'},\n",
       " 'Voyage of the Golden Dragon.pdf': {'/CreationDate': \"D:20060505165435+02'00'\",\n",
       "  '/Creator': 'Adobe Acrobat 7.0',\n",
       "  '/Producer': 'Adobe Acrobat 7.0 Image Conversion Plug-in',\n",
       "  '/ModDate': \"D:20061209011341-06'00'\",\n",
       "  '/Title': 'D&D - Eberron - Voyage of the Dragon Below'}}"
      ]
     },
     "execution_count": 8,
     "metadata": {},
     "output_type": "execute_result"
    }
   ],
   "source": [
    "metadata"
   ]
  },
  {
   "cell_type": "code",
   "execution_count": null,
   "id": "d49f5208-e558-43bc-917b-a28a98c1a2b3",
   "metadata": {},
   "outputs": [],
   "source": []
  }
 ],
 "metadata": {
  "kernelspec": {
   "display_name": "Python 3 (ipykernel)",
   "language": "python",
   "name": "python3"
  },
  "language_info": {
   "codemirror_mode": {
    "name": "ipython",
    "version": 3
   },
   "file_extension": ".py",
   "mimetype": "text/x-python",
   "name": "python",
   "nbconvert_exporter": "python",
   "pygments_lexer": "ipython3",
   "version": "3.10.12"
  }
 },
 "nbformat": 4,
 "nbformat_minor": 5
}
